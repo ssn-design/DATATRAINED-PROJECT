{
 "cells": [
  {
   "cell_type": "code",
   "execution_count": 57,
   "id": "0cbc5c2e",
   "metadata": {},
   "outputs": [],
   "source": [
    "#import libraries\n",
    "import pandas as pd\n",
    "import numpy as np\n",
    "import matplotlib.pyplot as plt\n",
    "import seaborn as sn\n",
    "from scipy.stats import skew\n",
    "from statsmodels.stats.outliers_influence import variance_inflation_factor\n",
    "from sklearn.model_selection import train_test_split\n",
    "from sklearn.preprocessing import StandardScaler\n",
    "from sklearn.linear_model import LinearRegression\n",
    "from sklearn.ensemble import RandomForestRegressor\n",
    "from sklearn.metrics import r2_score, mean_absolute_error, mean_squared_error\n",
    "from sklearn.neighbors import KNeighborsRegressor\n",
    "from sklearn import neighbors\n",
    "from sklearn.tree import DecisionTreeRegressor\n",
    "from sklearn.model_selection import GridSearchCV\n",
    "from sklearn.model_selection import RepeatedStratifiedKFold\n",
    "%matplotlib inline\n",
    "\n",
    "import warnings\n",
    "warnings.filterwarnings('ignore')"
   ]
  },
  {
   "cell_type": "code",
   "execution_count": 5,
   "id": "23b1a59d",
   "metadata": {},
   "outputs": [
    {
     "data": {
      "text/html": [
       "<div>\n",
       "<style scoped>\n",
       "    .dataframe tbody tr th:only-of-type {\n",
       "        vertical-align: middle;\n",
       "    }\n",
       "\n",
       "    .dataframe tbody tr th {\n",
       "        vertical-align: top;\n",
       "    }\n",
       "\n",
       "    .dataframe thead th {\n",
       "        text-align: right;\n",
       "    }\n",
       "</style>\n",
       "<table border=\"1\" class=\"dataframe\">\n",
       "  <thead>\n",
       "    <tr style=\"text-align: right;\">\n",
       "      <th></th>\n",
       "      <th>Unnamed: 0</th>\n",
       "      <th>TV</th>\n",
       "      <th>radio</th>\n",
       "      <th>newspaper</th>\n",
       "      <th>sales</th>\n",
       "    </tr>\n",
       "  </thead>\n",
       "  <tbody>\n",
       "    <tr>\n",
       "      <th>0</th>\n",
       "      <td>1</td>\n",
       "      <td>230.1</td>\n",
       "      <td>37.8</td>\n",
       "      <td>69.2</td>\n",
       "      <td>22.1</td>\n",
       "    </tr>\n",
       "    <tr>\n",
       "      <th>1</th>\n",
       "      <td>2</td>\n",
       "      <td>44.5</td>\n",
       "      <td>39.3</td>\n",
       "      <td>45.1</td>\n",
       "      <td>10.4</td>\n",
       "    </tr>\n",
       "    <tr>\n",
       "      <th>2</th>\n",
       "      <td>3</td>\n",
       "      <td>17.2</td>\n",
       "      <td>45.9</td>\n",
       "      <td>69.3</td>\n",
       "      <td>9.3</td>\n",
       "    </tr>\n",
       "    <tr>\n",
       "      <th>3</th>\n",
       "      <td>4</td>\n",
       "      <td>151.5</td>\n",
       "      <td>41.3</td>\n",
       "      <td>58.5</td>\n",
       "      <td>18.5</td>\n",
       "    </tr>\n",
       "    <tr>\n",
       "      <th>4</th>\n",
       "      <td>5</td>\n",
       "      <td>180.8</td>\n",
       "      <td>10.8</td>\n",
       "      <td>58.4</td>\n",
       "      <td>12.9</td>\n",
       "    </tr>\n",
       "  </tbody>\n",
       "</table>\n",
       "</div>"
      ],
      "text/plain": [
       "   Unnamed: 0     TV  radio  newspaper  sales\n",
       "0           1  230.1   37.8       69.2   22.1\n",
       "1           2   44.5   39.3       45.1   10.4\n",
       "2           3   17.2   45.9       69.3    9.3\n",
       "3           4  151.5   41.3       58.5   18.5\n",
       "4           5  180.8   10.8       58.4   12.9"
      ]
     },
     "execution_count": 5,
     "metadata": {},
     "output_type": "execute_result"
    }
   ],
   "source": [
    "df = pd.read_csv('https://raw.githubusercontent.com/dsrscientist/DSData/master/Advertising.csv')\n",
    "df.head()\n",
    "#Reading the dataset from github"
   ]
  },
  {
   "cell_type": "code",
   "execution_count": 4,
   "id": "8ce813b3",
   "metadata": {},
   "outputs": [
    {
     "data": {
      "text/plain": [
       "(200, 5)"
      ]
     },
     "execution_count": 4,
     "metadata": {},
     "output_type": "execute_result"
    }
   ],
   "source": [
    "#checking shape of dataset\n",
    "#there are 5 columns and 200 rows\n",
    "df.shape"
   ]
  },
  {
   "cell_type": "code",
   "execution_count": 7,
   "id": "bb377f23",
   "metadata": {},
   "outputs": [
    {
     "data": {
      "text/plain": [
       "Unnamed: 0    0\n",
       "TV            0\n",
       "radio         0\n",
       "newspaper     0\n",
       "sales         0\n",
       "dtype: int64"
      ]
     },
     "execution_count": 7,
     "metadata": {},
     "output_type": "execute_result"
    }
   ],
   "source": [
    "#data preparation\n",
    "#checking missing values\n",
    "df.isnull().sum()"
   ]
  },
  {
   "cell_type": "code",
   "execution_count": 8,
   "id": "be24e1d8",
   "metadata": {},
   "outputs": [
    {
     "data": {
      "text/html": [
       "<div>\n",
       "<style scoped>\n",
       "    .dataframe tbody tr th:only-of-type {\n",
       "        vertical-align: middle;\n",
       "    }\n",
       "\n",
       "    .dataframe tbody tr th {\n",
       "        vertical-align: top;\n",
       "    }\n",
       "\n",
       "    .dataframe thead th {\n",
       "        text-align: right;\n",
       "    }\n",
       "</style>\n",
       "<table border=\"1\" class=\"dataframe\">\n",
       "  <thead>\n",
       "    <tr style=\"text-align: right;\">\n",
       "      <th></th>\n",
       "      <th>Unnamed: 0</th>\n",
       "      <th>TV</th>\n",
       "      <th>radio</th>\n",
       "      <th>newspaper</th>\n",
       "      <th>sales</th>\n",
       "    </tr>\n",
       "  </thead>\n",
       "  <tbody>\n",
       "    <tr>\n",
       "      <th>count</th>\n",
       "      <td>200.000000</td>\n",
       "      <td>200.000000</td>\n",
       "      <td>200.000000</td>\n",
       "      <td>200.000000</td>\n",
       "      <td>200.000000</td>\n",
       "    </tr>\n",
       "    <tr>\n",
       "      <th>mean</th>\n",
       "      <td>100.500000</td>\n",
       "      <td>147.042500</td>\n",
       "      <td>23.264000</td>\n",
       "      <td>30.554000</td>\n",
       "      <td>14.022500</td>\n",
       "    </tr>\n",
       "    <tr>\n",
       "      <th>std</th>\n",
       "      <td>57.879185</td>\n",
       "      <td>85.854236</td>\n",
       "      <td>14.846809</td>\n",
       "      <td>21.778621</td>\n",
       "      <td>5.217457</td>\n",
       "    </tr>\n",
       "    <tr>\n",
       "      <th>min</th>\n",
       "      <td>1.000000</td>\n",
       "      <td>0.700000</td>\n",
       "      <td>0.000000</td>\n",
       "      <td>0.300000</td>\n",
       "      <td>1.600000</td>\n",
       "    </tr>\n",
       "    <tr>\n",
       "      <th>25%</th>\n",
       "      <td>50.750000</td>\n",
       "      <td>74.375000</td>\n",
       "      <td>9.975000</td>\n",
       "      <td>12.750000</td>\n",
       "      <td>10.375000</td>\n",
       "    </tr>\n",
       "    <tr>\n",
       "      <th>50%</th>\n",
       "      <td>100.500000</td>\n",
       "      <td>149.750000</td>\n",
       "      <td>22.900000</td>\n",
       "      <td>25.750000</td>\n",
       "      <td>12.900000</td>\n",
       "    </tr>\n",
       "    <tr>\n",
       "      <th>75%</th>\n",
       "      <td>150.250000</td>\n",
       "      <td>218.825000</td>\n",
       "      <td>36.525000</td>\n",
       "      <td>45.100000</td>\n",
       "      <td>17.400000</td>\n",
       "    </tr>\n",
       "    <tr>\n",
       "      <th>max</th>\n",
       "      <td>200.000000</td>\n",
       "      <td>296.400000</td>\n",
       "      <td>49.600000</td>\n",
       "      <td>114.000000</td>\n",
       "      <td>27.000000</td>\n",
       "    </tr>\n",
       "  </tbody>\n",
       "</table>\n",
       "</div>"
      ],
      "text/plain": [
       "       Unnamed: 0          TV       radio   newspaper       sales\n",
       "count  200.000000  200.000000  200.000000  200.000000  200.000000\n",
       "mean   100.500000  147.042500   23.264000   30.554000   14.022500\n",
       "std     57.879185   85.854236   14.846809   21.778621    5.217457\n",
       "min      1.000000    0.700000    0.000000    0.300000    1.600000\n",
       "25%     50.750000   74.375000    9.975000   12.750000   10.375000\n",
       "50%    100.500000  149.750000   22.900000   25.750000   12.900000\n",
       "75%    150.250000  218.825000   36.525000   45.100000   17.400000\n",
       "max    200.000000  296.400000   49.600000  114.000000   27.000000"
      ]
     },
     "execution_count": 8,
     "metadata": {},
     "output_type": "execute_result"
    }
   ],
   "source": [
    "#short description of data which contains quartiles , quartile range,mean, standard deviation of each column\n",
    "df.describe()"
   ]
  },
  {
   "cell_type": "code",
   "execution_count": 9,
   "id": "1a58c05c",
   "metadata": {},
   "outputs": [
    {
     "name": "stdout",
     "output_type": "stream",
     "text": [
      "<class 'pandas.core.frame.DataFrame'>\n",
      "RangeIndex: 200 entries, 0 to 199\n",
      "Data columns (total 5 columns):\n",
      " #   Column      Non-Null Count  Dtype  \n",
      "---  ------      --------------  -----  \n",
      " 0   Unnamed: 0  200 non-null    int64  \n",
      " 1   TV          200 non-null    float64\n",
      " 2   radio       200 non-null    float64\n",
      " 3   newspaper   200 non-null    float64\n",
      " 4   sales       200 non-null    float64\n",
      "dtypes: float64(4), int64(1)\n",
      "memory usage: 7.9 KB\n"
     ]
    }
   ],
   "source": [
    "#checking info\n",
    "# 4 float type columns & 1 integer type column\n",
    "df.info()"
   ]
  },
  {
   "cell_type": "markdown",
   "id": "9afc491d",
   "metadata": {},
   "source": [
    "# EDA"
   ]
  },
  {
   "cell_type": "code",
   "execution_count": 10,
   "id": "bf1f4d67",
   "metadata": {},
   "outputs": [
    {
     "data": {
      "text/plain": [
       "<AxesSubplot:xlabel='TV', ylabel='Density'>"
      ]
     },
     "execution_count": 10,
     "metadata": {},
     "output_type": "execute_result"
    },
    {
     "data": {
      "image/png": "[encoded data removed]",
      "text/plain": [
       "<Figure size 432x288 with 1 Axes>"
      ]
     },
     "metadata": {
      "needs_background": "light"
     },
     "output_type": "display_data"
    }
   ],
   "source": [
    "#univariate analysis\n",
    "#distribution is normal. hence no or less skewness\n",
    "sn.distplot(df['TV'])"
   ]
  },
  {
   "cell_type": "code",
   "execution_count": 15,
   "id": "65501fea",
   "metadata": {},
   "outputs": [
    {
     "data": {
      "text/plain": [
       "<AxesSubplot:xlabel='TV'>"
      ]
     },
     "execution_count": 15,
     "metadata": {},
     "output_type": "execute_result"
    },
    {
     "data": {
      "image/png": "[encoded data removed]",
      "text/plain": [
       "<Figure size 432x288 with 1 Axes>"
      ]
     },
     "metadata": {
      "needs_background": "light"
     },
     "output_type": "display_data"
    }
   ],
   "source": [
    "#no ouliers. hence no or very less skewness\n",
    "sn.boxplot(df['TV'])"
   ]
  },
  {
   "cell_type": "code",
   "execution_count": 16,
   "id": "0735ac51",
   "metadata": {},
   "outputs": [
    {
     "data": {
      "text/plain": [
       "<AxesSubplot:xlabel='radio', ylabel='Density'>"
      ]
     },
     "execution_count": 16,
     "metadata": {},
     "output_type": "execute_result"
    },
    {
     "data": {
      "image/png": "[encoded data removed]",
      "text/plain": [
       "<Figure size 432x288 with 1 Axes>"
      ]
     },
     "metadata": {
      "needs_background": "light"
     },
     "output_type": "display_data"
    }
   ],
   "source": [
    "#distribution is normal. hence no or less skewness\n",
    "sn.distplot(df['radio'])"
   ]
  },
  {
   "cell_type": "code",
   "execution_count": 17,
   "id": "b3aab292",
   "metadata": {},
   "outputs": [
    {
     "data": {
      "text/plain": [
       "<AxesSubplot:xlabel='radio'>"
      ]
     },
     "execution_count": 17,
     "metadata": {},
     "output_type": "execute_result"
    },
    {
     "data": {
      "image/png": "[encoded data removed]",
      "text/plain": [
       "<Figure size 432x288 with 1 Axes>"
      ]
     },
     "metadata": {
      "needs_background": "light"
     },
     "output_type": "display_data"
    }
   ],
   "source": [
    "#no ouliers. hence no or very less skewness\n",
    "sn.boxplot(df['radio'])"
   ]
  },
  {
   "cell_type": "code",
   "execution_count": 20,
   "id": "37c393aa",
   "metadata": {},
   "outputs": [
    {
     "data": {
      "text/plain": [
       "<AxesSubplot:xlabel='newspaper', ylabel='Density'>"
      ]
     },
     "execution_count": 20,
     "metadata": {},
     "output_type": "execute_result"
    },
    {
     "data": {
      "image/png": "[encoded data removed]",
      "text/plain": [
       "<Figure size 432x288 with 1 Axes>"
      ]
     },
     "metadata": {
      "needs_background": "light"
     },
     "output_type": "display_data"
    }
   ],
   "source": [
    "#distribution is almost normal. a little bit skewed in the right side\n",
    "sn.distplot(df['newspaper'])"
   ]
  },
  {
   "cell_type": "code",
   "execution_count": 19,
   "id": "4617a861",
   "metadata": {},
   "outputs": [
    {
     "data": {
      "text/plain": [
       "<AxesSubplot:xlabel='newspaper'>"
      ]
     },
     "execution_count": 19,
     "metadata": {},
     "output_type": "execute_result"
    },
    {
     "data": {
      "image/png": "[encoded data removed]",
      "text/plain": [
       "<Figure size 432x288 with 1 Axes>"
      ]
     },
     "metadata": {
      "needs_background": "light"
     },
     "output_type": "display_data"
    }
   ],
   "source": [
    "#very few ouliers. hence very less skewness\n",
    "sn.boxplot(df['newspaper'])"
   ]
  },
  {
   "cell_type": "code",
   "execution_count": 123,
   "id": "41ad3604",
   "metadata": {},
   "outputs": [
    {
     "data": {
      "text/plain": [
       "<AxesSubplot:xlabel='sales', ylabel='Density'>"
      ]
     },
     "execution_count": 123,
     "metadata": {},
     "output_type": "execute_result"
    },
    {
     "data": {
      "image/png": "[encoded data removed]",
      "text/plain": [
       "<Figure size 432x288 with 1 Axes>"
      ]
     },
     "metadata": {
      "needs_background": "light"
     },
     "output_type": "display_data"
    }
   ],
   "source": [
    "#distribution is normal. hence no or less skewness\n",
    "sn.distplot(df['sales'])"
   ]
  },
  {
   "cell_type": "code",
   "execution_count": 29,
   "id": "8a84f916",
   "metadata": {},
   "outputs": [
    {
     "data": {
      "text/plain": [
       "<AxesSubplot:xlabel='sales'>"
      ]
     },
     "execution_count": 29,
     "metadata": {},
     "output_type": "execute_result"
    },
    {
     "data": {
      "image/png": "[encoded data removed]",
      "text/plain": [
       "<Figure size 432x288 with 1 Axes>"
      ]
     },
     "metadata": {
      "needs_background": "light"
     },
     "output_type": "display_data"
    }
   ],
   "source": [
    "#no ouliers. hence no or very less skewness\n",
    "sn.boxplot(df['sales'])"
   ]
  },
  {
   "cell_type": "markdown",
   "id": "45da6767",
   "metadata": {},
   "source": [
    "# BIVARIATE ANALYSIS"
   ]
  },
  {
   "cell_type": "code",
   "execution_count": 24,
   "id": "9278bd8d",
   "metadata": {},
   "outputs": [
    {
     "data": {
      "text/plain": [
       "<AxesSubplot:xlabel='sales', ylabel='TV'>"
      ]
     },
     "execution_count": 24,
     "metadata": {},
     "output_type": "execute_result"
    },
    {
     "data": {
      "image/png": "[encoded data removed]",
      "text/plain": [
       "<Figure size 720x360 with 1 Axes>"
      ]
     },
     "metadata": {
      "needs_background": "light"
     },
     "output_type": "display_data"
    }
   ],
   "source": [
    "#relation between tv and sales. sales of tv seems to be increasing.\n",
    "plt.figure(figsize=(10,5))\n",
    "sn.lineplot(df['sales'],df['TV'])"
   ]
  },
  {
   "cell_type": "code",
   "execution_count": 25,
   "id": "c1ae149b",
   "metadata": {},
   "outputs": [
    {
     "data": {
      "text/plain": [
       "<AxesSubplot:xlabel='sales', ylabel='radio'>"
      ]
     },
     "execution_count": 25,
     "metadata": {},
     "output_type": "execute_result"
    },
    {
     "data": {
      "image/png": "[encoded data removed]",
      "text/plain": [
       "<Figure size 720x360 with 1 Axes>"
      ]
     },
     "metadata": {
      "needs_background": "light"
     },
     "output_type": "display_data"
    }
   ],
   "source": [
    "#relation between radio and sales. it experiences a steep downfall in sales but then it increases\n",
    "plt.figure(figsize=(10,5))\n",
    "sn.lineplot(df['sales'],df['radio'])"
   ]
  },
  {
   "cell_type": "code",
   "execution_count": 26,
   "id": "f1e34cb5",
   "metadata": {},
   "outputs": [
    {
     "data": {
      "text/plain": [
       "<AxesSubplot:xlabel='sales', ylabel='newspaper'>"
      ]
     },
     "execution_count": 26,
     "metadata": {},
     "output_type": "execute_result"
    },
    {
     "data": {
      "image/png": "[encoded data removed]",
      "text/plain": [
       "<Figure size 720x360 with 1 Axes>"
      ]
     },
     "metadata": {
      "needs_background": "light"
     },
     "output_type": "display_data"
    }
   ],
   "source": [
    "#relation between sales and newspaper. sales keeps on increasing  and decreasing in case of newspaers but it seems it hasnt made much progree when compared to radio and especially tv\n",
    "plt.figure(figsize=(10,5))\n",
    "sn.lineplot(df['sales'],df['newspaper'])"
   ]
  },
  {
   "cell_type": "markdown",
   "id": "1fc02dd9",
   "metadata": {},
   "source": [
    "# multivariate analysis"
   ]
  },
  {
   "cell_type": "code",
   "execution_count": 27,
   "id": "362f86e8",
   "metadata": {},
   "outputs": [
    {
     "data": {
      "text/html": [
       "<div>\n",
       "<style scoped>\n",
       "    .dataframe tbody tr th:only-of-type {\n",
       "        vertical-align: middle;\n",
       "    }\n",
       "\n",
       "    .dataframe tbody tr th {\n",
       "        vertical-align: top;\n",
       "    }\n",
       "\n",
       "    .dataframe thead th {\n",
       "        text-align: right;\n",
       "    }\n",
       "</style>\n",
       "<table border=\"1\" class=\"dataframe\">\n",
       "  <thead>\n",
       "    <tr style=\"text-align: right;\">\n",
       "      <th></th>\n",
       "      <th>Unnamed: 0</th>\n",
       "      <th>TV</th>\n",
       "      <th>radio</th>\n",
       "      <th>newspaper</th>\n",
       "      <th>sales</th>\n",
       "    </tr>\n",
       "  </thead>\n",
       "  <tbody>\n",
       "    <tr>\n",
       "      <th>Unnamed: 0</th>\n",
       "      <td>1.000000</td>\n",
       "      <td>0.017715</td>\n",
       "      <td>-0.110680</td>\n",
       "      <td>-0.154944</td>\n",
       "      <td>-0.051616</td>\n",
       "    </tr>\n",
       "    <tr>\n",
       "      <th>TV</th>\n",
       "      <td>0.017715</td>\n",
       "      <td>1.000000</td>\n",
       "      <td>0.054809</td>\n",
       "      <td>0.056648</td>\n",
       "      <td>0.782224</td>\n",
       "    </tr>\n",
       "    <tr>\n",
       "      <th>radio</th>\n",
       "      <td>-0.110680</td>\n",
       "      <td>0.054809</td>\n",
       "      <td>1.000000</td>\n",
       "      <td>0.354104</td>\n",
       "      <td>0.576223</td>\n",
       "    </tr>\n",
       "    <tr>\n",
       "      <th>newspaper</th>\n",
       "      <td>-0.154944</td>\n",
       "      <td>0.056648</td>\n",
       "      <td>0.354104</td>\n",
       "      <td>1.000000</td>\n",
       "      <td>0.228299</td>\n",
       "    </tr>\n",
       "    <tr>\n",
       "      <th>sales</th>\n",
       "      <td>-0.051616</td>\n",
       "      <td>0.782224</td>\n",
       "      <td>0.576223</td>\n",
       "      <td>0.228299</td>\n",
       "      <td>1.000000</td>\n",
       "    </tr>\n",
       "  </tbody>\n",
       "</table>\n",
       "</div>"
      ],
      "text/plain": [
       "            Unnamed: 0        TV     radio  newspaper     sales\n",
       "Unnamed: 0    1.000000  0.017715 -0.110680  -0.154944 -0.051616\n",
       "TV            0.017715  1.000000  0.054809   0.056648  0.782224\n",
       "radio        -0.110680  0.054809  1.000000   0.354104  0.576223\n",
       "newspaper    -0.154944  0.056648  0.354104   1.000000  0.228299\n",
       "sales        -0.051616  0.782224  0.576223   0.228299  1.000000"
      ]
     },
     "execution_count": 27,
     "metadata": {},
     "output_type": "execute_result"
    }
   ],
   "source": [
    "#finding correlation\n",
    "#sales and tv are the only ones who have a positive high correlation of 7.8\n",
    "correlation = df.corr()\n",
    "correlation"
   ]
  },
  {
   "cell_type": "code",
   "execution_count": 28,
   "id": "6bdc8f92",
   "metadata": {},
   "outputs": [
    {
     "data": {
      "text/plain": [
       "<AxesSubplot:>"
      ]
     },
     "execution_count": 28,
     "metadata": {},
     "output_type": "execute_result"
    },
    {
     "data": {
      "image/png": "[encoded data removed]",
      "text/plain": [
       "<Figure size 1080x576 with 2 Axes>"
      ]
     },
     "metadata": {
      "needs_background": "light"
     },
     "output_type": "display_data"
    }
   ],
   "source": [
    "#graph depicting the correlation\n",
    "plt.figure(figsize=(15,8))\n",
    "sn.heatmap(df.corr(), annot=True, linewidths=0.5)"
   ]
  },
  {
   "cell_type": "markdown",
   "id": "f4cabab8",
   "metadata": {},
   "source": [
    "# multicollinearity"
   ]
  },
  {
   "cell_type": "code",
   "execution_count": 109,
   "id": "76884c0d",
   "metadata": {},
   "outputs": [],
   "source": [
    "#defining the VIF\n",
    "def channel_VF(a):\n",
    "  VF= pd.DataFrame()\n",
    "  VF['variables']=a.columns\n",
    "  VF[\"VIF\"]=[variance_inflation_factor(a.values,b) for b in range(a.shape[1])]\n",
    "  return(VF)"
   ]
  },
  {
   "cell_type": "code",
   "execution_count": 110,
   "id": "1651f313",
   "metadata": {},
   "outputs": [
    {
     "data": {
      "text/html": [
       "<div>\n",
       "<style scoped>\n",
       "    .dataframe tbody tr th:only-of-type {\n",
       "        vertical-align: middle;\n",
       "    }\n",
       "\n",
       "    .dataframe tbody tr th {\n",
       "        vertical-align: top;\n",
       "    }\n",
       "\n",
       "    .dataframe thead th {\n",
       "        text-align: right;\n",
       "    }\n",
       "</style>\n",
       "<table border=\"1\" class=\"dataframe\">\n",
       "  <thead>\n",
       "    <tr style=\"text-align: right;\">\n",
       "      <th></th>\n",
       "      <th>variables</th>\n",
       "      <th>VIF</th>\n",
       "    </tr>\n",
       "  </thead>\n",
       "  <tbody>\n",
       "    <tr>\n",
       "      <th>0</th>\n",
       "      <td>Unnamed: 0</td>\n",
       "      <td>2.873757</td>\n",
       "    </tr>\n",
       "    <tr>\n",
       "      <th>1</th>\n",
       "      <td>TV</td>\n",
       "      <td>3.371564</td>\n",
       "    </tr>\n",
       "    <tr>\n",
       "      <th>2</th>\n",
       "      <td>radio</td>\n",
       "      <td>3.664001</td>\n",
       "    </tr>\n",
       "    <tr>\n",
       "      <th>3</th>\n",
       "      <td>newspaper</td>\n",
       "      <td>5.321063</td>\n",
       "    </tr>\n",
       "  </tbody>\n",
       "</table>\n",
       "</div>"
      ],
      "text/plain": [
       "    variables       VIF\n",
       "0  Unnamed: 0  2.873757\n",
       "1          TV  3.371564\n",
       "2       radio  3.664001\n",
       "3   newspaper  5.321063"
      ]
     },
     "execution_count": 110,
     "metadata": {},
     "output_type": "execute_result"
    }
   ],
   "source": [
    "#displaying multicollinearity\n",
    "a=df.iloc[:,:-1]\n",
    "channel_VF(a)"
   ]
  },
  {
   "cell_type": "markdown",
   "id": "6ec0dad2",
   "metadata": {},
   "source": [
    "# handling skewness"
   ]
  },
  {
   "cell_type": "code",
   "execution_count": 103,
   "id": "f248f7ca",
   "metadata": {},
   "outputs": [
    {
     "data": {
      "text/plain": [
       "0.061918832707862255"
      ]
     },
     "execution_count": 103,
     "metadata": {},
     "output_type": "execute_result"
    }
   ],
   "source": [
    "#taking squareroot function and skewness is removed\n",
    "df['newspaper']= np.sqrt(df['newspaper'])\n",
    "skew(df['newspaper'])"
   ]
  },
  {
   "cell_type": "markdown",
   "id": "f530fe71",
   "metadata": {},
   "source": [
    "# splitting data"
   ]
  },
  {
   "cell_type": "code",
   "execution_count": 111,
   "id": "37a03ac6",
   "metadata": {},
   "outputs": [],
   "source": [
    "#partitioning\n",
    "#splitting the data into train and test\n",
    "#dividing data>>>\n",
    "x = df.drop('sales', axis = 1)\n",
    "y = df['sales']"
   ]
  },
  {
   "cell_type": "code",
   "execution_count": 112,
   "id": "1ffb5f35",
   "metadata": {},
   "outputs": [],
   "source": [
    "x_train, x_test, y_train, y_test = train_test_split(x,y, random_state=101, test_size=0.2)"
   ]
  },
  {
   "cell_type": "code",
   "execution_count": 124,
   "id": "33b7dd54",
   "metadata": {},
   "outputs": [],
   "source": [
    "#standardization\n",
    "#normalising data, it wll normalise data such that mean =1, std=0, taking z scores\n",
    "sc = StandardScaler()\n",
    "#standard scaler is done only on x train and xtest, it is generally not done on y train and y test."
   ]
  },
  {
   "cell_type": "code",
   "execution_count": 125,
   "id": "41e97664",
   "metadata": {},
   "outputs": [
    {
     "data": {
      "text/plain": [
       "array([[-1.44888363, -0.95909061,  0.9158459 ,  2.7121932 ],\n",
       "       [ 1.48994074, -0.11668287, -1.44917533, -0.01572118],\n",
       "       [ 0.76387825, -0.62541725, -0.57857331,  0.51778071],\n",
       "       [ 0.3662726 , -1.53479464, -0.10556906,  0.94395709],\n",
       "       [-0.34250269, -0.85804867,  0.23718764, -0.23082411],\n",
       "       [-1.41430923, -0.94264192, -0.18783067, -0.45047713],\n",
       "       [-0.3770771 , -1.69223207,  0.45655192, -1.04943457],\n",
       "       [-0.89569316,  0.91370986, -0.51002197,  0.92650963],\n",
       "       [-1.65633006,  0.36855338, -0.85277867,  1.2121708 ],\n",
       "       [-1.46617084,  0.54008969,  1.67676578,  1.02992433],\n",
       "       [-1.70819167, -1.23284375,  1.10093452,  0.75435073],\n",
       "       [-0.98212917,  0.6752039 , -1.01730189, -0.0253219 ],\n",
       "       [ 0.03781575,  1.53641013, -0.90076461, -0.2784054 ],\n",
       "       [ 1.10962229, -0.37868695, -0.58542844, -1.41622597],\n",
       "       [-1.56989405,  0.59178556, -1.41489966, -0.28911412],\n",
       "       [ 0.95403747, -1.70750585, -0.7979376 , -1.38475495],\n",
       "       [-1.10313959,  1.38014761,  1.40941555, -1.45958055],\n",
       "       [ 1.55908955, -1.29158906,  1.22432693, -1.37444951],\n",
       "       [-1.1550012 ,  1.36487383, -0.22210634, -2.29400615],\n",
       "       [-0.94755477,  0.30158373, -0.05072799,  0.20913587],\n",
       "       [-0.25606668,  0.51424175, -0.33178849,  1.44127675],\n",
       "       [ 1.43807913,  1.62335319,  1.35457448,  1.62311981],\n",
       "       [ 0.46999581, -0.81340224, -1.59313314, -1.06564114],\n",
       "       [-0.80925715,  0.3897017 ,  1.57393877,  1.22185925],\n",
       "       [ 0.00324135,  0.85731436, -1.29836238,  0.92300967],\n",
       "       [-0.11776906,  1.19216262,  0.90899077,  1.63767608],\n",
       "       [ 0.93675027,  0.45079682, -0.14669987, -1.04139594],\n",
       "       [ 0.24526218, -0.83690036,  1.61506957,  0.33822   ],\n",
       "       [ 0.31441099, -0.27881992,  0.9364113 ,  1.83363579],\n",
       "       [-0.61909793, -0.21537499,  1.34086421,  0.09219485],\n",
       "       [ 1.12690949,  0.99947801, -1.36005859,  1.9864771 ],\n",
       "       [-1.31058602, -1.02371045, -0.72938626, -0.45047713],\n",
       "       [ 1.52451514,  1.60455469, -0.64026952, -1.61404105],\n",
       "       [ 0.29712379, -0.85804867, -1.53829207, -0.66337676],\n",
       "       [-1.50074524, -0.61014347, -1.07214296, -1.23855559],\n",
       "       [-0.82654435,  0.78681999,  1.26545774,  0.5453915 ],\n",
       "       [ 1.05776068, -0.7487824 ,  0.86100483,  0.90545689],\n",
       "       [ 0.81573985,  1.10169485,  1.76588252,  0.72478172],\n",
       "       [-0.75739555, -1.66990885,  0.33315951,  0.61529004],\n",
       "       [ 1.71467437,  0.97128026, -1.00359162, -1.10694562],\n",
       "       [ 0.86760146,  1.54228467, -0.64026952,  0.44155911],\n",
       "       [ 1.02318628, -0.20832555, -0.33178849,  0.34242409],\n",
       "       [ 1.42079193, -1.09537972, -1.2023905 ,  0.12871753],\n",
       "       [ 1.47265354,  0.65288068,  1.49853229, -0.37666989],\n",
       "       [ 1.61095115,  0.20406652,  1.28602314, -1.62697586],\n",
       "       [-1.25872441,  1.06527275, -0.44832576, -0.19963501],\n",
       "       [ 1.59366395, -1.55359314, -1.31207265,  0.2135353 ],\n",
       "       [ 1.1614839 ,  0.67402899, -1.23666617, -0.38786196],\n",
       "       [ 0.07239016,  1.04294954,  0.75817782, -1.42690973],\n",
       "       [ 1.68009996,  0.32390695, -0.95560568, -1.31439937],\n",
       "       [-0.15234347, -1.41965383, -1.49030613,  0.27441165],\n",
       "       [-1.36244762,  1.03355029, -1.24352131, -0.16885189],\n",
       "       [ 0.60829343, -1.18819731,  1.62877984, -1.1237989 ],\n",
       "       [-1.22415001, -0.92619323, -0.4963117 ,  0.5921625 ],\n",
       "       [-0.06590746,  0.56593762, -1.35320345, -1.36423254],\n",
       "       [ 0.34898539, -0.09553456,  0.24404277,  0.79458319],\n",
       "       [-0.93026757, -0.70178615, -0.91447488,  0.38827412],\n",
       "       [-0.3943643 , -0.33991505,  0.36058005, -0.70231594],\n",
       "       [-0.74010834, -0.15545477, -0.27694741, -0.55107214],\n",
       "       [-0.30792829, -0.87097264, -0.20154094,  0.25282109],\n",
       "       [-0.56723632, -0.11903268, -0.59913871, -0.98627142],\n",
       "       [-0.03133305,  1.64802622,  1.30658854,  0.97169399],\n",
       "       [-0.3597899 , -0.39278582, -1.06528782, -0.18932964],\n",
       "       [ 0.59100623, -1.32213662,  1.05294858,  1.4382269 ],\n",
       "       [-1.32787322,  0.92663382, -0.4346155 , -0.03495907],\n",
       "       [-0.54994912,  1.03355029,  0.29202871, -0.92554038],\n",
       "       [ 0.14153897, -1.60176429, -1.56571261, -0.06409339],\n",
       "       [ 0.90217586,  0.56593762,  0.00411308, -0.70231594],\n",
       "       [ 0.02052855,  1.72674494,  0.8952805 ,  2.39975336],\n",
       "       [ 1.33435592,  0.24401333, -1.05843269,  0.36752208],\n",
       "       [-0.20420508, -0.71823484,  0.15492603,  1.66952372],\n",
       "       [-1.62175566, -1.08010594,  0.65535081, -0.16885189],\n",
       "       [-0.84383156, -0.57607119, -0.93504028, -1.62697586],\n",
       "       [ 1.31706872,  1.16278997,  0.47711733, -0.33794059],\n",
       "       [ 1.50722794,  0.48956872,  0.37429032, -0.45626162],\n",
       "       [-0.53266192,  0.79151961,  1.41627068,  0.01286646],\n",
       "       [-1.48345804,  0.64230653,  0.66220594,  0.78730411],\n",
       "       [ 0.53914462,  1.36017421, -1.39433426,  0.67615672],\n",
       "       [-0.27335388,  0.75274771,  1.35457448,  0.30861911],\n",
       "       [ 1.40350473,  0.81149302, -1.22295591,  0.02232547],\n",
       "       [-1.67361726,  0.02430587,  1.2380372 ,  1.21540304],\n",
       "       [ 1.04047348,  0.27103617, -0.35235389,  0.17368596],\n",
       "       [-1.12042679,  1.65977528, -1.31207265, -1.1237989 ],\n",
       "       [-0.10048186, -0.49382776, -0.63341438, -0.93300814],\n",
       "       [ 0.22797498,  0.70692637, -0.18097554, -0.94804715],\n",
       "       [ 0.67744224,  0.41672454,  1.41627068, -1.92031239],\n",
       "       [ 0.400847  , -0.30936749,  0.77874322, -0.82435308],\n",
       "       [ 1.69738717,  1.57635695,  1.28602314,  1.45649132],\n",
       "       [-0.13505627,  0.80209377,  0.70333675,  1.23152298],\n",
       "       [-0.72282114,  0.72102524,  1.80701332,  0.4698635 ],\n",
       "       [ 0.52185742, -1.74745266,  1.12149992, -1.10694562],\n",
       "       [-0.91298037,  1.06292294,  1.25174747, -0.43895536],\n",
       "       [ 1.1441967 , -1.54536879,  0.98439724, -0.2677466 ],\n",
       "       [-1.27601161, -0.07673606,  0.41542112, -0.81037412],\n",
       "       [ 0.3835598 ,  0.87611286, -1.42860993, -0.61266576],\n",
       "       [-0.23877948, -0.85922358,  0.29202871, -0.58779802],\n",
       "       [ 1.09233509,  0.16529461,  0.92955617, -1.22026301],\n",
       "       [-1.37973483,  0.81031811,  0.30573898,  1.04687223],\n",
       "       [ 0.88488866, -0.33404052, -1.01730189,  0.88427564],\n",
       "       [-1.55260685, -0.97906401, -1.19553537, -0.1334308 ],\n",
       "       [-1.2068628 ,  1.68562322,  0.34686978,  0.68368486],\n",
       "       [ 1.23063271,  0.17704368, -0.16041014,  0.83793064],\n",
       "       [ 0.4181342 ,  0.9407327 ,  0.62107514,  1.69253601],\n",
       "       [-0.04862026,  0.41672454, -0.153555  , -0.24657602],\n",
       "       [-1.43159643,  1.55050901,  1.12149992,  1.12713931],\n",
       "       [ 1.45536633,  1.2262349 , -0.1329896 ,  0.1422865 ],\n",
       "       [ 0.10696456, -1.46195046, -0.8390684 ,  0.12871753],\n",
       "       [ 0.27983659, -0.12020759, -0.61284898, -0.06409339],\n",
       "       [-1.72547887,  0.94778213,  0.99810751,  1.54659653],\n",
       "       [ 1.26520711,  0.22286502, -1.10641863, -0.79650568],\n",
       "       [ 0.74659104, -0.52672513, -1.2023905 ,  0.33400981],\n",
       "       [ 0.97132467, -0.65244009,  1.38885015,  0.94743618],\n",
       "       [-0.49808751, -0.46563001, -0.61284898,  0.21792778],\n",
       "       [ 0.79845265,  1.06527275, -1.09270836, -1.10694562],\n",
       "       [-0.46351311, -0.2353484 , -1.2023905 ,  0.200316  ],\n",
       "       [-1.06856519, -1.24929244,  0.23718764,  0.36335402],\n",
       "       [ 0.05510296,  0.45197172, -0.41405009, -0.47371111],\n",
       "       [ 1.1960583 ,  1.58458129, -0.86648894, -1.31439937],\n",
       "       [-1.60446845, -0.34343976, -0.24952688, -0.88142941],\n",
       "       [ 1.54180235, -1.53596954, -0.76366193, -0.17395488],\n",
       "       [-1.24143721,  1.16748959,  0.26460817, -0.19963501],\n",
       "       [-0.01404585, -0.16720384,  1.26545774,  0.78365864],\n",
       "       [-0.65367233,  1.0558735 , -0.53058737,  0.01760029],\n",
       "       [-1.58718125, -1.65463507, -1.44917533, -2.07047851],\n",
       "       [ 0.08967736, -0.13548137,  1.58764903,  1.23152298],\n",
       "       [ 0.48728301,  0.83264133,  1.76588252, -1.68060551],\n",
       "       [ 1.62823836,  0.00315756,  0.84729456, -1.35410179],\n",
       "       [ 0.12425177, -0.69356181, -1.57256774, -0.18419369],\n",
       "       [-0.4116515 , -1.4325778 , -1.483451  , -0.31610904],\n",
       "       [ 0.66015503, -1.25046734,  0.18234656, -0.32699819],\n",
       "       [ 0.45270861, -1.66403432,  1.07351398,  0.95091183],\n",
       "       [-1.39702203, -0.02504019,  0.04524388, -0.4047588 ],\n",
       "       [-0.48080031, -1.44080214,  0.66906108, -0.39347963],\n",
       "       [-0.96484197, -1.46077555,  0.1686363 ,  0.6874424 ],\n",
       "       [ 1.07504789,  0.45784625, -0.35235389, -0.06409339],\n",
       "       [-0.70553394,  0.71985033,  0.42913139, -1.05751607],\n",
       "       [ 1.35164312,  1.49528842, -1.43546506, -0.15867837],\n",
       "       [ 0.98861188,  0.00433247, -1.5040164 , -0.12841269],\n",
       "       [ 0.26254938, -0.87332246,  0.80616376,  1.02312275],\n",
       "       [ 0.62558063, -1.45490102,  1.08036912, -1.05751607],\n",
       "       [ 0.19340057,  1.08407125,  1.01181778, -0.18419369],\n",
       "       [-0.29064109, -0.95204117,  1.45740149,  0.3841354 ],\n",
       "       [-0.87840596, -0.96966476, -0.79108246,  0.43342306],\n",
       "       [ 1.57637675, -0.86862283, -0.85277867, -1.35410179],\n",
       "       [ 0.69472944, -0.89329586, -0.42776036, -0.78961208],\n",
       "       [-1.63904286, -1.65346016,  1.75902738,  1.71542456],\n",
       "       [ 0.17611337,  0.89726117, -1.03101215,  1.15022387],\n",
       "       [-0.68824674, -1.12710219, -1.45603046, -0.2784054 ],\n",
       "       [ 1.1787711 ,  0.77507093,  0.02467848,  1.18621258],\n",
       "       [ 1.64552556, -1.30686284, -1.33949318, -0.72873415],\n",
       "       [ 0.55643182, -1.65698488,  0.27146331, -1.84850262],\n",
       "       [-1.03399078,  0.62350803, -0.06443826,  0.2135353 ],\n",
       "       [ 0.64286783,  1.46004123,  0.38800058,  1.25397657],\n",
       "       [-0.4289387 , -1.55711786,  1.40256042,  2.1082871 ],\n",
       "       [-0.22149228, -0.45505585,  1.19005126,  1.36432025],\n",
       "       [-0.63638513, -0.54904835,  0.43598652, -1.1322999 ],\n",
       "       [-0.51537472,  0.58356122,  0.50453786,  0.50984637],\n",
       "       [-0.32521549,  1.06174804, -1.31207265,  0.43749384],\n",
       "       [-1.53531964,  0.76684658,  0.05209902, -1.57625168],\n",
       "       [-0.08319466,  0.1629448 ,  0.5730892 ,  1.02992433]])"
      ]
     },
     "execution_count": 125,
     "metadata": {},
     "output_type": "execute_result"
    }
   ],
   "source": [
    "channel_x_train = sc.fit_transform(x_train)\n",
    "channel_x_train"
   ]
  },
  {
   "cell_type": "code",
   "execution_count": 115,
   "id": "ca7b787a",
   "metadata": {},
   "outputs": [
    {
     "data": {
      "text/plain": [
       "array([[-1.08585239, -0.87802208,  1.79330305,  0.77635577],\n",
       "       [ 0.15882617,  1.2450334 ,  0.2508979 , -1.40564068],\n",
       "       [-1.1895756 , -0.42920792, -0.40033983,  0.50587151],\n",
       "       [-0.18691787, -0.46563001,  1.68362091,  0.97859428],\n",
       "       [-0.58452352, -1.38558155,  0.09322982, -1.83164848],\n",
       "       [ 0.33169819, -1.5277452 , -0.4963117 , -0.23082411],\n",
       "       [-0.79196995,  1.33080155,  0.38114545, -0.59398553],\n",
       "       [-0.44622591,  0.7515728 ,  0.09322982, -0.7759046 ],\n",
       "       [ 0.78116545, -0.10728362, -1.4628856 , -1.08202485],\n",
       "       [ 0.72930384,  0.83499114,  0.68277135,  0.47790211],\n",
       "       [ 0.83302706, -1.30921265,  1.16948586, -0.85980185],\n",
       "       [ 0.21068778,  0.30863317, -0.53744251, -1.79905242],\n",
       "       [ 1.28249431,  0.85731436, -1.36005859, -0.7759046 ],\n",
       "       [-0.77468275,  0.5812114 ,  1.79330305,  1.26355923],\n",
       "       [ 0.71201664,  0.52011628,  0.83358429,  1.73251098],\n",
       "       [ 0.85031426, -1.23049394,  0.17549143, -0.32154701],\n",
       "       [-1.29329881,  1.33315136, -1.35320345, -0.38225875],\n",
       "       [-1.13771399, -0.63129178, -1.49716127, -1.22026301],\n",
       "       [ 1.2133455 , -1.16822391, -0.7979376 , -0.44470842],\n",
       "       [-1.05127798,  0.92310911,  0.99125238,  0.23106381],\n",
       "       [ 1.24791991, -1.52539539, -0.21525121, -0.52695591],\n",
       "       [ 0.91946307,  0.2569373 ,  1.12835506,  0.4698635 ],\n",
       "       [ 1.29978152,  1.49763823,  1.75902738,  0.63061541],\n",
       "       [-0.67095954,  1.31435287,  1.33400908,  1.09056903],\n",
       "       [-0.60181073, -0.94499173, -0.95560568, -2.0958406 ],\n",
       "       [-0.86111876,  0.59178556, -1.38062399,  0.34242409],\n",
       "       [-0.99941638,  1.69384756,  0.30573898, -1.90163046],\n",
       "       [ 0.50457021, -1.05543291, -0.77051706,  0.67992297],\n",
       "       [ 1.36893032,  0.18996764, -0.90761974, -0.49130745],\n",
       "       [-1.69090446, -1.55359314,  1.55337336,  1.54956605],\n",
       "       [-1.51803244, -1.47604933,  0.81301889,  1.4473695 ],\n",
       "       [ 0.57371902,  0.8267668 ,  0.70333675,  0.75435073],\n",
       "       [-0.16963067, -0.17777799, -1.25723158, -1.05751607],\n",
       "       [-1.34516042, -1.60058939, -0.50316684,  0.91599918],\n",
       "       [-1.01670358,  0.32390695,  0.69648161,  0.50984637],\n",
       "       [-1.1722884 , -0.61366819, -1.49030613,  0.1422865 ],\n",
       "       [ 0.43542141, -0.73115881, -0.78422733, -0.04948405],\n",
       "       [ 1.66281276, -0.64891537, -1.25723158, -1.15811112],\n",
       "       [ 1.00589908, -1.61821298,  0.9364113 ,  0.75802836],\n",
       "       [ 1.38621753,  0.08422609, -1.41489966, -1.14085165]])"
      ]
     },
     "execution_count": 115,
     "metadata": {},
     "output_type": "execute_result"
    }
   ],
   "source": [
    "#transforming x test by usung scaler and normalizing it\n",
    "channel_x_test = sc.transform(x_test)\n",
    "channel_x_test"
   ]
  },
  {
   "cell_type": "markdown",
   "id": "44e26c02",
   "metadata": {},
   "source": [
    "# MODEL BUILDING -4"
   ]
  },
  {
   "cell_type": "markdown",
   "id": "8be93daf",
   "metadata": {},
   "source": [
    "# LINEAR REGRESSION"
   ]
  },
  {
   "cell_type": "code",
   "execution_count": 116,
   "id": "e435774b",
   "metadata": {},
   "outputs": [],
   "source": [
    "MLR = LinearRegression() "
   ]
  },
  {
   "cell_type": "code",
   "execution_count": 117,
   "id": "fd6c3a85",
   "metadata": {},
   "outputs": [
    {
     "data": {
      "text/plain": [
       "LinearRegression()"
      ]
     },
     "execution_count": 117,
     "metadata": {},
     "output_type": "execute_result"
    }
   ],
   "source": [
    "MLR.fit(channel_x_train, y_train)#fitting the data to x,y"
   ]
  },
  {
   "cell_type": "code",
   "execution_count": 118,
   "id": "cb503ce7",
   "metadata": {},
   "outputs": [],
   "source": [
    "predictedy_lr =MLR.predict(channel_x_test) #predicting new y test"
   ]
  },
  {
   "cell_type": "code",
   "execution_count": 119,
   "id": "1a35fd46",
   "metadata": {},
   "outputs": [
    {
     "name": "stdout",
     "output_type": "stream",
     "text": [
      "r2 score = 0.9279956795746787\n",
      "mean absolute error = 1.1620826860760567\n",
      "mean squared error = 1.4601594018623\n"
     ]
    }
   ],
   "source": [
    "#checking its performance\n",
    "#model has 92% accuracy\n",
    "print('r2 score =',r2_score(y_test,predictedy_lr))\n",
    "print('mean absolute error =',mean_absolute_error(y_test,predictedy_lr))\n",
    "print('mean squared error =',np.sqrt(mean_squared_error(y_test,predictedy_lr)))"
   ]
  },
  {
   "cell_type": "markdown",
   "id": "d8bad610",
   "metadata": {},
   "source": [
    "# DECISION TREE REGRESSOR"
   ]
  },
  {
   "cell_type": "code",
   "execution_count": 99,
   "id": "1e5ba5e2",
   "metadata": {},
   "outputs": [],
   "source": [
    "dtr = DecisionTreeRegressor(random_state = 42)"
   ]
  },
  {
   "cell_type": "code",
   "execution_count": 100,
   "id": "4319dd9d",
   "metadata": {},
   "outputs": [
    {
     "data": {
      "text/plain": [
       "DecisionTreeRegressor(random_state=42)"
      ]
     },
     "execution_count": 100,
     "metadata": {},
     "output_type": "execute_result"
    }
   ],
   "source": [
    "dtr.fit(channel_x_train,y_train) #fitting the data to x,y"
   ]
  },
  {
   "cell_type": "code",
   "execution_count": 101,
   "id": "c6a7e8e6",
   "metadata": {},
   "outputs": [],
   "source": [
    "predictedy_dtr = dtr.predict(channel_x_test) #predicting new y test"
   ]
  },
  {
   "cell_type": "code",
   "execution_count": 102,
   "id": "73f9a3d3",
   "metadata": {},
   "outputs": [
    {
     "name": "stdout",
     "output_type": "stream",
     "text": [
      "r2 score = 0.9518325478154837\n",
      "mean absolute error = 0.8825\n",
      "mean squared error = 1.1942570912496187\n"
     ]
    }
   ],
   "source": [
    "#high r2 score of 95%\n",
    "print('r2 score =',r2_score(y_test,predictedy_dtr))\n",
    "print('mean absolute error =',mean_absolute_error(y_test,predictedy_dtr))\n",
    "print('mean squared error =',np.sqrt(mean_squared_error(y_test,predictedy_dtr)))"
   ]
  },
  {
   "cell_type": "markdown",
   "id": "a23b58c2",
   "metadata": {},
   "source": [
    "# KNN REGRESSOR"
   ]
  },
  {
   "cell_type": "code",
   "execution_count": 49,
   "id": "3abdad0a",
   "metadata": {},
   "outputs": [
    {
     "data": {
      "text/plain": [
       "KNeighborsRegressor(n_jobs=1, n_neighbors=2)"
      ]
     },
     "execution_count": 49,
     "metadata": {},
     "output_type": "execute_result"
    }
   ],
   "source": [
    "knn = KNeighborsRegressor(n_neighbors=2)\n",
    "KNeighborsRegressor(algorithm='auto', leaf_size=30, metric='minkowski',metric_params=None, n_jobs=1, n_neighbors=2, p=2,weights='uniform')"
   ]
  },
  {
   "cell_type": "code",
   "execution_count": 50,
   "id": "3fc8ce3a",
   "metadata": {},
   "outputs": [
    {
     "data": {
      "text/plain": [
       "KNeighborsRegressor(n_neighbors=2)"
      ]
     },
     "execution_count": 50,
     "metadata": {},
     "output_type": "execute_result"
    }
   ],
   "source": [
    "knn.fit(channel_x_train,y_train) #fitting the data to x,y"
   ]
  },
  {
   "cell_type": "code",
   "execution_count": 51,
   "id": "67c3e03f",
   "metadata": {},
   "outputs": [],
   "source": [
    "predictedy_knn = knn.predict(channel_x_test)#predicting new y test"
   ]
  },
  {
   "cell_type": "code",
   "execution_count": 52,
   "id": "6fe003c3",
   "metadata": {},
   "outputs": [
    {
     "name": "stdout",
     "output_type": "stream",
     "text": [
      "r2 score = 0.9270965981156437\n",
      "mean absolute error = 1.2262499999999998\n",
      "mean squared error = 1.4692472562506285\n"
     ]
    }
   ],
   "source": [
    "#checking its performance\n",
    "#model has 92% accuracy\n",
    "print('r2 score =',r2_score(y_test,predictedy_knn))\n",
    "print('mean absolute error =',mean_absolute_error(y_test,predictedy_knn))\n",
    "print('mean squared error =',np.sqrt(mean_squared_error(y_test,predictedy_knn)))"
   ]
  },
  {
   "cell_type": "markdown",
   "id": "d42089e0",
   "metadata": {},
   "source": [
    "# RANDOM FOREST REGRESSOR"
   ]
  },
  {
   "cell_type": "code",
   "execution_count": 53,
   "id": "66205065",
   "metadata": {},
   "outputs": [],
   "source": [
    "rfr = RandomForestRegressor()"
   ]
  },
  {
   "cell_type": "code",
   "execution_count": 54,
   "id": "fcbf9851",
   "metadata": {},
   "outputs": [
    {
     "data": {
      "text/plain": [
       "RandomForestRegressor()"
      ]
     },
     "execution_count": 54,
     "metadata": {},
     "output_type": "execute_result"
    }
   ],
   "source": [
    "rfr.fit(channel_x_train,y_train) #fitting the data to x,y"
   ]
  },
  {
   "cell_type": "code",
   "execution_count": 55,
   "id": "6d4c9a24",
   "metadata": {},
   "outputs": [],
   "source": [
    "predictedy_rfr = rfr.predict(channel_x_test) #predicting new y test"
   ]
  },
  {
   "cell_type": "code",
   "execution_count": 56,
   "id": "d76a8f13",
   "metadata": {},
   "outputs": [
    {
     "name": "stdout",
     "output_type": "stream",
     "text": [
      "r2 score = 0.9793169711748827\n",
      "mean absolute error = 0.6079749999999995\n",
      "mean squared error = 0.7825787660037795\n"
     ]
    }
   ],
   "source": [
    "#checking its performance\n",
    "#model has 97% accuracy\n",
    "print('r2 score =',r2_score(y_test,predictedy_rfr))\n",
    "print('mean absolute error =',mean_absolute_error(y_test,predictedy_rfr))\n",
    "print('mean squared error =',np.sqrt(mean_squared_error(y_test,predictedy_rfr)))"
   ]
  },
  {
   "cell_type": "markdown",
   "id": "f6bf44bd",
   "metadata": {},
   "source": [
    "# SAVING THE MODEL"
   ]
  },
  {
   "cell_type": "code",
   "execution_count": 120,
   "id": "8b152646",
   "metadata": {},
   "outputs": [],
   "source": [
    "import joblib"
   ]
  },
  {
   "cell_type": "code",
   "execution_count": 121,
   "id": "a4ae563f",
   "metadata": {},
   "outputs": [],
   "source": [
    "advertising_model = joblib.dump(rfr,r'C:\\Users\\sushr\\model saving.sav')"
   ]
  },
  {
   "cell_type": "code",
   "execution_count": null,
   "id": "446fc1c8",
   "metadata": {},
   "outputs": [],
   "source": [
    "#as random forest regressor has highest r2 score, this model is selectd"
   ]
  }
 ],
 "metadata": {
  "kernelspec": {
   "display_name": "Python 3",
   "language": "python",
   "name": "python3"
  },
  "language_info": {
   "codemirror_mode": {
    "name": "ipython",
    "version": 3
   },
   "file_extension": ".py",
   "mimetype": "text/x-python",
   "name": "python",
   "nbconvert_exporter": "python",
   "pygments_lexer": "ipython3",
   "version": "3.8.8"
  }
 },
 "nbformat": 4,
 "nbformat_minor": 5
}
