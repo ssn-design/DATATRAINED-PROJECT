{
 "cells": [
  {
   "cell_type": "code",
   "execution_count": 1396,
   "id": "1f269d12",
   "metadata": {},
   "outputs": [],
   "source": [
    "#import libraries\n",
    "import pandas as pd\n",
    "import numpy as np\n",
    "import matplotlib.pyplot as plt\n",
    "import seaborn as sn\n",
    "import plotly.express as px\n",
    "%matplotlib inline\n",
    "import klib\n",
    "from statsmodels.stats.outliers_influence import variance_inflation_factor\n",
    "from scipy.stats import skew\n",
    "from scipy.stats import zscore\n",
    "from sklearn.preprocessing import LabelEncoder\n",
    "from sklearn.model_selection import train_test_split\n",
    "from sklearn.preprocessing import StandardScaler\n",
    "\n",
    "import warnings\n",
    "warnings.filterwarnings('ignore')"
   ]
  },
  {
   "cell_type": "code",
   "execution_count": 1279,
   "id": "59f51e6e",
   "metadata": {},
   "outputs": [
    {
     "data": {
      "text/html": [
       "<div>\n",
       "<style scoped>\n",
       "    .dataframe tbody tr th:only-of-type {\n",
       "        vertical-align: middle;\n",
       "    }\n",
       "\n",
       "    .dataframe tbody tr th {\n",
       "        vertical-align: top;\n",
       "    }\n",
       "\n",
       "    .dataframe thead th {\n",
       "        text-align: right;\n",
       "    }\n",
       "</style>\n",
       "<table border=\"1\" class=\"dataframe\">\n",
       "  <thead>\n",
       "    <tr style=\"text-align: right;\">\n",
       "      <th></th>\n",
       "      <th>country</th>\n",
       "      <th>country_long</th>\n",
       "      <th>name</th>\n",
       "      <th>gppd_idnr</th>\n",
       "      <th>capacity_mw</th>\n",
       "      <th>latitude</th>\n",
       "      <th>longitude</th>\n",
       "      <th>primary_fuel</th>\n",
       "      <th>other_fuel1</th>\n",
       "      <th>other_fuel2</th>\n",
       "      <th>...</th>\n",
       "      <th>geolocation_source</th>\n",
       "      <th>wepp_id</th>\n",
       "      <th>year_of_capacity_data</th>\n",
       "      <th>generation_gwh_2013</th>\n",
       "      <th>generation_gwh_2014</th>\n",
       "      <th>generation_gwh_2015</th>\n",
       "      <th>generation_gwh_2016</th>\n",
       "      <th>generation_gwh_2017</th>\n",
       "      <th>generation_data_source</th>\n",
       "      <th>estimated_generation_gwh</th>\n",
       "    </tr>\n",
       "  </thead>\n",
       "  <tbody>\n",
       "    <tr>\n",
       "      <th>0</th>\n",
       "      <td>IND</td>\n",
       "      <td>India</td>\n",
       "      <td>ACME Solar Tower</td>\n",
       "      <td>WRI1020239</td>\n",
       "      <td>2.5</td>\n",
       "      <td>28.1839</td>\n",
       "      <td>73.2407</td>\n",
       "      <td>Solar</td>\n",
       "      <td>NaN</td>\n",
       "      <td>NaN</td>\n",
       "      <td>...</td>\n",
       "      <td>National Renewable Energy Laboratory</td>\n",
       "      <td>NaN</td>\n",
       "      <td>NaN</td>\n",
       "      <td>NaN</td>\n",
       "      <td>NaN</td>\n",
       "      <td>NaN</td>\n",
       "      <td>NaN</td>\n",
       "      <td>NaN</td>\n",
       "      <td>NaN</td>\n",
       "      <td>NaN</td>\n",
       "    </tr>\n",
       "    <tr>\n",
       "      <th>1</th>\n",
       "      <td>IND</td>\n",
       "      <td>India</td>\n",
       "      <td>ADITYA CEMENT WORKS</td>\n",
       "      <td>WRI1019881</td>\n",
       "      <td>98.0</td>\n",
       "      <td>24.7663</td>\n",
       "      <td>74.6090</td>\n",
       "      <td>Coal</td>\n",
       "      <td>NaN</td>\n",
       "      <td>NaN</td>\n",
       "      <td>...</td>\n",
       "      <td>WRI</td>\n",
       "      <td>NaN</td>\n",
       "      <td>NaN</td>\n",
       "      <td>NaN</td>\n",
       "      <td>NaN</td>\n",
       "      <td>NaN</td>\n",
       "      <td>NaN</td>\n",
       "      <td>NaN</td>\n",
       "      <td>NaN</td>\n",
       "      <td>NaN</td>\n",
       "    </tr>\n",
       "    <tr>\n",
       "      <th>2</th>\n",
       "      <td>IND</td>\n",
       "      <td>India</td>\n",
       "      <td>AES Saurashtra Windfarms</td>\n",
       "      <td>WRI1026669</td>\n",
       "      <td>39.2</td>\n",
       "      <td>21.9038</td>\n",
       "      <td>69.3732</td>\n",
       "      <td>Wind</td>\n",
       "      <td>NaN</td>\n",
       "      <td>NaN</td>\n",
       "      <td>...</td>\n",
       "      <td>WRI</td>\n",
       "      <td>NaN</td>\n",
       "      <td>NaN</td>\n",
       "      <td>NaN</td>\n",
       "      <td>NaN</td>\n",
       "      <td>NaN</td>\n",
       "      <td>NaN</td>\n",
       "      <td>NaN</td>\n",
       "      <td>NaN</td>\n",
       "      <td>NaN</td>\n",
       "    </tr>\n",
       "    <tr>\n",
       "      <th>3</th>\n",
       "      <td>IND</td>\n",
       "      <td>India</td>\n",
       "      <td>AGARTALA GT</td>\n",
       "      <td>IND0000001</td>\n",
       "      <td>135.0</td>\n",
       "      <td>23.8712</td>\n",
       "      <td>91.3602</td>\n",
       "      <td>Gas</td>\n",
       "      <td>NaN</td>\n",
       "      <td>NaN</td>\n",
       "      <td>...</td>\n",
       "      <td>WRI</td>\n",
       "      <td>NaN</td>\n",
       "      <td>2018.0</td>\n",
       "      <td>631.777928</td>\n",
       "      <td>617.789264</td>\n",
       "      <td>843.747</td>\n",
       "      <td>886.004428</td>\n",
       "      <td>663.774500</td>\n",
       "      <td>Central Electricity Authority</td>\n",
       "      <td>NaN</td>\n",
       "    </tr>\n",
       "    <tr>\n",
       "      <th>4</th>\n",
       "      <td>IND</td>\n",
       "      <td>India</td>\n",
       "      <td>AKALTARA TPP</td>\n",
       "      <td>IND0000002</td>\n",
       "      <td>1800.0</td>\n",
       "      <td>21.9603</td>\n",
       "      <td>82.4091</td>\n",
       "      <td>Coal</td>\n",
       "      <td>Oil</td>\n",
       "      <td>NaN</td>\n",
       "      <td>...</td>\n",
       "      <td>WRI</td>\n",
       "      <td>NaN</td>\n",
       "      <td>2018.0</td>\n",
       "      <td>1668.290000</td>\n",
       "      <td>3035.550000</td>\n",
       "      <td>5916.370</td>\n",
       "      <td>6243.000000</td>\n",
       "      <td>5385.579736</td>\n",
       "      <td>Central Electricity Authority</td>\n",
       "      <td>NaN</td>\n",
       "    </tr>\n",
       "  </tbody>\n",
       "</table>\n",
       "<p>5 rows × 25 columns</p>\n",
       "</div>"
      ],
      "text/plain": [
       "  country country_long                      name   gppd_idnr  capacity_mw  \\\n",
       "0     IND        India          ACME Solar Tower  WRI1020239          2.5   \n",
       "1     IND        India       ADITYA CEMENT WORKS  WRI1019881         98.0   \n",
       "2     IND        India  AES Saurashtra Windfarms  WRI1026669         39.2   \n",
       "3     IND        India               AGARTALA GT  IND0000001        135.0   \n",
       "4     IND        India              AKALTARA TPP  IND0000002       1800.0   \n",
       "\n",
       "   latitude  longitude primary_fuel other_fuel1 other_fuel2  ...  \\\n",
       "0   28.1839    73.2407        Solar         NaN         NaN  ...   \n",
       "1   24.7663    74.6090         Coal         NaN         NaN  ...   \n",
       "2   21.9038    69.3732         Wind         NaN         NaN  ...   \n",
       "3   23.8712    91.3602          Gas         NaN         NaN  ...   \n",
       "4   21.9603    82.4091         Coal         Oil         NaN  ...   \n",
       "\n",
       "                     geolocation_source  wepp_id year_of_capacity_data  \\\n",
       "0  National Renewable Energy Laboratory      NaN                   NaN   \n",
       "1                                   WRI      NaN                   NaN   \n",
       "2                                   WRI      NaN                   NaN   \n",
       "3                                   WRI      NaN                2018.0   \n",
       "4                                   WRI      NaN                2018.0   \n",
       "\n",
       "  generation_gwh_2013 generation_gwh_2014 generation_gwh_2015  \\\n",
       "0                 NaN                 NaN                 NaN   \n",
       "1                 NaN                 NaN                 NaN   \n",
       "2                 NaN                 NaN                 NaN   \n",
       "3          631.777928          617.789264             843.747   \n",
       "4         1668.290000         3035.550000            5916.370   \n",
       "\n",
       "   generation_gwh_2016  generation_gwh_2017         generation_data_source  \\\n",
       "0                  NaN                  NaN                            NaN   \n",
       "1                  NaN                  NaN                            NaN   \n",
       "2                  NaN                  NaN                            NaN   \n",
       "3           886.004428           663.774500  Central Electricity Authority   \n",
       "4          6243.000000          5385.579736  Central Electricity Authority   \n",
       "\n",
       "   estimated_generation_gwh  \n",
       "0                       NaN  \n",
       "1                       NaN  \n",
       "2                       NaN  \n",
       "3                       NaN  \n",
       "4                       NaN  \n",
       "\n",
       "[5 rows x 25 columns]"
      ]
     },
     "execution_count": 1279,
     "metadata": {},
     "output_type": "execute_result"
    }
   ],
   "source": [
    "#reading the csv file from github\n",
    "global_power = pd.read_csv('https://raw.githubusercontent.com/wri/global-power-plant-database/master/source_databases_csv/database_IND.csv')\n",
    "global_power.head()"
   ]
  },
  {
   "cell_type": "markdown",
   "id": "4a38651f",
   "metadata": {},
   "source": [
    "observations:\n",
    "\n",
    "1.above table is displaying the 5 rows of dataset with all columns from the top.\n",
    "\n",
    "2.we observe a lot of missing values.\n",
    "\n",
    "3.the data is of only one country i'e India."
   ]
  },
  {
   "cell_type": "code",
   "execution_count": 1280,
   "id": "ae7bcf5e",
   "metadata": {},
   "outputs": [
    {
     "data": {
      "text/plain": [
       "(908, 25)"
      ]
     },
     "execution_count": 1280,
     "metadata": {},
     "output_type": "execute_result"
    }
   ],
   "source": [
    "#checking shape\n",
    "global_power.shape"
   ]
  },
  {
   "cell_type": "markdown",
   "id": "ec0668cc",
   "metadata": {},
   "source": [
    "observation\n",
    "\n",
    "the dataset has 25 columns and 908 rows."
   ]
  },
  {
   "cell_type": "code",
   "execution_count": 1281,
   "id": "bdc6a8a2",
   "metadata": {},
   "outputs": [
    {
     "name": "stdout",
     "output_type": "stream",
     "text": [
      "<class 'pandas.core.frame.DataFrame'>\n",
      "RangeIndex: 908 entries, 0 to 907\n",
      "Data columns (total 25 columns):\n",
      " #   Column                    Non-Null Count  Dtype  \n",
      "---  ------                    --------------  -----  \n",
      " 0   country                   908 non-null    object \n",
      " 1   country_long              908 non-null    object \n",
      " 2   name                      908 non-null    object \n",
      " 3   gppd_idnr                 908 non-null    object \n",
      " 4   capacity_mw               908 non-null    float64\n",
      " 5   latitude                  862 non-null    float64\n",
      " 6   longitude                 862 non-null    float64\n",
      " 7   primary_fuel              908 non-null    object \n",
      " 8   other_fuel1               199 non-null    object \n",
      " 9   other_fuel2               1 non-null      object \n",
      " 10  other_fuel3               0 non-null      float64\n",
      " 11  commissioning_year        528 non-null    float64\n",
      " 12  owner                     342 non-null    object \n",
      " 13  source                    908 non-null    object \n",
      " 14  url                       908 non-null    object \n",
      " 15  geolocation_source        889 non-null    object \n",
      " 16  wepp_id                   0 non-null      float64\n",
      " 17  year_of_capacity_data     520 non-null    float64\n",
      " 18  generation_gwh_2013       384 non-null    float64\n",
      " 19  generation_gwh_2014       401 non-null    float64\n",
      " 20  generation_gwh_2015       425 non-null    float64\n",
      " 21  generation_gwh_2016       437 non-null    float64\n",
      " 22  generation_gwh_2017       443 non-null    float64\n",
      " 23  generation_data_source    450 non-null    object \n",
      " 24  estimated_generation_gwh  0 non-null      float64\n",
      "dtypes: float64(13), object(12)\n",
      "memory usage: 177.5+ KB\n"
     ]
    }
   ],
   "source": [
    "#CHECKING BASIC INFORMATION OF DATASET\n",
    "global_power.info()"
   ]
  },
  {
   "cell_type": "markdown",
   "id": "f6f65a92",
   "metadata": {},
   "source": [
    "observations:\n",
    "    \n",
    "1.out of 25 columns,there are 12 categorical columns and 13 float type columns."
   ]
  },
  {
   "cell_type": "code",
   "execution_count": 1282,
   "id": "b7b24b7d",
   "metadata": {},
   "outputs": [
    {
     "data": {
      "text/plain": [
       "country                       0\n",
       "country_long                  0\n",
       "name                          0\n",
       "gppd_idnr                     0\n",
       "capacity_mw                   0\n",
       "latitude                     46\n",
       "longitude                    46\n",
       "primary_fuel                  0\n",
       "other_fuel1                 709\n",
       "other_fuel2                 907\n",
       "other_fuel3                 908\n",
       "commissioning_year          380\n",
       "owner                       566\n",
       "source                        0\n",
       "url                           0\n",
       "geolocation_source           19\n",
       "wepp_id                     908\n",
       "year_of_capacity_data       388\n",
       "generation_gwh_2013         524\n",
       "generation_gwh_2014         507\n",
       "generation_gwh_2015         483\n",
       "generation_gwh_2016         471\n",
       "generation_gwh_2017         465\n",
       "generation_data_source      458\n",
       "estimated_generation_gwh    908\n",
       "dtype: int64"
      ]
     },
     "execution_count": 1282,
     "metadata": {},
     "output_type": "execute_result"
    }
   ],
   "source": [
    "#checking missing values\n",
    "global_power.isnull().sum()"
   ]
  },
  {
   "cell_type": "markdown",
   "id": "c8f9efcb",
   "metadata": {},
   "source": [
    "observations\n",
    "\n",
    "1.we can see that there are lot of missing values.\n",
    "\n",
    "2.three columns have no values in the column i'e all the values are missing(908)- estimate generation gwh,wepp id,other fuel 3\n",
    "\n",
    "3.other fuel 2 have only 1 value in its column."
   ]
  },
  {
   "cell_type": "code",
   "execution_count": 1283,
   "id": "3d20433e",
   "metadata": {},
   "outputs": [
    {
     "data": {
      "text/html": [
       "<div>\n",
       "<style scoped>\n",
       "    .dataframe tbody tr th:only-of-type {\n",
       "        vertical-align: middle;\n",
       "    }\n",
       "\n",
       "    .dataframe tbody tr th {\n",
       "        vertical-align: top;\n",
       "    }\n",
       "\n",
       "    .dataframe thead th {\n",
       "        text-align: right;\n",
       "    }\n",
       "</style>\n",
       "<table border=\"1\" class=\"dataframe\">\n",
       "  <thead>\n",
       "    <tr style=\"text-align: right;\">\n",
       "      <th></th>\n",
       "      <th>capacity_mw</th>\n",
       "      <th>latitude</th>\n",
       "      <th>longitude</th>\n",
       "      <th>other_fuel3</th>\n",
       "      <th>commissioning_year</th>\n",
       "      <th>wepp_id</th>\n",
       "      <th>year_of_capacity_data</th>\n",
       "      <th>generation_gwh_2013</th>\n",
       "      <th>generation_gwh_2014</th>\n",
       "      <th>generation_gwh_2015</th>\n",
       "      <th>generation_gwh_2016</th>\n",
       "      <th>generation_gwh_2017</th>\n",
       "      <th>estimated_generation_gwh</th>\n",
       "    </tr>\n",
       "  </thead>\n",
       "  <tbody>\n",
       "    <tr>\n",
       "      <th>count</th>\n",
       "      <td>908.000000</td>\n",
       "      <td>862.000000</td>\n",
       "      <td>862.000000</td>\n",
       "      <td>0.0</td>\n",
       "      <td>528.000000</td>\n",
       "      <td>0.0</td>\n",
       "      <td>520.0</td>\n",
       "      <td>384.000000</td>\n",
       "      <td>401.000000</td>\n",
       "      <td>425.000000</td>\n",
       "      <td>437.000000</td>\n",
       "      <td>443.000000</td>\n",
       "      <td>0.0</td>\n",
       "    </tr>\n",
       "    <tr>\n",
       "      <th>mean</th>\n",
       "      <td>321.046378</td>\n",
       "      <td>21.196189</td>\n",
       "      <td>77.447848</td>\n",
       "      <td>NaN</td>\n",
       "      <td>1996.876894</td>\n",
       "      <td>NaN</td>\n",
       "      <td>2018.0</td>\n",
       "      <td>2304.059202</td>\n",
       "      <td>2420.393316</td>\n",
       "      <td>2414.072373</td>\n",
       "      <td>2453.936292</td>\n",
       "      <td>2531.754458</td>\n",
       "      <td>NaN</td>\n",
       "    </tr>\n",
       "    <tr>\n",
       "      <th>std</th>\n",
       "      <td>580.221767</td>\n",
       "      <td>6.248627</td>\n",
       "      <td>4.907260</td>\n",
       "      <td>NaN</td>\n",
       "      <td>17.047817</td>\n",
       "      <td>NaN</td>\n",
       "      <td>0.0</td>\n",
       "      <td>3794.767492</td>\n",
       "      <td>4013.558173</td>\n",
       "      <td>4183.203199</td>\n",
       "      <td>4152.038216</td>\n",
       "      <td>4187.236364</td>\n",
       "      <td>NaN</td>\n",
       "    </tr>\n",
       "    <tr>\n",
       "      <th>min</th>\n",
       "      <td>0.000000</td>\n",
       "      <td>8.168900</td>\n",
       "      <td>68.644700</td>\n",
       "      <td>NaN</td>\n",
       "      <td>1927.000000</td>\n",
       "      <td>NaN</td>\n",
       "      <td>2018.0</td>\n",
       "      <td>0.000000</td>\n",
       "      <td>0.000000</td>\n",
       "      <td>0.000000</td>\n",
       "      <td>0.000000</td>\n",
       "      <td>0.000000</td>\n",
       "      <td>NaN</td>\n",
       "    </tr>\n",
       "    <tr>\n",
       "      <th>25%</th>\n",
       "      <td>16.837500</td>\n",
       "      <td>16.771575</td>\n",
       "      <td>74.258975</td>\n",
       "      <td>NaN</td>\n",
       "      <td>1988.000000</td>\n",
       "      <td>NaN</td>\n",
       "      <td>2018.0</td>\n",
       "      <td>244.458088</td>\n",
       "      <td>223.650436</td>\n",
       "      <td>174.174750</td>\n",
       "      <td>187.193669</td>\n",
       "      <td>177.643170</td>\n",
       "      <td>NaN</td>\n",
       "    </tr>\n",
       "    <tr>\n",
       "      <th>50%</th>\n",
       "      <td>60.000000</td>\n",
       "      <td>21.778300</td>\n",
       "      <td>76.719250</td>\n",
       "      <td>NaN</td>\n",
       "      <td>2000.000000</td>\n",
       "      <td>NaN</td>\n",
       "      <td>2018.0</td>\n",
       "      <td>797.063475</td>\n",
       "      <td>805.760000</td>\n",
       "      <td>701.027250</td>\n",
       "      <td>716.728350</td>\n",
       "      <td>807.601700</td>\n",
       "      <td>NaN</td>\n",
       "    </tr>\n",
       "    <tr>\n",
       "      <th>75%</th>\n",
       "      <td>388.125000</td>\n",
       "      <td>25.516375</td>\n",
       "      <td>79.441475</td>\n",
       "      <td>NaN</td>\n",
       "      <td>2011.250000</td>\n",
       "      <td>NaN</td>\n",
       "      <td>2018.0</td>\n",
       "      <td>2795.021500</td>\n",
       "      <td>3034.575000</td>\n",
       "      <td>3080.000000</td>\n",
       "      <td>3263.483000</td>\n",
       "      <td>3258.785000</td>\n",
       "      <td>NaN</td>\n",
       "    </tr>\n",
       "    <tr>\n",
       "      <th>max</th>\n",
       "      <td>4760.000000</td>\n",
       "      <td>34.649000</td>\n",
       "      <td>95.408000</td>\n",
       "      <td>NaN</td>\n",
       "      <td>2018.000000</td>\n",
       "      <td>NaN</td>\n",
       "      <td>2018.0</td>\n",
       "      <td>27586.200000</td>\n",
       "      <td>28127.000000</td>\n",
       "      <td>30539.000000</td>\n",
       "      <td>30015.000000</td>\n",
       "      <td>35116.000000</td>\n",
       "      <td>NaN</td>\n",
       "    </tr>\n",
       "  </tbody>\n",
       "</table>\n",
       "</div>"
      ],
      "text/plain": [
       "       capacity_mw    latitude   longitude  other_fuel3  commissioning_year  \\\n",
       "count   908.000000  862.000000  862.000000          0.0          528.000000   \n",
       "mean    321.046378   21.196189   77.447848          NaN         1996.876894   \n",
       "std     580.221767    6.248627    4.907260          NaN           17.047817   \n",
       "min       0.000000    8.168900   68.644700          NaN         1927.000000   \n",
       "25%      16.837500   16.771575   74.258975          NaN         1988.000000   \n",
       "50%      60.000000   21.778300   76.719250          NaN         2000.000000   \n",
       "75%     388.125000   25.516375   79.441475          NaN         2011.250000   \n",
       "max    4760.000000   34.649000   95.408000          NaN         2018.000000   \n",
       "\n",
       "       wepp_id  year_of_capacity_data  generation_gwh_2013  \\\n",
       "count      0.0                  520.0           384.000000   \n",
       "mean       NaN                 2018.0          2304.059202   \n",
       "std        NaN                    0.0          3794.767492   \n",
       "min        NaN                 2018.0             0.000000   \n",
       "25%        NaN                 2018.0           244.458088   \n",
       "50%        NaN                 2018.0           797.063475   \n",
       "75%        NaN                 2018.0          2795.021500   \n",
       "max        NaN                 2018.0         27586.200000   \n",
       "\n",
       "       generation_gwh_2014  generation_gwh_2015  generation_gwh_2016  \\\n",
       "count           401.000000           425.000000           437.000000   \n",
       "mean           2420.393316          2414.072373          2453.936292   \n",
       "std            4013.558173          4183.203199          4152.038216   \n",
       "min               0.000000             0.000000             0.000000   \n",
       "25%             223.650436           174.174750           187.193669   \n",
       "50%             805.760000           701.027250           716.728350   \n",
       "75%            3034.575000          3080.000000          3263.483000   \n",
       "max           28127.000000         30539.000000         30015.000000   \n",
       "\n",
       "       generation_gwh_2017  estimated_generation_gwh  \n",
       "count           443.000000                       0.0  \n",
       "mean           2531.754458                       NaN  \n",
       "std            4187.236364                       NaN  \n",
       "min               0.000000                       NaN  \n",
       "25%             177.643170                       NaN  \n",
       "50%             807.601700                       NaN  \n",
       "75%            3258.785000                       NaN  \n",
       "max           35116.000000                       NaN  "
      ]
     },
     "execution_count": 1283,
     "metadata": {},
     "output_type": "execute_result"
    }
   ],
   "source": [
    "#checking stats summary of the dataset\n",
    "global_power.describe()"
   ]
  },
  {
   "cell_type": "markdown",
   "id": "5ed4c377",
   "metadata": {},
   "source": [
    "observations\n",
    "\n",
    "1.mean is higher than median in capacity mw,longitude,generation gwh 2013,generation gwh 2014,generation gwh 2015,generation gwh 2016,generation gwh 2017, which indicates positively skewed.\n",
    "\n",
    "2.median is higher than mean in commissioning year & latitude which means they are more or less negatively skewed.\n",
    "\n",
    "3.year of capacity data has only one data in it.\n",
    "\n",
    "4.all the values have high standard deviation which indicates presence of outliers and the spread is high."
   ]
  },
  {
   "cell_type": "markdown",
   "id": "b49e8f67",
   "metadata": {},
   "source": [
    "# handling missing values"
   ]
  },
  {
   "cell_type": "code",
   "execution_count": 1284,
   "id": "7934c05d",
   "metadata": {},
   "outputs": [],
   "source": [
    "#filling missing values with mean median and mode by using fill na.\n",
    "global_power['latitude'].fillna(global_power['latitude'].mean(),inplace = True)\n",
    "global_power['longitude'].fillna(global_power['longitude'].mean(),inplace = True)\n",
    "global_power['commissioning_year'].fillna(global_power['commissioning_year'].mean(),inplace = True)\n",
    "global_power['year_of_capacity_data'].fillna(global_power['year_of_capacity_data'].mean(),inplace = True)\n",
    "global_power['generation_gwh_2013'].fillna(global_power['generation_gwh_2013'].mean(),inplace = True)\n",
    "global_power['generation_gwh_2014'].fillna(global_power['generation_gwh_2014'].mean(),inplace = True)\n",
    "global_power['generation_gwh_2015'].fillna(global_power['generation_gwh_2015'].mean(),inplace = True)\n",
    "global_power['generation_gwh_2016'].fillna(global_power['generation_gwh_2016'].mean(),inplace = True)\n",
    "global_power['generation_gwh_2017'].fillna(global_power['generation_gwh_2017'].mean(),inplace = True)\n",
    "global_power['owner'].fillna(global_power['owner'].mode()[0],inplace = True)\n",
    "global_power['other_fuel1'].fillna(global_power['other_fuel1'].mode()[0],inplace = True)\n",
    "global_power['geolocation_source'].fillna(global_power['geolocation_source'].mode()[0],inplace = True)\n",
    "global_power['generation_data_source'].fillna(global_power['generation_data_source'].mode()[0],inplace = True)"
   ]
  },
  {
   "cell_type": "markdown",
   "id": "629587a3",
   "metadata": {},
   "source": [
    "observations:\n",
    "\n",
    "1.columns with categorical values are filled with mode.\n",
    "\n",
    "2.columns with integer or float type columns are filled in with the mean values."
   ]
  },
  {
   "cell_type": "code",
   "execution_count": 1285,
   "id": "6d47ab0c",
   "metadata": {},
   "outputs": [],
   "source": [
    "global_power.drop(['other_fuel3','wepp_id','estimated_generation_gwh','other_fuel2'],axis = 1, inplace = True)\n",
    "#dropping columns"
   ]
  },
  {
   "cell_type": "markdown",
   "id": "c16990c7",
   "metadata": {},
   "source": [
    "observations:\n",
    "    \n",
    "1.'other_fuel3','wepp_id','estimated_generation_gwh' are blank. they have no values. thus we are dropping those columns\n",
    "\n",
    "2.'other fuel' 2 has only 1 value. thus we are also dropping this column"
   ]
  },
  {
   "cell_type": "code",
   "execution_count": 1286,
   "id": "7e578789",
   "metadata": {},
   "outputs": [
    {
     "data": {
      "text/plain": [
       "country                   0\n",
       "country_long              0\n",
       "name                      0\n",
       "gppd_idnr                 0\n",
       "capacity_mw               0\n",
       "latitude                  0\n",
       "longitude                 0\n",
       "primary_fuel              0\n",
       "other_fuel1               0\n",
       "commissioning_year        0\n",
       "owner                     0\n",
       "source                    0\n",
       "url                       0\n",
       "geolocation_source        0\n",
       "year_of_capacity_data     0\n",
       "generation_gwh_2013       0\n",
       "generation_gwh_2014       0\n",
       "generation_gwh_2015       0\n",
       "generation_gwh_2016       0\n",
       "generation_gwh_2017       0\n",
       "generation_data_source    0\n",
       "dtype: int64"
      ]
     },
     "execution_count": 1286,
     "metadata": {},
     "output_type": "execute_result"
    }
   ],
   "source": [
    "#checking missing values \n",
    "global_power.isnull().sum()"
   ]
  },
  {
   "cell_type": "markdown",
   "id": "c8415f17",
   "metadata": {},
   "source": [
    "observations\n",
    "\n",
    "1.after handling missing values, we are checking if any missing  value is left out and not handled.\n",
    "\n",
    "2.the dataset now contains no missing value."
   ]
  },
  {
   "cell_type": "markdown",
   "id": "7c263c71",
   "metadata": {},
   "source": [
    "# duplicate values"
   ]
  },
  {
   "cell_type": "code",
   "execution_count": 1287,
   "id": "17c4b63d",
   "metadata": {},
   "outputs": [
    {
     "data": {
      "text/plain": [
       "0"
      ]
     },
     "execution_count": 1287,
     "metadata": {},
     "output_type": "execute_result"
    }
   ],
   "source": [
    "#checking duplicate values\n",
    "dupl = global_power.duplicated()\n",
    "sum(dupl)"
   ]
  },
  {
   "cell_type": "markdown",
   "id": "8595e2a1",
   "metadata": {},
   "source": [
    "observation:\n",
    "    \n",
    "there are no duplicate values in the dataset."
   ]
  },
  {
   "cell_type": "markdown",
   "id": "88e9ae19",
   "metadata": {},
   "source": [
    "# EDA"
   ]
  },
  {
   "cell_type": "markdown",
   "id": "027c5399",
   "metadata": {},
   "source": [
    "# UNIVARIATE ANALYSIS"
   ]
  },
  {
   "cell_type": "code",
   "execution_count": 1288,
   "id": "4fdc22a7",
   "metadata": {},
   "outputs": [
    {
     "data": {
      "text/plain": [
       "<AxesSubplot:xlabel='other_fuel1', ylabel='count'>"
      ]
     },
     "execution_count": 1288,
     "metadata": {},
     "output_type": "execute_result"
    },
    {
     "data": {
      "image/png": "[encoded data removed]",
      "text/plain": [
       "<Figure size 432x288 with 1 Axes>"
      ]
     },
     "metadata": {
      "needs_background": "light"
     },
     "output_type": "display_data"
    }
   ],
   "source": [
    "#plotting Count plot graghs for categorical columns\n",
    "sn.countplot(global_power['other_fuel1'])"
   ]
  },
  {
   "cell_type": "markdown",
   "id": "e98acf77",
   "metadata": {},
   "source": [
    "observation:\n",
    "    \n",
    "there are 3 types of values in other_fuel1.\n",
    "\n",
    "oil is in majority. others have minor or very less count."
   ]
  },
  {
   "cell_type": "code",
   "execution_count": 1289,
   "id": "733de8d1",
   "metadata": {
    "scrolled": true
   },
   "outputs": [
    {
     "data": {
      "text/plain": [
       "<AxesSubplot:xlabel='primary_fuel', ylabel='count'>"
      ]
     },
     "execution_count": 1289,
     "metadata": {},
     "output_type": "execute_result"
    },
    {
     "data": {
      "image/png": "[encoded data removed]",
      "text/plain": [
       "<Figure size 432x288 with 1 Axes>"
      ]
     },
     "metadata": {
      "needs_background": "light"
     },
     "output_type": "display_data"
    }
   ],
   "source": [
    "#plotting Count plot graghs for categorical columns\n",
    "sn.countplot(global_power['primary_fuel'])"
   ]
  },
  {
   "cell_type": "markdown",
   "id": "9280dde1",
   "metadata": {},
   "source": [
    "observation:\n",
    "    \n",
    "1.there are total 8  unique values in primary fuel.\n",
    "\n",
    "2.coal followed by hydro fuel type is used mostly as primary fuel.\n",
    "\n",
    "3.nuclear is the least primary fuel."
   ]
  },
  {
   "cell_type": "code",
   "execution_count": 1290,
   "id": "d9dce5c0",
   "metadata": {},
   "outputs": [
    {
     "data": {
      "text/plain": [
       "<AxesSubplot:xlabel='geolocation_source', ylabel='count'>"
      ]
     },
     "execution_count": 1290,
     "metadata": {},
     "output_type": "execute_result"
    },
    {
     "data": {
      "image/png": "[encoded data removed]",
      "text/plain": [
       "<Figure size 432x288 with 1 Axes>"
      ]
     },
     "metadata": {
      "needs_background": "light"
     },
     "output_type": "display_data"
    }
   ],
   "source": [
    "#plotting Count plot graghs for categorical columns\n",
    "sn.countplot(global_power['geolocation_source'])"
   ]
  },
  {
   "cell_type": "markdown",
   "id": "305ac3da",
   "metadata": {},
   "source": [
    "observation:\n",
    "    \n",
    "1.here in geoloacation source, there are 3 unique values.\n",
    "\n",
    "2.most of the geolocation source is concentrated at WRI."
   ]
  },
  {
   "cell_type": "code",
   "execution_count": 1291,
   "id": "dc9ae1ae",
   "metadata": {},
   "outputs": [
    {
     "data": {
      "text/plain": [
       "<AxesSubplot:xlabel='capacity_mw', ylabel='Density'>"
      ]
     },
     "execution_count": 1291,
     "metadata": {},
     "output_type": "execute_result"
    },
    {
     "data": {
      "image/png": "[encoded data removed]",
      "text/plain": [
       "<Figure size 432x288 with 1 Axes>"
      ]
     },
     "metadata": {
      "needs_background": "light"
     },
     "output_type": "display_data"
    }
   ],
   "source": [
    "#plotting distribution plot graghs for integer type columns\n",
    "sn.distplot(global_power['capacity_mw'])"
   ]
  },
  {
   "cell_type": "markdown",
   "id": "dc3a191a",
   "metadata": {},
   "source": [
    "Observation:\n",
    "    \n",
    "1.capacity_mw has larger spread spreading from 1000 to 5000. \n",
    "\n",
    "2.this indicates presence of outliers\n",
    "\n",
    "3.capacity_mw is positively(right) skewed"
   ]
  },
  {
   "cell_type": "code",
   "execution_count": 1292,
   "id": "81ad8622",
   "metadata": {},
   "outputs": [
    {
     "data": {
      "text/plain": [
       "<AxesSubplot:xlabel='latitude', ylabel='Density'>"
      ]
     },
     "execution_count": 1292,
     "metadata": {},
     "output_type": "execute_result"
    },
    {
     "data": {
      "image/png": "[encoded data removed]",
      "text/plain": [
       "<Figure size 432x288 with 1 Axes>"
      ]
     },
     "metadata": {
      "needs_background": "light"
     },
     "output_type": "display_data"
    }
   ],
   "source": [
    "#plotting distribution plot graghs for integer type columns\n",
    "sn.distplot(global_power['latitude'])"
   ]
  },
  {
   "cell_type": "markdown",
   "id": "8d2d36d5",
   "metadata": {},
   "source": [
    "observations:\n",
    "    \n",
    "1.latitude is normally distributed.\n",
    "\n",
    "2.this indicates that there is no presence of outliers"
   ]
  },
  {
   "cell_type": "code",
   "execution_count": 1293,
   "id": "a56bc04d",
   "metadata": {},
   "outputs": [
    {
     "data": {
      "text/plain": [
       "<AxesSubplot:xlabel='longitude', ylabel='Density'>"
      ]
     },
     "execution_count": 1293,
     "metadata": {},
     "output_type": "execute_result"
    },
    {
     "data": {
      "image/png": "[encoded data removed]",
      "text/plain": [
       "<Figure size 432x288 with 1 Axes>"
      ]
     },
     "metadata": {
      "needs_background": "light"
     },
     "output_type": "display_data"
    }
   ],
   "source": [
    "#plotting distribution plot graghs for integer type columns\n",
    "sn.distplot(global_power['longitude'])"
   ]
  },
  {
   "cell_type": "markdown",
   "id": "3bd93373",
   "metadata": {},
   "source": [
    "observations:\n",
    "    \n",
    "1.longitude column is positively skewed i'e right skewed.\n",
    "\n",
    "2.outliers are present from 85 to 100"
   ]
  },
  {
   "cell_type": "code",
   "execution_count": 1294,
   "id": "a7a824b9",
   "metadata": {},
   "outputs": [
    {
     "data": {
      "text/plain": [
       "<AxesSubplot:xlabel='commissioning_year', ylabel='Density'>"
      ]
     },
     "execution_count": 1294,
     "metadata": {},
     "output_type": "execute_result"
    },
    {
     "data": {
      "image/png": "[encoded data removed]",
      "text/plain": [
       "<Figure size 432x288 with 1 Axes>"
      ]
     },
     "metadata": {
      "needs_background": "light"
     },
     "output_type": "display_data"
    }
   ],
   "source": [
    "#plotting distribution plot graghs for integer type columns\n",
    "sn.distplot(global_power['commissioning_year'])"
   ]
  },
  {
   "cell_type": "markdown",
   "id": "7a736da9",
   "metadata": {},
   "source": [
    "observations:\n",
    "\n",
    "1.commissioning year is negatively i'e left sided skewed.\n",
    "\n",
    "2.thus it  is not normally distributed.\n",
    "\n",
    "3.it is indicating presence of outliersfrom 1980 to 1920."
   ]
  },
  {
   "cell_type": "code",
   "execution_count": 1295,
   "id": "7b11238a",
   "metadata": {},
   "outputs": [
    {
     "data": {
      "text/plain": [
       "<AxesSubplot:xlabel='generation_gwh_2013', ylabel='Density'>"
      ]
     },
     "execution_count": 1295,
     "metadata": {},
     "output_type": "execute_result"
    },
    {
     "data": {
      "image/png": "[encoded data removed]",
      "text/plain": [
       "<Figure size 432x288 with 1 Axes>"
      ]
     },
     "metadata": {
      "needs_background": "light"
     },
     "output_type": "display_data"
    }
   ],
   "source": [
    "#plotting distribution plot graghs for integer type columns\n",
    "sn.distplot(global_power['generation_gwh_2013'])"
   ]
  },
  {
   "cell_type": "markdown",
   "id": "7c85d3b8",
   "metadata": {},
   "source": [
    "observations:\n",
    "\n",
    "1.generation gwh 2013 is positively skewed and outliers are present from 5000 to 30000.\n",
    "\n",
    "2.thus it is not normally distributed."
   ]
  },
  {
   "cell_type": "code",
   "execution_count": 1296,
   "id": "c41fef0f",
   "metadata": {},
   "outputs": [
    {
     "data": {
      "text/plain": [
       "<AxesSubplot:xlabel='generation_gwh_2014', ylabel='Density'>"
      ]
     },
     "execution_count": 1296,
     "metadata": {},
     "output_type": "execute_result"
    },
    {
     "data": {
      "image/png": "[encoded data removed]",
      "text/plain": [
       "<Figure size 432x288 with 1 Axes>"
      ]
     },
     "metadata": {
      "needs_background": "light"
     },
     "output_type": "display_data"
    }
   ],
   "source": [
    "#plotting distribution plot graghs for integer type columns\n",
    "sn.distplot(global_power['generation_gwh_2014'])"
   ]
  },
  {
   "cell_type": "markdown",
   "id": "07e8e678",
   "metadata": {},
   "source": [
    "observations:\n",
    "\n",
    "1.generation gwh 2014 is positively skewed and outliers are present from 5000 to 30000.\n",
    "\n",
    "2.thus it is not normally distributed."
   ]
  },
  {
   "cell_type": "code",
   "execution_count": 1297,
   "id": "79151816",
   "metadata": {},
   "outputs": [
    {
     "data": {
      "text/plain": [
       "<AxesSubplot:xlabel='generation_gwh_2015', ylabel='Density'>"
      ]
     },
     "execution_count": 1297,
     "metadata": {},
     "output_type": "execute_result"
    },
    {
     "data": {
      "image/png": "[encoded data removed]",
      "text/plain": [
       "<Figure size 432x288 with 1 Axes>"
      ]
     },
     "metadata": {
      "needs_background": "light"
     },
     "output_type": "display_data"
    }
   ],
   "source": [
    "#plotting distribution plot graghs for integer type columns\n",
    "sn.distplot(global_power['generation_gwh_2015'])"
   ]
  },
  {
   "cell_type": "markdown",
   "id": "049af7b7",
   "metadata": {},
   "source": [
    "observations:\n",
    "\n",
    "1.generation gwh 2015 is positively skewed and outliers are present from 5000 to 30000.\n",
    "\n",
    "2.thus it is not normally distributed."
   ]
  },
  {
   "cell_type": "code",
   "execution_count": 1298,
   "id": "ea11d893",
   "metadata": {},
   "outputs": [
    {
     "data": {
      "text/plain": [
       "<AxesSubplot:xlabel='generation_gwh_2016', ylabel='Density'>"
      ]
     },
     "execution_count": 1298,
     "metadata": {},
     "output_type": "execute_result"
    },
    {
     "data": {
      "image/png": "[encoded data removed]",
      "text/plain": [
       "<Figure size 432x288 with 1 Axes>"
      ]
     },
     "metadata": {
      "needs_background": "light"
     },
     "output_type": "display_data"
    }
   ],
   "source": [
    "#plotting distribution plot graghs for integer type columns\n",
    "sn.distplot(global_power['generation_gwh_2016'])"
   ]
  },
  {
   "cell_type": "markdown",
   "id": "69a9e24b",
   "metadata": {},
   "source": [
    "observations:\n",
    "\n",
    "1.generation gwh 2016 is positively skewed and outliers are present from 5000 to 30000.\n",
    "\n",
    "2.thus it is not normally distributed."
   ]
  },
  {
   "cell_type": "code",
   "execution_count": 1299,
   "id": "b4a7b6d2",
   "metadata": {},
   "outputs": [
    {
     "data": {
      "text/plain": [
       "<AxesSubplot:xlabel='generation_gwh_2017', ylabel='Density'>"
      ]
     },
     "execution_count": 1299,
     "metadata": {},
     "output_type": "execute_result"
    },
    {
     "data": {
      "image/png": "[encoded data removed]",
      "text/plain": [
       "<Figure size 432x288 with 1 Axes>"
      ]
     },
     "metadata": {
      "needs_background": "light"
     },
     "output_type": "display_data"
    }
   ],
   "source": [
    "#plotting distribution plot graghs for integer type columns\n",
    "sn.distplot(global_power['generation_gwh_2017'])"
   ]
  },
  {
   "cell_type": "markdown",
   "id": "536dbf40",
   "metadata": {},
   "source": [
    "observations:\n",
    "\n",
    "1.generation gwh 2017 is positively skewed and outliers are present from 5000 to 30000.\n",
    "\n",
    "2.thus it is not normally distributed."
   ]
  },
  {
   "cell_type": "code",
   "execution_count": 1300,
   "id": "b22cc69c",
   "metadata": {},
   "outputs": [
    {
     "data": {
      "text/plain": [
       "capacity_mw                 AxesSubplot(0.125,0.749828;0.227941x0.130172)\n",
       "latitude                 AxesSubplot(0.398529,0.749828;0.227941x0.130172)\n",
       "longitude                AxesSubplot(0.672059,0.749828;0.227941x0.130172)\n",
       "commissioning_year          AxesSubplot(0.125,0.593621;0.227941x0.130172)\n",
       "year_of_capacity_data    AxesSubplot(0.398529,0.593621;0.227941x0.130172)\n",
       "generation_gwh_2013      AxesSubplot(0.672059,0.593621;0.227941x0.130172)\n",
       "generation_gwh_2014         AxesSubplot(0.125,0.437414;0.227941x0.130172)\n",
       "generation_gwh_2015      AxesSubplot(0.398529,0.437414;0.227941x0.130172)\n",
       "generation_gwh_2016      AxesSubplot(0.672059,0.437414;0.227941x0.130172)\n",
       "generation_gwh_2017         AxesSubplot(0.125,0.281207;0.227941x0.130172)\n",
       "dtype: object"
      ]
     },
     "execution_count": 1300,
     "metadata": {},
     "output_type": "execute_result"
    },
    {
     "data": {
      "image/png": "[encoded data removed]",
      "text/plain": [
       "<Figure size 1440x1440 with 15 Axes>"
      ]
     },
     "metadata": {
      "needs_background": "light"
     },
     "output_type": "display_data"
    }
   ],
   "source": [
    "##plotting box plot graghs for all numerical type columns\n",
    "global_power.plot(kind='box',subplots = True, layout = (5,3), figsize=(20,20))"
   ]
  },
  {
   "cell_type": "markdown",
   "id": "1e4df6e5",
   "metadata": {},
   "source": [
    "OBSERVATIONS:\n",
    "    \n",
    "1. above shows the where the outliers are present in each of integer and float type columns in the dataset. \n",
    "\n",
    "2.we see that no box plot is formed for year of cpacity data which indicates it has only one unique value.\n",
    "\n",
    "3. outliers are present in all the integer and float type columns except latitude."
   ]
  },
  {
   "cell_type": "markdown",
   "id": "87fd50e4",
   "metadata": {},
   "source": [
    "# BIVARIATE ANALYSIS"
   ]
  },
  {
   "cell_type": "code",
   "execution_count": 1301,
   "id": "977361a5",
   "metadata": {},
   "outputs": [
    {
     "data": {
      "application/vnd.plotly.v1+json": {
       "config": {
        "plotlyServerURL": "https://plot.ly"
       },
       "data": [
        {
         "domain": {
          "x": [
           0,
           1
          ],
          "y": [
           0,
           1
          ]
         },
         "hovertemplate": "primary_fuel=%{label}<br>generation_gwh_2017=%{value}<extra></extra>",
         "labels": [
          "Solar",
          "Coal",
          "Wind",
          "Gas",
          "Coal",
          "Coal",
          "Hydro",
          "Hydro",
          "Hydro",
          "Coal",
          "Coal",
          "Hydro",
          "Coal",
          "Hydro",
          "Hydro",
          "Coal",
          "Gas",
          "Coal",
          "Coal",
          "Biomass",
          "Biomass",
          "Biomass",
          "Gas",
          "Coal",
          "Coal",
          "Solar",
          "Solar",
          "Wind",
          "Solar",
          "Wind",
          "Wind",
          "Wind",
          "Solar",
          "Solar",
          "Solar",
          "Solar",
          "Solar",
          "Solar",
          "Solar",
          "Oil",
          "Coal",
          "Biomass",
          "Hydro",
          "Hydro",
          "Hydro",
          "Coal",
          "Coal",
          "Hydro",
          "Coal",
          "Coal",
          "Coal",
          "Coal",
          "Hydro",
          "Hydro",
          "Hydro",
          "Hydro",
          "Hydro",
          "Coal",
          "Coal",
          "Gas",
          "Coal",
          "Hydro",
          "Coal",
          "Coal",
          "Coal",
          "Gas",
          "Hydro",
          "Hydro",
          "Wind",
          "Wind",
          "Coal",
          "Biomass",
          "Biomass",
          "Oil",
          "Coal",
          "Coal",
          "Coal",
          "Hydro",
          "Coal",
          "Hydro",
          "Coal",
          "Biomass",
          "Hydro",
          "Hydro",
          "Hydro",
          "Coal",
          "Hydro",
          "Hydro",
          "Hydro",
          "Coal",
          "Coal",
          "Hydro",
          "Hydro",
          "Hydro",
          "Coal",
          "Biomass",
          "Coal",
          "Coal",
          "Coal",
          "Coal",
          "Hydro",
          "Hydro",
          "Coal",
          "Coal",
          "Coal",
          "Wind",
          "Oil",
          "Gas",
          "Coal",
          "Hydro",
          "Oil",
          "Coal",
          "Solar",
          "Solar",
          "Wind",
          "Solar",
          "Solar",
          "Solar",
          "Solar",
          "Solar",
          "Solar",
          "Solar",
          "Solar",
          "Wind",
          "Wind",
          "Wind",
          "Wind",
          "Wind",
          "Solar",
          "Wind",
          "Solar",
          "Solar",
          "Solar",
          "Solar",
          "Coal",
          "Hydro",
          "Hydro",
          "Hydro",
          "Coal",
          "Coal",
          "Coal",
          "Coal",
          "Coal",
          "Coal",
          "Coal",
          "Hydro",
          "Hydro",
          "Hydro",
          "Coal",
          "Hydro",
          "Hydro",
          "Hydro",
          "Hydro",
          "Biomass",
          "Solar",
          "Solar",
          "Wind",
          "Solar",
          "Coal",
          "Coal",
          "Gas",
          "Nuclear",
          "Coal",
          "Coal",
          "Coal",
          "Biomass",
          "Biomass",
          "Hydro",
          "Coal",
          "Gas",
          "Hydro",
          "Hydro",
          "Coal",
          "Coal",
          "Hydro",
          "Gas",
          "Gas",
          "Oil",
          "Hydro",
          "Hydro",
          "Gas",
          "Biomass",
          "Oil",
          "Hydro",
          "Hydro",
          "Hydro",
          "Biomass",
          "Hydro",
          "Coal",
          "Coal",
          "Coal",
          "Solar",
          "Gas",
          "Wind",
          "Solar",
          "Wind",
          "Solar",
          "Solar",
          "Solar",
          "Solar",
          "Solar",
          "Solar",
          "Hydro",
          "Hydro",
          "Wind",
          "Gas",
          "Wind",
          "Wind",
          "Wind",
          "Wind",
          "Coal",
          "Gas",
          "Wind",
          "Gas",
          "Wind",
          "Gas",
          "Hydro",
          "Gas",
          "Gas",
          "Hydro",
          "Coal",
          "Hydro",
          "Hydro",
          "Gas",
          "Coal",
          "Wind",
          "Hydro",
          "Hydro",
          "Hydro",
          "Coal",
          "Coal",
          "Hydro",
          "Wind",
          "Coal",
          "Coal",
          "Gas",
          "Coal",
          "Coal",
          "Gas",
          "Coal",
          "Hydro",
          "Wind",
          "Solar",
          "Solar",
          "Solar",
          "Solar",
          "Solar",
          "Solar",
          "Solar",
          "Wind",
          "Solar",
          "Solar",
          "Solar",
          "Solar",
          "Coal",
          "Hydro",
          "Biomass",
          "Hydro",
          "Biomass",
          "Gas",
          "Gas",
          "Biomass",
          "Hydro",
          "Biomass",
          "Wind",
          "Wind",
          "Wind",
          "Wind",
          "Wind",
          "Coal",
          "Wind",
          "Solar",
          "Coal",
          "Gas",
          "Hydro",
          "Hydro",
          "Coal",
          "Wind",
          "Coal",
          "Coal",
          "Hydro",
          "Coal",
          "Coal",
          "Wind",
          "Solar",
          "Solar",
          "Hydro",
          "Biomass",
          "Hydro",
          "Coal",
          "Coal",
          "Coal",
          "Coal",
          "Coal",
          "Gas",
          "Hydro",
          "Coal",
          "Hydro",
          "Coal",
          "Solar",
          "Solar",
          "Wind",
          "Wind",
          "Wind",
          "Wind",
          "Wind",
          "Hydro",
          "Hydro",
          "Hydro",
          "Coal",
          "Nuclear",
          "Coal",
          "Hydro",
          "Nuclear",
          "Hydro",
          "Hydro",
          "Coal",
          "Hydro",
          "Coal",
          "Coal",
          "Coal",
          "Hydro",
          "Biomass",
          "Gas",
          "Hydro",
          "Hydro",
          "Hydro",
          "Gas",
          "Coal",
          "Oil",
          "Hydro",
          "Gas",
          "Coal",
          "Coal",
          "Gas",
          "Coal",
          "Gas",
          "Gas",
          "Biomass",
          "Hydro",
          "Coal",
          "Hydro",
          "Hydro",
          "Hydro",
          "Hydro",
          "Hydro",
          "Coal",
          "Hydro",
          "Biomass",
          "Hydro",
          "Hydro",
          "Coal",
          "Oil",
          "Coal",
          "Hydro",
          "Biomass",
          "Biomass",
          "Biomass",
          "Biomass",
          "Gas",
          "Gas",
          "Hydro",
          "Biomass",
          "Coal",
          "Coal",
          "Coal",
          "Coal",
          "Coal",
          "Hydro",
          "Coal",
          "Coal",
          "Hydro",
          "Hydro",
          "Gas",
          "Hydro",
          "Wind",
          "Coal",
          "Hydro",
          "Hydro",
          "Nuclear",
          "Biomass",
          "Coal",
          "Coal",
          "Hydro",
          "Gas",
          "Hydro",
          "Hydro",
          "Solar",
          "Coal",
          "Hydro",
          "Coal",
          "Coal",
          "Coal",
          "Wind",
          "Solar",
          "Solar",
          "Wind",
          "Solar",
          "Solar",
          "Solar",
          "Solar",
          "Solar",
          "Solar",
          "Solar",
          "Solar",
          "Solar",
          "Solar",
          "Solar",
          "Solar",
          "Wind",
          "Wind",
          "Solar",
          "Wind",
          "Wind",
          "Wind",
          "Nuclear",
          "Coal",
          "Gas",
          "Coal",
          "Coal",
          "Hydro",
          "Oil",
          "Hydro",
          "Hydro",
          "Wind",
          "Wind",
          "Oil",
          "Biomass",
          "Hydro",
          "Hydro",
          "Hydro",
          "Hydro",
          "Hydro",
          "Hydro",
          "Hydro",
          "Wind",
          "Oil",
          "Solar",
          "Solar",
          "Solar",
          "Wind",
          "Wind",
          "Solar",
          "Wind",
          "Nuclear",
          "Hydro",
          "Hydro",
          "Hydro",
          "Coal",
          "Coal",
          "Coal",
          "Biomass",
          "Hydro",
          "Oil",
          "Coal",
          "Hydro",
          "Coal",
          "Hydro",
          "Hydro",
          "Hydro",
          "Gas",
          "Gas",
          "Coal",
          "Hydro",
          "Hydro",
          "Coal",
          "Hydro",
          "Coal",
          "Coal",
          "Coal",
          "Hydro",
          "Coal",
          "Coal",
          "Coal",
          "Coal",
          "Coal",
          "Hydro",
          "Coal",
          "Coal",
          "Hydro",
          "Hydro",
          "Gas",
          "Coal",
          "Coal",
          "Hydro",
          "Hydro",
          "Wind",
          "Wind",
          "Coal",
          "Hydro",
          "Coal",
          "Gas",
          "Oil",
          "Gas",
          "Coal",
          "Coal",
          "Hydro",
          "Biomass",
          "Coal",
          "Coal",
          "Hydro",
          "Wind",
          "Solar",
          "Solar",
          "Solar",
          "Solar",
          "Solar",
          "Wind",
          "Wind",
          "Solar",
          "Solar",
          "Nuclear",
          "Coal",
          "Hydro",
          "Hydro",
          "Coal",
          "Oil",
          "Biomass",
          "Biomass",
          "Coal",
          "Gas",
          "Biomass",
          "Hydro",
          "Hydro",
          "Coal",
          "Coal",
          "Coal",
          "Hydro",
          "Coal",
          "Coal",
          "Hydro",
          "Coal",
          "Coal",
          "Coal",
          "Coal",
          "Coal",
          "Coal",
          "Coal",
          "Hydro",
          "Hydro",
          "Coal",
          "Coal",
          "Hydro",
          "Wind",
          "Coal",
          "Coal",
          "Wind",
          "Hydro",
          "Hydro",
          "Hydro",
          "Wind",
          "Wind",
          "Solar",
          "Wind",
          "Wind",
          "Solar",
          "Solar",
          "Solar",
          "Wind",
          "Hydro",
          "Coal",
          "Hydro",
          "Wind",
          "Wind",
          "Gas",
          "Gas",
          "Coal",
          "Hydro",
          "Gas",
          "Hydro",
          "Oil",
          "Hydro",
          "Coal",
          "Coal",
          "Hydro",
          "Hydro",
          "Coal",
          "Hydro",
          "Biomass",
          "Coal",
          "Coal",
          "Hydro",
          "Gas",
          "Coal",
          "Hydro",
          "Hydro",
          "Gas",
          "Hydro",
          "Hydro",
          "Hydro",
          "Gas",
          "Hydro",
          "Hydro",
          "Hydro",
          "Hydro",
          "Gas",
          "Gas",
          "Hydro",
          "Coal",
          "Hydro",
          "Coal",
          "Hydro",
          "Hydro",
          "Hydro",
          "Solar",
          "Wind",
          "Wind",
          "Wind",
          "Solar",
          "Solar",
          "Solar",
          "Solar",
          "Wind",
          "Wind",
          "Wind",
          "Wind",
          "Solar",
          "Solar",
          "Solar",
          "Nuclear",
          "Hydro",
          "Coal",
          "Hydro",
          "Coal",
          "Coal",
          "Coal",
          "Coal",
          "Coal",
          "Coal",
          "Coal",
          "Hydro",
          "Coal",
          "Coal",
          "Coal",
          "Biomass",
          "Hydro",
          "Gas",
          "Hydro",
          "Hydro",
          "Hydro",
          "Hydro",
          "Biomass",
          "Hydro",
          "Coal",
          "Coal",
          "Gas",
          "Coal",
          "Gas",
          "Hydro",
          "Coal",
          "Hydro",
          "Gas",
          "Hydro",
          "Gas",
          "Coal",
          "Coal",
          "Wind",
          "Coal",
          "Coal",
          "Solar",
          "Solar",
          "Solar",
          "Solar",
          "Solar",
          "Solar",
          "Solar",
          "Wind",
          "Solar",
          "Solar",
          "Solar",
          "Solar",
          "Wind",
          "Wind",
          "Solar",
          "Wind",
          "Wind",
          "Hydro",
          "Hydro",
          "Hydro",
          "Coal",
          "Biomass",
          "Hydro",
          "Hydro",
          "Coal",
          "Coal",
          "Oil",
          "Oil",
          "Biomass",
          "Biomass",
          "Biomass",
          "Biomass",
          "Hydro",
          "Coal",
          "Biomass",
          "Coal",
          "Hydro",
          "Coal",
          "Coal",
          "Coal",
          "Biomass",
          "Coal",
          "Coal",
          "Hydro",
          "Hydro",
          "Hydro",
          "Hydro",
          "Hydro",
          "Hydro",
          "Hydro",
          "Hydro",
          "Hydro",
          "Biomass",
          "Coal",
          "Hydro",
          "Hydro",
          "Hydro",
          "Coal",
          "Biomass",
          "Biomass",
          "Coal",
          "Wind",
          "Coal",
          "Coal",
          "Coal",
          "Coal",
          "Coal",
          "Hydro",
          "Coal",
          "Coal",
          "Hydro",
          "Coal",
          "Biomass",
          "Hydro",
          "Hydro",
          "Coal",
          "Hydro",
          "Hydro",
          "Hydro",
          "Hydro",
          "Coal",
          "Hydro",
          "Gas",
          "Hydro",
          "Coal",
          "Coal",
          "Hydro",
          "Hydro",
          "Coal",
          "Coal",
          "Wind",
          "Wind",
          "Wind",
          "Solar",
          "Solar",
          "Wind",
          "Solar",
          "Solar",
          "Solar",
          "Wind",
          "Solar",
          "Solar",
          "Solar",
          "Solar",
          "Solar",
          "Solar",
          "Wind",
          "Wind",
          "Wind",
          "Coal",
          "Solar",
          "Solar",
          "Wind",
          "Solar",
          "Wind",
          "Wind",
          "Wind",
          "Wind",
          "Wind",
          "Wind",
          "Wind",
          "Solar",
          "Wind",
          "Hydro",
          "Coal",
          "Coal",
          "Hydro",
          "Coal",
          "Coal",
          "Coal",
          "Coal",
          "Hydro",
          "Coal",
          "Gas",
          "Nuclear",
          "Hydro",
          "Hydro",
          "Hydro",
          "Hydro",
          "Hydro",
          "Hydro",
          "Hydro",
          "Hydro",
          "Coal",
          "Gas",
          "Coal",
          "Oil",
          "Hydro",
          "Hydro",
          "Hydro",
          "Coal",
          "Coal",
          "Coal",
          "Coal",
          "Coal",
          "Oil",
          "Gas",
          "Gas",
          "Coal",
          "Oil",
          "Hydro",
          "Biomass",
          "Coal",
          "Coal",
          "Coal",
          "Wind",
          "Wind",
          "Wind",
          "Wind",
          "Solar",
          "Wind",
          "Solar",
          "Wind",
          "Wind",
          "Solar",
          "Wind",
          "Wind",
          "Solar",
          "Wind",
          "Wind",
          "Wind",
          "Hydro",
          "Hydro",
          "Coal",
          "Coal",
          "Hydro",
          "Hydro",
          "Coal",
          "Hydro",
          "Hydro",
          "Hydro",
          "Coal",
          "Gas",
          "Wind",
          "Hydro",
          "Hydro",
          "Hydro",
          "Hydro",
          "Gas",
          "Gas",
          "Hydro",
          "Hydro",
          "Hydro",
          "Gas",
          "Coal",
          "Wind",
          "Hydro",
          "Hydro",
          "Gas",
          "Coal",
          "Gas",
          "Hydro",
          "Coal",
          "Coal",
          "Coal",
          "Gas",
          "Biomass",
          "Gas",
          "Coal",
          "Coal",
          "Gas",
          "Coal",
          "Coal",
          "Hydro",
          "Hydro",
          "Coal",
          "Wind",
          "Wind",
          "Wind",
          "Solar",
          "Coal",
          "Coal",
          "Coal",
          "Coal",
          "Hydro",
          "Hydro",
          "Solar",
          "Solar",
          "Wind",
          "Wind",
          "Wind",
          "Coal",
          "Biomass",
          "Oil",
          "Coal",
          "Solar",
          "Wind",
          "Coal",
          "Wind"
         ],
         "legendgroup": "",
         "name": "",
         "showlegend": true,
         "type": "pie",
         "values": [
          2531.7544577527983,
          2531.7544577527983,
          2531.7544577527983,
          663.7745,
          5385.579736432796,
          1147.913,
          89.6296,
          679.5949499999999,
          439.3721,
          1563.457,
          4350.558,
          644.5709499999999,
          7940.74,
          2531.7544577527983,
          2531.7544577527983,
          15334.8763,
          430,
          2531.7544577527983,
          5777.12,
          2531.7544577527983,
          2531.7544577527983,
          2531.7544577527983,
          357,
          540.29,
          2531.7544577527983,
          2531.7544577527983,
          2531.7544577527983,
          2531.7544577527983,
          2531.7544577527983,
          2531.7544577527983,
          2531.7544577527983,
          2531.7544577527983,
          2531.7544577527983,
          2531.7544577527983,
          2531.7544577527983,
          2531.7544577527983,
          2531.7544577527983,
          2531.7544577527983,
          2531.7544577527983,
          0,
          1395,
          2531.7544577527983,
          2494.17645,
          1812.84025,
          638.52135,
          6779.256,
          2120.68,
          1469.80405,
          2531.7544577527983,
          2531.7544577527983,
          2018.79,
          1713.201,
          2531.7544577527983,
          542.64315,
          55.8394,
          68.45599999999999,
          2531.7544577527983,
          2531.7544577527983,
          6153.76,
          178.10669,
          34.7098,
          158.25475,
          8778,
          171.355,
          1436.072,
          5.85771,
          1329.9667500000005,
          313.59415,
          2531.7544577527983,
          2531.7544577527983,
          2531.7544577527983,
          2531.7544577527983,
          2531.7544577527983,
          0,
          2531.7544577527983,
          2531.7544577527983,
          3738.4,
          15.61155,
          2531.7544577527983,
          5108.3499,
          2531.7544577527983,
          2531.7544577527983,
          42.33725,
          2531.7544577527983,
          2531.7544577527983,
          432.135,
          37.4319,
          0,
          16.8752,
          2531.7544577527983,
          3590.9,
          887.8385,
          96.66425,
          305.664,
          6159.621,
          2531.7544577527983,
          2531.7544577527983,
          2265.47,
          2531.7544577527983,
          546.795,
          2531.7544577527983,
          2531.7544577527983,
          2757.9618,
          493.5488,
          1545,
          2531.7544577527983,
          0.4257687955728225,
          60.718,
          5563.09,
          316.04185,
          2531.7544577527983,
          3032.6496,
          2531.7544577527983,
          2531.7544577527983,
          2531.7544577527983,
          2531.7544577527983,
          2531.7544577527983,
          2531.7544577527983,
          2531.7544577527983,
          2531.7544577527983,
          2531.7544577527983,
          2531.7544577527983,
          2531.7544577527983,
          2531.7544577527983,
          2531.7544577527983,
          2531.7544577527983,
          2531.7544577527983,
          2531.7544577527983,
          2531.7544577527983,
          2531.7544577527983,
          2531.7544577527983,
          2531.7544577527983,
          2531.7544577527983,
          2531.7544577527983,
          420.909,
          1479.6744499999998,
          2332.3596,
          1062.70975,
          2531.7544577527983,
          2531.7544577527983,
          2531.7544577527983,
          2531.7544577527983,
          2531.7544577527983,
          3672.61,
          13780.23,
          79.02289999999999,
          2531.7544577527983,
          82.655645,
          6870.637949347289,
          779.6521500000001,
          807.6016999999999,
          45.491400000000006,
          442.56605,
          2531.7544577527983,
          2531.7544577527983,
          2531.7544577527983,
          2531.7544577527983,
          2531.7544577527983,
          2258.3458,
          9271,
          1575,
          0,
          2531.7544577527983,
          4482.947,
          2531.7544577527983,
          2531.7544577527983,
          2531.7544577527983,
          3070.8088,
          3444.42,
          0,
          129.0316,
          185.77645,
          3189.8,
          2205.11,
          1147.3942000000002,
          210.2305,
          549.8693,
          2531.7544577527983,
          368.24950000000007,
          2531.7544577527983,
          2531.7544577527983,
          2531.7544577527983,
          2531.7544577527983,
          2531.7544577527983,
          273.01805,
          2531.7544577527983,
          2531.7544577527983,
          2332.1407,
          2531.7544577527983,
          832.308,
          6182.0409,
          2531.7544577527983,
          2531.7544577527983,
          2531.7544577527983,
          2531.7544577527983,
          2531.7544577527983,
          2531.7544577527983,
          2531.7544577527983,
          2531.7544577527983,
          2531.7544577527983,
          2531.7544577527983,
          2531.7544577527983,
          2531.7544577527983,
          2531.7544577527983,
          2531.7544577527983,
          0,
          2531.7544577527983,
          2531.7544577527983,
          2531.7544577527983,
          2531.7544577527983,
          12381,
          811,
          2531.7544577527983,
          693.296,
          2531.7544577527983,
          2531.7544577527983,
          2531.7544577527983,
          546.823,
          3031,
          2531.7544577527983,
          3358.733,
          349.6231,
          491.61955,
          0,
          0,
          2531.7544577527983,
          2531.7544577527983,
          48.12815,
          152.06585,
          2685.88,
          2531.7544577527983,
          169.09029999999998,
          2531.7544577527983,
          3438.21,
          263.847,
          553.615,
          1391.922,
          2531.7544577527983,
          0,
          2531.7544577527983,
          2531.7544577527983,
          2531.7544577527983,
          2531.7544577527983,
          2531.7544577527983,
          2531.7544577527983,
          2531.7544577527983,
          2531.7544577527983,
          2531.7544577527983,
          2531.7544577527983,
          2531.7544577527983,
          2531.7544577527983,
          2531.7544577527983,
          2531.7544577527983,
          2531.7544577527983,
          4175.29,
          36.0787,
          2531.7544577527983,
          177.17965,
          2531.7544577527983,
          1.878,
          185.639,
          2531.7544577527983,
          858.73475,
          2531.7544577527983,
          2531.7544577527983,
          2531.7544577527983,
          2531.7544577527983,
          2531.7544577527983,
          2531.7544577527983,
          3523.22,
          2531.7544577527983,
          2531.7544577527983,
          2527.017,
          562.509,
          254.9787,
          1603.0047,
          72.825,
          2531.7544577527983,
          0,
          25.2816,
          877.3512,
          7290.568,
          5288.2,
          2531.7544577527983,
          2531.7544577527983,
          2531.7544577527983,
          259.7945,
          2531.7544577527983,
          144.4541,
          6140.08,
          2531.7544577527983,
          2531.7544577527983,
          2531.7544577527983,
          2531.7544577527983,
          1030.99,
          190.5226,
          1475.8,
          403.97995,
          6109.93,
          2531.7544577527983,
          2531.7544577527983,
          2531.7544577527983,
          2531.7544577527983,
          2531.7544577527983,
          2531.7544577527983,
          2531.7544577527983,
          382.4382,
          307.3754,
          191.94545,
          15177,
          6825.73,
          7006.7913,
          159.0806,
          0,
          1529.5936,
          289.5251,
          6249.927,
          2531.7544577527983,
          2531.7544577527983,
          2531.7544577527983,
          5174.09,
          2531.7544577527983,
          2531.7544577527983,
          212.3774439145722,
          482.5551,
          4547.08035,
          2531.7544577527983,
          469.44,
          1712.912,
          2531.7544577527983,
          196.14435,
          1312.4,
          2531.7544577527983,
          0,
          1557.9901,
          4788,
          2340,
          0,
          2531.7544577527983,
          2531.7544577527983,
          163.611,
          259.46615,
          257.8443,
          211.537,
          353.97125,
          314.79810000000003,
          2531.7544577527983,
          1.6716,
          2531.7544577527983,
          170.0853,
          123.3601,
          5633.48,
          0.74653,
          4208.389,
          3297.0519,
          2531.7544577527983,
          2531.7544577527983,
          2531.7544577527983,
          2531.7544577527983,
          2531.7544577527983,
          644.4,
          1166.9658499999998,
          2531.7544577527983,
          2531.7544577527983,
          8670.845796000001,
          19229,
          5274.6625,
          8773.357529,
          2531.7544577527983,
          6415.029,
          2531.7544577527983,
          1214.22835,
          505.6789,
          266.158,
          2617.59625,
          2531.7544577527983,
          3249,
          123.35015,
          802.19885,
          7894.4,
          2531.7544577527983,
          173.234,
          1090.75,
          2531.7544577527983,
          309.549,
          427.9694,
          170.0853,
          2531.7544577527983,
          2531.7544577527983,
          131.5191,
          3459.695,
          6576.796,
          5630.601,
          2531.7544577527983,
          2531.7544577527983,
          2531.7544577527983,
          2531.7544577527983,
          2531.7544577527983,
          2531.7544577527983,
          2531.7544577527983,
          2531.7544577527983,
          2531.7544577527983,
          2531.7544577527983,
          2531.7544577527983,
          2531.7544577527983,
          2531.7544577527983,
          2531.7544577527983,
          2531.7544577527983,
          2531.7544577527983,
          2531.7544577527983,
          2531.7544577527983,
          2531.7544577527983,
          2531.7544577527983,
          2531.7544577527983,
          2531.7544577527983,
          2531.7544577527983,
          2531.7544577527983,
          614.442988,
          8072.02,
          0,
          609.2982,
          0,
          124.92225,
          2531.7544577527983,
          2531.7544577527983,
          2531.7544577527983,
          2531.7544577527983,
          2531.7544577527983,
          833.5513000000001,
          478.58505,
          204.8705,
          2531.7544577527983,
          131.29025,
          505.2013,
          1104.22115,
          2531.7544577527983,
          0,
          2531.7544577527983,
          2531.7544577527983,
          2531.7544577527983,
          2531.7544577527983,
          2531.7544577527983,
          2531.7544577527983,
          2531.7544577527983,
          2704.38,
          465.3615,
          2531.7544577527983,
          22.4074,
          2662.47,
          2716,
          6889.57,
          2531.7544577527983,
          179.26914999999997,
          2531.7544577527983,
          2531.7544577527983,
          113.83795,
          6997.9400000000005,
          711.6040999999999,
          2531.7544577527983,
          1663.0629,
          2531.7544577527983,
          0,
          2531.7544577527983,
          2531.7544577527983,
          2531.7544577527983,
          2531.7544577527983,
          2531.7544577527983,
          150.952,
          2531.7544577527983,
          5341.639,
          93.34095,
          0,
          6345.2487,
          5101.2656,
          3630,
          4666.672,
          214.4822,
          2273.06,
          0,
          2531.7544577527983,
          2531.7544577527983,
          645.293,
          2531.7544577527983,
          7276,
          2531.7544577527983,
          93.928,
          2531.7544577527983,
          2531.7544577527983,
          2531.7544577527983,
          1264.4062,
          2531.7544577527983,
          2531.7544577527983,
          2531.7544577527983,
          2531.7544577527983,
          20311,
          24599,
          51.1231,
          2531.7544577527983,
          2531.7544577527983,
          1610.5612,
          499.95765,
          2531.7544577527983,
          2531.7544577527983,
          2531.7544577527983,
          2531.7544577527983,
          2531.7544577527983,
          2531.7544577527983,
          2531.7544577527983,
          2531.7544577527983,
          2531.7544577527983,
          2531.7544577527983,
          3268.57,
          916.48,
          183.56755,
          41.91935,
          2531.7544577527983,
          2531.7544577527983,
          2531.7544577527983,
          2531.7544577527983,
          2531.7544577527983,
          306.396,
          2531.7544577527983,
          2531.7544577527983,
          309.047,
          2580.145,
          2531.7544577527983,
          0,
          7171.69135,
          2495.566,
          2531.7544577527983,
          158.72240000000002,
          2972.814,
          2939.888,
          9246.062,
          1687.044,
          920.129,
          7269.503,
          2531.7544577527983,
          98.33585,
          2531.7544577527983,
          2531.7544577527983,
          77.3344,
          2531.7544577527983,
          2531.7544577527983,
          3824.139,
          5447.4697,
          2531.7544577527983,
          2531.7544577527983,
          12.736,
          59.43135,
          2531.7544577527983,
          2531.7544577527983,
          2531.7544577527983,
          2531.7544577527983,
          2531.7544577527983,
          2531.7544577527983,
          2531.7544577527983,
          2531.7544577527983,
          2531.7544577527983,
          298.4602,
          3866.707,
          441.38200000000006,
          2531.7544577527983,
          2531.7544577527983,
          0,
          424.73,
          9271.61,
          2531.7544577527983,
          3870.43,
          187.44805,
          0,
          141.2303,
          2327.9,
          289.2838,
          128.82264999999998,
          114.7036,
          2810.625,
          706.97735,
          2531.7544577527983,
          5795.848,
          2737.058,
          26.97445,
          2531.7544577527983,
          3805.59,
          2531.7544577527983,
          2531.7544577527983,
          0,
          158.73235,
          2531.7544577527983,
          285.66450000000003,
          160.5282,
          35.51155,
          1632.36715,
          116.1563,
          2531.7544577527983,
          2844.5074,
          1908.437,
          216.313,
          5155.986,
          6.566999999999999,
          2531.7544577527983,
          1009.29815,
          0.9751,
          272.73945,
          2531.7544577527983,
          2531.7544577527983,
          2531.7544577527983,
          2531.7544577527983,
          2531.7544577527983,
          2531.7544577527983,
          2531.7544577527983,
          2531.7544577527983,
          2531.7544577527983,
          2531.7544577527983,
          2531.7544577527983,
          2531.7544577527983,
          2531.7544577527983,
          2531.7544577527983,
          2531.7544577527983,
          7720.62,
          376.3687000000001,
          2531.7544577527983,
          2531.7544577527983,
          2103.8239,
          9833.69,
          2531.7544577527983,
          3801.42,
          1242.19,
          2531.7544577527983,
          0,
          57.91895,
          4404.532,
          2531.7544577527983,
          8647.43,
          2531.7544577527983,
          249.3868,
          1391.01485,
          121.85765,
          2004.925,
          1409.6563,
          344.18045000000006,
          2531.7544577527983,
          1794.4029,
          2531.7544577527983,
          641.872,
          4418.715,
          6216.6381,
          2531.7544577527983,
          758.79695,
          22019,
          829.6111,
          0,
          2531.7544577527983,
          406.76,
          2068.276,
          7090.9,
          2531.7544577527983,
          421.72,
          17704,
          2531.7544577527983,
          2531.7544577527983,
          2531.7544577527983,
          2531.7544577527983,
          2531.7544577527983,
          2531.7544577527983,
          2531.7544577527983,
          2531.7544577527983,
          2531.7544577527983,
          2531.7544577527983,
          2531.7544577527983,
          2531.7544577527983,
          2531.7544577527983,
          2531.7544577527983,
          2531.7544577527983,
          2531.7544577527983,
          2531.7544577527983,
          560.0457,
          374.72695,
          963.6177,
          5717.741,
          2531.7544577527983,
          134.31505,
          3230.85455,
          2514,
          0,
          2531.7544577527983,
          2531.7544577527983,
          2531.7544577527983,
          2531.7544577527983,
          2531.7544577527983,
          2531.7544577527983,
          490.92305,
          6877.859,
          2531.7544577527983,
          2693.417,
          85.03269999999999,
          29909,
          2531.7544577527983,
          4524.357,
          2531.7544577527983,
          1552.43,
          8470.1,
          144.18545,
          2531.7544577527983,
          503.85805,
          2531.7544577527983,
          2531.7544577527983,
          505.9774,
          2708.7382500000003,
          279.48555,
          2531.7544577527983,
          2531.7544577527983,
          4.313400000000001,
          2531.7544577527983,
          203.66655,
          156.94134999999997,
          2531.7544577527983,
          2531.7544577527983,
          2531.7544577527983,
          2531.7544577527983,
          2531.7544577527983,
          2419.087,
          11062,
          22,
          9004.21,
          13616,
          2531.7544577527983,
          21771,
          198.288,
          175.92595,
          1064,
          2531.7544577527983,
          2531.7544577527983,
          2531.7544577527983,
          274.96,
          1375.6273,
          572.07525,
          824.9544999999999,
          2531.7544577527983,
          1172.06,
          189.4281,
          6396.12,
          2531.7544577527983,
          2851.191,
          4453.203,
          70.33655,
          2531.7544577527983,
          0,
          2531.7544577527983,
          2531.7544577527983,
          2531.7544577527983,
          2531.7544577527983,
          2531.7544577527983,
          2531.7544577527983,
          2531.7544577527983,
          2531.7544577527983,
          2531.7544577527983,
          2531.7544577527983,
          2531.7544577527983,
          2531.7544577527983,
          2531.7544577527983,
          2531.7544577527983,
          2531.7544577527983,
          2531.7544577527983,
          2531.7544577527983,
          2531.7544577527983,
          2531.7544577527983,
          2531.7544577527983,
          3527.085,
          2531.7544577527983,
          2531.7544577527983,
          2531.7544577527983,
          2531.7544577527983,
          2531.7544577527983,
          2531.7544577527983,
          2531.7544577527983,
          2531.7544577527983,
          2531.7544577527983,
          2531.7544577527983,
          2531.7544577527983,
          2531.7544577527983,
          2531.7544577527983,
          97.22145,
          2531.7544577527983,
          2531.7544577527983,
          2531.7544577527983,
          3384,
          21490,
          7915.7,
          6337.63,
          457.4413,
          2887,
          0,
          6173.62,
          72.70464999999999,
          2531.7544577527983,
          130.3649,
          2804.6861000000004,
          492.67425,
          384.93565,
          4407.18335,
          3065.5353000000005,
          1670.25,
          2531.7544577527983,
          518.72,
          2531.7544577527983,
          2531.7544577527983,
          57.52095,
          2531.7544577527983,
          16604,
          0,
          2152.69,
          1550.69,
          2406.44,
          0,
          1314,
          2531.7544577527983,
          4655,
          2531.7544577527983,
          77.97815,
          2531.7544577527983,
          4812.82,
          5026.362,
          0,
          2531.7544577527983,
          2531.7544577527983,
          2531.7544577527983,
          2531.7544577527983,
          2531.7544577527983,
          2531.7544577527983,
          2531.7544577527983,
          2531.7544577527983,
          2531.7544577527983,
          2531.7544577527983,
          2531.7544577527983,
          2531.7544577527983,
          2531.7544577527983,
          2531.7544577527983,
          2531.7544577527983,
          2531.7544577527983,
          407.04455,
          2531.7544577527983,
          1324.32728,
          5809,
          2531.7544577527983,
          2531.7544577527983,
          6225.693,
          302.01235,
          344.35955,
          2531.7544577527983,
          6337,
          0,
          2531.7544577527983,
          1736.84215,
          703.33565,
          479.8089,
          325.60380000000004,
          3119.863,
          2531.7544577527983,
          2337.9117,
          1201.4028,
          2531.7544577527983,
          242.181,
          174.145,
          2531.7544577527983,
          2531.7544577527983,
          203.5969,
          370.625,
          6605.259,
          1198.136,
          758.6278,
          2531.7544577527983,
          2531.7544577527983,
          2531.7544577527983,
          0,
          2531.7544577527983,
          2531.7544577527983,
          6992.78,
          2852.05,
          1156.305799,
          2531.7544577527983,
          35116,
          2531.7544577527983,
          2150.0955000000004,
          3300.57,
          2531.7544577527983,
          2531.7544577527983,
          2531.7544577527983,
          2531.7544577527983,
          2531.7544577527983,
          7018.217,
          999.17,
          2531.7544577527983,
          2531.7544577527983,
          175.86625,
          2531.7544577527983,
          2531.7544577527983,
          2531.7544577527983,
          2531.7544577527983,
          2531.7544577527983,
          3156.053669,
          2531.7544577527983,
          2531.7544577527983,
          865.4,
          2531.7544577527983,
          2531.7544577527983,
          2531.7544577527983,
          2531.7544577527983
         ]
        }
       ],
       "layout": {
        "legend": {
         "tracegroupgap": 0
        },
        "piecolorway": [
         "rgb(141,211,199)",
         "rgb(255,255,179)",
         "rgb(190,186,218)",
         "rgb(251,128,114)",
         "rgb(128,177,211)",
         "rgb(253,180,98)",
         "rgb(179,222,105)",
         "rgb(252,205,229)",
         "rgb(217,217,217)",
         "rgb(188,128,189)",
         "rgb(204,235,197)",
         "rgb(255,237,111)"
        ],
        "template": {
         "data": {
          "bar": [
           {
            "error_x": {
             "color": "#2a3f5f"
            },
            "error_y": {
             "color": "#2a3f5f"
            },
            "marker": {
             "line": {
              "color": "#E5ECF6",
              "width": 0.5
             },
             "pattern": {
              "fillmode": "overlay",
              "size": 10,
              "solidity": 0.2
             }
            },
            "type": "bar"
           }
          ],
          "barpolar": [
           {
            "marker": {
             "line": {
              "color": "#E5ECF6",
              "width": 0.5
             },
             "pattern": {
              "fillmode": "overlay",
              "size": 10,
              "solidity": 0.2
             }
            },
            "type": "barpolar"
           }
          ],
          "carpet": [
           {
            "aaxis": {
             "endlinecolor": "#2a3f5f",
             "gridcolor": "white",
             "linecolor": "white",
             "minorgridcolor": "white",
             "startlinecolor": "#2a3f5f"
            },
            "baxis": {
             "endlinecolor": "#2a3f5f",
             "gridcolor": "white",
             "linecolor": "white",
             "minorgridcolor": "white",
             "startlinecolor": "#2a3f5f"
            },
            "type": "carpet"
           }
          ],
          "choropleth": [
           {
            "colorbar": {
             "outlinewidth": 0,
             "ticks": ""
            },
            "type": "choropleth"
           }
          ],
          "contour": [
           {
            "colorbar": {
             "outlinewidth": 0,
             "ticks": ""
            },
            "colorscale": [
             [
              0,
              "#0d0887"
             ],
             [
              0.1111111111111111,
              "#46039f"
             ],
             [
              0.2222222222222222,
              "#7201a8"
             ],
             [
              0.3333333333333333,
              "#9c179e"
             ],
             [
              0.4444444444444444,
              "#bd3786"
             ],
             [
              0.5555555555555556,
              "#d8576b"
             ],
             [
              0.6666666666666666,
              "#ed7953"
             ],
             [
              0.7777777777777778,
              "#fb9f3a"
             ],
             [
              0.8888888888888888,
              "#fdca26"
             ],
             [
              1,
              "#f0f921"
             ]
            ],
            "type": "contour"
           }
          ],
          "contourcarpet": [
           {
            "colorbar": {
             "outlinewidth": 0,
             "ticks": ""
            },
            "type": "contourcarpet"
           }
          ],
          "heatmap": [
           {
            "colorbar": {
             "outlinewidth": 0,
             "ticks": ""
            },
            "colorscale": [
             [
              0,
              "#0d0887"
             ],
             [
              0.1111111111111111,
              "#46039f"
             ],
             [
              0.2222222222222222,
              "#7201a8"
             ],
             [
              0.3333333333333333,
              "#9c179e"
             ],
             [
              0.4444444444444444,
              "#bd3786"
             ],
             [
              0.5555555555555556,
              "#d8576b"
             ],
             [
              0.6666666666666666,
              "#ed7953"
             ],
             [
              0.7777777777777778,
              "#fb9f3a"
             ],
             [
              0.8888888888888888,
              "#fdca26"
             ],
             [
              1,
              "#f0f921"
             ]
            ],
            "type": "heatmap"
           }
          ],
          "heatmapgl": [
           {
            "colorbar": {
             "outlinewidth": 0,
             "ticks": ""
            },
            "colorscale": [
             [
              0,
              "#0d0887"
             ],
             [
              0.1111111111111111,
              "#46039f"
             ],
             [
              0.2222222222222222,
              "#7201a8"
             ],
             [
              0.3333333333333333,
              "#9c179e"
             ],
             [
              0.4444444444444444,
              "#bd3786"
             ],
             [
              0.5555555555555556,
              "#d8576b"
             ],
             [
              0.6666666666666666,
              "#ed7953"
             ],
             [
              0.7777777777777778,
              "#fb9f3a"
             ],
             [
              0.8888888888888888,
              "#fdca26"
             ],
             [
              1,
              "#f0f921"
             ]
            ],
            "type": "heatmapgl"
           }
          ],
          "histogram": [
           {
            "marker": {
             "pattern": {
              "fillmode": "overlay",
              "size": 10,
              "solidity": 0.2
             }
            },
            "type": "histogram"
           }
          ],
          "histogram2d": [
           {
            "colorbar": {
             "outlinewidth": 0,
             "ticks": ""
            },
            "colorscale": [
             [
              0,
              "#0d0887"
             ],
             [
              0.1111111111111111,
              "#46039f"
             ],
             [
              0.2222222222222222,
              "#7201a8"
             ],
             [
              0.3333333333333333,
              "#9c179e"
             ],
             [
              0.4444444444444444,
              "#bd3786"
             ],
             [
              0.5555555555555556,
              "#d8576b"
             ],
             [
              0.6666666666666666,
              "#ed7953"
             ],
             [
              0.7777777777777778,
              "#fb9f3a"
             ],
             [
              0.8888888888888888,
              "#fdca26"
             ],
             [
              1,
              "#f0f921"
             ]
            ],
            "type": "histogram2d"
           }
          ],
          "histogram2dcontour": [
           {
            "colorbar": {
             "outlinewidth": 0,
             "ticks": ""
            },
            "colorscale": [
             [
              0,
              "#0d0887"
             ],
             [
              0.1111111111111111,
              "#46039f"
             ],
             [
              0.2222222222222222,
              "#7201a8"
             ],
             [
              0.3333333333333333,
              "#9c179e"
             ],
             [
              0.4444444444444444,
              "#bd3786"
             ],
             [
              0.5555555555555556,
              "#d8576b"
             ],
             [
              0.6666666666666666,
              "#ed7953"
             ],
             [
              0.7777777777777778,
              "#fb9f3a"
             ],
             [
              0.8888888888888888,
              "#fdca26"
             ],
             [
              1,
              "#f0f921"
             ]
            ],
            "type": "histogram2dcontour"
           }
          ],
          "mesh3d": [
           {
            "colorbar": {
             "outlinewidth": 0,
             "ticks": ""
            },
            "type": "mesh3d"
           }
          ],
          "parcoords": [
           {
            "line": {
             "colorbar": {
              "outlinewidth": 0,
              "ticks": ""
             }
            },
            "type": "parcoords"
           }
          ],
          "pie": [
           {
            "automargin": true,
            "type": "pie"
           }
          ],
          "scatter": [
           {
            "marker": {
             "colorbar": {
              "outlinewidth": 0,
              "ticks": ""
             }
            },
            "type": "scatter"
           }
          ],
          "scatter3d": [
           {
            "line": {
             "colorbar": {
              "outlinewidth": 0,
              "ticks": ""
             }
            },
            "marker": {
             "colorbar": {
              "outlinewidth": 0,
              "ticks": ""
             }
            },
            "type": "scatter3d"
           }
          ],
          "scattercarpet": [
           {
            "marker": {
             "colorbar": {
              "outlinewidth": 0,
              "ticks": ""
             }
            },
            "type": "scattercarpet"
           }
          ],
          "scattergeo": [
           {
            "marker": {
             "colorbar": {
              "outlinewidth": 0,
              "ticks": ""
             }
            },
            "type": "scattergeo"
           }
          ],
          "scattergl": [
           {
            "marker": {
             "colorbar": {
              "outlinewidth": 0,
              "ticks": ""
             }
            },
            "type": "scattergl"
           }
          ],
          "scattermapbox": [
           {
            "marker": {
             "colorbar": {
              "outlinewidth": 0,
              "ticks": ""
             }
            },
            "type": "scattermapbox"
           }
          ],
          "scatterpolar": [
           {
            "marker": {
             "colorbar": {
              "outlinewidth": 0,
              "ticks": ""
             }
            },
            "type": "scatterpolar"
           }
          ],
          "scatterpolargl": [
           {
            "marker": {
             "colorbar": {
              "outlinewidth": 0,
              "ticks": ""
             }
            },
            "type": "scatterpolargl"
           }
          ],
          "scatterternary": [
           {
            "marker": {
             "colorbar": {
              "outlinewidth": 0,
              "ticks": ""
             }
            },
            "type": "scatterternary"
           }
          ],
          "surface": [
           {
            "colorbar": {
             "outlinewidth": 0,
             "ticks": ""
            },
            "colorscale": [
             [
              0,
              "#0d0887"
             ],
             [
              0.1111111111111111,
              "#46039f"
             ],
             [
              0.2222222222222222,
              "#7201a8"
             ],
             [
              0.3333333333333333,
              "#9c179e"
             ],
             [
              0.4444444444444444,
              "#bd3786"
             ],
             [
              0.5555555555555556,
              "#d8576b"
             ],
             [
              0.6666666666666666,
              "#ed7953"
             ],
             [
              0.7777777777777778,
              "#fb9f3a"
             ],
             [
              0.8888888888888888,
              "#fdca26"
             ],
             [
              1,
              "#f0f921"
             ]
            ],
            "type": "surface"
           }
          ],
          "table": [
           {
            "cells": {
             "fill": {
              "color": "#EBF0F8"
             },
             "line": {
              "color": "white"
             }
            },
            "header": {
             "fill": {
              "color": "#C8D4E3"
             },
             "line": {
              "color": "white"
             }
            },
            "type": "table"
           }
          ]
         },
         "layout": {
          "annotationdefaults": {
           "arrowcolor": "#2a3f5f",
           "arrowhead": 0,
           "arrowwidth": 1
          },
          "autotypenumbers": "strict",
          "coloraxis": {
           "colorbar": {
            "outlinewidth": 0,
            "ticks": ""
           }
          },
          "colorscale": {
           "diverging": [
            [
             0,
             "#8e0152"
            ],
            [
             0.1,
             "#c51b7d"
            ],
            [
             0.2,
             "#de77ae"
            ],
            [
             0.3,
             "#f1b6da"
            ],
            [
             0.4,
             "#fde0ef"
            ],
            [
             0.5,
             "#f7f7f7"
            ],
            [
             0.6,
             "#e6f5d0"
            ],
            [
             0.7,
             "#b8e186"
            ],
            [
             0.8,
             "#7fbc41"
            ],
            [
             0.9,
             "#4d9221"
            ],
            [
             1,
             "#276419"
            ]
           ],
           "sequential": [
            [
             0,
             "#0d0887"
            ],
            [
             0.1111111111111111,
             "#46039f"
            ],
            [
             0.2222222222222222,
             "#7201a8"
            ],
            [
             0.3333333333333333,
             "#9c179e"
            ],
            [
             0.4444444444444444,
             "#bd3786"
            ],
            [
             0.5555555555555556,
             "#d8576b"
            ],
            [
             0.6666666666666666,
             "#ed7953"
            ],
            [
             0.7777777777777778,
             "#fb9f3a"
            ],
            [
             0.8888888888888888,
             "#fdca26"
            ],
            [
             1,
             "#f0f921"
            ]
           ],
           "sequentialminus": [
            [
             0,
             "#0d0887"
            ],
            [
             0.1111111111111111,
             "#46039f"
            ],
            [
             0.2222222222222222,
             "#7201a8"
            ],
            [
             0.3333333333333333,
             "#9c179e"
            ],
            [
             0.4444444444444444,
             "#bd3786"
            ],
            [
             0.5555555555555556,
             "#d8576b"
            ],
            [
             0.6666666666666666,
             "#ed7953"
            ],
            [
             0.7777777777777778,
             "#fb9f3a"
            ],
            [
             0.8888888888888888,
             "#fdca26"
            ],
            [
             1,
             "#f0f921"
            ]
           ]
          },
          "colorway": [
           "#636efa",
           "#EF553B",
           "#00cc96",
           "#ab63fa",
           "#FFA15A",
           "#19d3f3",
           "#FF6692",
           "#B6E880",
           "#FF97FF",
           "#FECB52"
          ],
          "font": {
           "color": "#2a3f5f"
          },
          "geo": {
           "bgcolor": "white",
           "lakecolor": "white",
           "landcolor": "#E5ECF6",
           "showlakes": true,
           "showland": true,
           "subunitcolor": "white"
          },
          "hoverlabel": {
           "align": "left"
          },
          "hovermode": "closest",
          "mapbox": {
           "style": "light"
          },
          "paper_bgcolor": "white",
          "plot_bgcolor": "#E5ECF6",
          "polar": {
           "angularaxis": {
            "gridcolor": "white",
            "linecolor": "white",
            "ticks": ""
           },
           "bgcolor": "#E5ECF6",
           "radialaxis": {
            "gridcolor": "white",
            "linecolor": "white",
            "ticks": ""
           }
          },
          "scene": {
           "xaxis": {
            "backgroundcolor": "#E5ECF6",
            "gridcolor": "white",
            "gridwidth": 2,
            "linecolor": "white",
            "showbackground": true,
            "ticks": "",
            "zerolinecolor": "white"
           },
           "yaxis": {
            "backgroundcolor": "#E5ECF6",
            "gridcolor": "white",
            "gridwidth": 2,
            "linecolor": "white",
            "showbackground": true,
            "ticks": "",
            "zerolinecolor": "white"
           },
           "zaxis": {
            "backgroundcolor": "#E5ECF6",
            "gridcolor": "white",
            "gridwidth": 2,
            "linecolor": "white",
            "showbackground": true,
            "ticks": "",
            "zerolinecolor": "white"
           }
          },
          "shapedefaults": {
           "line": {
            "color": "#2a3f5f"
           }
          },
          "ternary": {
           "aaxis": {
            "gridcolor": "white",
            "linecolor": "white",
            "ticks": ""
           },
           "baxis": {
            "gridcolor": "white",
            "linecolor": "white",
            "ticks": ""
           },
           "bgcolor": "#E5ECF6",
           "caxis": {
            "gridcolor": "white",
            "linecolor": "white",
            "ticks": ""
           }
          },
          "title": {
           "x": 0.05
          },
          "xaxis": {
           "automargin": true,
           "gridcolor": "white",
           "linecolor": "white",
           "ticks": "",
           "title": {
            "standoff": 15
           },
           "zerolinecolor": "white",
           "zerolinewidth": 2
          },
          "yaxis": {
           "automargin": true,
           "gridcolor": "white",
           "linecolor": "white",
           "ticks": "",
           "title": {
            "standoff": 15
           },
           "zerolinecolor": "white",
           "zerolinewidth": 2
          }
         }
        },
        "title": {
         "text": "primary fuel% with respect to generation_gwh_2017"
        }
       }
      },
      "text/html": [
       "<div>                            <div id=\"4dc7010d-4da3-4b1a-b71a-522e7f0721bd\" class=\"plotly-graph-div\" style=\"height:525px; width:100%;\"></div>            <script type=\"text/javascript\">                require([\"plotly\"], function(Plotly) {                    window.PLOTLYENV=window.PLOTLYENV || {};                                    if (document.getElementById(\"4dc7010d-4da3-4b1a-b71a-522e7f0721bd\")) {                    Plotly.newPlot(                        \"4dc7010d-4da3-4b1a-b71a-522e7f0721bd\",                        [{\"domain\":{\"x\":[0.0,1.0],\"y\":[0.0,1.0]},\"hovertemplate\":\"primary_fuel=%{label}<br>generation_gwh_2017=%{value}<extra></extra>\",\"labels\":[\"Solar\",\"Coal\",\"Wind\",\"Gas\",\"Coal\",\"Coal\",\"Hydro\",\"Hydro\",\"Hydro\",\"Coal\",\"Coal\",\"Hydro\",\"Coal\",\"Hydro\",\"Hydro\",\"Coal\",\"Gas\",\"Coal\",\"Coal\",\"Biomass\",\"Biomass\",\"Biomass\",\"Gas\",\"Coal\",\"Coal\",\"Solar\",\"Solar\",\"Wind\",\"Solar\",\"Wind\",\"Wind\",\"Wind\",\"Solar\",\"Solar\",\"Solar\",\"Solar\",\"Solar\",\"Solar\",\"Solar\",\"Oil\",\"Coal\",\"Biomass\",\"Hydro\",\"Hydro\",\"Hydro\",\"Coal\",\"Coal\",\"Hydro\",\"Coal\",\"Coal\",\"Coal\",\"Coal\",\"Hydro\",\"Hydro\",\"Hydro\",\"Hydro\",\"Hydro\",\"Coal\",\"Coal\",\"Gas\",\"Coal\",\"Hydro\",\"Coal\",\"Coal\",\"Coal\",\"Gas\",\"Hydro\",\"Hydro\",\"Wind\",\"Wind\",\"Coal\",\"Biomass\",\"Biomass\",\"Oil\",\"Coal\",\"Coal\",\"Coal\",\"Hydro\",\"Coal\",\"Hydro\",\"Coal\",\"Biomass\",\"Hydro\",\"Hydro\",\"Hydro\",\"Coal\",\"Hydro\",\"Hydro\",\"Hydro\",\"Coal\",\"Coal\",\"Hydro\",\"Hydro\",\"Hydro\",\"Coal\",\"Biomass\",\"Coal\",\"Coal\",\"Coal\",\"Coal\",\"Hydro\",\"Hydro\",\"Coal\",\"Coal\",\"Coal\",\"Wind\",\"Oil\",\"Gas\",\"Coal\",\"Hydro\",\"Oil\",\"Coal\",\"Solar\",\"Solar\",\"Wind\",\"Solar\",\"Solar\",\"Solar\",\"Solar\",\"Solar\",\"Solar\",\"Solar\",\"Solar\",\"Wind\",\"Wind\",\"Wind\",\"Wind\",\"Wind\",\"Solar\",\"Wind\",\"Solar\",\"Solar\",\"Solar\",\"Solar\",\"Coal\",\"Hydro\",\"Hydro\",\"Hydro\",\"Coal\",\"Coal\",\"Coal\",\"Coal\",\"Coal\",\"Coal\",\"Coal\",\"Hydro\",\"Hydro\",\"Hydro\",\"Coal\",\"Hydro\",\"Hydro\",\"Hydro\",\"Hydro\",\"Biomass\",\"Solar\",\"Solar\",\"Wind\",\"Solar\",\"Coal\",\"Coal\",\"Gas\",\"Nuclear\",\"Coal\",\"Coal\",\"Coal\",\"Biomass\",\"Biomass\",\"Hydro\",\"Coal\",\"Gas\",\"Hydro\",\"Hydro\",\"Coal\",\"Coal\",\"Hydro\",\"Gas\",\"Gas\",\"Oil\",\"Hydro\",\"Hydro\",\"Gas\",\"Biomass\",\"Oil\",\"Hydro\",\"Hydro\",\"Hydro\",\"Biomass\",\"Hydro\",\"Coal\",\"Coal\",\"Coal\",\"Solar\",\"Gas\",\"Wind\",\"Solar\",\"Wind\",\"Solar\",\"Solar\",\"Solar\",\"Solar\",\"Solar\",\"Solar\",\"Hydro\",\"Hydro\",\"Wind\",\"Gas\",\"Wind\",\"Wind\",\"Wind\",\"Wind\",\"Coal\",\"Gas\",\"Wind\",\"Gas\",\"Wind\",\"Gas\",\"Hydro\",\"Gas\",\"Gas\",\"Hydro\",\"Coal\",\"Hydro\",\"Hydro\",\"Gas\",\"Coal\",\"Wind\",\"Hydro\",\"Hydro\",\"Hydro\",\"Coal\",\"Coal\",\"Hydro\",\"Wind\",\"Coal\",\"Coal\",\"Gas\",\"Coal\",\"Coal\",\"Gas\",\"Coal\",\"Hydro\",\"Wind\",\"Solar\",\"Solar\",\"Solar\",\"Solar\",\"Solar\",\"Solar\",\"Solar\",\"Wind\",\"Solar\",\"Solar\",\"Solar\",\"Solar\",\"Coal\",\"Hydro\",\"Biomass\",\"Hydro\",\"Biomass\",\"Gas\",\"Gas\",\"Biomass\",\"Hydro\",\"Biomass\",\"Wind\",\"Wind\",\"Wind\",\"Wind\",\"Wind\",\"Coal\",\"Wind\",\"Solar\",\"Coal\",\"Gas\",\"Hydro\",\"Hydro\",\"Coal\",\"Wind\",\"Coal\",\"Coal\",\"Hydro\",\"Coal\",\"Coal\",\"Wind\",\"Solar\",\"Solar\",\"Hydro\",\"Biomass\",\"Hydro\",\"Coal\",\"Coal\",\"Coal\",\"Coal\",\"Coal\",\"Gas\",\"Hydro\",\"Coal\",\"Hydro\",\"Coal\",\"Solar\",\"Solar\",\"Wind\",\"Wind\",\"Wind\",\"Wind\",\"Wind\",\"Hydro\",\"Hydro\",\"Hydro\",\"Coal\",\"Nuclear\",\"Coal\",\"Hydro\",\"Nuclear\",\"Hydro\",\"Hydro\",\"Coal\",\"Hydro\",\"Coal\",\"Coal\",\"Coal\",\"Hydro\",\"Biomass\",\"Gas\",\"Hydro\",\"Hydro\",\"Hydro\",\"Gas\",\"Coal\",\"Oil\",\"Hydro\",\"Gas\",\"Coal\",\"Coal\",\"Gas\",\"Coal\",\"Gas\",\"Gas\",\"Biomass\",\"Hydro\",\"Coal\",\"Hydro\",\"Hydro\",\"Hydro\",\"Hydro\",\"Hydro\",\"Coal\",\"Hydro\",\"Biomass\",\"Hydro\",\"Hydro\",\"Coal\",\"Oil\",\"Coal\",\"Hydro\",\"Biomass\",\"Biomass\",\"Biomass\",\"Biomass\",\"Gas\",\"Gas\",\"Hydro\",\"Biomass\",\"Coal\",\"Coal\",\"Coal\",\"Coal\",\"Coal\",\"Hydro\",\"Coal\",\"Coal\",\"Hydro\",\"Hydro\",\"Gas\",\"Hydro\",\"Wind\",\"Coal\",\"Hydro\",\"Hydro\",\"Nuclear\",\"Biomass\",\"Coal\",\"Coal\",\"Hydro\",\"Gas\",\"Hydro\",\"Hydro\",\"Solar\",\"Coal\",\"Hydro\",\"Coal\",\"Coal\",\"Coal\",\"Wind\",\"Solar\",\"Solar\",\"Wind\",\"Solar\",\"Solar\",\"Solar\",\"Solar\",\"Solar\",\"Solar\",\"Solar\",\"Solar\",\"Solar\",\"Solar\",\"Solar\",\"Solar\",\"Wind\",\"Wind\",\"Solar\",\"Wind\",\"Wind\",\"Wind\",\"Nuclear\",\"Coal\",\"Gas\",\"Coal\",\"Coal\",\"Hydro\",\"Oil\",\"Hydro\",\"Hydro\",\"Wind\",\"Wind\",\"Oil\",\"Biomass\",\"Hydro\",\"Hydro\",\"Hydro\",\"Hydro\",\"Hydro\",\"Hydro\",\"Hydro\",\"Wind\",\"Oil\",\"Solar\",\"Solar\",\"Solar\",\"Wind\",\"Wind\",\"Solar\",\"Wind\",\"Nuclear\",\"Hydro\",\"Hydro\",\"Hydro\",\"Coal\",\"Coal\",\"Coal\",\"Biomass\",\"Hydro\",\"Oil\",\"Coal\",\"Hydro\",\"Coal\",\"Hydro\",\"Hydro\",\"Hydro\",\"Gas\",\"Gas\",\"Coal\",\"Hydro\",\"Hydro\",\"Coal\",\"Hydro\",\"Coal\",\"Coal\",\"Coal\",\"Hydro\",\"Coal\",\"Coal\",\"Coal\",\"Coal\",\"Coal\",\"Hydro\",\"Coal\",\"Coal\",\"Hydro\",\"Hydro\",\"Gas\",\"Coal\",\"Coal\",\"Hydro\",\"Hydro\",\"Wind\",\"Wind\",\"Coal\",\"Hydro\",\"Coal\",\"Gas\",\"Oil\",\"Gas\",\"Coal\",\"Coal\",\"Hydro\",\"Biomass\",\"Coal\",\"Coal\",\"Hydro\",\"Wind\",\"Solar\",\"Solar\",\"Solar\",\"Solar\",\"Solar\",\"Wind\",\"Wind\",\"Solar\",\"Solar\",\"Nuclear\",\"Coal\",\"Hydro\",\"Hydro\",\"Coal\",\"Oil\",\"Biomass\",\"Biomass\",\"Coal\",\"Gas\",\"Biomass\",\"Hydro\",\"Hydro\",\"Coal\",\"Coal\",\"Coal\",\"Hydro\",\"Coal\",\"Coal\",\"Hydro\",\"Coal\",\"Coal\",\"Coal\",\"Coal\",\"Coal\",\"Coal\",\"Coal\",\"Hydro\",\"Hydro\",\"Coal\",\"Coal\",\"Hydro\",\"Wind\",\"Coal\",\"Coal\",\"Wind\",\"Hydro\",\"Hydro\",\"Hydro\",\"Wind\",\"Wind\",\"Solar\",\"Wind\",\"Wind\",\"Solar\",\"Solar\",\"Solar\",\"Wind\",\"Hydro\",\"Coal\",\"Hydro\",\"Wind\",\"Wind\",\"Gas\",\"Gas\",\"Coal\",\"Hydro\",\"Gas\",\"Hydro\",\"Oil\",\"Hydro\",\"Coal\",\"Coal\",\"Hydro\",\"Hydro\",\"Coal\",\"Hydro\",\"Biomass\",\"Coal\",\"Coal\",\"Hydro\",\"Gas\",\"Coal\",\"Hydro\",\"Hydro\",\"Gas\",\"Hydro\",\"Hydro\",\"Hydro\",\"Gas\",\"Hydro\",\"Hydro\",\"Hydro\",\"Hydro\",\"Gas\",\"Gas\",\"Hydro\",\"Coal\",\"Hydro\",\"Coal\",\"Hydro\",\"Hydro\",\"Hydro\",\"Solar\",\"Wind\",\"Wind\",\"Wind\",\"Solar\",\"Solar\",\"Solar\",\"Solar\",\"Wind\",\"Wind\",\"Wind\",\"Wind\",\"Solar\",\"Solar\",\"Solar\",\"Nuclear\",\"Hydro\",\"Coal\",\"Hydro\",\"Coal\",\"Coal\",\"Coal\",\"Coal\",\"Coal\",\"Coal\",\"Coal\",\"Hydro\",\"Coal\",\"Coal\",\"Coal\",\"Biomass\",\"Hydro\",\"Gas\",\"Hydro\",\"Hydro\",\"Hydro\",\"Hydro\",\"Biomass\",\"Hydro\",\"Coal\",\"Coal\",\"Gas\",\"Coal\",\"Gas\",\"Hydro\",\"Coal\",\"Hydro\",\"Gas\",\"Hydro\",\"Gas\",\"Coal\",\"Coal\",\"Wind\",\"Coal\",\"Coal\",\"Solar\",\"Solar\",\"Solar\",\"Solar\",\"Solar\",\"Solar\",\"Solar\",\"Wind\",\"Solar\",\"Solar\",\"Solar\",\"Solar\",\"Wind\",\"Wind\",\"Solar\",\"Wind\",\"Wind\",\"Hydro\",\"Hydro\",\"Hydro\",\"Coal\",\"Biomass\",\"Hydro\",\"Hydro\",\"Coal\",\"Coal\",\"Oil\",\"Oil\",\"Biomass\",\"Biomass\",\"Biomass\",\"Biomass\",\"Hydro\",\"Coal\",\"Biomass\",\"Coal\",\"Hydro\",\"Coal\",\"Coal\",\"Coal\",\"Biomass\",\"Coal\",\"Coal\",\"Hydro\",\"Hydro\",\"Hydro\",\"Hydro\",\"Hydro\",\"Hydro\",\"Hydro\",\"Hydro\",\"Hydro\",\"Biomass\",\"Coal\",\"Hydro\",\"Hydro\",\"Hydro\",\"Coal\",\"Biomass\",\"Biomass\",\"Coal\",\"Wind\",\"Coal\",\"Coal\",\"Coal\",\"Coal\",\"Coal\",\"Hydro\",\"Coal\",\"Coal\",\"Hydro\",\"Coal\",\"Biomass\",\"Hydro\",\"Hydro\",\"Coal\",\"Hydro\",\"Hydro\",\"Hydro\",\"Hydro\",\"Coal\",\"Hydro\",\"Gas\",\"Hydro\",\"Coal\",\"Coal\",\"Hydro\",\"Hydro\",\"Coal\",\"Coal\",\"Wind\",\"Wind\",\"Wind\",\"Solar\",\"Solar\",\"Wind\",\"Solar\",\"Solar\",\"Solar\",\"Wind\",\"Solar\",\"Solar\",\"Solar\",\"Solar\",\"Solar\",\"Solar\",\"Wind\",\"Wind\",\"Wind\",\"Coal\",\"Solar\",\"Solar\",\"Wind\",\"Solar\",\"Wind\",\"Wind\",\"Wind\",\"Wind\",\"Wind\",\"Wind\",\"Wind\",\"Solar\",\"Wind\",\"Hydro\",\"Coal\",\"Coal\",\"Hydro\",\"Coal\",\"Coal\",\"Coal\",\"Coal\",\"Hydro\",\"Coal\",\"Gas\",\"Nuclear\",\"Hydro\",\"Hydro\",\"Hydro\",\"Hydro\",\"Hydro\",\"Hydro\",\"Hydro\",\"Hydro\",\"Coal\",\"Gas\",\"Coal\",\"Oil\",\"Hydro\",\"Hydro\",\"Hydro\",\"Coal\",\"Coal\",\"Coal\",\"Coal\",\"Coal\",\"Oil\",\"Gas\",\"Gas\",\"Coal\",\"Oil\",\"Hydro\",\"Biomass\",\"Coal\",\"Coal\",\"Coal\",\"Wind\",\"Wind\",\"Wind\",\"Wind\",\"Solar\",\"Wind\",\"Solar\",\"Wind\",\"Wind\",\"Solar\",\"Wind\",\"Wind\",\"Solar\",\"Wind\",\"Wind\",\"Wind\",\"Hydro\",\"Hydro\",\"Coal\",\"Coal\",\"Hydro\",\"Hydro\",\"Coal\",\"Hydro\",\"Hydro\",\"Hydro\",\"Coal\",\"Gas\",\"Wind\",\"Hydro\",\"Hydro\",\"Hydro\",\"Hydro\",\"Gas\",\"Gas\",\"Hydro\",\"Hydro\",\"Hydro\",\"Gas\",\"Coal\",\"Wind\",\"Hydro\",\"Hydro\",\"Gas\",\"Coal\",\"Gas\",\"Hydro\",\"Coal\",\"Coal\",\"Coal\",\"Gas\",\"Biomass\",\"Gas\",\"Coal\",\"Coal\",\"Gas\",\"Coal\",\"Coal\",\"Hydro\",\"Hydro\",\"Coal\",\"Wind\",\"Wind\",\"Wind\",\"Solar\",\"Coal\",\"Coal\",\"Coal\",\"Coal\",\"Hydro\",\"Hydro\",\"Solar\",\"Solar\",\"Wind\",\"Wind\",\"Wind\",\"Coal\",\"Biomass\",\"Oil\",\"Coal\",\"Solar\",\"Wind\",\"Coal\",\"Wind\"],\"legendgroup\":\"\",\"name\":\"\",\"showlegend\":true,\"values\":[2531.7544577527983,2531.7544577527983,2531.7544577527983,663.7745,5385.579736432796,1147.913,89.6296,679.5949499999999,439.3721,1563.457,4350.558,644.5709499999999,7940.74,2531.7544577527983,2531.7544577527983,15334.8763,430.0,2531.7544577527983,5777.12,2531.7544577527983,2531.7544577527983,2531.7544577527983,357.0,540.29,2531.7544577527983,2531.7544577527983,2531.7544577527983,2531.7544577527983,2531.7544577527983,2531.7544577527983,2531.7544577527983,2531.7544577527983,2531.7544577527983,2531.7544577527983,2531.7544577527983,2531.7544577527983,2531.7544577527983,2531.7544577527983,2531.7544577527983,0.0,1395.0,2531.7544577527983,2494.17645,1812.84025,638.52135,6779.256,2120.68,1469.80405,2531.7544577527983,2531.7544577527983,2018.79,1713.201,2531.7544577527983,542.64315,55.8394,68.45599999999999,2531.7544577527983,2531.7544577527983,6153.76,178.10669,34.7098,158.25475,8778.0,171.355,1436.072,5.85771,1329.9667500000005,313.59415,2531.7544577527983,2531.7544577527983,2531.7544577527983,2531.7544577527983,2531.7544577527983,0.0,2531.7544577527983,2531.7544577527983,3738.4,15.61155,2531.7544577527983,5108.3499,2531.7544577527983,2531.7544577527983,42.33725,2531.7544577527983,2531.7544577527983,432.135,37.4319,0.0,16.8752,2531.7544577527983,3590.9,887.8385,96.66425,305.664,6159.621,2531.7544577527983,2531.7544577527983,2265.47,2531.7544577527983,546.795,2531.7544577527983,2531.7544577527983,2757.9618,493.5488,1545.0,2531.7544577527983,0.4257687955728225,60.718,5563.09,316.04185,2531.7544577527983,3032.6496,2531.7544577527983,2531.7544577527983,2531.7544577527983,2531.7544577527983,2531.7544577527983,2531.7544577527983,2531.7544577527983,2531.7544577527983,2531.7544577527983,2531.7544577527983,2531.7544577527983,2531.7544577527983,2531.7544577527983,2531.7544577527983,2531.7544577527983,2531.7544577527983,2531.7544577527983,2531.7544577527983,2531.7544577527983,2531.7544577527983,2531.7544577527983,2531.7544577527983,420.909,1479.6744499999998,2332.3596,1062.70975,2531.7544577527983,2531.7544577527983,2531.7544577527983,2531.7544577527983,2531.7544577527983,3672.61,13780.23,79.02289999999999,2531.7544577527983,82.655645,6870.637949347289,779.6521500000001,807.6016999999999,45.491400000000006,442.56605,2531.7544577527983,2531.7544577527983,2531.7544577527983,2531.7544577527983,2531.7544577527983,2258.3458,9271.0,1575.0,0.0,2531.7544577527983,4482.947,2531.7544577527983,2531.7544577527983,2531.7544577527983,3070.8088,3444.42,0.0,129.0316,185.77645,3189.8,2205.11,1147.3942000000002,210.2305,549.8693,2531.7544577527983,368.24950000000007,2531.7544577527983,2531.7544577527983,2531.7544577527983,2531.7544577527983,2531.7544577527983,273.01805,2531.7544577527983,2531.7544577527983,2332.1407,2531.7544577527983,832.308,6182.0409,2531.7544577527983,2531.7544577527983,2531.7544577527983,2531.7544577527983,2531.7544577527983,2531.7544577527983,2531.7544577527983,2531.7544577527983,2531.7544577527983,2531.7544577527983,2531.7544577527983,2531.7544577527983,2531.7544577527983,2531.7544577527983,0.0,2531.7544577527983,2531.7544577527983,2531.7544577527983,2531.7544577527983,12381.0,811.0,2531.7544577527983,693.296,2531.7544577527983,2531.7544577527983,2531.7544577527983,546.823,3031.0,2531.7544577527983,3358.733,349.6231,491.61955,0.0,0.0,2531.7544577527983,2531.7544577527983,48.12815,152.06585,2685.88,2531.7544577527983,169.09029999999998,2531.7544577527983,3438.21,263.847,553.615,1391.922,2531.7544577527983,0.0,2531.7544577527983,2531.7544577527983,2531.7544577527983,2531.7544577527983,2531.7544577527983,2531.7544577527983,2531.7544577527983,2531.7544577527983,2531.7544577527983,2531.7544577527983,2531.7544577527983,2531.7544577527983,2531.7544577527983,2531.7544577527983,2531.7544577527983,4175.29,36.0787,2531.7544577527983,177.17965,2531.7544577527983,1.878,185.639,2531.7544577527983,858.73475,2531.7544577527983,2531.7544577527983,2531.7544577527983,2531.7544577527983,2531.7544577527983,2531.7544577527983,3523.22,2531.7544577527983,2531.7544577527983,2527.017,562.509,254.9787,1603.0047,72.825,2531.7544577527983,0.0,25.2816,877.3512,7290.568,5288.2,2531.7544577527983,2531.7544577527983,2531.7544577527983,259.7945,2531.7544577527983,144.4541,6140.08,2531.7544577527983,2531.7544577527983,2531.7544577527983,2531.7544577527983,1030.99,190.5226,1475.8,403.97995,6109.93,2531.7544577527983,2531.7544577527983,2531.7544577527983,2531.7544577527983,2531.7544577527983,2531.7544577527983,2531.7544577527983,382.4382,307.3754,191.94545,15177.0,6825.73,7006.7913,159.0806,0.0,1529.5936,289.5251,6249.927,2531.7544577527983,2531.7544577527983,2531.7544577527983,5174.09,2531.7544577527983,2531.7544577527983,212.3774439145722,482.5551,4547.08035,2531.7544577527983,469.44,1712.912,2531.7544577527983,196.14435,1312.4,2531.7544577527983,0.0,1557.9901,4788.0,2340.0,0.0,2531.7544577527983,2531.7544577527983,163.611,259.46615,257.8443,211.537,353.97125,314.79810000000003,2531.7544577527983,1.6716,2531.7544577527983,170.0853,123.3601,5633.48,0.74653,4208.389,3297.0519,2531.7544577527983,2531.7544577527983,2531.7544577527983,2531.7544577527983,2531.7544577527983,644.4,1166.9658499999998,2531.7544577527983,2531.7544577527983,8670.845796000001,19229.0,5274.6625,8773.357529,2531.7544577527983,6415.029,2531.7544577527983,1214.22835,505.6789,266.158,2617.59625,2531.7544577527983,3249.0,123.35015,802.19885,7894.4,2531.7544577527983,173.234,1090.75,2531.7544577527983,309.549,427.9694,170.0853,2531.7544577527983,2531.7544577527983,131.5191,3459.695,6576.796,5630.601,2531.7544577527983,2531.7544577527983,2531.7544577527983,2531.7544577527983,2531.7544577527983,2531.7544577527983,2531.7544577527983,2531.7544577527983,2531.7544577527983,2531.7544577527983,2531.7544577527983,2531.7544577527983,2531.7544577527983,2531.7544577527983,2531.7544577527983,2531.7544577527983,2531.7544577527983,2531.7544577527983,2531.7544577527983,2531.7544577527983,2531.7544577527983,2531.7544577527983,2531.7544577527983,2531.7544577527983,614.442988,8072.02,0.0,609.2982,0.0,124.92225,2531.7544577527983,2531.7544577527983,2531.7544577527983,2531.7544577527983,2531.7544577527983,833.5513000000001,478.58505,204.8705,2531.7544577527983,131.29025,505.2013,1104.22115,2531.7544577527983,0.0,2531.7544577527983,2531.7544577527983,2531.7544577527983,2531.7544577527983,2531.7544577527983,2531.7544577527983,2531.7544577527983,2704.38,465.3615,2531.7544577527983,22.4074,2662.47,2716.0,6889.57,2531.7544577527983,179.26914999999997,2531.7544577527983,2531.7544577527983,113.83795,6997.9400000000005,711.6040999999999,2531.7544577527983,1663.0629,2531.7544577527983,0.0,2531.7544577527983,2531.7544577527983,2531.7544577527983,2531.7544577527983,2531.7544577527983,150.952,2531.7544577527983,5341.639,93.34095,0.0,6345.2487,5101.2656,3630.0,4666.672,214.4822,2273.06,0.0,2531.7544577527983,2531.7544577527983,645.293,2531.7544577527983,7276.0,2531.7544577527983,93.928,2531.7544577527983,2531.7544577527983,2531.7544577527983,1264.4062,2531.7544577527983,2531.7544577527983,2531.7544577527983,2531.7544577527983,20311.0,24599.0,51.1231,2531.7544577527983,2531.7544577527983,1610.5612,499.95765,2531.7544577527983,2531.7544577527983,2531.7544577527983,2531.7544577527983,2531.7544577527983,2531.7544577527983,2531.7544577527983,2531.7544577527983,2531.7544577527983,2531.7544577527983,3268.57,916.48,183.56755,41.91935,2531.7544577527983,2531.7544577527983,2531.7544577527983,2531.7544577527983,2531.7544577527983,306.396,2531.7544577527983,2531.7544577527983,309.047,2580.145,2531.7544577527983,0.0,7171.69135,2495.566,2531.7544577527983,158.72240000000002,2972.814,2939.888,9246.062,1687.044,920.129,7269.503,2531.7544577527983,98.33585,2531.7544577527983,2531.7544577527983,77.3344,2531.7544577527983,2531.7544577527983,3824.139,5447.4697,2531.7544577527983,2531.7544577527983,12.736,59.43135,2531.7544577527983,2531.7544577527983,2531.7544577527983,2531.7544577527983,2531.7544577527983,2531.7544577527983,2531.7544577527983,2531.7544577527983,2531.7544577527983,298.4602,3866.707,441.38200000000006,2531.7544577527983,2531.7544577527983,0.0,424.73,9271.61,2531.7544577527983,3870.43,187.44805,0.0,141.2303,2327.9,289.2838,128.82264999999998,114.7036,2810.625,706.97735,2531.7544577527983,5795.848,2737.058,26.97445,2531.7544577527983,3805.59,2531.7544577527983,2531.7544577527983,0.0,158.73235,2531.7544577527983,285.66450000000003,160.5282,35.51155,1632.36715,116.1563,2531.7544577527983,2844.5074,1908.437,216.313,5155.986,6.566999999999999,2531.7544577527983,1009.29815,0.9751,272.73945,2531.7544577527983,2531.7544577527983,2531.7544577527983,2531.7544577527983,2531.7544577527983,2531.7544577527983,2531.7544577527983,2531.7544577527983,2531.7544577527983,2531.7544577527983,2531.7544577527983,2531.7544577527983,2531.7544577527983,2531.7544577527983,2531.7544577527983,7720.62,376.3687000000001,2531.7544577527983,2531.7544577527983,2103.8239,9833.69,2531.7544577527983,3801.42,1242.19,2531.7544577527983,0.0,57.91895,4404.532,2531.7544577527983,8647.43,2531.7544577527983,249.3868,1391.01485,121.85765,2004.925,1409.6563,344.18045000000006,2531.7544577527983,1794.4029,2531.7544577527983,641.872,4418.715,6216.6381,2531.7544577527983,758.79695,22019.0,829.6111,0.0,2531.7544577527983,406.76,2068.276,7090.9,2531.7544577527983,421.72,17704.0,2531.7544577527983,2531.7544577527983,2531.7544577527983,2531.7544577527983,2531.7544577527983,2531.7544577527983,2531.7544577527983,2531.7544577527983,2531.7544577527983,2531.7544577527983,2531.7544577527983,2531.7544577527983,2531.7544577527983,2531.7544577527983,2531.7544577527983,2531.7544577527983,2531.7544577527983,560.0457,374.72695,963.6177,5717.741,2531.7544577527983,134.31505,3230.85455,2514.0,0.0,2531.7544577527983,2531.7544577527983,2531.7544577527983,2531.7544577527983,2531.7544577527983,2531.7544577527983,490.92305,6877.859,2531.7544577527983,2693.417,85.03269999999999,29909.0,2531.7544577527983,4524.357,2531.7544577527983,1552.43,8470.1,144.18545,2531.7544577527983,503.85805,2531.7544577527983,2531.7544577527983,505.9774,2708.7382500000003,279.48555,2531.7544577527983,2531.7544577527983,4.313400000000001,2531.7544577527983,203.66655,156.94134999999997,2531.7544577527983,2531.7544577527983,2531.7544577527983,2531.7544577527983,2531.7544577527983,2419.087,11062.0,22.0,9004.21,13616.0,2531.7544577527983,21771.0,198.288,175.92595,1064.0,2531.7544577527983,2531.7544577527983,2531.7544577527983,274.96,1375.6273,572.07525,824.9544999999999,2531.7544577527983,1172.06,189.4281,6396.12,2531.7544577527983,2851.191,4453.203,70.33655,2531.7544577527983,0.0,2531.7544577527983,2531.7544577527983,2531.7544577527983,2531.7544577527983,2531.7544577527983,2531.7544577527983,2531.7544577527983,2531.7544577527983,2531.7544577527983,2531.7544577527983,2531.7544577527983,2531.7544577527983,2531.7544577527983,2531.7544577527983,2531.7544577527983,2531.7544577527983,2531.7544577527983,2531.7544577527983,2531.7544577527983,2531.7544577527983,3527.085,2531.7544577527983,2531.7544577527983,2531.7544577527983,2531.7544577527983,2531.7544577527983,2531.7544577527983,2531.7544577527983,2531.7544577527983,2531.7544577527983,2531.7544577527983,2531.7544577527983,2531.7544577527983,2531.7544577527983,97.22145,2531.7544577527983,2531.7544577527983,2531.7544577527983,3384.0,21490.0,7915.7,6337.63,457.4413,2887.0,0.0,6173.62,72.70464999999999,2531.7544577527983,130.3649,2804.6861000000004,492.67425,384.93565,4407.18335,3065.5353000000005,1670.25,2531.7544577527983,518.72,2531.7544577527983,2531.7544577527983,57.52095,2531.7544577527983,16604.0,0.0,2152.69,1550.69,2406.44,0.0,1314.0,2531.7544577527983,4655.0,2531.7544577527983,77.97815,2531.7544577527983,4812.82,5026.362,0.0,2531.7544577527983,2531.7544577527983,2531.7544577527983,2531.7544577527983,2531.7544577527983,2531.7544577527983,2531.7544577527983,2531.7544577527983,2531.7544577527983,2531.7544577527983,2531.7544577527983,2531.7544577527983,2531.7544577527983,2531.7544577527983,2531.7544577527983,2531.7544577527983,407.04455,2531.7544577527983,1324.32728,5809.0,2531.7544577527983,2531.7544577527983,6225.693,302.01235,344.35955,2531.7544577527983,6337.0,0.0,2531.7544577527983,1736.84215,703.33565,479.8089,325.60380000000004,3119.863,2531.7544577527983,2337.9117,1201.4028,2531.7544577527983,242.181,174.145,2531.7544577527983,2531.7544577527983,203.5969,370.625,6605.259,1198.136,758.6278,2531.7544577527983,2531.7544577527983,2531.7544577527983,0.0,2531.7544577527983,2531.7544577527983,6992.78,2852.05,1156.305799,2531.7544577527983,35116.0,2531.7544577527983,2150.0955000000004,3300.57,2531.7544577527983,2531.7544577527983,2531.7544577527983,2531.7544577527983,2531.7544577527983,7018.217,999.17,2531.7544577527983,2531.7544577527983,175.86625,2531.7544577527983,2531.7544577527983,2531.7544577527983,2531.7544577527983,2531.7544577527983,3156.053669,2531.7544577527983,2531.7544577527983,865.4,2531.7544577527983,2531.7544577527983,2531.7544577527983,2531.7544577527983],\"type\":\"pie\"}],                        {\"template\":{\"data\":{\"bar\":[{\"error_x\":{\"color\":\"#2a3f5f\"},\"error_y\":{\"color\":\"#2a3f5f\"},\"marker\":{\"line\":{\"color\":\"#E5ECF6\",\"width\":0.5},\"pattern\":{\"fillmode\":\"overlay\",\"size\":10,\"solidity\":0.2}},\"type\":\"bar\"}],\"barpolar\":[{\"marker\":{\"line\":{\"color\":\"#E5ECF6\",\"width\":0.5},\"pattern\":{\"fillmode\":\"overlay\",\"size\":10,\"solidity\":0.2}},\"type\":\"barpolar\"}],\"carpet\":[{\"aaxis\":{\"endlinecolor\":\"#2a3f5f\",\"gridcolor\":\"white\",\"linecolor\":\"white\",\"minorgridcolor\":\"white\",\"startlinecolor\":\"#2a3f5f\"},\"baxis\":{\"endlinecolor\":\"#2a3f5f\",\"gridcolor\":\"white\",\"linecolor\":\"white\",\"minorgridcolor\":\"white\",\"startlinecolor\":\"#2a3f5f\"},\"type\":\"carpet\"}],\"choropleth\":[{\"colorbar\":{\"outlinewidth\":0,\"ticks\":\"\"},\"type\":\"choropleth\"}],\"contour\":[{\"colorbar\":{\"outlinewidth\":0,\"ticks\":\"\"},\"colorscale\":[[0.0,\"#0d0887\"],[0.1111111111111111,\"#46039f\"],[0.2222222222222222,\"#7201a8\"],[0.3333333333333333,\"#9c179e\"],[0.4444444444444444,\"#bd3786\"],[0.5555555555555556,\"#d8576b\"],[0.6666666666666666,\"#ed7953\"],[0.7777777777777778,\"#fb9f3a\"],[0.8888888888888888,\"#fdca26\"],[1.0,\"#f0f921\"]],\"type\":\"contour\"}],\"contourcarpet\":[{\"colorbar\":{\"outlinewidth\":0,\"ticks\":\"\"},\"type\":\"contourcarpet\"}],\"heatmap\":[{\"colorbar\":{\"outlinewidth\":0,\"ticks\":\"\"},\"colorscale\":[[0.0,\"#0d0887\"],[0.1111111111111111,\"#46039f\"],[0.2222222222222222,\"#7201a8\"],[0.3333333333333333,\"#9c179e\"],[0.4444444444444444,\"#bd3786\"],[0.5555555555555556,\"#d8576b\"],[0.6666666666666666,\"#ed7953\"],[0.7777777777777778,\"#fb9f3a\"],[0.8888888888888888,\"#fdca26\"],[1.0,\"#f0f921\"]],\"type\":\"heatmap\"}],\"heatmapgl\":[{\"colorbar\":{\"outlinewidth\":0,\"ticks\":\"\"},\"colorscale\":[[0.0,\"#0d0887\"],[0.1111111111111111,\"#46039f\"],[0.2222222222222222,\"#7201a8\"],[0.3333333333333333,\"#9c179e\"],[0.4444444444444444,\"#bd3786\"],[0.5555555555555556,\"#d8576b\"],[0.6666666666666666,\"#ed7953\"],[0.7777777777777778,\"#fb9f3a\"],[0.8888888888888888,\"#fdca26\"],[1.0,\"#f0f921\"]],\"type\":\"heatmapgl\"}],\"histogram\":[{\"marker\":{\"pattern\":{\"fillmode\":\"overlay\",\"size\":10,\"solidity\":0.2}},\"type\":\"histogram\"}],\"histogram2d\":[{\"colorbar\":{\"outlinewidth\":0,\"ticks\":\"\"},\"colorscale\":[[0.0,\"#0d0887\"],[0.1111111111111111,\"#46039f\"],[0.2222222222222222,\"#7201a8\"],[0.3333333333333333,\"#9c179e\"],[0.4444444444444444,\"#bd3786\"],[0.5555555555555556,\"#d8576b\"],[0.6666666666666666,\"#ed7953\"],[0.7777777777777778,\"#fb9f3a\"],[0.8888888888888888,\"#fdca26\"],[1.0,\"#f0f921\"]],\"type\":\"histogram2d\"}],\"histogram2dcontour\":[{\"colorbar\":{\"outlinewidth\":0,\"ticks\":\"\"},\"colorscale\":[[0.0,\"#0d0887\"],[0.1111111111111111,\"#46039f\"],[0.2222222222222222,\"#7201a8\"],[0.3333333333333333,\"#9c179e\"],[0.4444444444444444,\"#bd3786\"],[0.5555555555555556,\"#d8576b\"],[0.6666666666666666,\"#ed7953\"],[0.7777777777777778,\"#fb9f3a\"],[0.8888888888888888,\"#fdca26\"],[1.0,\"#f0f921\"]],\"type\":\"histogram2dcontour\"}],\"mesh3d\":[{\"colorbar\":{\"outlinewidth\":0,\"ticks\":\"\"},\"type\":\"mesh3d\"}],\"parcoords\":[{\"line\":{\"colorbar\":{\"outlinewidth\":0,\"ticks\":\"\"}},\"type\":\"parcoords\"}],\"pie\":[{\"automargin\":true,\"type\":\"pie\"}],\"scatter\":[{\"marker\":{\"colorbar\":{\"outlinewidth\":0,\"ticks\":\"\"}},\"type\":\"scatter\"}],\"scatter3d\":[{\"line\":{\"colorbar\":{\"outlinewidth\":0,\"ticks\":\"\"}},\"marker\":{\"colorbar\":{\"outlinewidth\":0,\"ticks\":\"\"}},\"type\":\"scatter3d\"}],\"scattercarpet\":[{\"marker\":{\"colorbar\":{\"outlinewidth\":0,\"ticks\":\"\"}},\"type\":\"scattercarpet\"}],\"scattergeo\":[{\"marker\":{\"colorbar\":{\"outlinewidth\":0,\"ticks\":\"\"}},\"type\":\"scattergeo\"}],\"scattergl\":[{\"marker\":{\"colorbar\":{\"outlinewidth\":0,\"ticks\":\"\"}},\"type\":\"scattergl\"}],\"scattermapbox\":[{\"marker\":{\"colorbar\":{\"outlinewidth\":0,\"ticks\":\"\"}},\"type\":\"scattermapbox\"}],\"scatterpolar\":[{\"marker\":{\"colorbar\":{\"outlinewidth\":0,\"ticks\":\"\"}},\"type\":\"scatterpolar\"}],\"scatterpolargl\":[{\"marker\":{\"colorbar\":{\"outlinewidth\":0,\"ticks\":\"\"}},\"type\":\"scatterpolargl\"}],\"scatterternary\":[{\"marker\":{\"colorbar\":{\"outlinewidth\":0,\"ticks\":\"\"}},\"type\":\"scatterternary\"}],\"surface\":[{\"colorbar\":{\"outlinewidth\":0,\"ticks\":\"\"},\"colorscale\":[[0.0,\"#0d0887\"],[0.1111111111111111,\"#46039f\"],[0.2222222222222222,\"#7201a8\"],[0.3333333333333333,\"#9c179e\"],[0.4444444444444444,\"#bd3786\"],[0.5555555555555556,\"#d8576b\"],[0.6666666666666666,\"#ed7953\"],[0.7777777777777778,\"#fb9f3a\"],[0.8888888888888888,\"#fdca26\"],[1.0,\"#f0f921\"]],\"type\":\"surface\"}],\"table\":[{\"cells\":{\"fill\":{\"color\":\"#EBF0F8\"},\"line\":{\"color\":\"white\"}},\"header\":{\"fill\":{\"color\":\"#C8D4E3\"},\"line\":{\"color\":\"white\"}},\"type\":\"table\"}]},\"layout\":{\"annotationdefaults\":{\"arrowcolor\":\"#2a3f5f\",\"arrowhead\":0,\"arrowwidth\":1},\"autotypenumbers\":\"strict\",\"coloraxis\":{\"colorbar\":{\"outlinewidth\":0,\"ticks\":\"\"}},\"colorscale\":{\"diverging\":[[0,\"#8e0152\"],[0.1,\"#c51b7d\"],[0.2,\"#de77ae\"],[0.3,\"#f1b6da\"],[0.4,\"#fde0ef\"],[0.5,\"#f7f7f7\"],[0.6,\"#e6f5d0\"],[0.7,\"#b8e186\"],[0.8,\"#7fbc41\"],[0.9,\"#4d9221\"],[1,\"#276419\"]],\"sequential\":[[0.0,\"#0d0887\"],[0.1111111111111111,\"#46039f\"],[0.2222222222222222,\"#7201a8\"],[0.3333333333333333,\"#9c179e\"],[0.4444444444444444,\"#bd3786\"],[0.5555555555555556,\"#d8576b\"],[0.6666666666666666,\"#ed7953\"],[0.7777777777777778,\"#fb9f3a\"],[0.8888888888888888,\"#fdca26\"],[1.0,\"#f0f921\"]],\"sequentialminus\":[[0.0,\"#0d0887\"],[0.1111111111111111,\"#46039f\"],[0.2222222222222222,\"#7201a8\"],[0.3333333333333333,\"#9c179e\"],[0.4444444444444444,\"#bd3786\"],[0.5555555555555556,\"#d8576b\"],[0.6666666666666666,\"#ed7953\"],[0.7777777777777778,\"#fb9f3a\"],[0.8888888888888888,\"#fdca26\"],[1.0,\"#f0f921\"]]},\"colorway\":[\"#636efa\",\"#EF553B\",\"#00cc96\",\"#ab63fa\",\"#FFA15A\",\"#19d3f3\",\"#FF6692\",\"#B6E880\",\"#FF97FF\",\"#FECB52\"],\"font\":{\"color\":\"#2a3f5f\"},\"geo\":{\"bgcolor\":\"white\",\"lakecolor\":\"white\",\"landcolor\":\"#E5ECF6\",\"showlakes\":true,\"showland\":true,\"subunitcolor\":\"white\"},\"hoverlabel\":{\"align\":\"left\"},\"hovermode\":\"closest\",\"mapbox\":{\"style\":\"light\"},\"paper_bgcolor\":\"white\",\"plot_bgcolor\":\"#E5ECF6\",\"polar\":{\"angularaxis\":{\"gridcolor\":\"white\",\"linecolor\":\"white\",\"ticks\":\"\"},\"bgcolor\":\"#E5ECF6\",\"radialaxis\":{\"gridcolor\":\"white\",\"linecolor\":\"white\",\"ticks\":\"\"}},\"scene\":{\"xaxis\":{\"backgroundcolor\":\"#E5ECF6\",\"gridcolor\":\"white\",\"gridwidth\":2,\"linecolor\":\"white\",\"showbackground\":true,\"ticks\":\"\",\"zerolinecolor\":\"white\"},\"yaxis\":{\"backgroundcolor\":\"#E5ECF6\",\"gridcolor\":\"white\",\"gridwidth\":2,\"linecolor\":\"white\",\"showbackground\":true,\"ticks\":\"\",\"zerolinecolor\":\"white\"},\"zaxis\":{\"backgroundcolor\":\"#E5ECF6\",\"gridcolor\":\"white\",\"gridwidth\":2,\"linecolor\":\"white\",\"showbackground\":true,\"ticks\":\"\",\"zerolinecolor\":\"white\"}},\"shapedefaults\":{\"line\":{\"color\":\"#2a3f5f\"}},\"ternary\":{\"aaxis\":{\"gridcolor\":\"white\",\"linecolor\":\"white\",\"ticks\":\"\"},\"baxis\":{\"gridcolor\":\"white\",\"linecolor\":\"white\",\"ticks\":\"\"},\"bgcolor\":\"#E5ECF6\",\"caxis\":{\"gridcolor\":\"white\",\"linecolor\":\"white\",\"ticks\":\"\"}},\"title\":{\"x\":0.05},\"xaxis\":{\"automargin\":true,\"gridcolor\":\"white\",\"linecolor\":\"white\",\"ticks\":\"\",\"title\":{\"standoff\":15},\"zerolinecolor\":\"white\",\"zerolinewidth\":2},\"yaxis\":{\"automargin\":true,\"gridcolor\":\"white\",\"linecolor\":\"white\",\"ticks\":\"\",\"title\":{\"standoff\":15},\"zerolinecolor\":\"white\",\"zerolinewidth\":2}}},\"legend\":{\"tracegroupgap\":0},\"title\":{\"text\":\"primary fuel% with respect to generation_gwh_2017\"},\"piecolorway\":[\"rgb(141,211,199)\",\"rgb(255,255,179)\",\"rgb(190,186,218)\",\"rgb(251,128,114)\",\"rgb(128,177,211)\",\"rgb(253,180,98)\",\"rgb(179,222,105)\",\"rgb(252,205,229)\",\"rgb(217,217,217)\",\"rgb(188,128,189)\",\"rgb(204,235,197)\",\"rgb(255,237,111)\"]},                        {\"responsive\": true}                    ).then(function(){\n",
       "                            \n",
       "var gd = document.getElementById('4dc7010d-4da3-4b1a-b71a-522e7f0721bd');\n",
       "var x = new MutationObserver(function (mutations, observer) {{\n",
       "        var display = window.getComputedStyle(gd).display;\n",
       "        if (!display || display === 'none') {{\n",
       "            console.log([gd, 'removed!']);\n",
       "            Plotly.purge(gd);\n",
       "            observer.disconnect();\n",
       "        }}\n",
       "}});\n",
       "\n",
       "// Listen for the removal of the full notebook cells\n",
       "var notebookContainer = gd.closest('#notebook-container');\n",
       "if (notebookContainer) {{\n",
       "    x.observe(notebookContainer, {childList: true});\n",
       "}}\n",
       "\n",
       "// Listen for the clearing of the current output cell\n",
       "var outputEl = gd.closest('.output');\n",
       "if (outputEl) {{\n",
       "    x.observe(outputEl, {childList: true});\n",
       "}}\n",
       "\n",
       "                        })                };                });            </script>        </div>"
      ]
     },
     "metadata": {},
     "output_type": "display_data"
    }
   ],
   "source": [
    "px.pie(global_power,values='generation_gwh_2017',names='primary_fuel',title='primary fuel% with respect to generation_gwh_2017',color_discrete_sequence= px.colors.qualitative.Set3)"
   ]
  },
  {
   "cell_type": "markdown",
   "id": "822de50f",
   "metadata": {},
   "source": [
    "Observations:\n",
    "    \n",
    "1.here we are trying to understand usage of primary fuel in context with generation gwh 2017\n",
    "\n",
    "2.47.4 % of coal is used for estimated electricity generation in gigawatt-hours for the year 2017 which is the highest.\n",
    "\n",
    "3.nuclear is least."
   ]
  },
  {
   "cell_type": "code",
   "execution_count": 1302,
   "id": "96bd5cb4",
   "metadata": {
    "scrolled": true
   },
   "outputs": [
    {
     "data": {
      "application/vnd.plotly.v1+json": {
       "config": {
        "plotlyServerURL": "https://plot.ly"
       },
       "data": [
        {
         "domain": {
          "x": [
           0,
           1
          ],
          "y": [
           0,
           1
          ]
         },
         "hovertemplate": "primary_fuel=%{label}<br>commissioning_year=%{value}<extra></extra>",
         "labels": [
          "Solar",
          "Coal",
          "Wind",
          "Gas",
          "Coal",
          "Coal",
          "Hydro",
          "Hydro",
          "Hydro",
          "Coal",
          "Coal",
          "Hydro",
          "Coal",
          "Hydro",
          "Hydro",
          "Coal",
          "Gas",
          "Coal",
          "Coal",
          "Biomass",
          "Biomass",
          "Biomass",
          "Gas",
          "Coal",
          "Coal",
          "Solar",
          "Solar",
          "Wind",
          "Solar",
          "Wind",
          "Wind",
          "Wind",
          "Solar",
          "Solar",
          "Solar",
          "Solar",
          "Solar",
          "Solar",
          "Solar",
          "Oil",
          "Coal",
          "Biomass",
          "Hydro",
          "Hydro",
          "Hydro",
          "Coal",
          "Coal",
          "Hydro",
          "Coal",
          "Coal",
          "Coal",
          "Coal",
          "Hydro",
          "Hydro",
          "Hydro",
          "Hydro",
          "Hydro",
          "Coal",
          "Coal",
          "Gas",
          "Coal",
          "Hydro",
          "Coal",
          "Coal",
          "Coal",
          "Gas",
          "Hydro",
          "Hydro",
          "Wind",
          "Wind",
          "Coal",
          "Biomass",
          "Biomass",
          "Oil",
          "Coal",
          "Coal",
          "Coal",
          "Hydro",
          "Coal",
          "Hydro",
          "Coal",
          "Biomass",
          "Hydro",
          "Hydro",
          "Hydro",
          "Coal",
          "Hydro",
          "Hydro",
          "Hydro",
          "Coal",
          "Coal",
          "Hydro",
          "Hydro",
          "Hydro",
          "Coal",
          "Biomass",
          "Coal",
          "Coal",
          "Coal",
          "Coal",
          "Hydro",
          "Hydro",
          "Coal",
          "Coal",
          "Coal",
          "Wind",
          "Oil",
          "Gas",
          "Coal",
          "Hydro",
          "Oil",
          "Coal",
          "Solar",
          "Solar",
          "Wind",
          "Solar",
          "Solar",
          "Solar",
          "Solar",
          "Solar",
          "Solar",
          "Solar",
          "Solar",
          "Wind",
          "Wind",
          "Wind",
          "Wind",
          "Wind",
          "Solar",
          "Wind",
          "Solar",
          "Solar",
          "Solar",
          "Solar",
          "Coal",
          "Hydro",
          "Hydro",
          "Hydro",
          "Coal",
          "Coal",
          "Coal",
          "Coal",
          "Coal",
          "Coal",
          "Coal",
          "Hydro",
          "Hydro",
          "Hydro",
          "Coal",
          "Hydro",
          "Hydro",
          "Hydro",
          "Hydro",
          "Biomass",
          "Solar",
          "Solar",
          "Wind",
          "Solar",
          "Coal",
          "Coal",
          "Gas",
          "Nuclear",
          "Coal",
          "Coal",
          "Coal",
          "Biomass",
          "Biomass",
          "Hydro",
          "Coal",
          "Gas",
          "Hydro",
          "Hydro",
          "Coal",
          "Coal",
          "Hydro",
          "Gas",
          "Gas",
          "Oil",
          "Hydro",
          "Hydro",
          "Gas",
          "Biomass",
          "Oil",
          "Hydro",
          "Hydro",
          "Hydro",
          "Biomass",
          "Hydro",
          "Coal",
          "Coal",
          "Coal",
          "Solar",
          "Gas",
          "Wind",
          "Solar",
          "Wind",
          "Solar",
          "Solar",
          "Solar",
          "Solar",
          "Solar",
          "Solar",
          "Hydro",
          "Hydro",
          "Wind",
          "Gas",
          "Wind",
          "Wind",
          "Wind",
          "Wind",
          "Coal",
          "Gas",
          "Wind",
          "Gas",
          "Wind",
          "Gas",
          "Hydro",
          "Gas",
          "Gas",
          "Hydro",
          "Coal",
          "Hydro",
          "Hydro",
          "Gas",
          "Coal",
          "Wind",
          "Hydro",
          "Hydro",
          "Hydro",
          "Coal",
          "Coal",
          "Hydro",
          "Wind",
          "Coal",
          "Coal",
          "Gas",
          "Coal",
          "Coal",
          "Gas",
          "Coal",
          "Hydro",
          "Wind",
          "Solar",
          "Solar",
          "Solar",
          "Solar",
          "Solar",
          "Solar",
          "Solar",
          "Wind",
          "Solar",
          "Solar",
          "Solar",
          "Solar",
          "Coal",
          "Hydro",
          "Biomass",
          "Hydro",
          "Biomass",
          "Gas",
          "Gas",
          "Biomass",
          "Hydro",
          "Biomass",
          "Wind",
          "Wind",
          "Wind",
          "Wind",
          "Wind",
          "Coal",
          "Wind",
          "Solar",
          "Coal",
          "Gas",
          "Hydro",
          "Hydro",
          "Coal",
          "Wind",
          "Coal",
          "Coal",
          "Hydro",
          "Coal",
          "Coal",
          "Wind",
          "Solar",
          "Solar",
          "Hydro",
          "Biomass",
          "Hydro",
          "Coal",
          "Coal",
          "Coal",
          "Coal",
          "Coal",
          "Gas",
          "Hydro",
          "Coal",
          "Hydro",
          "Coal",
          "Solar",
          "Solar",
          "Wind",
          "Wind",
          "Wind",
          "Wind",
          "Wind",
          "Hydro",
          "Hydro",
          "Hydro",
          "Coal",
          "Nuclear",
          "Coal",
          "Hydro",
          "Nuclear",
          "Hydro",
          "Hydro",
          "Coal",
          "Hydro",
          "Coal",
          "Coal",
          "Coal",
          "Hydro",
          "Biomass",
          "Gas",
          "Hydro",
          "Hydro",
          "Hydro",
          "Gas",
          "Coal",
          "Oil",
          "Hydro",
          "Gas",
          "Coal",
          "Coal",
          "Gas",
          "Coal",
          "Gas",
          "Gas",
          "Biomass",
          "Hydro",
          "Coal",
          "Hydro",
          "Hydro",
          "Hydro",
          "Hydro",
          "Hydro",
          "Coal",
          "Hydro",
          "Biomass",
          "Hydro",
          "Hydro",
          "Coal",
          "Oil",
          "Coal",
          "Hydro",
          "Biomass",
          "Biomass",
          "Biomass",
          "Biomass",
          "Gas",
          "Gas",
          "Hydro",
          "Biomass",
          "Coal",
          "Coal",
          "Coal",
          "Coal",
          "Coal",
          "Hydro",
          "Coal",
          "Coal",
          "Hydro",
          "Hydro",
          "Gas",
          "Hydro",
          "Wind",
          "Coal",
          "Hydro",
          "Hydro",
          "Nuclear",
          "Biomass",
          "Coal",
          "Coal",
          "Hydro",
          "Gas",
          "Hydro",
          "Hydro",
          "Solar",
          "Coal",
          "Hydro",
          "Coal",
          "Coal",
          "Coal",
          "Wind",
          "Solar",
          "Solar",
          "Wind",
          "Solar",
          "Solar",
          "Solar",
          "Solar",
          "Solar",
          "Solar",
          "Solar",
          "Solar",
          "Solar",
          "Solar",
          "Solar",
          "Solar",
          "Wind",
          "Wind",
          "Solar",
          "Wind",
          "Wind",
          "Wind",
          "Nuclear",
          "Coal",
          "Gas",
          "Coal",
          "Coal",
          "Hydro",
          "Oil",
          "Hydro",
          "Hydro",
          "Wind",
          "Wind",
          "Oil",
          "Biomass",
          "Hydro",
          "Hydro",
          "Hydro",
          "Hydro",
          "Hydro",
          "Hydro",
          "Hydro",
          "Wind",
          "Oil",
          "Solar",
          "Solar",
          "Solar",
          "Wind",
          "Wind",
          "Solar",
          "Wind",
          "Nuclear",
          "Hydro",
          "Hydro",
          "Hydro",
          "Coal",
          "Coal",
          "Coal",
          "Biomass",
          "Hydro",
          "Oil",
          "Coal",
          "Hydro",
          "Coal",
          "Hydro",
          "Hydro",
          "Hydro",
          "Gas",
          "Gas",
          "Coal",
          "Hydro",
          "Hydro",
          "Coal",
          "Hydro",
          "Coal",
          "Coal",
          "Coal",
          "Hydro",
          "Coal",
          "Coal",
          "Coal",
          "Coal",
          "Coal",
          "Hydro",
          "Coal",
          "Coal",
          "Hydro",
          "Hydro",
          "Gas",
          "Coal",
          "Coal",
          "Hydro",
          "Hydro",
          "Wind",
          "Wind",
          "Coal",
          "Hydro",
          "Coal",
          "Gas",
          "Oil",
          "Gas",
          "Coal",
          "Coal",
          "Hydro",
          "Biomass",
          "Coal",
          "Coal",
          "Hydro",
          "Wind",
          "Solar",
          "Solar",
          "Solar",
          "Solar",
          "Solar",
          "Wind",
          "Wind",
          "Solar",
          "Solar",
          "Nuclear",
          "Coal",
          "Hydro",
          "Hydro",
          "Coal",
          "Oil",
          "Biomass",
          "Biomass",
          "Coal",
          "Gas",
          "Biomass",
          "Hydro",
          "Hydro",
          "Coal",
          "Coal",
          "Coal",
          "Hydro",
          "Coal",
          "Coal",
          "Hydro",
          "Coal",
          "Coal",
          "Coal",
          "Coal",
          "Coal",
          "Coal",
          "Coal",
          "Hydro",
          "Hydro",
          "Coal",
          "Coal",
          "Hydro",
          "Wind",
          "Coal",
          "Coal",
          "Wind",
          "Hydro",
          "Hydro",
          "Hydro",
          "Wind",
          "Wind",
          "Solar",
          "Wind",
          "Wind",
          "Solar",
          "Solar",
          "Solar",
          "Wind",
          "Hydro",
          "Coal",
          "Hydro",
          "Wind",
          "Wind",
          "Gas",
          "Gas",
          "Coal",
          "Hydro",
          "Gas",
          "Hydro",
          "Oil",
          "Hydro",
          "Coal",
          "Coal",
          "Hydro",
          "Hydro",
          "Coal",
          "Hydro",
          "Biomass",
          "Coal",
          "Coal",
          "Hydro",
          "Gas",
          "Coal",
          "Hydro",
          "Hydro",
          "Gas",
          "Hydro",
          "Hydro",
          "Hydro",
          "Gas",
          "Hydro",
          "Hydro",
          "Hydro",
          "Hydro",
          "Gas",
          "Gas",
          "Hydro",
          "Coal",
          "Hydro",
          "Coal",
          "Hydro",
          "Hydro",
          "Hydro",
          "Solar",
          "Wind",
          "Wind",
          "Wind",
          "Solar",
          "Solar",
          "Solar",
          "Solar",
          "Wind",
          "Wind",
          "Wind",
          "Wind",
          "Solar",
          "Solar",
          "Solar",
          "Nuclear",
          "Hydro",
          "Coal",
          "Hydro",
          "Coal",
          "Coal",
          "Coal",
          "Coal",
          "Coal",
          "Coal",
          "Coal",
          "Hydro",
          "Coal",
          "Coal",
          "Coal",
          "Biomass",
          "Hydro",
          "Gas",
          "Hydro",
          "Hydro",
          "Hydro",
          "Hydro",
          "Biomass",
          "Hydro",
          "Coal",
          "Coal",
          "Gas",
          "Coal",
          "Gas",
          "Hydro",
          "Coal",
          "Hydro",
          "Gas",
          "Hydro",
          "Gas",
          "Coal",
          "Coal",
          "Wind",
          "Coal",
          "Coal",
          "Solar",
          "Solar",
          "Solar",
          "Solar",
          "Solar",
          "Solar",
          "Solar",
          "Wind",
          "Solar",
          "Solar",
          "Solar",
          "Solar",
          "Wind",
          "Wind",
          "Solar",
          "Wind",
          "Wind",
          "Hydro",
          "Hydro",
          "Hydro",
          "Coal",
          "Biomass",
          "Hydro",
          "Hydro",
          "Coal",
          "Coal",
          "Oil",
          "Oil",
          "Biomass",
          "Biomass",
          "Biomass",
          "Biomass",
          "Hydro",
          "Coal",
          "Biomass",
          "Coal",
          "Hydro",
          "Coal",
          "Coal",
          "Coal",
          "Biomass",
          "Coal",
          "Coal",
          "Hydro",
          "Hydro",
          "Hydro",
          "Hydro",
          "Hydro",
          "Hydro",
          "Hydro",
          "Hydro",
          "Hydro",
          "Biomass",
          "Coal",
          "Hydro",
          "Hydro",
          "Hydro",
          "Coal",
          "Biomass",
          "Biomass",
          "Coal",
          "Wind",
          "Coal",
          "Coal",
          "Coal",
          "Coal",
          "Coal",
          "Hydro",
          "Coal",
          "Coal",
          "Hydro",
          "Coal",
          "Biomass",
          "Hydro",
          "Hydro",
          "Coal",
          "Hydro",
          "Hydro",
          "Hydro",
          "Hydro",
          "Coal",
          "Hydro",
          "Gas",
          "Hydro",
          "Coal",
          "Coal",
          "Hydro",
          "Hydro",
          "Coal",
          "Coal",
          "Wind",
          "Wind",
          "Wind",
          "Solar",
          "Solar",
          "Wind",
          "Solar",
          "Solar",
          "Solar",
          "Wind",
          "Solar",
          "Solar",
          "Solar",
          "Solar",
          "Solar",
          "Solar",
          "Wind",
          "Wind",
          "Wind",
          "Coal",
          "Solar",
          "Solar",
          "Wind",
          "Solar",
          "Wind",
          "Wind",
          "Wind",
          "Wind",
          "Wind",
          "Wind",
          "Wind",
          "Solar",
          "Wind",
          "Hydro",
          "Coal",
          "Coal",
          "Hydro",
          "Coal",
          "Coal",
          "Coal",
          "Coal",
          "Hydro",
          "Coal",
          "Gas",
          "Nuclear",
          "Hydro",
          "Hydro",
          "Hydro",
          "Hydro",
          "Hydro",
          "Hydro",
          "Hydro",
          "Hydro",
          "Coal",
          "Gas",
          "Coal",
          "Oil",
          "Hydro",
          "Hydro",
          "Hydro",
          "Coal",
          "Coal",
          "Coal",
          "Coal",
          "Coal",
          "Oil",
          "Gas",
          "Gas",
          "Coal",
          "Oil",
          "Hydro",
          "Biomass",
          "Coal",
          "Coal",
          "Coal",
          "Wind",
          "Wind",
          "Wind",
          "Wind",
          "Solar",
          "Wind",
          "Solar",
          "Wind",
          "Wind",
          "Solar",
          "Wind",
          "Wind",
          "Solar",
          "Wind",
          "Wind",
          "Wind",
          "Hydro",
          "Hydro",
          "Coal",
          "Coal",
          "Hydro",
          "Hydro",
          "Coal",
          "Hydro",
          "Hydro",
          "Hydro",
          "Coal",
          "Gas",
          "Wind",
          "Hydro",
          "Hydro",
          "Hydro",
          "Hydro",
          "Gas",
          "Gas",
          "Hydro",
          "Hydro",
          "Hydro",
          "Gas",
          "Coal",
          "Wind",
          "Hydro",
          "Hydro",
          "Gas",
          "Coal",
          "Gas",
          "Hydro",
          "Coal",
          "Coal",
          "Coal",
          "Gas",
          "Biomass",
          "Gas",
          "Coal",
          "Coal",
          "Gas",
          "Coal",
          "Coal",
          "Hydro",
          "Hydro",
          "Coal",
          "Wind",
          "Wind",
          "Wind",
          "Solar",
          "Coal",
          "Coal",
          "Coal",
          "Coal",
          "Hydro",
          "Hydro",
          "Solar",
          "Solar",
          "Wind",
          "Wind",
          "Wind",
          "Coal",
          "Biomass",
          "Oil",
          "Coal",
          "Solar",
          "Wind",
          "Coal",
          "Wind"
         ],
         "legendgroup": "",
         "name": "",
         "showlegend": true,
         "type": "pie",
         "values": [
          2011,
          1996.876893939394,
          1996.876893939394,
          2004,
          2015,
          2005,
          1970,
          2010,
          2004,
          2008,
          2014,
          1985,
          2011,
          1986,
          1987,
          2000,
          1989,
          1996.876893939394,
          2015,
          1996.876893939394,
          1996.876893939394,
          1996.876893939394,
          1989,
          2017,
          1996.876893939394,
          2015,
          1996.876893939394,
          1996.876893939394,
          1996.876893939394,
          1996.876893939394,
          1996.876893939394,
          1996.876893939394,
          1996.876893939394,
          1996.876893939394,
          1996.876893939394,
          1996.876893939394,
          1996.876893939394,
          1996.876893939394,
          1996.876893939394,
          1998,
          1977,
          1996.876893939394,
          2008,
          2015,
          1980,
          2003,
          2015,
          1984,
          1996.876893939394,
          1996.876893939394,
          2015,
          1973,
          1996,
          1991,
          2002,
          2001,
          2006,
          1996.876893939394,
          2014,
          2006,
          2007,
          1988,
          2014,
          2011,
          2010,
          1996,
          2003,
          1973,
          1996.876893939394,
          1996.876893939394,
          1996.876893939394,
          1996.876893939394,
          1996.876893939394,
          2000,
          1996.876893939394,
          1996.876893939394,
          2012,
          1968,
          1996.876893939394,
          1964,
          1996.876893939394,
          1996.876893939394,
          1996,
          1977,
          1991,
          2016,
          2013,
          2012,
          2006,
          1996.876893939394,
          2008,
          1962,
          1987,
          1998,
          2007,
          1996.876893939394,
          1996.876893939394,
          2012,
          1996.876893939394,
          2017,
          1984,
          1991,
          2016,
          1993,
          2016,
          1996.876893939394,
          1997,
          1999,
          2001,
          2012,
          1996.876893939394,
          2013,
          1996.876893939394,
          1996.876893939394,
          1996.876893939394,
          1996.876893939394,
          1996.876893939394,
          1996.876893939394,
          1996.876893939394,
          1996.876893939394,
          1996.876893939394,
          1996.876893939394,
          1996.876893939394,
          1996.876893939394,
          1996.876893939394,
          1996.876893939394,
          1996.876893939394,
          1996.876893939394,
          1996.876893939394,
          1996.876893939394,
          1996.876893939394,
          1996.876893939394,
          1996.876893939394,
          1996.876893939394,
          2010,
          2003,
          1994,
          2012,
          1996.876893939394,
          1996.876893939394,
          1996.876893939394,
          1996.876893939394,
          1996.876893939394,
          2000,
          1999,
          2017,
          2004,
          1980,
          2013,
          1975,
          1980,
          2012,
          2013,
          1996.876893939394,
          1996.876893939394,
          1996.876893939394,
          1996.876893939394,
          1996.876893939394,
          2005,
          2001,
          1992,
          1972,
          1996.876893939394,
          2014,
          1996.876893939394,
          1996.876893939394,
          1996.876893939394,
          1979,
          2014,
          2014,
          1967,
          1967,
          1995,
          2013,
          2005,
          2007,
          2010,
          1996.876893939394,
          2017,
          1997,
          1997,
          1996.876893939394,
          1996.876893939394,
          1983,
          2000,
          2000,
          1996.876893939394,
          2007,
          1996.876893939394,
          1981,
          2011,
          1996.876893939394,
          1996.876893939394,
          1996.876893939394,
          1996.876893939394,
          1996.876893939394,
          1996.876893939394,
          1996.876893939394,
          1996.876893939394,
          2014,
          2013,
          1996.876893939394,
          1996,
          1968,
          1996.876893939394,
          1995,
          1996.876893939394,
          1996.876893939394,
          1996.876893939394,
          1996.876893939394,
          1995,
          1999,
          1996.876893939394,
          1994,
          1996.876893939394,
          1996.876893939394,
          1996,
          2016,
          1994,
          1959,
          1993,
          1961,
          1957,
          2008,
          2012,
          1996.876893939394,
          2000,
          1992,
          2008,
          2003,
          1996.876893939394,
          1978,
          1996.876893939394,
          2013,
          1976,
          1997,
          2016,
          1996.876893939394,
          2015,
          1996.876893939394,
          1979,
          1996.876893939394,
          1996.876893939394,
          1996.876893939394,
          1996.876893939394,
          1996.876893939394,
          2013,
          1996.876893939394,
          1996.876893939394,
          1996.876893939394,
          1996.876893939394,
          2014,
          1996.876893939394,
          1996.876893939394,
          2015,
          1961,
          1996.876893939394,
          1994,
          1996.876893939394,
          2001,
          2012,
          1996.876893939394,
          1963,
          1996.876893939394,
          1996.876893939394,
          1996.876893939394,
          1996.876893939394,
          1996.876893939394,
          1996.876893939394,
          2005,
          1996.876893939394,
          1996.876893939394,
          1994,
          1989,
          1987,
          1980,
          2013,
          1996.876893939394,
          2016,
          2017,
          2004,
          2011,
          2015,
          1996.876893939394,
          1996.876893939394,
          1996.876893939394,
          1973,
          1996.876893939394,
          1971,
          2011,
          1996.876893939394,
          1996.876893939394,
          1996.876893939394,
          1996.876893939394,
          2003,
          1963,
          2000,
          2015,
          2010,
          1996.876893939394,
          1996.876893939394,
          1996.876893939394,
          1996.876893939394,
          1996.876893939394,
          1996.876893939394,
          1996.876893939394,
          1988,
          1994,
          1998,
          2003,
          2004,
          2012,
          1999,
          1993,
          1981,
          1985,
          2014,
          1994,
          1996.876893939394,
          1996.876893939394,
          2013,
          1991,
          1996.876893939394,
          2000,
          2007,
          2011,
          1995,
          2005,
          2011,
          1998,
          2016,
          2016,
          1996.876893939394,
          2012,
          1996,
          2013,
          1992,
          1998,
          1996.876893939394,
          1991,
          2011,
          1984,
          1992,
          1955,
          1984,
          2002,
          1996.876893939394,
          2018,
          1996.876893939394,
          1998,
          1970,
          2012,
          1999,
          1989,
          2015,
          1996.876893939394,
          1996.876893939394,
          1996.876893939394,
          1996.876893939394,
          2009,
          2009,
          1993,
          1996.876893939394,
          1996.876893939394,
          2009,
          1991,
          1991,
          1995,
          1973,
          1993,
          1996.876893939394,
          2011,
          1957,
          2001,
          1984,
          1996.876893939394,
          2017,
          1975,
          1966,
          2015,
          1996.876893939394,
          2012,
          1996,
          2001,
          2003,
          1983,
          2010,
          2013,
          1996.876893939394,
          1979,
          1972,
          2004,
          2000,
          1996.876893939394,
          1996.876893939394,
          1996.876893939394,
          1996.876893939394,
          1996.876893939394,
          1996.876893939394,
          1996.876893939394,
          1996.876893939394,
          1996.876893939394,
          1996.876893939394,
          1996.876893939394,
          1996.876893939394,
          1996.876893939394,
          1996.876893939394,
          1996.876893939394,
          1996.876893939394,
          1996.876893939394,
          1996.876893939394,
          1996.876893939394,
          1996.876893939394,
          1996.876893939394,
          1996.876893939394,
          1996.876893939394,
          1996.876893939394,
          1995,
          2015,
          2018,
          2006,
          1999,
          1979,
          2001,
          1996.876893939394,
          1996.876893939394,
          1996.876893939394,
          1996.876893939394,
          1983,
          1978,
          2015,
          1979,
          1988,
          1997,
          1976,
          1996.876893939394,
          2000,
          1996.876893939394,
          1996.876893939394,
          1996.876893939394,
          1996.876893939394,
          1996.876893939394,
          1996.876893939394,
          1996.876893939394,
          1984,
          1957,
          2003,
          2006,
          2012,
          2013,
          2012,
          1996.876893939394,
          1987,
          1996.876893939394,
          1996.876893939394,
          1957,
          2011,
          2006,
          1993,
          2002,
          1996.876893939394,
          2016,
          1996.876893939394,
          1993,
          1996,
          1996.876893939394,
          1994,
          2011,
          1996.876893939394,
          2015,
          1965,
          2018,
          2001,
          2010,
          2015,
          1988,
          1960,
          2012,
          2010,
          1949,
          1962,
          2015,
          1996.876893939394,
          2014,
          1993,
          1952,
          1996.876893939394,
          1996.876893939394,
          1996.876893939394,
          1987,
          1996.876893939394,
          1996.876893939394,
          1996.876893939394,
          1996.876893939394,
          2010,
          2012,
          1963,
          1996.876893939394,
          1996.876893939394,
          2005,
          2012,
          1996.876893939394,
          1996.876893939394,
          2014,
          1996.876893939394,
          1996.876893939394,
          1996.876893939394,
          1996.876893939394,
          1996.876893939394,
          1996.876893939394,
          1996.876893939394,
          1990,
          2016,
          1982,
          2017,
          1996.876893939394,
          1996.876893939394,
          1996.876893939394,
          1996.876893939394,
          1996.876893939394,
          1990,
          1996.876893939394,
          1998,
          1961,
          1980,
          1996.876893939394,
          2016,
          2003,
          2016,
          1996.876893939394,
          2017,
          2002,
          1966,
          1989,
          2013,
          2002,
          2014,
          1996.876893939394,
          2013,
          1937,
          1996.876893939394,
          2013,
          1956,
          1996.876893939394,
          1995,
          2013,
          1996.876893939394,
          1997,
          1992,
          1985,
          1996.876893939394,
          1996.876893939394,
          1996.876893939394,
          1996.876893939394,
          1996.876893939394,
          1996.876893939394,
          1996.876893939394,
          1996.876893939394,
          1996.876893939394,
          1970,
          1978,
          2007,
          1996.876893939394,
          1996.876893939394,
          2001,
          1997,
          2015,
          1984,
          2013,
          1970,
          1992,
          1975,
          2000,
          1976,
          1982,
          1946,
          2009,
          2014,
          1996.876893939394,
          2004,
          2002,
          2000,
          1996.876893939394,
          2009,
          1955,
          1988,
          2002,
          1986,
          1994,
          1960,
          2013,
          1987,
          1979,
          1958,
          1999,
          2012,
          2002,
          2009,
          2016,
          2016,
          1996.876893939394,
          2007,
          1943,
          2005,
          1996.876893939394,
          1996.876893939394,
          1996.876893939394,
          1996.876893939394,
          1996.876893939394,
          1996.876893939394,
          1996.876893939394,
          1996.876893939394,
          1996.876893939394,
          1996.876893939394,
          1996.876893939394,
          1996.876893939394,
          1996.876893939394,
          1996.876893939394,
          1996.876893939394,
          2000,
          1968,
          1996.876893939394,
          1952,
          2015,
          1996,
          1996.876893939394,
          2007,
          2015,
          1996.876893939394,
          1990,
          1999,
          2010,
          1996.876893939394,
          2014,
          1996.876893939394,
          1976,
          2008,
          1995,
          2013,
          2002,
          2000,
          1996.876893939394,
          2000,
          1996.876893939394,
          2014,
          2003,
          2008,
          1999,
          1988,
          2002,
          1962,
          2010,
          1992,
          2007,
          1988,
          2010,
          1996.876893939394,
          1970,
          1990,
          1996.876893939394,
          1996.876893939394,
          1996.876893939394,
          1996.876893939394,
          1996.876893939394,
          1996.876893939394,
          1996.876893939394,
          1996.876893939394,
          1996.876893939394,
          1996.876893939394,
          1996.876893939394,
          1996.876893939394,
          1996.876893939394,
          1996.876893939394,
          1996.876893939394,
          1996.876893939394,
          1996.876893939394,
          2004,
          2005,
          1966,
          2012,
          1996.876893939394,
          2017,
          1990,
          2012,
          2014,
          2001,
          2001,
          1996.876893939394,
          1996.876893939394,
          1996.876893939394,
          1996.876893939394,
          1989,
          2000,
          1996.876893939394,
          2009,
          1966,
          2013,
          1996.876893939394,
          1993,
          1996.876893939394,
          2016,
          2016,
          1977,
          1986,
          2010,
          2002,
          1997,
          1954,
          1969,
          2001,
          1939,
          1996.876893939394,
          2017,
          1992,
          1964,
          1971,
          1996.876893939394,
          1996.876893939394,
          1996.876893939394,
          1996.876893939394,
          1996.876893939394,
          2015,
          2006,
          2013,
          2016,
          1984,
          1999,
          2010,
          2016,
          1927,
          2017,
          1996.876893939394,
          1996,
          1993,
          1990,
          2015,
          1984,
          2001,
          1986,
          2010,
          1978,
          2008,
          1992,
          2004,
          2002,
          1978,
          1998,
          2011,
          2015,
          1996.876893939394,
          1996.876893939394,
          1996.876893939394,
          1996.876893939394,
          1996.876893939394,
          1996.876893939394,
          1996.876893939394,
          1996.876893939394,
          1996.876893939394,
          1996.876893939394,
          1996.876893939394,
          1996.876893939394,
          1996.876893939394,
          1996.876893939394,
          1996.876893939394,
          1996.876893939394,
          1996.876893939394,
          1996.876893939394,
          1996.876893939394,
          2013,
          1996.876893939394,
          1996.876893939394,
          1996.876893939394,
          1996.876893939394,
          1996.876893939394,
          1996.876893939394,
          1996.876893939394,
          1996.876893939394,
          1996.876893939394,
          1996.876893939394,
          1996.876893939394,
          1996.876893939394,
          1996.876893939394,
          1960,
          1996.876893939394,
          1996.876893939394,
          1991,
          1974,
          2001,
          2015,
          2014,
          1992,
          1991,
          2001,
          1996,
          2017,
          2002,
          1998,
          2008,
          2016,
          2013,
          2017,
          2006,
          1995,
          1996.876893939394,
          2012,
          1996.876893939394,
          1995,
          1986,
          1953,
          2013,
          1983,
          2009,
          1999,
          1985,
          1990,
          1993,
          1996.876893939394,
          1992,
          1965,
          2017,
          1996.876893939394,
          1984,
          2015,
          2013,
          1996.876893939394,
          1996.876893939394,
          1996.876893939394,
          1996.876893939394,
          1996.876893939394,
          1996.876893939394,
          1996.876893939394,
          1996.876893939394,
          1996.876893939394,
          1996.876893939394,
          1996.876893939394,
          1996.876893939394,
          1996.876893939394,
          1996.876893939394,
          1996.876893939394,
          1996.876893939394,
          1981,
          1993,
          2016,
          2010,
          1994,
          1987,
          1995,
          1974,
          1980,
          1957,
          2002,
          2012,
          1996.876893939394,
          1999,
          1990,
          1981,
          1996,
          1988,
          1996.876893939394,
          1996,
          2013,
          2004,
          2009,
          2012,
          1996.876893939394,
          1995,
          1976,
          2005,
          2013,
          2005,
          1999,
          1996.876893939394,
          1996.876893939394,
          1996.876893939394,
          2006,
          1996.876893939394,
          1996.876893939394,
          1987,
          2009,
          1995,
          1996.876893939394,
          2002,
          1975,
          2006,
          2015,
          1996.876893939394,
          1996.876893939394,
          1996.876893939394,
          1996.876893939394,
          1996.876893939394,
          1986,
          2010,
          1996.876893939394,
          1998,
          1991,
          1996.876893939394,
          1996.876893939394,
          1996.876893939394,
          1996.876893939394,
          1996.876893939394,
          2007,
          1996.876893939394,
          1993,
          2016,
          1996.876893939394,
          1996.876893939394,
          1996.876893939394,
          1996.876893939394
         ]
        }
       ],
       "layout": {
        "legend": {
         "tracegroupgap": 0
        },
        "piecolorway": [
         "rgb(141,211,199)",
         "rgb(255,255,179)",
         "rgb(190,186,218)",
         "rgb(251,128,114)",
         "rgb(128,177,211)",
         "rgb(253,180,98)",
         "rgb(179,222,105)",
         "rgb(252,205,229)",
         "rgb(217,217,217)",
         "rgb(188,128,189)",
         "rgb(204,235,197)",
         "rgb(255,237,111)"
        ],
        "template": {
         "data": {
          "bar": [
           {
            "error_x": {
             "color": "#2a3f5f"
            },
            "error_y": {
             "color": "#2a3f5f"
            },
            "marker": {
             "line": {
              "color": "#E5ECF6",
              "width": 0.5
             },
             "pattern": {
              "fillmode": "overlay",
              "size": 10,
              "solidity": 0.2
             }
            },
            "type": "bar"
           }
          ],
          "barpolar": [
           {
            "marker": {
             "line": {
              "color": "#E5ECF6",
              "width": 0.5
             },
             "pattern": {
              "fillmode": "overlay",
              "size": 10,
              "solidity": 0.2
             }
            },
            "type": "barpolar"
           }
          ],
          "carpet": [
           {
            "aaxis": {
             "endlinecolor": "#2a3f5f",
             "gridcolor": "white",
             "linecolor": "white",
             "minorgridcolor": "white",
             "startlinecolor": "#2a3f5f"
            },
            "baxis": {
             "endlinecolor": "#2a3f5f",
             "gridcolor": "white",
             "linecolor": "white",
             "minorgridcolor": "white",
             "startlinecolor": "#2a3f5f"
            },
            "type": "carpet"
           }
          ],
          "choropleth": [
           {
            "colorbar": {
             "outlinewidth": 0,
             "ticks": ""
            },
            "type": "choropleth"
           }
          ],
          "contour": [
           {
            "colorbar": {
             "outlinewidth": 0,
             "ticks": ""
            },
            "colorscale": [
             [
              0,
              "#0d0887"
             ],
             [
              0.1111111111111111,
              "#46039f"
             ],
             [
              0.2222222222222222,
              "#7201a8"
             ],
             [
              0.3333333333333333,
              "#9c179e"
             ],
             [
              0.4444444444444444,
              "#bd3786"
             ],
             [
              0.5555555555555556,
              "#d8576b"
             ],
             [
              0.6666666666666666,
              "#ed7953"
             ],
             [
              0.7777777777777778,
              "#fb9f3a"
             ],
             [
              0.8888888888888888,
              "#fdca26"
             ],
             [
              1,
              "#f0f921"
             ]
            ],
            "type": "contour"
           }
          ],
          "contourcarpet": [
           {
            "colorbar": {
             "outlinewidth": 0,
             "ticks": ""
            },
            "type": "contourcarpet"
           }
          ],
          "heatmap": [
           {
            "colorbar": {
             "outlinewidth": 0,
             "ticks": ""
            },
            "colorscale": [
             [
              0,
              "#0d0887"
             ],
             [
              0.1111111111111111,
              "#46039f"
             ],
             [
              0.2222222222222222,
              "#7201a8"
             ],
             [
              0.3333333333333333,
              "#9c179e"
             ],
             [
              0.4444444444444444,
              "#bd3786"
             ],
             [
              0.5555555555555556,
              "#d8576b"
             ],
             [
              0.6666666666666666,
              "#ed7953"
             ],
             [
              0.7777777777777778,
              "#fb9f3a"
             ],
             [
              0.8888888888888888,
              "#fdca26"
             ],
             [
              1,
              "#f0f921"
             ]
            ],
            "type": "heatmap"
           }
          ],
          "heatmapgl": [
           {
            "colorbar": {
             "outlinewidth": 0,
             "ticks": ""
            },
            "colorscale": [
             [
              0,
              "#0d0887"
             ],
             [
              0.1111111111111111,
              "#46039f"
             ],
             [
              0.2222222222222222,
              "#7201a8"
             ],
             [
              0.3333333333333333,
              "#9c179e"
             ],
             [
              0.4444444444444444,
              "#bd3786"
             ],
             [
              0.5555555555555556,
              "#d8576b"
             ],
             [
              0.6666666666666666,
              "#ed7953"
             ],
             [
              0.7777777777777778,
              "#fb9f3a"
             ],
             [
              0.8888888888888888,
              "#fdca26"
             ],
             [
              1,
              "#f0f921"
             ]
            ],
            "type": "heatmapgl"
           }
          ],
          "histogram": [
           {
            "marker": {
             "pattern": {
              "fillmode": "overlay",
              "size": 10,
              "solidity": 0.2
             }
            },
            "type": "histogram"
           }
          ],
          "histogram2d": [
           {
            "colorbar": {
             "outlinewidth": 0,
             "ticks": ""
            },
            "colorscale": [
             [
              0,
              "#0d0887"
             ],
             [
              0.1111111111111111,
              "#46039f"
             ],
             [
              0.2222222222222222,
              "#7201a8"
             ],
             [
              0.3333333333333333,
              "#9c179e"
             ],
             [
              0.4444444444444444,
              "#bd3786"
             ],
             [
              0.5555555555555556,
              "#d8576b"
             ],
             [
              0.6666666666666666,
              "#ed7953"
             ],
             [
              0.7777777777777778,
              "#fb9f3a"
             ],
             [
              0.8888888888888888,
              "#fdca26"
             ],
             [
              1,
              "#f0f921"
             ]
            ],
            "type": "histogram2d"
           }
          ],
          "histogram2dcontour": [
           {
            "colorbar": {
             "outlinewidth": 0,
             "ticks": ""
            },
            "colorscale": [
             [
              0,
              "#0d0887"
             ],
             [
              0.1111111111111111,
              "#46039f"
             ],
             [
              0.2222222222222222,
              "#7201a8"
             ],
             [
              0.3333333333333333,
              "#9c179e"
             ],
             [
              0.4444444444444444,
              "#bd3786"
             ],
             [
              0.5555555555555556,
              "#d8576b"
             ],
             [
              0.6666666666666666,
              "#ed7953"
             ],
             [
              0.7777777777777778,
              "#fb9f3a"
             ],
             [
              0.8888888888888888,
              "#fdca26"
             ],
             [
              1,
              "#f0f921"
             ]
            ],
            "type": "histogram2dcontour"
           }
          ],
          "mesh3d": [
           {
            "colorbar": {
             "outlinewidth": 0,
             "ticks": ""
            },
            "type": "mesh3d"
           }
          ],
          "parcoords": [
           {
            "line": {
             "colorbar": {
              "outlinewidth": 0,
              "ticks": ""
             }
            },
            "type": "parcoords"
           }
          ],
          "pie": [
           {
            "automargin": true,
            "type": "pie"
           }
          ],
          "scatter": [
           {
            "marker": {
             "colorbar": {
              "outlinewidth": 0,
              "ticks": ""
             }
            },
            "type": "scatter"
           }
          ],
          "scatter3d": [
           {
            "line": {
             "colorbar": {
              "outlinewidth": 0,
              "ticks": ""
             }
            },
            "marker": {
             "colorbar": {
              "outlinewidth": 0,
              "ticks": ""
             }
            },
            "type": "scatter3d"
           }
          ],
          "scattercarpet": [
           {
            "marker": {
             "colorbar": {
              "outlinewidth": 0,
              "ticks": ""
             }
            },
            "type": "scattercarpet"
           }
          ],
          "scattergeo": [
           {
            "marker": {
             "colorbar": {
              "outlinewidth": 0,
              "ticks": ""
             }
            },
            "type": "scattergeo"
           }
          ],
          "scattergl": [
           {
            "marker": {
             "colorbar": {
              "outlinewidth": 0,
              "ticks": ""
             }
            },
            "type": "scattergl"
           }
          ],
          "scattermapbox": [
           {
            "marker": {
             "colorbar": {
              "outlinewidth": 0,
              "ticks": ""
             }
            },
            "type": "scattermapbox"
           }
          ],
          "scatterpolar": [
           {
            "marker": {
             "colorbar": {
              "outlinewidth": 0,
              "ticks": ""
             }
            },
            "type": "scatterpolar"
           }
          ],
          "scatterpolargl": [
           {
            "marker": {
             "colorbar": {
              "outlinewidth": 0,
              "ticks": ""
             }
            },
            "type": "scatterpolargl"
           }
          ],
          "scatterternary": [
           {
            "marker": {
             "colorbar": {
              "outlinewidth": 0,
              "ticks": ""
             }
            },
            "type": "scatterternary"
           }
          ],
          "surface": [
           {
            "colorbar": {
             "outlinewidth": 0,
             "ticks": ""
            },
            "colorscale": [
             [
              0,
              "#0d0887"
             ],
             [
              0.1111111111111111,
              "#46039f"
             ],
             [
              0.2222222222222222,
              "#7201a8"
             ],
             [
              0.3333333333333333,
              "#9c179e"
             ],
             [
              0.4444444444444444,
              "#bd3786"
             ],
             [
              0.5555555555555556,
              "#d8576b"
             ],
             [
              0.6666666666666666,
              "#ed7953"
             ],
             [
              0.7777777777777778,
              "#fb9f3a"
             ],
             [
              0.8888888888888888,
              "#fdca26"
             ],
             [
              1,
              "#f0f921"
             ]
            ],
            "type": "surface"
           }
          ],
          "table": [
           {
            "cells": {
             "fill": {
              "color": "#EBF0F8"
             },
             "line": {
              "color": "white"
             }
            },
            "header": {
             "fill": {
              "color": "#C8D4E3"
             },
             "line": {
              "color": "white"
             }
            },
            "type": "table"
           }
          ]
         },
         "layout": {
          "annotationdefaults": {
           "arrowcolor": "#2a3f5f",
           "arrowhead": 0,
           "arrowwidth": 1
          },
          "autotypenumbers": "strict",
          "coloraxis": {
           "colorbar": {
            "outlinewidth": 0,
            "ticks": ""
           }
          },
          "colorscale": {
           "diverging": [
            [
             0,
             "#8e0152"
            ],
            [
             0.1,
             "#c51b7d"
            ],
            [
             0.2,
             "#de77ae"
            ],
            [
             0.3,
             "#f1b6da"
            ],
            [
             0.4,
             "#fde0ef"
            ],
            [
             0.5,
             "#f7f7f7"
            ],
            [
             0.6,
             "#e6f5d0"
            ],
            [
             0.7,
             "#b8e186"
            ],
            [
             0.8,
             "#7fbc41"
            ],
            [
             0.9,
             "#4d9221"
            ],
            [
             1,
             "#276419"
            ]
           ],
           "sequential": [
            [
             0,
             "#0d0887"
            ],
            [
             0.1111111111111111,
             "#46039f"
            ],
            [
             0.2222222222222222,
             "#7201a8"
            ],
            [
             0.3333333333333333,
             "#9c179e"
            ],
            [
             0.4444444444444444,
             "#bd3786"
            ],
            [
             0.5555555555555556,
             "#d8576b"
            ],
            [
             0.6666666666666666,
             "#ed7953"
            ],
            [
             0.7777777777777778,
             "#fb9f3a"
            ],
            [
             0.8888888888888888,
             "#fdca26"
            ],
            [
             1,
             "#f0f921"
            ]
           ],
           "sequentialminus": [
            [
             0,
             "#0d0887"
            ],
            [
             0.1111111111111111,
             "#46039f"
            ],
            [
             0.2222222222222222,
             "#7201a8"
            ],
            [
             0.3333333333333333,
             "#9c179e"
            ],
            [
             0.4444444444444444,
             "#bd3786"
            ],
            [
             0.5555555555555556,
             "#d8576b"
            ],
            [
             0.6666666666666666,
             "#ed7953"
            ],
            [
             0.7777777777777778,
             "#fb9f3a"
            ],
            [
             0.8888888888888888,
             "#fdca26"
            ],
            [
             1,
             "#f0f921"
            ]
           ]
          },
          "colorway": [
           "#636efa",
           "#EF553B",
           "#00cc96",
           "#ab63fa",
           "#FFA15A",
           "#19d3f3",
           "#FF6692",
           "#B6E880",
           "#FF97FF",
           "#FECB52"
          ],
          "font": {
           "color": "#2a3f5f"
          },
          "geo": {
           "bgcolor": "white",
           "lakecolor": "white",
           "landcolor": "#E5ECF6",
           "showlakes": true,
           "showland": true,
           "subunitcolor": "white"
          },
          "hoverlabel": {
           "align": "left"
          },
          "hovermode": "closest",
          "mapbox": {
           "style": "light"
          },
          "paper_bgcolor": "white",
          "plot_bgcolor": "#E5ECF6",
          "polar": {
           "angularaxis": {
            "gridcolor": "white",
            "linecolor": "white",
            "ticks": ""
           },
           "bgcolor": "#E5ECF6",
           "radialaxis": {
            "gridcolor": "white",
            "linecolor": "white",
            "ticks": ""
           }
          },
          "scene": {
           "xaxis": {
            "backgroundcolor": "#E5ECF6",
            "gridcolor": "white",
            "gridwidth": 2,
            "linecolor": "white",
            "showbackground": true,
            "ticks": "",
            "zerolinecolor": "white"
           },
           "yaxis": {
            "backgroundcolor": "#E5ECF6",
            "gridcolor": "white",
            "gridwidth": 2,
            "linecolor": "white",
            "showbackground": true,
            "ticks": "",
            "zerolinecolor": "white"
           },
           "zaxis": {
            "backgroundcolor": "#E5ECF6",
            "gridcolor": "white",
            "gridwidth": 2,
            "linecolor": "white",
            "showbackground": true,
            "ticks": "",
            "zerolinecolor": "white"
           }
          },
          "shapedefaults": {
           "line": {
            "color": "#2a3f5f"
           }
          },
          "ternary": {
           "aaxis": {
            "gridcolor": "white",
            "linecolor": "white",
            "ticks": ""
           },
           "baxis": {
            "gridcolor": "white",
            "linecolor": "white",
            "ticks": ""
           },
           "bgcolor": "#E5ECF6",
           "caxis": {
            "gridcolor": "white",
            "linecolor": "white",
            "ticks": ""
           }
          },
          "title": {
           "x": 0.05
          },
          "xaxis": {
           "automargin": true,
           "gridcolor": "white",
           "linecolor": "white",
           "ticks": "",
           "title": {
            "standoff": 15
           },
           "zerolinecolor": "white",
           "zerolinewidth": 2
          },
          "yaxis": {
           "automargin": true,
           "gridcolor": "white",
           "linecolor": "white",
           "ticks": "",
           "title": {
            "standoff": 15
           },
           "zerolinecolor": "white",
           "zerolinewidth": 2
          }
         }
        },
        "title": {
         "text": "primary fuel% with respect to commisioning year"
        }
       }
      },
      "text/html": [
       "<div>                            <div id=\"9bed119f-e836-4a7c-9d17-5798dbf1a796\" class=\"plotly-graph-div\" style=\"height:525px; width:100%;\"></div>            <script type=\"text/javascript\">                require([\"plotly\"], function(Plotly) {                    window.PLOTLYENV=window.PLOTLYENV || {};                                    if (document.getElementById(\"9bed119f-e836-4a7c-9d17-5798dbf1a796\")) {                    Plotly.newPlot(                        \"9bed119f-e836-4a7c-9d17-5798dbf1a796\",                        [{\"domain\":{\"x\":[0.0,1.0],\"y\":[0.0,1.0]},\"hovertemplate\":\"primary_fuel=%{label}<br>commissioning_year=%{value}<extra></extra>\",\"labels\":[\"Solar\",\"Coal\",\"Wind\",\"Gas\",\"Coal\",\"Coal\",\"Hydro\",\"Hydro\",\"Hydro\",\"Coal\",\"Coal\",\"Hydro\",\"Coal\",\"Hydro\",\"Hydro\",\"Coal\",\"Gas\",\"Coal\",\"Coal\",\"Biomass\",\"Biomass\",\"Biomass\",\"Gas\",\"Coal\",\"Coal\",\"Solar\",\"Solar\",\"Wind\",\"Solar\",\"Wind\",\"Wind\",\"Wind\",\"Solar\",\"Solar\",\"Solar\",\"Solar\",\"Solar\",\"Solar\",\"Solar\",\"Oil\",\"Coal\",\"Biomass\",\"Hydro\",\"Hydro\",\"Hydro\",\"Coal\",\"Coal\",\"Hydro\",\"Coal\",\"Coal\",\"Coal\",\"Coal\",\"Hydro\",\"Hydro\",\"Hydro\",\"Hydro\",\"Hydro\",\"Coal\",\"Coal\",\"Gas\",\"Coal\",\"Hydro\",\"Coal\",\"Coal\",\"Coal\",\"Gas\",\"Hydro\",\"Hydro\",\"Wind\",\"Wind\",\"Coal\",\"Biomass\",\"Biomass\",\"Oil\",\"Coal\",\"Coal\",\"Coal\",\"Hydro\",\"Coal\",\"Hydro\",\"Coal\",\"Biomass\",\"Hydro\",\"Hydro\",\"Hydro\",\"Coal\",\"Hydro\",\"Hydro\",\"Hydro\",\"Coal\",\"Coal\",\"Hydro\",\"Hydro\",\"Hydro\",\"Coal\",\"Biomass\",\"Coal\",\"Coal\",\"Coal\",\"Coal\",\"Hydro\",\"Hydro\",\"Coal\",\"Coal\",\"Coal\",\"Wind\",\"Oil\",\"Gas\",\"Coal\",\"Hydro\",\"Oil\",\"Coal\",\"Solar\",\"Solar\",\"Wind\",\"Solar\",\"Solar\",\"Solar\",\"Solar\",\"Solar\",\"Solar\",\"Solar\",\"Solar\",\"Wind\",\"Wind\",\"Wind\",\"Wind\",\"Wind\",\"Solar\",\"Wind\",\"Solar\",\"Solar\",\"Solar\",\"Solar\",\"Coal\",\"Hydro\",\"Hydro\",\"Hydro\",\"Coal\",\"Coal\",\"Coal\",\"Coal\",\"Coal\",\"Coal\",\"Coal\",\"Hydro\",\"Hydro\",\"Hydro\",\"Coal\",\"Hydro\",\"Hydro\",\"Hydro\",\"Hydro\",\"Biomass\",\"Solar\",\"Solar\",\"Wind\",\"Solar\",\"Coal\",\"Coal\",\"Gas\",\"Nuclear\",\"Coal\",\"Coal\",\"Coal\",\"Biomass\",\"Biomass\",\"Hydro\",\"Coal\",\"Gas\",\"Hydro\",\"Hydro\",\"Coal\",\"Coal\",\"Hydro\",\"Gas\",\"Gas\",\"Oil\",\"Hydro\",\"Hydro\",\"Gas\",\"Biomass\",\"Oil\",\"Hydro\",\"Hydro\",\"Hydro\",\"Biomass\",\"Hydro\",\"Coal\",\"Coal\",\"Coal\",\"Solar\",\"Gas\",\"Wind\",\"Solar\",\"Wind\",\"Solar\",\"Solar\",\"Solar\",\"Solar\",\"Solar\",\"Solar\",\"Hydro\",\"Hydro\",\"Wind\",\"Gas\",\"Wind\",\"Wind\",\"Wind\",\"Wind\",\"Coal\",\"Gas\",\"Wind\",\"Gas\",\"Wind\",\"Gas\",\"Hydro\",\"Gas\",\"Gas\",\"Hydro\",\"Coal\",\"Hydro\",\"Hydro\",\"Gas\",\"Coal\",\"Wind\",\"Hydro\",\"Hydro\",\"Hydro\",\"Coal\",\"Coal\",\"Hydro\",\"Wind\",\"Coal\",\"Coal\",\"Gas\",\"Coal\",\"Coal\",\"Gas\",\"Coal\",\"Hydro\",\"Wind\",\"Solar\",\"Solar\",\"Solar\",\"Solar\",\"Solar\",\"Solar\",\"Solar\",\"Wind\",\"Solar\",\"Solar\",\"Solar\",\"Solar\",\"Coal\",\"Hydro\",\"Biomass\",\"Hydro\",\"Biomass\",\"Gas\",\"Gas\",\"Biomass\",\"Hydro\",\"Biomass\",\"Wind\",\"Wind\",\"Wind\",\"Wind\",\"Wind\",\"Coal\",\"Wind\",\"Solar\",\"Coal\",\"Gas\",\"Hydro\",\"Hydro\",\"Coal\",\"Wind\",\"Coal\",\"Coal\",\"Hydro\",\"Coal\",\"Coal\",\"Wind\",\"Solar\",\"Solar\",\"Hydro\",\"Biomass\",\"Hydro\",\"Coal\",\"Coal\",\"Coal\",\"Coal\",\"Coal\",\"Gas\",\"Hydro\",\"Coal\",\"Hydro\",\"Coal\",\"Solar\",\"Solar\",\"Wind\",\"Wind\",\"Wind\",\"Wind\",\"Wind\",\"Hydro\",\"Hydro\",\"Hydro\",\"Coal\",\"Nuclear\",\"Coal\",\"Hydro\",\"Nuclear\",\"Hydro\",\"Hydro\",\"Coal\",\"Hydro\",\"Coal\",\"Coal\",\"Coal\",\"Hydro\",\"Biomass\",\"Gas\",\"Hydro\",\"Hydro\",\"Hydro\",\"Gas\",\"Coal\",\"Oil\",\"Hydro\",\"Gas\",\"Coal\",\"Coal\",\"Gas\",\"Coal\",\"Gas\",\"Gas\",\"Biomass\",\"Hydro\",\"Coal\",\"Hydro\",\"Hydro\",\"Hydro\",\"Hydro\",\"Hydro\",\"Coal\",\"Hydro\",\"Biomass\",\"Hydro\",\"Hydro\",\"Coal\",\"Oil\",\"Coal\",\"Hydro\",\"Biomass\",\"Biomass\",\"Biomass\",\"Biomass\",\"Gas\",\"Gas\",\"Hydro\",\"Biomass\",\"Coal\",\"Coal\",\"Coal\",\"Coal\",\"Coal\",\"Hydro\",\"Coal\",\"Coal\",\"Hydro\",\"Hydro\",\"Gas\",\"Hydro\",\"Wind\",\"Coal\",\"Hydro\",\"Hydro\",\"Nuclear\",\"Biomass\",\"Coal\",\"Coal\",\"Hydro\",\"Gas\",\"Hydro\",\"Hydro\",\"Solar\",\"Coal\",\"Hydro\",\"Coal\",\"Coal\",\"Coal\",\"Wind\",\"Solar\",\"Solar\",\"Wind\",\"Solar\",\"Solar\",\"Solar\",\"Solar\",\"Solar\",\"Solar\",\"Solar\",\"Solar\",\"Solar\",\"Solar\",\"Solar\",\"Solar\",\"Wind\",\"Wind\",\"Solar\",\"Wind\",\"Wind\",\"Wind\",\"Nuclear\",\"Coal\",\"Gas\",\"Coal\",\"Coal\",\"Hydro\",\"Oil\",\"Hydro\",\"Hydro\",\"Wind\",\"Wind\",\"Oil\",\"Biomass\",\"Hydro\",\"Hydro\",\"Hydro\",\"Hydro\",\"Hydro\",\"Hydro\",\"Hydro\",\"Wind\",\"Oil\",\"Solar\",\"Solar\",\"Solar\",\"Wind\",\"Wind\",\"Solar\",\"Wind\",\"Nuclear\",\"Hydro\",\"Hydro\",\"Hydro\",\"Coal\",\"Coal\",\"Coal\",\"Biomass\",\"Hydro\",\"Oil\",\"Coal\",\"Hydro\",\"Coal\",\"Hydro\",\"Hydro\",\"Hydro\",\"Gas\",\"Gas\",\"Coal\",\"Hydro\",\"Hydro\",\"Coal\",\"Hydro\",\"Coal\",\"Coal\",\"Coal\",\"Hydro\",\"Coal\",\"Coal\",\"Coal\",\"Coal\",\"Coal\",\"Hydro\",\"Coal\",\"Coal\",\"Hydro\",\"Hydro\",\"Gas\",\"Coal\",\"Coal\",\"Hydro\",\"Hydro\",\"Wind\",\"Wind\",\"Coal\",\"Hydro\",\"Coal\",\"Gas\",\"Oil\",\"Gas\",\"Coal\",\"Coal\",\"Hydro\",\"Biomass\",\"Coal\",\"Coal\",\"Hydro\",\"Wind\",\"Solar\",\"Solar\",\"Solar\",\"Solar\",\"Solar\",\"Wind\",\"Wind\",\"Solar\",\"Solar\",\"Nuclear\",\"Coal\",\"Hydro\",\"Hydro\",\"Coal\",\"Oil\",\"Biomass\",\"Biomass\",\"Coal\",\"Gas\",\"Biomass\",\"Hydro\",\"Hydro\",\"Coal\",\"Coal\",\"Coal\",\"Hydro\",\"Coal\",\"Coal\",\"Hydro\",\"Coal\",\"Coal\",\"Coal\",\"Coal\",\"Coal\",\"Coal\",\"Coal\",\"Hydro\",\"Hydro\",\"Coal\",\"Coal\",\"Hydro\",\"Wind\",\"Coal\",\"Coal\",\"Wind\",\"Hydro\",\"Hydro\",\"Hydro\",\"Wind\",\"Wind\",\"Solar\",\"Wind\",\"Wind\",\"Solar\",\"Solar\",\"Solar\",\"Wind\",\"Hydro\",\"Coal\",\"Hydro\",\"Wind\",\"Wind\",\"Gas\",\"Gas\",\"Coal\",\"Hydro\",\"Gas\",\"Hydro\",\"Oil\",\"Hydro\",\"Coal\",\"Coal\",\"Hydro\",\"Hydro\",\"Coal\",\"Hydro\",\"Biomass\",\"Coal\",\"Coal\",\"Hydro\",\"Gas\",\"Coal\",\"Hydro\",\"Hydro\",\"Gas\",\"Hydro\",\"Hydro\",\"Hydro\",\"Gas\",\"Hydro\",\"Hydro\",\"Hydro\",\"Hydro\",\"Gas\",\"Gas\",\"Hydro\",\"Coal\",\"Hydro\",\"Coal\",\"Hydro\",\"Hydro\",\"Hydro\",\"Solar\",\"Wind\",\"Wind\",\"Wind\",\"Solar\",\"Solar\",\"Solar\",\"Solar\",\"Wind\",\"Wind\",\"Wind\",\"Wind\",\"Solar\",\"Solar\",\"Solar\",\"Nuclear\",\"Hydro\",\"Coal\",\"Hydro\",\"Coal\",\"Coal\",\"Coal\",\"Coal\",\"Coal\",\"Coal\",\"Coal\",\"Hydro\",\"Coal\",\"Coal\",\"Coal\",\"Biomass\",\"Hydro\",\"Gas\",\"Hydro\",\"Hydro\",\"Hydro\",\"Hydro\",\"Biomass\",\"Hydro\",\"Coal\",\"Coal\",\"Gas\",\"Coal\",\"Gas\",\"Hydro\",\"Coal\",\"Hydro\",\"Gas\",\"Hydro\",\"Gas\",\"Coal\",\"Coal\",\"Wind\",\"Coal\",\"Coal\",\"Solar\",\"Solar\",\"Solar\",\"Solar\",\"Solar\",\"Solar\",\"Solar\",\"Wind\",\"Solar\",\"Solar\",\"Solar\",\"Solar\",\"Wind\",\"Wind\",\"Solar\",\"Wind\",\"Wind\",\"Hydro\",\"Hydro\",\"Hydro\",\"Coal\",\"Biomass\",\"Hydro\",\"Hydro\",\"Coal\",\"Coal\",\"Oil\",\"Oil\",\"Biomass\",\"Biomass\",\"Biomass\",\"Biomass\",\"Hydro\",\"Coal\",\"Biomass\",\"Coal\",\"Hydro\",\"Coal\",\"Coal\",\"Coal\",\"Biomass\",\"Coal\",\"Coal\",\"Hydro\",\"Hydro\",\"Hydro\",\"Hydro\",\"Hydro\",\"Hydro\",\"Hydro\",\"Hydro\",\"Hydro\",\"Biomass\",\"Coal\",\"Hydro\",\"Hydro\",\"Hydro\",\"Coal\",\"Biomass\",\"Biomass\",\"Coal\",\"Wind\",\"Coal\",\"Coal\",\"Coal\",\"Coal\",\"Coal\",\"Hydro\",\"Coal\",\"Coal\",\"Hydro\",\"Coal\",\"Biomass\",\"Hydro\",\"Hydro\",\"Coal\",\"Hydro\",\"Hydro\",\"Hydro\",\"Hydro\",\"Coal\",\"Hydro\",\"Gas\",\"Hydro\",\"Coal\",\"Coal\",\"Hydro\",\"Hydro\",\"Coal\",\"Coal\",\"Wind\",\"Wind\",\"Wind\",\"Solar\",\"Solar\",\"Wind\",\"Solar\",\"Solar\",\"Solar\",\"Wind\",\"Solar\",\"Solar\",\"Solar\",\"Solar\",\"Solar\",\"Solar\",\"Wind\",\"Wind\",\"Wind\",\"Coal\",\"Solar\",\"Solar\",\"Wind\",\"Solar\",\"Wind\",\"Wind\",\"Wind\",\"Wind\",\"Wind\",\"Wind\",\"Wind\",\"Solar\",\"Wind\",\"Hydro\",\"Coal\",\"Coal\",\"Hydro\",\"Coal\",\"Coal\",\"Coal\",\"Coal\",\"Hydro\",\"Coal\",\"Gas\",\"Nuclear\",\"Hydro\",\"Hydro\",\"Hydro\",\"Hydro\",\"Hydro\",\"Hydro\",\"Hydro\",\"Hydro\",\"Coal\",\"Gas\",\"Coal\",\"Oil\",\"Hydro\",\"Hydro\",\"Hydro\",\"Coal\",\"Coal\",\"Coal\",\"Coal\",\"Coal\",\"Oil\",\"Gas\",\"Gas\",\"Coal\",\"Oil\",\"Hydro\",\"Biomass\",\"Coal\",\"Coal\",\"Coal\",\"Wind\",\"Wind\",\"Wind\",\"Wind\",\"Solar\",\"Wind\",\"Solar\",\"Wind\",\"Wind\",\"Solar\",\"Wind\",\"Wind\",\"Solar\",\"Wind\",\"Wind\",\"Wind\",\"Hydro\",\"Hydro\",\"Coal\",\"Coal\",\"Hydro\",\"Hydro\",\"Coal\",\"Hydro\",\"Hydro\",\"Hydro\",\"Coal\",\"Gas\",\"Wind\",\"Hydro\",\"Hydro\",\"Hydro\",\"Hydro\",\"Gas\",\"Gas\",\"Hydro\",\"Hydro\",\"Hydro\",\"Gas\",\"Coal\",\"Wind\",\"Hydro\",\"Hydro\",\"Gas\",\"Coal\",\"Gas\",\"Hydro\",\"Coal\",\"Coal\",\"Coal\",\"Gas\",\"Biomass\",\"Gas\",\"Coal\",\"Coal\",\"Gas\",\"Coal\",\"Coal\",\"Hydro\",\"Hydro\",\"Coal\",\"Wind\",\"Wind\",\"Wind\",\"Solar\",\"Coal\",\"Coal\",\"Coal\",\"Coal\",\"Hydro\",\"Hydro\",\"Solar\",\"Solar\",\"Wind\",\"Wind\",\"Wind\",\"Coal\",\"Biomass\",\"Oil\",\"Coal\",\"Solar\",\"Wind\",\"Coal\",\"Wind\"],\"legendgroup\":\"\",\"name\":\"\",\"showlegend\":true,\"values\":[2011.0,1996.876893939394,1996.876893939394,2004.0,2015.0,2005.0,1970.0,2010.0,2004.0,2008.0,2014.0,1985.0,2011.0,1986.0,1987.0,2000.0,1989.0,1996.876893939394,2015.0,1996.876893939394,1996.876893939394,1996.876893939394,1989.0,2017.0,1996.876893939394,2015.0,1996.876893939394,1996.876893939394,1996.876893939394,1996.876893939394,1996.876893939394,1996.876893939394,1996.876893939394,1996.876893939394,1996.876893939394,1996.876893939394,1996.876893939394,1996.876893939394,1996.876893939394,1998.0,1977.0,1996.876893939394,2008.0,2015.0,1980.0,2003.0,2015.0,1984.0,1996.876893939394,1996.876893939394,2015.0,1973.0,1996.0,1991.0,2002.0,2001.0,2006.0,1996.876893939394,2014.0,2006.0,2007.0,1988.0,2014.0,2011.0,2010.0,1996.0,2003.0,1973.0,1996.876893939394,1996.876893939394,1996.876893939394,1996.876893939394,1996.876893939394,2000.0,1996.876893939394,1996.876893939394,2012.0,1968.0,1996.876893939394,1964.0,1996.876893939394,1996.876893939394,1996.0,1977.0,1991.0,2016.0,2013.0,2012.0,2006.0,1996.876893939394,2008.0,1962.0,1987.0,1998.0,2007.0,1996.876893939394,1996.876893939394,2012.0,1996.876893939394,2017.0,1984.0,1991.0,2016.0,1993.0,2016.0,1996.876893939394,1997.0,1999.0,2001.0,2012.0,1996.876893939394,2013.0,1996.876893939394,1996.876893939394,1996.876893939394,1996.876893939394,1996.876893939394,1996.876893939394,1996.876893939394,1996.876893939394,1996.876893939394,1996.876893939394,1996.876893939394,1996.876893939394,1996.876893939394,1996.876893939394,1996.876893939394,1996.876893939394,1996.876893939394,1996.876893939394,1996.876893939394,1996.876893939394,1996.876893939394,1996.876893939394,2010.0,2003.0,1994.0,2012.0,1996.876893939394,1996.876893939394,1996.876893939394,1996.876893939394,1996.876893939394,2000.0,1999.0,2017.0,2004.0,1980.0,2013.0,1975.0,1980.0,2012.0,2013.0,1996.876893939394,1996.876893939394,1996.876893939394,1996.876893939394,1996.876893939394,2005.0,2001.0,1992.0,1972.0,1996.876893939394,2014.0,1996.876893939394,1996.876893939394,1996.876893939394,1979.0,2014.0,2014.0,1967.0,1967.0,1995.0,2013.0,2005.0,2007.0,2010.0,1996.876893939394,2017.0,1997.0,1997.0,1996.876893939394,1996.876893939394,1983.0,2000.0,2000.0,1996.876893939394,2007.0,1996.876893939394,1981.0,2011.0,1996.876893939394,1996.876893939394,1996.876893939394,1996.876893939394,1996.876893939394,1996.876893939394,1996.876893939394,1996.876893939394,2014.0,2013.0,1996.876893939394,1996.0,1968.0,1996.876893939394,1995.0,1996.876893939394,1996.876893939394,1996.876893939394,1996.876893939394,1995.0,1999.0,1996.876893939394,1994.0,1996.876893939394,1996.876893939394,1996.0,2016.0,1994.0,1959.0,1993.0,1961.0,1957.0,2008.0,2012.0,1996.876893939394,2000.0,1992.0,2008.0,2003.0,1996.876893939394,1978.0,1996.876893939394,2013.0,1976.0,1997.0,2016.0,1996.876893939394,2015.0,1996.876893939394,1979.0,1996.876893939394,1996.876893939394,1996.876893939394,1996.876893939394,1996.876893939394,2013.0,1996.876893939394,1996.876893939394,1996.876893939394,1996.876893939394,2014.0,1996.876893939394,1996.876893939394,2015.0,1961.0,1996.876893939394,1994.0,1996.876893939394,2001.0,2012.0,1996.876893939394,1963.0,1996.876893939394,1996.876893939394,1996.876893939394,1996.876893939394,1996.876893939394,1996.876893939394,2005.0,1996.876893939394,1996.876893939394,1994.0,1989.0,1987.0,1980.0,2013.0,1996.876893939394,2016.0,2017.0,2004.0,2011.0,2015.0,1996.876893939394,1996.876893939394,1996.876893939394,1973.0,1996.876893939394,1971.0,2011.0,1996.876893939394,1996.876893939394,1996.876893939394,1996.876893939394,2003.0,1963.0,2000.0,2015.0,2010.0,1996.876893939394,1996.876893939394,1996.876893939394,1996.876893939394,1996.876893939394,1996.876893939394,1996.876893939394,1988.0,1994.0,1998.0,2003.0,2004.0,2012.0,1999.0,1993.0,1981.0,1985.0,2014.0,1994.0,1996.876893939394,1996.876893939394,2013.0,1991.0,1996.876893939394,2000.0,2007.0,2011.0,1995.0,2005.0,2011.0,1998.0,2016.0,2016.0,1996.876893939394,2012.0,1996.0,2013.0,1992.0,1998.0,1996.876893939394,1991.0,2011.0,1984.0,1992.0,1955.0,1984.0,2002.0,1996.876893939394,2018.0,1996.876893939394,1998.0,1970.0,2012.0,1999.0,1989.0,2015.0,1996.876893939394,1996.876893939394,1996.876893939394,1996.876893939394,2009.0,2009.0,1993.0,1996.876893939394,1996.876893939394,2009.0,1991.0,1991.0,1995.0,1973.0,1993.0,1996.876893939394,2011.0,1957.0,2001.0,1984.0,1996.876893939394,2017.0,1975.0,1966.0,2015.0,1996.876893939394,2012.0,1996.0,2001.0,2003.0,1983.0,2010.0,2013.0,1996.876893939394,1979.0,1972.0,2004.0,2000.0,1996.876893939394,1996.876893939394,1996.876893939394,1996.876893939394,1996.876893939394,1996.876893939394,1996.876893939394,1996.876893939394,1996.876893939394,1996.876893939394,1996.876893939394,1996.876893939394,1996.876893939394,1996.876893939394,1996.876893939394,1996.876893939394,1996.876893939394,1996.876893939394,1996.876893939394,1996.876893939394,1996.876893939394,1996.876893939394,1996.876893939394,1996.876893939394,1995.0,2015.0,2018.0,2006.0,1999.0,1979.0,2001.0,1996.876893939394,1996.876893939394,1996.876893939394,1996.876893939394,1983.0,1978.0,2015.0,1979.0,1988.0,1997.0,1976.0,1996.876893939394,2000.0,1996.876893939394,1996.876893939394,1996.876893939394,1996.876893939394,1996.876893939394,1996.876893939394,1996.876893939394,1984.0,1957.0,2003.0,2006.0,2012.0,2013.0,2012.0,1996.876893939394,1987.0,1996.876893939394,1996.876893939394,1957.0,2011.0,2006.0,1993.0,2002.0,1996.876893939394,2016.0,1996.876893939394,1993.0,1996.0,1996.876893939394,1994.0,2011.0,1996.876893939394,2015.0,1965.0,2018.0,2001.0,2010.0,2015.0,1988.0,1960.0,2012.0,2010.0,1949.0,1962.0,2015.0,1996.876893939394,2014.0,1993.0,1952.0,1996.876893939394,1996.876893939394,1996.876893939394,1987.0,1996.876893939394,1996.876893939394,1996.876893939394,1996.876893939394,2010.0,2012.0,1963.0,1996.876893939394,1996.876893939394,2005.0,2012.0,1996.876893939394,1996.876893939394,2014.0,1996.876893939394,1996.876893939394,1996.876893939394,1996.876893939394,1996.876893939394,1996.876893939394,1996.876893939394,1990.0,2016.0,1982.0,2017.0,1996.876893939394,1996.876893939394,1996.876893939394,1996.876893939394,1996.876893939394,1990.0,1996.876893939394,1998.0,1961.0,1980.0,1996.876893939394,2016.0,2003.0,2016.0,1996.876893939394,2017.0,2002.0,1966.0,1989.0,2013.0,2002.0,2014.0,1996.876893939394,2013.0,1937.0,1996.876893939394,2013.0,1956.0,1996.876893939394,1995.0,2013.0,1996.876893939394,1997.0,1992.0,1985.0,1996.876893939394,1996.876893939394,1996.876893939394,1996.876893939394,1996.876893939394,1996.876893939394,1996.876893939394,1996.876893939394,1996.876893939394,1970.0,1978.0,2007.0,1996.876893939394,1996.876893939394,2001.0,1997.0,2015.0,1984.0,2013.0,1970.0,1992.0,1975.0,2000.0,1976.0,1982.0,1946.0,2009.0,2014.0,1996.876893939394,2004.0,2002.0,2000.0,1996.876893939394,2009.0,1955.0,1988.0,2002.0,1986.0,1994.0,1960.0,2013.0,1987.0,1979.0,1958.0,1999.0,2012.0,2002.0,2009.0,2016.0,2016.0,1996.876893939394,2007.0,1943.0,2005.0,1996.876893939394,1996.876893939394,1996.876893939394,1996.876893939394,1996.876893939394,1996.876893939394,1996.876893939394,1996.876893939394,1996.876893939394,1996.876893939394,1996.876893939394,1996.876893939394,1996.876893939394,1996.876893939394,1996.876893939394,2000.0,1968.0,1996.876893939394,1952.0,2015.0,1996.0,1996.876893939394,2007.0,2015.0,1996.876893939394,1990.0,1999.0,2010.0,1996.876893939394,2014.0,1996.876893939394,1976.0,2008.0,1995.0,2013.0,2002.0,2000.0,1996.876893939394,2000.0,1996.876893939394,2014.0,2003.0,2008.0,1999.0,1988.0,2002.0,1962.0,2010.0,1992.0,2007.0,1988.0,2010.0,1996.876893939394,1970.0,1990.0,1996.876893939394,1996.876893939394,1996.876893939394,1996.876893939394,1996.876893939394,1996.876893939394,1996.876893939394,1996.876893939394,1996.876893939394,1996.876893939394,1996.876893939394,1996.876893939394,1996.876893939394,1996.876893939394,1996.876893939394,1996.876893939394,1996.876893939394,2004.0,2005.0,1966.0,2012.0,1996.876893939394,2017.0,1990.0,2012.0,2014.0,2001.0,2001.0,1996.876893939394,1996.876893939394,1996.876893939394,1996.876893939394,1989.0,2000.0,1996.876893939394,2009.0,1966.0,2013.0,1996.876893939394,1993.0,1996.876893939394,2016.0,2016.0,1977.0,1986.0,2010.0,2002.0,1997.0,1954.0,1969.0,2001.0,1939.0,1996.876893939394,2017.0,1992.0,1964.0,1971.0,1996.876893939394,1996.876893939394,1996.876893939394,1996.876893939394,1996.876893939394,2015.0,2006.0,2013.0,2016.0,1984.0,1999.0,2010.0,2016.0,1927.0,2017.0,1996.876893939394,1996.0,1993.0,1990.0,2015.0,1984.0,2001.0,1986.0,2010.0,1978.0,2008.0,1992.0,2004.0,2002.0,1978.0,1998.0,2011.0,2015.0,1996.876893939394,1996.876893939394,1996.876893939394,1996.876893939394,1996.876893939394,1996.876893939394,1996.876893939394,1996.876893939394,1996.876893939394,1996.876893939394,1996.876893939394,1996.876893939394,1996.876893939394,1996.876893939394,1996.876893939394,1996.876893939394,1996.876893939394,1996.876893939394,1996.876893939394,2013.0,1996.876893939394,1996.876893939394,1996.876893939394,1996.876893939394,1996.876893939394,1996.876893939394,1996.876893939394,1996.876893939394,1996.876893939394,1996.876893939394,1996.876893939394,1996.876893939394,1996.876893939394,1960.0,1996.876893939394,1996.876893939394,1991.0,1974.0,2001.0,2015.0,2014.0,1992.0,1991.0,2001.0,1996.0,2017.0,2002.0,1998.0,2008.0,2016.0,2013.0,2017.0,2006.0,1995.0,1996.876893939394,2012.0,1996.876893939394,1995.0,1986.0,1953.0,2013.0,1983.0,2009.0,1999.0,1985.0,1990.0,1993.0,1996.876893939394,1992.0,1965.0,2017.0,1996.876893939394,1984.0,2015.0,2013.0,1996.876893939394,1996.876893939394,1996.876893939394,1996.876893939394,1996.876893939394,1996.876893939394,1996.876893939394,1996.876893939394,1996.876893939394,1996.876893939394,1996.876893939394,1996.876893939394,1996.876893939394,1996.876893939394,1996.876893939394,1996.876893939394,1981.0,1993.0,2016.0,2010.0,1994.0,1987.0,1995.0,1974.0,1980.0,1957.0,2002.0,2012.0,1996.876893939394,1999.0,1990.0,1981.0,1996.0,1988.0,1996.876893939394,1996.0,2013.0,2004.0,2009.0,2012.0,1996.876893939394,1995.0,1976.0,2005.0,2013.0,2005.0,1999.0,1996.876893939394,1996.876893939394,1996.876893939394,2006.0,1996.876893939394,1996.876893939394,1987.0,2009.0,1995.0,1996.876893939394,2002.0,1975.0,2006.0,2015.0,1996.876893939394,1996.876893939394,1996.876893939394,1996.876893939394,1996.876893939394,1986.0,2010.0,1996.876893939394,1998.0,1991.0,1996.876893939394,1996.876893939394,1996.876893939394,1996.876893939394,1996.876893939394,2007.0,1996.876893939394,1993.0,2016.0,1996.876893939394,1996.876893939394,1996.876893939394,1996.876893939394],\"type\":\"pie\"}],                        {\"template\":{\"data\":{\"bar\":[{\"error_x\":{\"color\":\"#2a3f5f\"},\"error_y\":{\"color\":\"#2a3f5f\"},\"marker\":{\"line\":{\"color\":\"#E5ECF6\",\"width\":0.5},\"pattern\":{\"fillmode\":\"overlay\",\"size\":10,\"solidity\":0.2}},\"type\":\"bar\"}],\"barpolar\":[{\"marker\":{\"line\":{\"color\":\"#E5ECF6\",\"width\":0.5},\"pattern\":{\"fillmode\":\"overlay\",\"size\":10,\"solidity\":0.2}},\"type\":\"barpolar\"}],\"carpet\":[{\"aaxis\":{\"endlinecolor\":\"#2a3f5f\",\"gridcolor\":\"white\",\"linecolor\":\"white\",\"minorgridcolor\":\"white\",\"startlinecolor\":\"#2a3f5f\"},\"baxis\":{\"endlinecolor\":\"#2a3f5f\",\"gridcolor\":\"white\",\"linecolor\":\"white\",\"minorgridcolor\":\"white\",\"startlinecolor\":\"#2a3f5f\"},\"type\":\"carpet\"}],\"choropleth\":[{\"colorbar\":{\"outlinewidth\":0,\"ticks\":\"\"},\"type\":\"choropleth\"}],\"contour\":[{\"colorbar\":{\"outlinewidth\":0,\"ticks\":\"\"},\"colorscale\":[[0.0,\"#0d0887\"],[0.1111111111111111,\"#46039f\"],[0.2222222222222222,\"#7201a8\"],[0.3333333333333333,\"#9c179e\"],[0.4444444444444444,\"#bd3786\"],[0.5555555555555556,\"#d8576b\"],[0.6666666666666666,\"#ed7953\"],[0.7777777777777778,\"#fb9f3a\"],[0.8888888888888888,\"#fdca26\"],[1.0,\"#f0f921\"]],\"type\":\"contour\"}],\"contourcarpet\":[{\"colorbar\":{\"outlinewidth\":0,\"ticks\":\"\"},\"type\":\"contourcarpet\"}],\"heatmap\":[{\"colorbar\":{\"outlinewidth\":0,\"ticks\":\"\"},\"colorscale\":[[0.0,\"#0d0887\"],[0.1111111111111111,\"#46039f\"],[0.2222222222222222,\"#7201a8\"],[0.3333333333333333,\"#9c179e\"],[0.4444444444444444,\"#bd3786\"],[0.5555555555555556,\"#d8576b\"],[0.6666666666666666,\"#ed7953\"],[0.7777777777777778,\"#fb9f3a\"],[0.8888888888888888,\"#fdca26\"],[1.0,\"#f0f921\"]],\"type\":\"heatmap\"}],\"heatmapgl\":[{\"colorbar\":{\"outlinewidth\":0,\"ticks\":\"\"},\"colorscale\":[[0.0,\"#0d0887\"],[0.1111111111111111,\"#46039f\"],[0.2222222222222222,\"#7201a8\"],[0.3333333333333333,\"#9c179e\"],[0.4444444444444444,\"#bd3786\"],[0.5555555555555556,\"#d8576b\"],[0.6666666666666666,\"#ed7953\"],[0.7777777777777778,\"#fb9f3a\"],[0.8888888888888888,\"#fdca26\"],[1.0,\"#f0f921\"]],\"type\":\"heatmapgl\"}],\"histogram\":[{\"marker\":{\"pattern\":{\"fillmode\":\"overlay\",\"size\":10,\"solidity\":0.2}},\"type\":\"histogram\"}],\"histogram2d\":[{\"colorbar\":{\"outlinewidth\":0,\"ticks\":\"\"},\"colorscale\":[[0.0,\"#0d0887\"],[0.1111111111111111,\"#46039f\"],[0.2222222222222222,\"#7201a8\"],[0.3333333333333333,\"#9c179e\"],[0.4444444444444444,\"#bd3786\"],[0.5555555555555556,\"#d8576b\"],[0.6666666666666666,\"#ed7953\"],[0.7777777777777778,\"#fb9f3a\"],[0.8888888888888888,\"#fdca26\"],[1.0,\"#f0f921\"]],\"type\":\"histogram2d\"}],\"histogram2dcontour\":[{\"colorbar\":{\"outlinewidth\":0,\"ticks\":\"\"},\"colorscale\":[[0.0,\"#0d0887\"],[0.1111111111111111,\"#46039f\"],[0.2222222222222222,\"#7201a8\"],[0.3333333333333333,\"#9c179e\"],[0.4444444444444444,\"#bd3786\"],[0.5555555555555556,\"#d8576b\"],[0.6666666666666666,\"#ed7953\"],[0.7777777777777778,\"#fb9f3a\"],[0.8888888888888888,\"#fdca26\"],[1.0,\"#f0f921\"]],\"type\":\"histogram2dcontour\"}],\"mesh3d\":[{\"colorbar\":{\"outlinewidth\":0,\"ticks\":\"\"},\"type\":\"mesh3d\"}],\"parcoords\":[{\"line\":{\"colorbar\":{\"outlinewidth\":0,\"ticks\":\"\"}},\"type\":\"parcoords\"}],\"pie\":[{\"automargin\":true,\"type\":\"pie\"}],\"scatter\":[{\"marker\":{\"colorbar\":{\"outlinewidth\":0,\"ticks\":\"\"}},\"type\":\"scatter\"}],\"scatter3d\":[{\"line\":{\"colorbar\":{\"outlinewidth\":0,\"ticks\":\"\"}},\"marker\":{\"colorbar\":{\"outlinewidth\":0,\"ticks\":\"\"}},\"type\":\"scatter3d\"}],\"scattercarpet\":[{\"marker\":{\"colorbar\":{\"outlinewidth\":0,\"ticks\":\"\"}},\"type\":\"scattercarpet\"}],\"scattergeo\":[{\"marker\":{\"colorbar\":{\"outlinewidth\":0,\"ticks\":\"\"}},\"type\":\"scattergeo\"}],\"scattergl\":[{\"marker\":{\"colorbar\":{\"outlinewidth\":0,\"ticks\":\"\"}},\"type\":\"scattergl\"}],\"scattermapbox\":[{\"marker\":{\"colorbar\":{\"outlinewidth\":0,\"ticks\":\"\"}},\"type\":\"scattermapbox\"}],\"scatterpolar\":[{\"marker\":{\"colorbar\":{\"outlinewidth\":0,\"ticks\":\"\"}},\"type\":\"scatterpolar\"}],\"scatterpolargl\":[{\"marker\":{\"colorbar\":{\"outlinewidth\":0,\"ticks\":\"\"}},\"type\":\"scatterpolargl\"}],\"scatterternary\":[{\"marker\":{\"colorbar\":{\"outlinewidth\":0,\"ticks\":\"\"}},\"type\":\"scatterternary\"}],\"surface\":[{\"colorbar\":{\"outlinewidth\":0,\"ticks\":\"\"},\"colorscale\":[[0.0,\"#0d0887\"],[0.1111111111111111,\"#46039f\"],[0.2222222222222222,\"#7201a8\"],[0.3333333333333333,\"#9c179e\"],[0.4444444444444444,\"#bd3786\"],[0.5555555555555556,\"#d8576b\"],[0.6666666666666666,\"#ed7953\"],[0.7777777777777778,\"#fb9f3a\"],[0.8888888888888888,\"#fdca26\"],[1.0,\"#f0f921\"]],\"type\":\"surface\"}],\"table\":[{\"cells\":{\"fill\":{\"color\":\"#EBF0F8\"},\"line\":{\"color\":\"white\"}},\"header\":{\"fill\":{\"color\":\"#C8D4E3\"},\"line\":{\"color\":\"white\"}},\"type\":\"table\"}]},\"layout\":{\"annotationdefaults\":{\"arrowcolor\":\"#2a3f5f\",\"arrowhead\":0,\"arrowwidth\":1},\"autotypenumbers\":\"strict\",\"coloraxis\":{\"colorbar\":{\"outlinewidth\":0,\"ticks\":\"\"}},\"colorscale\":{\"diverging\":[[0,\"#8e0152\"],[0.1,\"#c51b7d\"],[0.2,\"#de77ae\"],[0.3,\"#f1b6da\"],[0.4,\"#fde0ef\"],[0.5,\"#f7f7f7\"],[0.6,\"#e6f5d0\"],[0.7,\"#b8e186\"],[0.8,\"#7fbc41\"],[0.9,\"#4d9221\"],[1,\"#276419\"]],\"sequential\":[[0.0,\"#0d0887\"],[0.1111111111111111,\"#46039f\"],[0.2222222222222222,\"#7201a8\"],[0.3333333333333333,\"#9c179e\"],[0.4444444444444444,\"#bd3786\"],[0.5555555555555556,\"#d8576b\"],[0.6666666666666666,\"#ed7953\"],[0.7777777777777778,\"#fb9f3a\"],[0.8888888888888888,\"#fdca26\"],[1.0,\"#f0f921\"]],\"sequentialminus\":[[0.0,\"#0d0887\"],[0.1111111111111111,\"#46039f\"],[0.2222222222222222,\"#7201a8\"],[0.3333333333333333,\"#9c179e\"],[0.4444444444444444,\"#bd3786\"],[0.5555555555555556,\"#d8576b\"],[0.6666666666666666,\"#ed7953\"],[0.7777777777777778,\"#fb9f3a\"],[0.8888888888888888,\"#fdca26\"],[1.0,\"#f0f921\"]]},\"colorway\":[\"#636efa\",\"#EF553B\",\"#00cc96\",\"#ab63fa\",\"#FFA15A\",\"#19d3f3\",\"#FF6692\",\"#B6E880\",\"#FF97FF\",\"#FECB52\"],\"font\":{\"color\":\"#2a3f5f\"},\"geo\":{\"bgcolor\":\"white\",\"lakecolor\":\"white\",\"landcolor\":\"#E5ECF6\",\"showlakes\":true,\"showland\":true,\"subunitcolor\":\"white\"},\"hoverlabel\":{\"align\":\"left\"},\"hovermode\":\"closest\",\"mapbox\":{\"style\":\"light\"},\"paper_bgcolor\":\"white\",\"plot_bgcolor\":\"#E5ECF6\",\"polar\":{\"angularaxis\":{\"gridcolor\":\"white\",\"linecolor\":\"white\",\"ticks\":\"\"},\"bgcolor\":\"#E5ECF6\",\"radialaxis\":{\"gridcolor\":\"white\",\"linecolor\":\"white\",\"ticks\":\"\"}},\"scene\":{\"xaxis\":{\"backgroundcolor\":\"#E5ECF6\",\"gridcolor\":\"white\",\"gridwidth\":2,\"linecolor\":\"white\",\"showbackground\":true,\"ticks\":\"\",\"zerolinecolor\":\"white\"},\"yaxis\":{\"backgroundcolor\":\"#E5ECF6\",\"gridcolor\":\"white\",\"gridwidth\":2,\"linecolor\":\"white\",\"showbackground\":true,\"ticks\":\"\",\"zerolinecolor\":\"white\"},\"zaxis\":{\"backgroundcolor\":\"#E5ECF6\",\"gridcolor\":\"white\",\"gridwidth\":2,\"linecolor\":\"white\",\"showbackground\":true,\"ticks\":\"\",\"zerolinecolor\":\"white\"}},\"shapedefaults\":{\"line\":{\"color\":\"#2a3f5f\"}},\"ternary\":{\"aaxis\":{\"gridcolor\":\"white\",\"linecolor\":\"white\",\"ticks\":\"\"},\"baxis\":{\"gridcolor\":\"white\",\"linecolor\":\"white\",\"ticks\":\"\"},\"bgcolor\":\"#E5ECF6\",\"caxis\":{\"gridcolor\":\"white\",\"linecolor\":\"white\",\"ticks\":\"\"}},\"title\":{\"x\":0.05},\"xaxis\":{\"automargin\":true,\"gridcolor\":\"white\",\"linecolor\":\"white\",\"ticks\":\"\",\"title\":{\"standoff\":15},\"zerolinecolor\":\"white\",\"zerolinewidth\":2},\"yaxis\":{\"automargin\":true,\"gridcolor\":\"white\",\"linecolor\":\"white\",\"ticks\":\"\",\"title\":{\"standoff\":15},\"zerolinecolor\":\"white\",\"zerolinewidth\":2}}},\"legend\":{\"tracegroupgap\":0},\"title\":{\"text\":\"primary fuel% with respect to commisioning year\"},\"piecolorway\":[\"rgb(141,211,199)\",\"rgb(255,255,179)\",\"rgb(190,186,218)\",\"rgb(251,128,114)\",\"rgb(128,177,211)\",\"rgb(253,180,98)\",\"rgb(179,222,105)\",\"rgb(252,205,229)\",\"rgb(217,217,217)\",\"rgb(188,128,189)\",\"rgb(204,235,197)\",\"rgb(255,237,111)\"]},                        {\"responsive\": true}                    ).then(function(){\n",
       "                            \n",
       "var gd = document.getElementById('9bed119f-e836-4a7c-9d17-5798dbf1a796');\n",
       "var x = new MutationObserver(function (mutations, observer) {{\n",
       "        var display = window.getComputedStyle(gd).display;\n",
       "        if (!display || display === 'none') {{\n",
       "            console.log([gd, 'removed!']);\n",
       "            Plotly.purge(gd);\n",
       "            observer.disconnect();\n",
       "        }}\n",
       "}});\n",
       "\n",
       "// Listen for the removal of the full notebook cells\n",
       "var notebookContainer = gd.closest('#notebook-container');\n",
       "if (notebookContainer) {{\n",
       "    x.observe(notebookContainer, {childList: true});\n",
       "}}\n",
       "\n",
       "// Listen for the clearing of the current output cell\n",
       "var outputEl = gd.closest('.output');\n",
       "if (outputEl) {{\n",
       "    x.observe(outputEl, {childList: true});\n",
       "}}\n",
       "\n",
       "                        })                };                });            </script>        </div>"
      ]
     },
     "metadata": {},
     "output_type": "display_data"
    }
   ],
   "source": [
    "px.pie(global_power,values='commissioning_year',names='primary_fuel',title='primary fuel% with respect to commisioning year',color_discrete_sequence= px.colors.qualitative.Set3)"
   ]
  },
  {
   "cell_type": "markdown",
   "id": "e36a1138",
   "metadata": {},
   "source": [
    "Observations:\n",
    "    \n",
    "1.here we are trying to understand usage of primary fuel in context with commissioning year.\n",
    "\n",
    "2.28.6 % of coal followed by 27.4 % of hydro fuel is used in commissioning year."
   ]
  },
  {
   "cell_type": "code",
   "execution_count": 1303,
   "id": "8c75716a",
   "metadata": {},
   "outputs": [
    {
     "data": {
      "application/vnd.plotly.v1+json": {
       "config": {
        "plotlyServerURL": "https://plot.ly"
       },
       "data": [
        {
         "domain": {
          "x": [
           0,
           1
          ],
          "y": [
           0,
           1
          ]
         },
         "hovertemplate": "primary_fuel=%{label}<br>capacity_mw=%{value}<extra></extra>",
         "labels": [
          "Solar",
          "Coal",
          "Wind",
          "Gas",
          "Coal",
          "Coal",
          "Hydro",
          "Hydro",
          "Hydro",
          "Coal",
          "Coal",
          "Hydro",
          "Coal",
          "Hydro",
          "Hydro",
          "Coal",
          "Gas",
          "Coal",
          "Coal",
          "Biomass",
          "Biomass",
          "Biomass",
          "Gas",
          "Coal",
          "Coal",
          "Solar",
          "Solar",
          "Wind",
          "Solar",
          "Wind",
          "Wind",
          "Wind",
          "Solar",
          "Solar",
          "Solar",
          "Solar",
          "Solar",
          "Solar",
          "Solar",
          "Oil",
          "Coal",
          "Biomass",
          "Hydro",
          "Hydro",
          "Hydro",
          "Coal",
          "Coal",
          "Hydro",
          "Coal",
          "Coal",
          "Coal",
          "Coal",
          "Hydro",
          "Hydro",
          "Hydro",
          "Hydro",
          "Hydro",
          "Coal",
          "Coal",
          "Gas",
          "Coal",
          "Hydro",
          "Coal",
          "Coal",
          "Coal",
          "Gas",
          "Hydro",
          "Hydro",
          "Wind",
          "Wind",
          "Coal",
          "Biomass",
          "Biomass",
          "Oil",
          "Coal",
          "Coal",
          "Coal",
          "Hydro",
          "Coal",
          "Hydro",
          "Coal",
          "Biomass",
          "Hydro",
          "Hydro",
          "Hydro",
          "Coal",
          "Hydro",
          "Hydro",
          "Hydro",
          "Coal",
          "Coal",
          "Hydro",
          "Hydro",
          "Hydro",
          "Coal",
          "Biomass",
          "Coal",
          "Coal",
          "Coal",
          "Coal",
          "Hydro",
          "Hydro",
          "Coal",
          "Coal",
          "Coal",
          "Wind",
          "Oil",
          "Gas",
          "Coal",
          "Hydro",
          "Oil",
          "Coal",
          "Solar",
          "Solar",
          "Wind",
          "Solar",
          "Solar",
          "Solar",
          "Solar",
          "Solar",
          "Solar",
          "Solar",
          "Solar",
          "Wind",
          "Wind",
          "Wind",
          "Wind",
          "Wind",
          "Solar",
          "Wind",
          "Solar",
          "Solar",
          "Solar",
          "Solar",
          "Coal",
          "Hydro",
          "Hydro",
          "Hydro",
          "Coal",
          "Coal",
          "Coal",
          "Coal",
          "Coal",
          "Coal",
          "Coal",
          "Hydro",
          "Hydro",
          "Hydro",
          "Coal",
          "Hydro",
          "Hydro",
          "Hydro",
          "Hydro",
          "Biomass",
          "Solar",
          "Solar",
          "Wind",
          "Solar",
          "Coal",
          "Coal",
          "Gas",
          "Nuclear",
          "Coal",
          "Coal",
          "Coal",
          "Biomass",
          "Biomass",
          "Hydro",
          "Coal",
          "Gas",
          "Hydro",
          "Hydro",
          "Coal",
          "Coal",
          "Hydro",
          "Gas",
          "Gas",
          "Oil",
          "Hydro",
          "Hydro",
          "Gas",
          "Biomass",
          "Oil",
          "Hydro",
          "Hydro",
          "Hydro",
          "Biomass",
          "Hydro",
          "Coal",
          "Coal",
          "Coal",
          "Solar",
          "Gas",
          "Wind",
          "Solar",
          "Wind",
          "Solar",
          "Solar",
          "Solar",
          "Solar",
          "Solar",
          "Solar",
          "Hydro",
          "Hydro",
          "Wind",
          "Gas",
          "Wind",
          "Wind",
          "Wind",
          "Wind",
          "Coal",
          "Gas",
          "Wind",
          "Gas",
          "Wind",
          "Gas",
          "Hydro",
          "Gas",
          "Gas",
          "Hydro",
          "Coal",
          "Hydro",
          "Hydro",
          "Gas",
          "Coal",
          "Wind",
          "Hydro",
          "Hydro",
          "Hydro",
          "Coal",
          "Coal",
          "Hydro",
          "Wind",
          "Coal",
          "Coal",
          "Gas",
          "Coal",
          "Coal",
          "Gas",
          "Coal",
          "Hydro",
          "Wind",
          "Solar",
          "Solar",
          "Solar",
          "Solar",
          "Solar",
          "Solar",
          "Solar",
          "Wind",
          "Solar",
          "Solar",
          "Solar",
          "Solar",
          "Coal",
          "Hydro",
          "Biomass",
          "Hydro",
          "Biomass",
          "Gas",
          "Gas",
          "Biomass",
          "Hydro",
          "Biomass",
          "Wind",
          "Wind",
          "Wind",
          "Wind",
          "Wind",
          "Coal",
          "Wind",
          "Solar",
          "Coal",
          "Gas",
          "Hydro",
          "Hydro",
          "Coal",
          "Wind",
          "Coal",
          "Coal",
          "Hydro",
          "Coal",
          "Coal",
          "Wind",
          "Solar",
          "Solar",
          "Hydro",
          "Biomass",
          "Hydro",
          "Coal",
          "Coal",
          "Coal",
          "Coal",
          "Coal",
          "Gas",
          "Hydro",
          "Coal",
          "Hydro",
          "Coal",
          "Solar",
          "Solar",
          "Wind",
          "Wind",
          "Wind",
          "Wind",
          "Wind",
          "Hydro",
          "Hydro",
          "Hydro",
          "Coal",
          "Nuclear",
          "Coal",
          "Hydro",
          "Nuclear",
          "Hydro",
          "Hydro",
          "Coal",
          "Hydro",
          "Coal",
          "Coal",
          "Coal",
          "Hydro",
          "Biomass",
          "Gas",
          "Hydro",
          "Hydro",
          "Hydro",
          "Gas",
          "Coal",
          "Oil",
          "Hydro",
          "Gas",
          "Coal",
          "Coal",
          "Gas",
          "Coal",
          "Gas",
          "Gas",
          "Biomass",
          "Hydro",
          "Coal",
          "Hydro",
          "Hydro",
          "Hydro",
          "Hydro",
          "Hydro",
          "Coal",
          "Hydro",
          "Biomass",
          "Hydro",
          "Hydro",
          "Coal",
          "Oil",
          "Coal",
          "Hydro",
          "Biomass",
          "Biomass",
          "Biomass",
          "Biomass",
          "Gas",
          "Gas",
          "Hydro",
          "Biomass",
          "Coal",
          "Coal",
          "Coal",
          "Coal",
          "Coal",
          "Hydro",
          "Coal",
          "Coal",
          "Hydro",
          "Hydro",
          "Gas",
          "Hydro",
          "Wind",
          "Coal",
          "Hydro",
          "Hydro",
          "Nuclear",
          "Biomass",
          "Coal",
          "Coal",
          "Hydro",
          "Gas",
          "Hydro",
          "Hydro",
          "Solar",
          "Coal",
          "Hydro",
          "Coal",
          "Coal",
          "Coal",
          "Wind",
          "Solar",
          "Solar",
          "Wind",
          "Solar",
          "Solar",
          "Solar",
          "Solar",
          "Solar",
          "Solar",
          "Solar",
          "Solar",
          "Solar",
          "Solar",
          "Solar",
          "Solar",
          "Wind",
          "Wind",
          "Solar",
          "Wind",
          "Wind",
          "Wind",
          "Nuclear",
          "Coal",
          "Gas",
          "Coal",
          "Coal",
          "Hydro",
          "Oil",
          "Hydro",
          "Hydro",
          "Wind",
          "Wind",
          "Oil",
          "Biomass",
          "Hydro",
          "Hydro",
          "Hydro",
          "Hydro",
          "Hydro",
          "Hydro",
          "Hydro",
          "Wind",
          "Oil",
          "Solar",
          "Solar",
          "Solar",
          "Wind",
          "Wind",
          "Solar",
          "Wind",
          "Nuclear",
          "Hydro",
          "Hydro",
          "Hydro",
          "Coal",
          "Coal",
          "Coal",
          "Biomass",
          "Hydro",
          "Oil",
          "Coal",
          "Hydro",
          "Coal",
          "Hydro",
          "Hydro",
          "Hydro",
          "Gas",
          "Gas",
          "Coal",
          "Hydro",
          "Hydro",
          "Coal",
          "Hydro",
          "Coal",
          "Coal",
          "Coal",
          "Hydro",
          "Coal",
          "Coal",
          "Coal",
          "Coal",
          "Coal",
          "Hydro",
          "Coal",
          "Coal",
          "Hydro",
          "Hydro",
          "Gas",
          "Coal",
          "Coal",
          "Hydro",
          "Hydro",
          "Wind",
          "Wind",
          "Coal",
          "Hydro",
          "Coal",
          "Gas",
          "Oil",
          "Gas",
          "Coal",
          "Coal",
          "Hydro",
          "Biomass",
          "Coal",
          "Coal",
          "Hydro",
          "Wind",
          "Solar",
          "Solar",
          "Solar",
          "Solar",
          "Solar",
          "Wind",
          "Wind",
          "Solar",
          "Solar",
          "Nuclear",
          "Coal",
          "Hydro",
          "Hydro",
          "Coal",
          "Oil",
          "Biomass",
          "Biomass",
          "Coal",
          "Gas",
          "Biomass",
          "Hydro",
          "Hydro",
          "Coal",
          "Coal",
          "Coal",
          "Hydro",
          "Coal",
          "Coal",
          "Hydro",
          "Coal",
          "Coal",
          "Coal",
          "Coal",
          "Coal",
          "Coal",
          "Coal",
          "Hydro",
          "Hydro",
          "Coal",
          "Coal",
          "Hydro",
          "Wind",
          "Coal",
          "Coal",
          "Wind",
          "Hydro",
          "Hydro",
          "Hydro",
          "Wind",
          "Wind",
          "Solar",
          "Wind",
          "Wind",
          "Solar",
          "Solar",
          "Solar",
          "Wind",
          "Hydro",
          "Coal",
          "Hydro",
          "Wind",
          "Wind",
          "Gas",
          "Gas",
          "Coal",
          "Hydro",
          "Gas",
          "Hydro",
          "Oil",
          "Hydro",
          "Coal",
          "Coal",
          "Hydro",
          "Hydro",
          "Coal",
          "Hydro",
          "Biomass",
          "Coal",
          "Coal",
          "Hydro",
          "Gas",
          "Coal",
          "Hydro",
          "Hydro",
          "Gas",
          "Hydro",
          "Hydro",
          "Hydro",
          "Gas",
          "Hydro",
          "Hydro",
          "Hydro",
          "Hydro",
          "Gas",
          "Gas",
          "Hydro",
          "Coal",
          "Hydro",
          "Coal",
          "Hydro",
          "Hydro",
          "Hydro",
          "Solar",
          "Wind",
          "Wind",
          "Wind",
          "Solar",
          "Solar",
          "Solar",
          "Solar",
          "Wind",
          "Wind",
          "Wind",
          "Wind",
          "Solar",
          "Solar",
          "Solar",
          "Nuclear",
          "Hydro",
          "Coal",
          "Hydro",
          "Coal",
          "Coal",
          "Coal",
          "Coal",
          "Coal",
          "Coal",
          "Coal",
          "Hydro",
          "Coal",
          "Coal",
          "Coal",
          "Biomass",
          "Hydro",
          "Gas",
          "Hydro",
          "Hydro",
          "Hydro",
          "Hydro",
          "Biomass",
          "Hydro",
          "Coal",
          "Coal",
          "Gas",
          "Coal",
          "Gas",
          "Hydro",
          "Coal",
          "Hydro",
          "Gas",
          "Hydro",
          "Gas",
          "Coal",
          "Coal",
          "Wind",
          "Coal",
          "Coal",
          "Solar",
          "Solar",
          "Solar",
          "Solar",
          "Solar",
          "Solar",
          "Solar",
          "Wind",
          "Solar",
          "Solar",
          "Solar",
          "Solar",
          "Wind",
          "Wind",
          "Solar",
          "Wind",
          "Wind",
          "Hydro",
          "Hydro",
          "Hydro",
          "Coal",
          "Biomass",
          "Hydro",
          "Hydro",
          "Coal",
          "Coal",
          "Oil",
          "Oil",
          "Biomass",
          "Biomass",
          "Biomass",
          "Biomass",
          "Hydro",
          "Coal",
          "Biomass",
          "Coal",
          "Hydro",
          "Coal",
          "Coal",
          "Coal",
          "Biomass",
          "Coal",
          "Coal",
          "Hydro",
          "Hydro",
          "Hydro",
          "Hydro",
          "Hydro",
          "Hydro",
          "Hydro",
          "Hydro",
          "Hydro",
          "Biomass",
          "Coal",
          "Hydro",
          "Hydro",
          "Hydro",
          "Coal",
          "Biomass",
          "Biomass",
          "Coal",
          "Wind",
          "Coal",
          "Coal",
          "Coal",
          "Coal",
          "Coal",
          "Hydro",
          "Coal",
          "Coal",
          "Hydro",
          "Coal",
          "Biomass",
          "Hydro",
          "Hydro",
          "Coal",
          "Hydro",
          "Hydro",
          "Hydro",
          "Hydro",
          "Coal",
          "Hydro",
          "Gas",
          "Hydro",
          "Coal",
          "Coal",
          "Hydro",
          "Hydro",
          "Coal",
          "Coal",
          "Wind",
          "Wind",
          "Wind",
          "Solar",
          "Solar",
          "Wind",
          "Solar",
          "Solar",
          "Solar",
          "Wind",
          "Solar",
          "Solar",
          "Solar",
          "Solar",
          "Solar",
          "Solar",
          "Wind",
          "Wind",
          "Wind",
          "Coal",
          "Solar",
          "Solar",
          "Wind",
          "Solar",
          "Wind",
          "Wind",
          "Wind",
          "Wind",
          "Wind",
          "Wind",
          "Wind",
          "Solar",
          "Wind",
          "Hydro",
          "Coal",
          "Coal",
          "Hydro",
          "Coal",
          "Coal",
          "Coal",
          "Coal",
          "Hydro",
          "Coal",
          "Gas",
          "Nuclear",
          "Hydro",
          "Hydro",
          "Hydro",
          "Hydro",
          "Hydro",
          "Hydro",
          "Hydro",
          "Hydro",
          "Coal",
          "Gas",
          "Coal",
          "Oil",
          "Hydro",
          "Hydro",
          "Hydro",
          "Coal",
          "Coal",
          "Coal",
          "Coal",
          "Coal",
          "Oil",
          "Gas",
          "Gas",
          "Coal",
          "Oil",
          "Hydro",
          "Biomass",
          "Coal",
          "Coal",
          "Coal",
          "Wind",
          "Wind",
          "Wind",
          "Wind",
          "Solar",
          "Wind",
          "Solar",
          "Wind",
          "Wind",
          "Solar",
          "Wind",
          "Wind",
          "Solar",
          "Wind",
          "Wind",
          "Wind",
          "Hydro",
          "Hydro",
          "Coal",
          "Coal",
          "Hydro",
          "Hydro",
          "Coal",
          "Hydro",
          "Hydro",
          "Hydro",
          "Coal",
          "Gas",
          "Wind",
          "Hydro",
          "Hydro",
          "Hydro",
          "Hydro",
          "Gas",
          "Gas",
          "Hydro",
          "Hydro",
          "Hydro",
          "Gas",
          "Coal",
          "Wind",
          "Hydro",
          "Hydro",
          "Gas",
          "Coal",
          "Gas",
          "Hydro",
          "Coal",
          "Coal",
          "Coal",
          "Gas",
          "Biomass",
          "Gas",
          "Coal",
          "Coal",
          "Gas",
          "Coal",
          "Coal",
          "Hydro",
          "Hydro",
          "Coal",
          "Wind",
          "Wind",
          "Wind",
          "Solar",
          "Coal",
          "Coal",
          "Coal",
          "Coal",
          "Hydro",
          "Hydro",
          "Solar",
          "Solar",
          "Wind",
          "Wind",
          "Wind",
          "Coal",
          "Biomass",
          "Oil",
          "Coal",
          "Solar",
          "Wind",
          "Coal",
          "Wind"
         ],
         "legendgroup": "",
         "name": "",
         "showlegend": true,
         "type": "pie",
         "values": [
          2.5,
          98,
          39.2,
          135,
          1800,
          250,
          60,
          192,
          290,
          210,
          1350,
          134,
          1200,
          16.95,
          9,
          2630,
          419.33,
          600,
          1200,
          10,
          17,
          24,
          652,
          600,
          46,
          50,
          1,
          16.5,
          50,
          113.6,
          19.8,
          13.2,
          5,
          5,
          5,
          5,
          5,
          5,
          5,
          200,
          705,
          28,
          450,
          450,
          180,
          1050,
          600,
          510,
          67.5,
          10,
          300,
          455,
          12,
          315,
          30,
          60,
          20,
          20,
          1200,
          42,
          720,
          90,
          1320,
          90,
          250,
          120,
          300,
          64,
          5,
          20,
          270,
          22.8,
          15,
          25.2,
          10,
          18,
          1700,
          39.2,
          41,
          1325,
          15,
          10,
          34,
          16,
          15,
          500,
          30,
          30,
          30,
          30,
          500,
          300,
          80,
          75,
          1210,
          10,
          99,
          500,
          69.6,
          600,
          6,
          20,
          500,
          210,
          500,
          40,
          60,
          165,
          750,
          70,
          81.5,
          600,
          1,
          1,
          11.2,
          15,
          10,
          5,
          5,
          20,
          15,
          36.3,
          10,
          1,
          1.7,
          24.8,
          50.4,
          150,
          5,
          98.7,
          3,
          40,
          4.2,
          1,
          60,
          300,
          540,
          231,
          40,
          35,
          234,
          120,
          10,
          630,
          2920,
          36,
          3.75,
          32.8,
          1660,
          240,
          144,
          44,
          110,
          24,
          5,
          221,
          21,
          5,
          660,
          1820,
          816.4,
          100,
          100,
          1600,
          25,
          30,
          24,
          990,
          1200,
          1200,
          33.75,
          51,
          500,
          600,
          280,
          330,
          595.2,
          22,
          96,
          5,
          15.5,
          12.96,
          67.6,
          25,
          75,
          24,
          22,
          390,
          12.8,
          210,
          1000,
          5,
          20,
          125,
          2,
          37.5,
          28.2,
          25,
          5,
          125,
          100,
          1,
          15,
          22.5,
          9,
          515,
          11.2,
          68.8,
          20,
          75,
          2100,
          431.586,
          4.25,
          310,
          39,
          35,
          10.5,
          225,
          648,
          15,
          630,
          115,
          77.65,
          468.57,
          120,
          23.1,
          22.5,
          32,
          250,
          920,
          30,
          60,
          23.1,
          600,
          440,
          205.24,
          540,
          25,
          768,
          55,
          15,
          25.6,
          3,
          5,
          1,
          5,
          50,
          1,
          5,
          7.5,
          1.8,
          28,
          5,
          3,
          600,
          36,
          24,
          120,
          25.5,
          156.1,
          351.43,
          18.9,
          331.5,
          25,
          34.4,
          25.5,
          21,
          27.3,
          88.8,
          605,
          49,
          20,
          420,
          270,
          75,
          780,
          270,
          24,
          350,
          300,
          1000,
          1500,
          1200,
          100.8,
          1,
          3,
          99,
          50,
          36,
          1080,
          66,
          63.5,
          54.5,
          155,
          445.674,
          139.2,
          427.5,
          96,
          1200,
          15,
          2,
          91.8,
          10.5,
          29.6,
          33,
          10.25,
          400,
          240,
          150,
          2340,
          880,
          1100,
          50,
          440,
          855,
          100,
          1200,
          15,
          30,
          12,
          1050,
          4,
          16,
          32.5,
          100,
          1000,
          3.75,
          119.8,
          270,
          21.84,
          195,
          225,
          10,
          35,
          291,
          1320,
          645,
          350,
          18,
          16,
          90,
          50,
          72,
          41.4,
          120,
          72,
          60,
          330,
          26,
          120,
          100,
          1000,
          96,
          1260,
          800,
          20,
          20,
          17.5,
          16,
          445,
          1458,
          225,
          26,
          12,
          2400,
          2600,
          890,
          1340,
          20,
          1240,
          125,
          400,
          77.65,
          107.88,
          1956,
          12,
          2400,
          30,
          555,
          2000,
          16.5,
          90,
          290,
          21,
          101,
          125,
          100,
          100,
          50,
          60,
          720,
          1000,
          1340,
          75.6,
          648,
          15,
          6,
          5,
          40,
          2,
          2,
          10,
          5.2,
          20,
          10,
          25,
          5,
          15,
          1,
          20.8,
          24,
          1,
          33,
          56.25,
          3,
          2000,
          25,
          142.2,
          1980,
          800,
          126,
          36,
          55,
          24,
          10,
          20,
          40,
          31.5,
          105,
          105,
          240,
          12,
          120,
          180,
          460,
          9.7,
          36.8,
          2.1,
          20,
          1,
          50.4,
          4,
          1,
          2.4,
          440,
          114.75,
          4.5,
          60,
          540,
          600,
          1320,
          15,
          140,
          22,
          31.4,
          63.2,
          1050,
          186,
          9,
          394,
          166.5,
          388,
          25,
          9,
          6,
          50,
          12,
          90,
          45,
          1000,
          30.6,
          660,
          1340,
          1000,
          1200,
          840,
          250,
          600,
          246,
          9.3,
          9,
          136.5,
          46,
          2320,
          4,
          36,
          20,
          78.9,
          50,
          207,
          15,
          31.2,
          25.2,
          75,
          4620,
          4000,
          28.3,
          11.2,
          15,
          610,
          126,
          14.65,
          6.6,
          50,
          2.1,
          1,
          17,
          31.5,
          52.5,
          3,
          21,
          440,
          500,
          815.6,
          50,
          45.5,
          78.9,
          10,
          18.9,
          65,
          161.75,
          10,
          11.6,
          70,
          630,
          270,
          1350,
          1500,
          600,
          12.27,
          40,
          420,
          600,
          1470,
          500,
          250,
          1320,
          33.2,
          45,
          5,
          10.5,
          45,
          10,
          10.5,
          630,
          1200,
          27.65,
          6,
          60,
          90,
          6.25,
          37.6,
          5.8,
          50.4,
          7.2,
          50,
          5,
          5,
          150,
          99,
          1188,
          520,
          102,
          51,
          330.5,
          655,
          1320,
          12,
          726.6,
          37.5,
          175,
          80,
          920,
          210,
          30,
          32,
          500,
          520,
          30,
          1140,
          1170,
          30,
          66,
          600,
          20.4,
          10,
          220,
          160,
          20,
          161,
          702.86,
          27,
          396,
          32,
          16,
          1371.2,
          330,
          234,
          1980,
          90,
          30,
          900,
          59.2,
          150,
          5,
          65.6,
          15,
          35.2,
          1,
          1,
          40,
          100,
          21.8,
          14.85,
          9.9,
          16.5,
          9,
          15.2,
          19,
          1080,
          172,
          18.7,
          4.8,
          1200,
          1720,
          35,
          1000,
          1370,
          38.5,
          135,
          45,
          1200,
          160,
          1400,
          11,
          198,
          270.5,
          50,
          412.02,
          405,
          60,
          12.5,
          600,
          36,
          100,
          1967.08,
          1650,
          48,
          250,
          3000,
          300,
          94.8,
          6,
          63,
          1260,
          1200,
          22.5,
          62.5,
          2600,
          50,
          16.5,
          2,
          10,
          10,
          5,
          1,
          26.4,
          5,
          5,
          5,
          50,
          6,
          50.4,
          30.5,
          35.1,
          22.5,
          250,
          1200,
          300,
          1600,
          18,
          100,
          690,
          1200,
          135,
          105.7,
          106,
          24,
          19.7,
          10,
          12.5,
          120,
          1340,
          26,
          500,
          30,
          3960,
          29,
          1330,
          16,
          600,
          1320,
          48,
          20,
          120,
          9,
          6.6,
          110,
          1035,
          240,
          17.2,
          36,
          150,
          18,
          54,
          95,
          300,
          22,
          20,
          40,
          33.6,
          500,
          2000,
          600,
          1200,
          2000,
          15,
          2980,
          43,
          42,
          660,
          16,
          3.3,
          6.6,
          135,
          330,
          770,
          900,
          4,
          600,
          130,
          1147.5,
          4,
          500,
          1500,
          35,
          6,
          63,
          25,
          10.5,
          21,
          10.5,
          5,
          1,
          1.5,
          100,
          25,
          10,
          100,
          10,
          8.5,
          5,
          5,
          5,
          5,
          10.5,
          16.5,
          2.25,
          1200,
          15,
          5,
          24,
          15,
          8.4,
          3,
          6.3,
          6.25,
          6,
          3.6,
          3.6,
          2,
          30,
          36,
          600,
          33,
          4.5,
          460,
          3000,
          1980,
          2400,
          94.2,
          440,
          220,
          1400,
          97,
          13.5,
          67.5,
          510,
          160,
          132,
          1200,
          1000,
          420,
          30,
          300,
          22.5,
          4.5,
          60,
          4,
          3300,
          240,
          600,
          260,
          422,
          500,
          180,
          18,
          750,
          150,
          60,
          28,
          1050,
          1000,
          300,
          9.35,
          14.4,
          25.5,
          100,
          10,
          74,
          0,
          50.4,
          50.4,
          22,
          24,
          200,
          5,
          1.5,
          1.5,
          49.6,
          91.35,
          8,
          1080,
          1200,
          12,
          5,
          1110,
          300,
          96,
          11.2,
          1550,
          382.5,
          1.7,
          600,
          320,
          240,
          127.6,
          672,
          62.6,
          480,
          240,
          3.75,
          374.571,
          90,
          25.7,
          13.5,
          60,
          52.8,
          1500,
          186.2,
          460,
          25.8,
          30.75,
          50.7,
          388.5,
          19.8,
          75,
          1260,
          500,
          272.3,
          46,
          4760,
          9,
          400,
          1040,
          42.5,
          50.4,
          21,
          5,
          75,
          1470,
          540,
          80,
          16,
          62.4,
          15,
          25,
          3.6,
          34.65,
          42,
          600,
          16,
          106.6,
          1600,
          3,
          25.5,
          80,
          16.5
         ]
        }
       ],
       "layout": {
        "legend": {
         "tracegroupgap": 0
        },
        "piecolorway": [
         "#3366CC",
         "#DC3912",
         "#FF9900",
         "#109618",
         "#990099",
         "#0099C6",
         "#DD4477",
         "#66AA00",
         "#B82E2E",
         "#316395"
        ],
        "template": {
         "data": {
          "bar": [
           {
            "error_x": {
             "color": "#2a3f5f"
            },
            "error_y": {
             "color": "#2a3f5f"
            },
            "marker": {
             "line": {
              "color": "#E5ECF6",
              "width": 0.5
             },
             "pattern": {
              "fillmode": "overlay",
              "size": 10,
              "solidity": 0.2
             }
            },
            "type": "bar"
           }
          ],
          "barpolar": [
           {
            "marker": {
             "line": {
              "color": "#E5ECF6",
              "width": 0.5
             },
             "pattern": {
              "fillmode": "overlay",
              "size": 10,
              "solidity": 0.2
             }
            },
            "type": "barpolar"
           }
          ],
          "carpet": [
           {
            "aaxis": {
             "endlinecolor": "#2a3f5f",
             "gridcolor": "white",
             "linecolor": "white",
             "minorgridcolor": "white",
             "startlinecolor": "#2a3f5f"
            },
            "baxis": {
             "endlinecolor": "#2a3f5f",
             "gridcolor": "white",
             "linecolor": "white",
             "minorgridcolor": "white",
             "startlinecolor": "#2a3f5f"
            },
            "type": "carpet"
           }
          ],
          "choropleth": [
           {
            "colorbar": {
             "outlinewidth": 0,
             "ticks": ""
            },
            "type": "choropleth"
           }
          ],
          "contour": [
           {
            "colorbar": {
             "outlinewidth": 0,
             "ticks": ""
            },
            "colorscale": [
             [
              0,
              "#0d0887"
             ],
             [
              0.1111111111111111,
              "#46039f"
             ],
             [
              0.2222222222222222,
              "#7201a8"
             ],
             [
              0.3333333333333333,
              "#9c179e"
             ],
             [
              0.4444444444444444,
              "#bd3786"
             ],
             [
              0.5555555555555556,
              "#d8576b"
             ],
             [
              0.6666666666666666,
              "#ed7953"
             ],
             [
              0.7777777777777778,
              "#fb9f3a"
             ],
             [
              0.8888888888888888,
              "#fdca26"
             ],
             [
              1,
              "#f0f921"
             ]
            ],
            "type": "contour"
           }
          ],
          "contourcarpet": [
           {
            "colorbar": {
             "outlinewidth": 0,
             "ticks": ""
            },
            "type": "contourcarpet"
           }
          ],
          "heatmap": [
           {
            "colorbar": {
             "outlinewidth": 0,
             "ticks": ""
            },
            "colorscale": [
             [
              0,
              "#0d0887"
             ],
             [
              0.1111111111111111,
              "#46039f"
             ],
             [
              0.2222222222222222,
              "#7201a8"
             ],
             [
              0.3333333333333333,
              "#9c179e"
             ],
             [
              0.4444444444444444,
              "#bd3786"
             ],
             [
              0.5555555555555556,
              "#d8576b"
             ],
             [
              0.6666666666666666,
              "#ed7953"
             ],
             [
              0.7777777777777778,
              "#fb9f3a"
             ],
             [
              0.8888888888888888,
              "#fdca26"
             ],
             [
              1,
              "#f0f921"
             ]
            ],
            "type": "heatmap"
           }
          ],
          "heatmapgl": [
           {
            "colorbar": {
             "outlinewidth": 0,
             "ticks": ""
            },
            "colorscale": [
             [
              0,
              "#0d0887"
             ],
             [
              0.1111111111111111,
              "#46039f"
             ],
             [
              0.2222222222222222,
              "#7201a8"
             ],
             [
              0.3333333333333333,
              "#9c179e"
             ],
             [
              0.4444444444444444,
              "#bd3786"
             ],
             [
              0.5555555555555556,
              "#d8576b"
             ],
             [
              0.6666666666666666,
              "#ed7953"
             ],
             [
              0.7777777777777778,
              "#fb9f3a"
             ],
             [
              0.8888888888888888,
              "#fdca26"
             ],
             [
              1,
              "#f0f921"
             ]
            ],
            "type": "heatmapgl"
           }
          ],
          "histogram": [
           {
            "marker": {
             "pattern": {
              "fillmode": "overlay",
              "size": 10,
              "solidity": 0.2
             }
            },
            "type": "histogram"
           }
          ],
          "histogram2d": [
           {
            "colorbar": {
             "outlinewidth": 0,
             "ticks": ""
            },
            "colorscale": [
             [
              0,
              "#0d0887"
             ],
             [
              0.1111111111111111,
              "#46039f"
             ],
             [
              0.2222222222222222,
              "#7201a8"
             ],
             [
              0.3333333333333333,
              "#9c179e"
             ],
             [
              0.4444444444444444,
              "#bd3786"
             ],
             [
              0.5555555555555556,
              "#d8576b"
             ],
             [
              0.6666666666666666,
              "#ed7953"
             ],
             [
              0.7777777777777778,
              "#fb9f3a"
             ],
             [
              0.8888888888888888,
              "#fdca26"
             ],
             [
              1,
              "#f0f921"
             ]
            ],
            "type": "histogram2d"
           }
          ],
          "histogram2dcontour": [
           {
            "colorbar": {
             "outlinewidth": 0,
             "ticks": ""
            },
            "colorscale": [
             [
              0,
              "#0d0887"
             ],
             [
              0.1111111111111111,
              "#46039f"
             ],
             [
              0.2222222222222222,
              "#7201a8"
             ],
             [
              0.3333333333333333,
              "#9c179e"
             ],
             [
              0.4444444444444444,
              "#bd3786"
             ],
             [
              0.5555555555555556,
              "#d8576b"
             ],
             [
              0.6666666666666666,
              "#ed7953"
             ],
             [
              0.7777777777777778,
              "#fb9f3a"
             ],
             [
              0.8888888888888888,
              "#fdca26"
             ],
             [
              1,
              "#f0f921"
             ]
            ],
            "type": "histogram2dcontour"
           }
          ],
          "mesh3d": [
           {
            "colorbar": {
             "outlinewidth": 0,
             "ticks": ""
            },
            "type": "mesh3d"
           }
          ],
          "parcoords": [
           {
            "line": {
             "colorbar": {
              "outlinewidth": 0,
              "ticks": ""
             }
            },
            "type": "parcoords"
           }
          ],
          "pie": [
           {
            "automargin": true,
            "type": "pie"
           }
          ],
          "scatter": [
           {
            "marker": {
             "colorbar": {
              "outlinewidth": 0,
              "ticks": ""
             }
            },
            "type": "scatter"
           }
          ],
          "scatter3d": [
           {
            "line": {
             "colorbar": {
              "outlinewidth": 0,
              "ticks": ""
             }
            },
            "marker": {
             "colorbar": {
              "outlinewidth": 0,
              "ticks": ""
             }
            },
            "type": "scatter3d"
           }
          ],
          "scattercarpet": [
           {
            "marker": {
             "colorbar": {
              "outlinewidth": 0,
              "ticks": ""
             }
            },
            "type": "scattercarpet"
           }
          ],
          "scattergeo": [
           {
            "marker": {
             "colorbar": {
              "outlinewidth": 0,
              "ticks": ""
             }
            },
            "type": "scattergeo"
           }
          ],
          "scattergl": [
           {
            "marker": {
             "colorbar": {
              "outlinewidth": 0,
              "ticks": ""
             }
            },
            "type": "scattergl"
           }
          ],
          "scattermapbox": [
           {
            "marker": {
             "colorbar": {
              "outlinewidth": 0,
              "ticks": ""
             }
            },
            "type": "scattermapbox"
           }
          ],
          "scatterpolar": [
           {
            "marker": {
             "colorbar": {
              "outlinewidth": 0,
              "ticks": ""
             }
            },
            "type": "scatterpolar"
           }
          ],
          "scatterpolargl": [
           {
            "marker": {
             "colorbar": {
              "outlinewidth": 0,
              "ticks": ""
             }
            },
            "type": "scatterpolargl"
           }
          ],
          "scatterternary": [
           {
            "marker": {
             "colorbar": {
              "outlinewidth": 0,
              "ticks": ""
             }
            },
            "type": "scatterternary"
           }
          ],
          "surface": [
           {
            "colorbar": {
             "outlinewidth": 0,
             "ticks": ""
            },
            "colorscale": [
             [
              0,
              "#0d0887"
             ],
             [
              0.1111111111111111,
              "#46039f"
             ],
             [
              0.2222222222222222,
              "#7201a8"
             ],
             [
              0.3333333333333333,
              "#9c179e"
             ],
             [
              0.4444444444444444,
              "#bd3786"
             ],
             [
              0.5555555555555556,
              "#d8576b"
             ],
             [
              0.6666666666666666,
              "#ed7953"
             ],
             [
              0.7777777777777778,
              "#fb9f3a"
             ],
             [
              0.8888888888888888,
              "#fdca26"
             ],
             [
              1,
              "#f0f921"
             ]
            ],
            "type": "surface"
           }
          ],
          "table": [
           {
            "cells": {
             "fill": {
              "color": "#EBF0F8"
             },
             "line": {
              "color": "white"
             }
            },
            "header": {
             "fill": {
              "color": "#C8D4E3"
             },
             "line": {
              "color": "white"
             }
            },
            "type": "table"
           }
          ]
         },
         "layout": {
          "annotationdefaults": {
           "arrowcolor": "#2a3f5f",
           "arrowhead": 0,
           "arrowwidth": 1
          },
          "autotypenumbers": "strict",
          "coloraxis": {
           "colorbar": {
            "outlinewidth": 0,
            "ticks": ""
           }
          },
          "colorscale": {
           "diverging": [
            [
             0,
             "#8e0152"
            ],
            [
             0.1,
             "#c51b7d"
            ],
            [
             0.2,
             "#de77ae"
            ],
            [
             0.3,
             "#f1b6da"
            ],
            [
             0.4,
             "#fde0ef"
            ],
            [
             0.5,
             "#f7f7f7"
            ],
            [
             0.6,
             "#e6f5d0"
            ],
            [
             0.7,
             "#b8e186"
            ],
            [
             0.8,
             "#7fbc41"
            ],
            [
             0.9,
             "#4d9221"
            ],
            [
             1,
             "#276419"
            ]
           ],
           "sequential": [
            [
             0,
             "#0d0887"
            ],
            [
             0.1111111111111111,
             "#46039f"
            ],
            [
             0.2222222222222222,
             "#7201a8"
            ],
            [
             0.3333333333333333,
             "#9c179e"
            ],
            [
             0.4444444444444444,
             "#bd3786"
            ],
            [
             0.5555555555555556,
             "#d8576b"
            ],
            [
             0.6666666666666666,
             "#ed7953"
            ],
            [
             0.7777777777777778,
             "#fb9f3a"
            ],
            [
             0.8888888888888888,
             "#fdca26"
            ],
            [
             1,
             "#f0f921"
            ]
           ],
           "sequentialminus": [
            [
             0,
             "#0d0887"
            ],
            [
             0.1111111111111111,
             "#46039f"
            ],
            [
             0.2222222222222222,
             "#7201a8"
            ],
            [
             0.3333333333333333,
             "#9c179e"
            ],
            [
             0.4444444444444444,
             "#bd3786"
            ],
            [
             0.5555555555555556,
             "#d8576b"
            ],
            [
             0.6666666666666666,
             "#ed7953"
            ],
            [
             0.7777777777777778,
             "#fb9f3a"
            ],
            [
             0.8888888888888888,
             "#fdca26"
            ],
            [
             1,
             "#f0f921"
            ]
           ]
          },
          "colorway": [
           "#636efa",
           "#EF553B",
           "#00cc96",
           "#ab63fa",
           "#FFA15A",
           "#19d3f3",
           "#FF6692",
           "#B6E880",
           "#FF97FF",
           "#FECB52"
          ],
          "font": {
           "color": "#2a3f5f"
          },
          "geo": {
           "bgcolor": "white",
           "lakecolor": "white",
           "landcolor": "#E5ECF6",
           "showlakes": true,
           "showland": true,
           "subunitcolor": "white"
          },
          "hoverlabel": {
           "align": "left"
          },
          "hovermode": "closest",
          "mapbox": {
           "style": "light"
          },
          "paper_bgcolor": "white",
          "plot_bgcolor": "#E5ECF6",
          "polar": {
           "angularaxis": {
            "gridcolor": "white",
            "linecolor": "white",
            "ticks": ""
           },
           "bgcolor": "#E5ECF6",
           "radialaxis": {
            "gridcolor": "white",
            "linecolor": "white",
            "ticks": ""
           }
          },
          "scene": {
           "xaxis": {
            "backgroundcolor": "#E5ECF6",
            "gridcolor": "white",
            "gridwidth": 2,
            "linecolor": "white",
            "showbackground": true,
            "ticks": "",
            "zerolinecolor": "white"
           },
           "yaxis": {
            "backgroundcolor": "#E5ECF6",
            "gridcolor": "white",
            "gridwidth": 2,
            "linecolor": "white",
            "showbackground": true,
            "ticks": "",
            "zerolinecolor": "white"
           },
           "zaxis": {
            "backgroundcolor": "#E5ECF6",
            "gridcolor": "white",
            "gridwidth": 2,
            "linecolor": "white",
            "showbackground": true,
            "ticks": "",
            "zerolinecolor": "white"
           }
          },
          "shapedefaults": {
           "line": {
            "color": "#2a3f5f"
           }
          },
          "ternary": {
           "aaxis": {
            "gridcolor": "white",
            "linecolor": "white",
            "ticks": ""
           },
           "baxis": {
            "gridcolor": "white",
            "linecolor": "white",
            "ticks": ""
           },
           "bgcolor": "#E5ECF6",
           "caxis": {
            "gridcolor": "white",
            "linecolor": "white",
            "ticks": ""
           }
          },
          "title": {
           "x": 0.05
          },
          "xaxis": {
           "automargin": true,
           "gridcolor": "white",
           "linecolor": "white",
           "ticks": "",
           "title": {
            "standoff": 15
           },
           "zerolinecolor": "white",
           "zerolinewidth": 2
          },
          "yaxis": {
           "automargin": true,
           "gridcolor": "white",
           "linecolor": "white",
           "ticks": "",
           "title": {
            "standoff": 15
           },
           "zerolinecolor": "white",
           "zerolinewidth": 2
          }
         }
        },
        "title": {
         "text": "primary fuel % with respect to capacity_mw"
        }
       }
      },
      "text/html": [
       "<div>                            <div id=\"d08d544d-5d09-4ea7-99ab-f5e2328e5c29\" class=\"plotly-graph-div\" style=\"height:525px; width:100%;\"></div>            <script type=\"text/javascript\">                require([\"plotly\"], function(Plotly) {                    window.PLOTLYENV=window.PLOTLYENV || {};                                    if (document.getElementById(\"d08d544d-5d09-4ea7-99ab-f5e2328e5c29\")) {                    Plotly.newPlot(                        \"d08d544d-5d09-4ea7-99ab-f5e2328e5c29\",                        [{\"domain\":{\"x\":[0.0,1.0],\"y\":[0.0,1.0]},\"hovertemplate\":\"primary_fuel=%{label}<br>capacity_mw=%{value}<extra></extra>\",\"labels\":[\"Solar\",\"Coal\",\"Wind\",\"Gas\",\"Coal\",\"Coal\",\"Hydro\",\"Hydro\",\"Hydro\",\"Coal\",\"Coal\",\"Hydro\",\"Coal\",\"Hydro\",\"Hydro\",\"Coal\",\"Gas\",\"Coal\",\"Coal\",\"Biomass\",\"Biomass\",\"Biomass\",\"Gas\",\"Coal\",\"Coal\",\"Solar\",\"Solar\",\"Wind\",\"Solar\",\"Wind\",\"Wind\",\"Wind\",\"Solar\",\"Solar\",\"Solar\",\"Solar\",\"Solar\",\"Solar\",\"Solar\",\"Oil\",\"Coal\",\"Biomass\",\"Hydro\",\"Hydro\",\"Hydro\",\"Coal\",\"Coal\",\"Hydro\",\"Coal\",\"Coal\",\"Coal\",\"Coal\",\"Hydro\",\"Hydro\",\"Hydro\",\"Hydro\",\"Hydro\",\"Coal\",\"Coal\",\"Gas\",\"Coal\",\"Hydro\",\"Coal\",\"Coal\",\"Coal\",\"Gas\",\"Hydro\",\"Hydro\",\"Wind\",\"Wind\",\"Coal\",\"Biomass\",\"Biomass\",\"Oil\",\"Coal\",\"Coal\",\"Coal\",\"Hydro\",\"Coal\",\"Hydro\",\"Coal\",\"Biomass\",\"Hydro\",\"Hydro\",\"Hydro\",\"Coal\",\"Hydro\",\"Hydro\",\"Hydro\",\"Coal\",\"Coal\",\"Hydro\",\"Hydro\",\"Hydro\",\"Coal\",\"Biomass\",\"Coal\",\"Coal\",\"Coal\",\"Coal\",\"Hydro\",\"Hydro\",\"Coal\",\"Coal\",\"Coal\",\"Wind\",\"Oil\",\"Gas\",\"Coal\",\"Hydro\",\"Oil\",\"Coal\",\"Solar\",\"Solar\",\"Wind\",\"Solar\",\"Solar\",\"Solar\",\"Solar\",\"Solar\",\"Solar\",\"Solar\",\"Solar\",\"Wind\",\"Wind\",\"Wind\",\"Wind\",\"Wind\",\"Solar\",\"Wind\",\"Solar\",\"Solar\",\"Solar\",\"Solar\",\"Coal\",\"Hydro\",\"Hydro\",\"Hydro\",\"Coal\",\"Coal\",\"Coal\",\"Coal\",\"Coal\",\"Coal\",\"Coal\",\"Hydro\",\"Hydro\",\"Hydro\",\"Coal\",\"Hydro\",\"Hydro\",\"Hydro\",\"Hydro\",\"Biomass\",\"Solar\",\"Solar\",\"Wind\",\"Solar\",\"Coal\",\"Coal\",\"Gas\",\"Nuclear\",\"Coal\",\"Coal\",\"Coal\",\"Biomass\",\"Biomass\",\"Hydro\",\"Coal\",\"Gas\",\"Hydro\",\"Hydro\",\"Coal\",\"Coal\",\"Hydro\",\"Gas\",\"Gas\",\"Oil\",\"Hydro\",\"Hydro\",\"Gas\",\"Biomass\",\"Oil\",\"Hydro\",\"Hydro\",\"Hydro\",\"Biomass\",\"Hydro\",\"Coal\",\"Coal\",\"Coal\",\"Solar\",\"Gas\",\"Wind\",\"Solar\",\"Wind\",\"Solar\",\"Solar\",\"Solar\",\"Solar\",\"Solar\",\"Solar\",\"Hydro\",\"Hydro\",\"Wind\",\"Gas\",\"Wind\",\"Wind\",\"Wind\",\"Wind\",\"Coal\",\"Gas\",\"Wind\",\"Gas\",\"Wind\",\"Gas\",\"Hydro\",\"Gas\",\"Gas\",\"Hydro\",\"Coal\",\"Hydro\",\"Hydro\",\"Gas\",\"Coal\",\"Wind\",\"Hydro\",\"Hydro\",\"Hydro\",\"Coal\",\"Coal\",\"Hydro\",\"Wind\",\"Coal\",\"Coal\",\"Gas\",\"Coal\",\"Coal\",\"Gas\",\"Coal\",\"Hydro\",\"Wind\",\"Solar\",\"Solar\",\"Solar\",\"Solar\",\"Solar\",\"Solar\",\"Solar\",\"Wind\",\"Solar\",\"Solar\",\"Solar\",\"Solar\",\"Coal\",\"Hydro\",\"Biomass\",\"Hydro\",\"Biomass\",\"Gas\",\"Gas\",\"Biomass\",\"Hydro\",\"Biomass\",\"Wind\",\"Wind\",\"Wind\",\"Wind\",\"Wind\",\"Coal\",\"Wind\",\"Solar\",\"Coal\",\"Gas\",\"Hydro\",\"Hydro\",\"Coal\",\"Wind\",\"Coal\",\"Coal\",\"Hydro\",\"Coal\",\"Coal\",\"Wind\",\"Solar\",\"Solar\",\"Hydro\",\"Biomass\",\"Hydro\",\"Coal\",\"Coal\",\"Coal\",\"Coal\",\"Coal\",\"Gas\",\"Hydro\",\"Coal\",\"Hydro\",\"Coal\",\"Solar\",\"Solar\",\"Wind\",\"Wind\",\"Wind\",\"Wind\",\"Wind\",\"Hydro\",\"Hydro\",\"Hydro\",\"Coal\",\"Nuclear\",\"Coal\",\"Hydro\",\"Nuclear\",\"Hydro\",\"Hydro\",\"Coal\",\"Hydro\",\"Coal\",\"Coal\",\"Coal\",\"Hydro\",\"Biomass\",\"Gas\",\"Hydro\",\"Hydro\",\"Hydro\",\"Gas\",\"Coal\",\"Oil\",\"Hydro\",\"Gas\",\"Coal\",\"Coal\",\"Gas\",\"Coal\",\"Gas\",\"Gas\",\"Biomass\",\"Hydro\",\"Coal\",\"Hydro\",\"Hydro\",\"Hydro\",\"Hydro\",\"Hydro\",\"Coal\",\"Hydro\",\"Biomass\",\"Hydro\",\"Hydro\",\"Coal\",\"Oil\",\"Coal\",\"Hydro\",\"Biomass\",\"Biomass\",\"Biomass\",\"Biomass\",\"Gas\",\"Gas\",\"Hydro\",\"Biomass\",\"Coal\",\"Coal\",\"Coal\",\"Coal\",\"Coal\",\"Hydro\",\"Coal\",\"Coal\",\"Hydro\",\"Hydro\",\"Gas\",\"Hydro\",\"Wind\",\"Coal\",\"Hydro\",\"Hydro\",\"Nuclear\",\"Biomass\",\"Coal\",\"Coal\",\"Hydro\",\"Gas\",\"Hydro\",\"Hydro\",\"Solar\",\"Coal\",\"Hydro\",\"Coal\",\"Coal\",\"Coal\",\"Wind\",\"Solar\",\"Solar\",\"Wind\",\"Solar\",\"Solar\",\"Solar\",\"Solar\",\"Solar\",\"Solar\",\"Solar\",\"Solar\",\"Solar\",\"Solar\",\"Solar\",\"Solar\",\"Wind\",\"Wind\",\"Solar\",\"Wind\",\"Wind\",\"Wind\",\"Nuclear\",\"Coal\",\"Gas\",\"Coal\",\"Coal\",\"Hydro\",\"Oil\",\"Hydro\",\"Hydro\",\"Wind\",\"Wind\",\"Oil\",\"Biomass\",\"Hydro\",\"Hydro\",\"Hydro\",\"Hydro\",\"Hydro\",\"Hydro\",\"Hydro\",\"Wind\",\"Oil\",\"Solar\",\"Solar\",\"Solar\",\"Wind\",\"Wind\",\"Solar\",\"Wind\",\"Nuclear\",\"Hydro\",\"Hydro\",\"Hydro\",\"Coal\",\"Coal\",\"Coal\",\"Biomass\",\"Hydro\",\"Oil\",\"Coal\",\"Hydro\",\"Coal\",\"Hydro\",\"Hydro\",\"Hydro\",\"Gas\",\"Gas\",\"Coal\",\"Hydro\",\"Hydro\",\"Coal\",\"Hydro\",\"Coal\",\"Coal\",\"Coal\",\"Hydro\",\"Coal\",\"Coal\",\"Coal\",\"Coal\",\"Coal\",\"Hydro\",\"Coal\",\"Coal\",\"Hydro\",\"Hydro\",\"Gas\",\"Coal\",\"Coal\",\"Hydro\",\"Hydro\",\"Wind\",\"Wind\",\"Coal\",\"Hydro\",\"Coal\",\"Gas\",\"Oil\",\"Gas\",\"Coal\",\"Coal\",\"Hydro\",\"Biomass\",\"Coal\",\"Coal\",\"Hydro\",\"Wind\",\"Solar\",\"Solar\",\"Solar\",\"Solar\",\"Solar\",\"Wind\",\"Wind\",\"Solar\",\"Solar\",\"Nuclear\",\"Coal\",\"Hydro\",\"Hydro\",\"Coal\",\"Oil\",\"Biomass\",\"Biomass\",\"Coal\",\"Gas\",\"Biomass\",\"Hydro\",\"Hydro\",\"Coal\",\"Coal\",\"Coal\",\"Hydro\",\"Coal\",\"Coal\",\"Hydro\",\"Coal\",\"Coal\",\"Coal\",\"Coal\",\"Coal\",\"Coal\",\"Coal\",\"Hydro\",\"Hydro\",\"Coal\",\"Coal\",\"Hydro\",\"Wind\",\"Coal\",\"Coal\",\"Wind\",\"Hydro\",\"Hydro\",\"Hydro\",\"Wind\",\"Wind\",\"Solar\",\"Wind\",\"Wind\",\"Solar\",\"Solar\",\"Solar\",\"Wind\",\"Hydro\",\"Coal\",\"Hydro\",\"Wind\",\"Wind\",\"Gas\",\"Gas\",\"Coal\",\"Hydro\",\"Gas\",\"Hydro\",\"Oil\",\"Hydro\",\"Coal\",\"Coal\",\"Hydro\",\"Hydro\",\"Coal\",\"Hydro\",\"Biomass\",\"Coal\",\"Coal\",\"Hydro\",\"Gas\",\"Coal\",\"Hydro\",\"Hydro\",\"Gas\",\"Hydro\",\"Hydro\",\"Hydro\",\"Gas\",\"Hydro\",\"Hydro\",\"Hydro\",\"Hydro\",\"Gas\",\"Gas\",\"Hydro\",\"Coal\",\"Hydro\",\"Coal\",\"Hydro\",\"Hydro\",\"Hydro\",\"Solar\",\"Wind\",\"Wind\",\"Wind\",\"Solar\",\"Solar\",\"Solar\",\"Solar\",\"Wind\",\"Wind\",\"Wind\",\"Wind\",\"Solar\",\"Solar\",\"Solar\",\"Nuclear\",\"Hydro\",\"Coal\",\"Hydro\",\"Coal\",\"Coal\",\"Coal\",\"Coal\",\"Coal\",\"Coal\",\"Coal\",\"Hydro\",\"Coal\",\"Coal\",\"Coal\",\"Biomass\",\"Hydro\",\"Gas\",\"Hydro\",\"Hydro\",\"Hydro\",\"Hydro\",\"Biomass\",\"Hydro\",\"Coal\",\"Coal\",\"Gas\",\"Coal\",\"Gas\",\"Hydro\",\"Coal\",\"Hydro\",\"Gas\",\"Hydro\",\"Gas\",\"Coal\",\"Coal\",\"Wind\",\"Coal\",\"Coal\",\"Solar\",\"Solar\",\"Solar\",\"Solar\",\"Solar\",\"Solar\",\"Solar\",\"Wind\",\"Solar\",\"Solar\",\"Solar\",\"Solar\",\"Wind\",\"Wind\",\"Solar\",\"Wind\",\"Wind\",\"Hydro\",\"Hydro\",\"Hydro\",\"Coal\",\"Biomass\",\"Hydro\",\"Hydro\",\"Coal\",\"Coal\",\"Oil\",\"Oil\",\"Biomass\",\"Biomass\",\"Biomass\",\"Biomass\",\"Hydro\",\"Coal\",\"Biomass\",\"Coal\",\"Hydro\",\"Coal\",\"Coal\",\"Coal\",\"Biomass\",\"Coal\",\"Coal\",\"Hydro\",\"Hydro\",\"Hydro\",\"Hydro\",\"Hydro\",\"Hydro\",\"Hydro\",\"Hydro\",\"Hydro\",\"Biomass\",\"Coal\",\"Hydro\",\"Hydro\",\"Hydro\",\"Coal\",\"Biomass\",\"Biomass\",\"Coal\",\"Wind\",\"Coal\",\"Coal\",\"Coal\",\"Coal\",\"Coal\",\"Hydro\",\"Coal\",\"Coal\",\"Hydro\",\"Coal\",\"Biomass\",\"Hydro\",\"Hydro\",\"Coal\",\"Hydro\",\"Hydro\",\"Hydro\",\"Hydro\",\"Coal\",\"Hydro\",\"Gas\",\"Hydro\",\"Coal\",\"Coal\",\"Hydro\",\"Hydro\",\"Coal\",\"Coal\",\"Wind\",\"Wind\",\"Wind\",\"Solar\",\"Solar\",\"Wind\",\"Solar\",\"Solar\",\"Solar\",\"Wind\",\"Solar\",\"Solar\",\"Solar\",\"Solar\",\"Solar\",\"Solar\",\"Wind\",\"Wind\",\"Wind\",\"Coal\",\"Solar\",\"Solar\",\"Wind\",\"Solar\",\"Wind\",\"Wind\",\"Wind\",\"Wind\",\"Wind\",\"Wind\",\"Wind\",\"Solar\",\"Wind\",\"Hydro\",\"Coal\",\"Coal\",\"Hydro\",\"Coal\",\"Coal\",\"Coal\",\"Coal\",\"Hydro\",\"Coal\",\"Gas\",\"Nuclear\",\"Hydro\",\"Hydro\",\"Hydro\",\"Hydro\",\"Hydro\",\"Hydro\",\"Hydro\",\"Hydro\",\"Coal\",\"Gas\",\"Coal\",\"Oil\",\"Hydro\",\"Hydro\",\"Hydro\",\"Coal\",\"Coal\",\"Coal\",\"Coal\",\"Coal\",\"Oil\",\"Gas\",\"Gas\",\"Coal\",\"Oil\",\"Hydro\",\"Biomass\",\"Coal\",\"Coal\",\"Coal\",\"Wind\",\"Wind\",\"Wind\",\"Wind\",\"Solar\",\"Wind\",\"Solar\",\"Wind\",\"Wind\",\"Solar\",\"Wind\",\"Wind\",\"Solar\",\"Wind\",\"Wind\",\"Wind\",\"Hydro\",\"Hydro\",\"Coal\",\"Coal\",\"Hydro\",\"Hydro\",\"Coal\",\"Hydro\",\"Hydro\",\"Hydro\",\"Coal\",\"Gas\",\"Wind\",\"Hydro\",\"Hydro\",\"Hydro\",\"Hydro\",\"Gas\",\"Gas\",\"Hydro\",\"Hydro\",\"Hydro\",\"Gas\",\"Coal\",\"Wind\",\"Hydro\",\"Hydro\",\"Gas\",\"Coal\",\"Gas\",\"Hydro\",\"Coal\",\"Coal\",\"Coal\",\"Gas\",\"Biomass\",\"Gas\",\"Coal\",\"Coal\",\"Gas\",\"Coal\",\"Coal\",\"Hydro\",\"Hydro\",\"Coal\",\"Wind\",\"Wind\",\"Wind\",\"Solar\",\"Coal\",\"Coal\",\"Coal\",\"Coal\",\"Hydro\",\"Hydro\",\"Solar\",\"Solar\",\"Wind\",\"Wind\",\"Wind\",\"Coal\",\"Biomass\",\"Oil\",\"Coal\",\"Solar\",\"Wind\",\"Coal\",\"Wind\"],\"legendgroup\":\"\",\"name\":\"\",\"showlegend\":true,\"values\":[2.5,98.0,39.2,135.0,1800.0,250.0,60.0,192.0,290.0,210.0,1350.0,134.0,1200.0,16.95,9.0,2630.0,419.33,600.0,1200.0,10.0,17.0,24.0,652.0,600.0,46.0,50.0,1.0,16.5,50.0,113.6,19.8,13.2,5.0,5.0,5.0,5.0,5.0,5.0,5.0,200.0,705.0,28.0,450.0,450.0,180.0,1050.0,600.0,510.0,67.5,10.0,300.0,455.0,12.0,315.0,30.0,60.0,20.0,20.0,1200.0,42.0,720.0,90.0,1320.0,90.0,250.0,120.0,300.0,64.0,5.0,20.0,270.0,22.8,15.0,25.2,10.0,18.0,1700.0,39.2,41.0,1325.0,15.0,10.0,34.0,16.0,15.0,500.0,30.0,30.0,30.0,30.0,500.0,300.0,80.0,75.0,1210.0,10.0,99.0,500.0,69.6,600.0,6.0,20.0,500.0,210.0,500.0,40.0,60.0,165.0,750.0,70.0,81.5,600.0,1.0,1.0,11.2,15.0,10.0,5.0,5.0,20.0,15.0,36.3,10.0,1.0,1.7,24.8,50.4,150.0,5.0,98.7,3.0,40.0,4.2,1.0,60.0,300.0,540.0,231.0,40.0,35.0,234.0,120.0,10.0,630.0,2920.0,36.0,3.75,32.8,1660.0,240.0,144.0,44.0,110.0,24.0,5.0,221.0,21.0,5.0,660.0,1820.0,816.4,100.0,100.0,1600.0,25.0,30.0,24.0,990.0,1200.0,1200.0,33.75,51.0,500.0,600.0,280.0,330.0,595.2,22.0,96.0,5.0,15.5,12.96,67.6,25.0,75.0,24.0,22.0,390.0,12.8,210.0,1000.0,5.0,20.0,125.0,2.0,37.5,28.2,25.0,5.0,125.0,100.0,1.0,15.0,22.5,9.0,515.0,11.2,68.8,20.0,75.0,2100.0,431.586,4.25,310.0,39.0,35.0,10.5,225.0,648.0,15.0,630.0,115.0,77.65,468.57,120.0,23.1,22.5,32.0,250.0,920.0,30.0,60.0,23.1,600.0,440.0,205.24,540.0,25.0,768.0,55.0,15.0,25.6,3.0,5.0,1.0,5.0,50.0,1.0,5.0,7.5,1.8,28.0,5.0,3.0,600.0,36.0,24.0,120.0,25.5,156.1,351.43,18.9,331.5,25.0,34.4,25.5,21.0,27.3,88.8,605.0,49.0,20.0,420.0,270.0,75.0,780.0,270.0,24.0,350.0,300.0,1000.0,1500.0,1200.0,100.8,1.0,3.0,99.0,50.0,36.0,1080.0,66.0,63.5,54.5,155.0,445.674,139.2,427.5,96.0,1200.0,15.0,2.0,91.8,10.5,29.6,33.0,10.25,400.0,240.0,150.0,2340.0,880.0,1100.0,50.0,440.0,855.0,100.0,1200.0,15.0,30.0,12.0,1050.0,4.0,16.0,32.5,100.0,1000.0,3.75,119.8,270.0,21.84,195.0,225.0,10.0,35.0,291.0,1320.0,645.0,350.0,18.0,16.0,90.0,50.0,72.0,41.4,120.0,72.0,60.0,330.0,26.0,120.0,100.0,1000.0,96.0,1260.0,800.0,20.0,20.0,17.5,16.0,445.0,1458.0,225.0,26.0,12.0,2400.0,2600.0,890.0,1340.0,20.0,1240.0,125.0,400.0,77.65,107.88,1956.0,12.0,2400.0,30.0,555.0,2000.0,16.5,90.0,290.0,21.0,101.0,125.0,100.0,100.0,50.0,60.0,720.0,1000.0,1340.0,75.6,648.0,15.0,6.0,5.0,40.0,2.0,2.0,10.0,5.2,20.0,10.0,25.0,5.0,15.0,1.0,20.8,24.0,1.0,33.0,56.25,3.0,2000.0,25.0,142.2,1980.0,800.0,126.0,36.0,55.0,24.0,10.0,20.0,40.0,31.5,105.0,105.0,240.0,12.0,120.0,180.0,460.0,9.7,36.8,2.1,20.0,1.0,50.4,4.0,1.0,2.4,440.0,114.75,4.5,60.0,540.0,600.0,1320.0,15.0,140.0,22.0,31.4,63.2,1050.0,186.0,9.0,394.0,166.5,388.0,25.0,9.0,6.0,50.0,12.0,90.0,45.0,1000.0,30.6,660.0,1340.0,1000.0,1200.0,840.0,250.0,600.0,246.0,9.3,9.0,136.5,46.0,2320.0,4.0,36.0,20.0,78.9,50.0,207.0,15.0,31.2,25.2,75.0,4620.0,4000.0,28.3,11.2,15.0,610.0,126.0,14.65,6.6,50.0,2.1,1.0,17.0,31.5,52.5,3.0,21.0,440.0,500.0,815.6,50.0,45.5,78.9,10.0,18.9,65.0,161.75,10.0,11.6,70.0,630.0,270.0,1350.0,1500.0,600.0,12.27,40.0,420.0,600.0,1470.0,500.0,250.0,1320.0,33.2,45.0,5.0,10.5,45.0,10.0,10.5,630.0,1200.0,27.65,6.0,60.0,90.0,6.25,37.6,5.8,50.4,7.2,50.0,5.0,5.0,150.0,99.0,1188.0,520.0,102.0,51.0,330.5,655.0,1320.0,12.0,726.6,37.5,175.0,80.0,920.0,210.0,30.0,32.0,500.0,520.0,30.0,1140.0,1170.0,30.0,66.0,600.0,20.4,10.0,220.0,160.0,20.0,161.0,702.86,27.0,396.0,32.0,16.0,1371.2,330.0,234.0,1980.0,90.0,30.0,900.0,59.2,150.0,5.0,65.6,15.0,35.2,1.0,1.0,40.0,100.0,21.8,14.85,9.9,16.5,9.0,15.2,19.0,1080.0,172.0,18.7,4.8,1200.0,1720.0,35.0,1000.0,1370.0,38.5,135.0,45.0,1200.0,160.0,1400.0,11.0,198.0,270.5,50.0,412.02,405.0,60.0,12.5,600.0,36.0,100.0,1967.08,1650.0,48.0,250.0,3000.0,300.0,94.8,6.0,63.0,1260.0,1200.0,22.5,62.5,2600.0,50.0,16.5,2.0,10.0,10.0,5.0,1.0,26.4,5.0,5.0,5.0,50.0,6.0,50.4,30.5,35.1,22.5,250.0,1200.0,300.0,1600.0,18.0,100.0,690.0,1200.0,135.0,105.7,106.0,24.0,19.7,10.0,12.5,120.0,1340.0,26.0,500.0,30.0,3960.0,29.0,1330.0,16.0,600.0,1320.0,48.0,20.0,120.0,9.0,6.6,110.0,1035.0,240.0,17.2,36.0,150.0,18.0,54.0,95.0,300.0,22.0,20.0,40.0,33.6,500.0,2000.0,600.0,1200.0,2000.0,15.0,2980.0,43.0,42.0,660.0,16.0,3.3,6.6,135.0,330.0,770.0,900.0,4.0,600.0,130.0,1147.5,4.0,500.0,1500.0,35.0,6.0,63.0,25.0,10.5,21.0,10.5,5.0,1.0,1.5,100.0,25.0,10.0,100.0,10.0,8.5,5.0,5.0,5.0,5.0,10.5,16.5,2.25,1200.0,15.0,5.0,24.0,15.0,8.4,3.0,6.3,6.25,6.0,3.6,3.6,2.0,30.0,36.0,600.0,33.0,4.5,460.0,3000.0,1980.0,2400.0,94.2,440.0,220.0,1400.0,97.0,13.5,67.5,510.0,160.0,132.0,1200.0,1000.0,420.0,30.0,300.0,22.5,4.5,60.0,4.0,3300.0,240.0,600.0,260.0,422.0,500.0,180.0,18.0,750.0,150.0,60.0,28.0,1050.0,1000.0,300.0,9.35,14.4,25.5,100.0,10.0,74.0,0.0,50.4,50.4,22.0,24.0,200.0,5.0,1.5,1.5,49.6,91.35,8.0,1080.0,1200.0,12.0,5.0,1110.0,300.0,96.0,11.2,1550.0,382.5,1.7,600.0,320.0,240.0,127.6,672.0,62.6,480.0,240.0,3.75,374.571,90.0,25.7,13.5,60.0,52.8,1500.0,186.2,460.0,25.8,30.75,50.7,388.5,19.8,75.0,1260.0,500.0,272.3,46.0,4760.0,9.0,400.0,1040.0,42.5,50.4,21.0,5.0,75.0,1470.0,540.0,80.0,16.0,62.4,15.0,25.0,3.6,34.65,42.0,600.0,16.0,106.6,1600.0,3.0,25.5,80.0,16.5],\"type\":\"pie\"}],                        {\"template\":{\"data\":{\"bar\":[{\"error_x\":{\"color\":\"#2a3f5f\"},\"error_y\":{\"color\":\"#2a3f5f\"},\"marker\":{\"line\":{\"color\":\"#E5ECF6\",\"width\":0.5},\"pattern\":{\"fillmode\":\"overlay\",\"size\":10,\"solidity\":0.2}},\"type\":\"bar\"}],\"barpolar\":[{\"marker\":{\"line\":{\"color\":\"#E5ECF6\",\"width\":0.5},\"pattern\":{\"fillmode\":\"overlay\",\"size\":10,\"solidity\":0.2}},\"type\":\"barpolar\"}],\"carpet\":[{\"aaxis\":{\"endlinecolor\":\"#2a3f5f\",\"gridcolor\":\"white\",\"linecolor\":\"white\",\"minorgridcolor\":\"white\",\"startlinecolor\":\"#2a3f5f\"},\"baxis\":{\"endlinecolor\":\"#2a3f5f\",\"gridcolor\":\"white\",\"linecolor\":\"white\",\"minorgridcolor\":\"white\",\"startlinecolor\":\"#2a3f5f\"},\"type\":\"carpet\"}],\"choropleth\":[{\"colorbar\":{\"outlinewidth\":0,\"ticks\":\"\"},\"type\":\"choropleth\"}],\"contour\":[{\"colorbar\":{\"outlinewidth\":0,\"ticks\":\"\"},\"colorscale\":[[0.0,\"#0d0887\"],[0.1111111111111111,\"#46039f\"],[0.2222222222222222,\"#7201a8\"],[0.3333333333333333,\"#9c179e\"],[0.4444444444444444,\"#bd3786\"],[0.5555555555555556,\"#d8576b\"],[0.6666666666666666,\"#ed7953\"],[0.7777777777777778,\"#fb9f3a\"],[0.8888888888888888,\"#fdca26\"],[1.0,\"#f0f921\"]],\"type\":\"contour\"}],\"contourcarpet\":[{\"colorbar\":{\"outlinewidth\":0,\"ticks\":\"\"},\"type\":\"contourcarpet\"}],\"heatmap\":[{\"colorbar\":{\"outlinewidth\":0,\"ticks\":\"\"},\"colorscale\":[[0.0,\"#0d0887\"],[0.1111111111111111,\"#46039f\"],[0.2222222222222222,\"#7201a8\"],[0.3333333333333333,\"#9c179e\"],[0.4444444444444444,\"#bd3786\"],[0.5555555555555556,\"#d8576b\"],[0.6666666666666666,\"#ed7953\"],[0.7777777777777778,\"#fb9f3a\"],[0.8888888888888888,\"#fdca26\"],[1.0,\"#f0f921\"]],\"type\":\"heatmap\"}],\"heatmapgl\":[{\"colorbar\":{\"outlinewidth\":0,\"ticks\":\"\"},\"colorscale\":[[0.0,\"#0d0887\"],[0.1111111111111111,\"#46039f\"],[0.2222222222222222,\"#7201a8\"],[0.3333333333333333,\"#9c179e\"],[0.4444444444444444,\"#bd3786\"],[0.5555555555555556,\"#d8576b\"],[0.6666666666666666,\"#ed7953\"],[0.7777777777777778,\"#fb9f3a\"],[0.8888888888888888,\"#fdca26\"],[1.0,\"#f0f921\"]],\"type\":\"heatmapgl\"}],\"histogram\":[{\"marker\":{\"pattern\":{\"fillmode\":\"overlay\",\"size\":10,\"solidity\":0.2}},\"type\":\"histogram\"}],\"histogram2d\":[{\"colorbar\":{\"outlinewidth\":0,\"ticks\":\"\"},\"colorscale\":[[0.0,\"#0d0887\"],[0.1111111111111111,\"#46039f\"],[0.2222222222222222,\"#7201a8\"],[0.3333333333333333,\"#9c179e\"],[0.4444444444444444,\"#bd3786\"],[0.5555555555555556,\"#d8576b\"],[0.6666666666666666,\"#ed7953\"],[0.7777777777777778,\"#fb9f3a\"],[0.8888888888888888,\"#fdca26\"],[1.0,\"#f0f921\"]],\"type\":\"histogram2d\"}],\"histogram2dcontour\":[{\"colorbar\":{\"outlinewidth\":0,\"ticks\":\"\"},\"colorscale\":[[0.0,\"#0d0887\"],[0.1111111111111111,\"#46039f\"],[0.2222222222222222,\"#7201a8\"],[0.3333333333333333,\"#9c179e\"],[0.4444444444444444,\"#bd3786\"],[0.5555555555555556,\"#d8576b\"],[0.6666666666666666,\"#ed7953\"],[0.7777777777777778,\"#fb9f3a\"],[0.8888888888888888,\"#fdca26\"],[1.0,\"#f0f921\"]],\"type\":\"histogram2dcontour\"}],\"mesh3d\":[{\"colorbar\":{\"outlinewidth\":0,\"ticks\":\"\"},\"type\":\"mesh3d\"}],\"parcoords\":[{\"line\":{\"colorbar\":{\"outlinewidth\":0,\"ticks\":\"\"}},\"type\":\"parcoords\"}],\"pie\":[{\"automargin\":true,\"type\":\"pie\"}],\"scatter\":[{\"marker\":{\"colorbar\":{\"outlinewidth\":0,\"ticks\":\"\"}},\"type\":\"scatter\"}],\"scatter3d\":[{\"line\":{\"colorbar\":{\"outlinewidth\":0,\"ticks\":\"\"}},\"marker\":{\"colorbar\":{\"outlinewidth\":0,\"ticks\":\"\"}},\"type\":\"scatter3d\"}],\"scattercarpet\":[{\"marker\":{\"colorbar\":{\"outlinewidth\":0,\"ticks\":\"\"}},\"type\":\"scattercarpet\"}],\"scattergeo\":[{\"marker\":{\"colorbar\":{\"outlinewidth\":0,\"ticks\":\"\"}},\"type\":\"scattergeo\"}],\"scattergl\":[{\"marker\":{\"colorbar\":{\"outlinewidth\":0,\"ticks\":\"\"}},\"type\":\"scattergl\"}],\"scattermapbox\":[{\"marker\":{\"colorbar\":{\"outlinewidth\":0,\"ticks\":\"\"}},\"type\":\"scattermapbox\"}],\"scatterpolar\":[{\"marker\":{\"colorbar\":{\"outlinewidth\":0,\"ticks\":\"\"}},\"type\":\"scatterpolar\"}],\"scatterpolargl\":[{\"marker\":{\"colorbar\":{\"outlinewidth\":0,\"ticks\":\"\"}},\"type\":\"scatterpolargl\"}],\"scatterternary\":[{\"marker\":{\"colorbar\":{\"outlinewidth\":0,\"ticks\":\"\"}},\"type\":\"scatterternary\"}],\"surface\":[{\"colorbar\":{\"outlinewidth\":0,\"ticks\":\"\"},\"colorscale\":[[0.0,\"#0d0887\"],[0.1111111111111111,\"#46039f\"],[0.2222222222222222,\"#7201a8\"],[0.3333333333333333,\"#9c179e\"],[0.4444444444444444,\"#bd3786\"],[0.5555555555555556,\"#d8576b\"],[0.6666666666666666,\"#ed7953\"],[0.7777777777777778,\"#fb9f3a\"],[0.8888888888888888,\"#fdca26\"],[1.0,\"#f0f921\"]],\"type\":\"surface\"}],\"table\":[{\"cells\":{\"fill\":{\"color\":\"#EBF0F8\"},\"line\":{\"color\":\"white\"}},\"header\":{\"fill\":{\"color\":\"#C8D4E3\"},\"line\":{\"color\":\"white\"}},\"type\":\"table\"}]},\"layout\":{\"annotationdefaults\":{\"arrowcolor\":\"#2a3f5f\",\"arrowhead\":0,\"arrowwidth\":1},\"autotypenumbers\":\"strict\",\"coloraxis\":{\"colorbar\":{\"outlinewidth\":0,\"ticks\":\"\"}},\"colorscale\":{\"diverging\":[[0,\"#8e0152\"],[0.1,\"#c51b7d\"],[0.2,\"#de77ae\"],[0.3,\"#f1b6da\"],[0.4,\"#fde0ef\"],[0.5,\"#f7f7f7\"],[0.6,\"#e6f5d0\"],[0.7,\"#b8e186\"],[0.8,\"#7fbc41\"],[0.9,\"#4d9221\"],[1,\"#276419\"]],\"sequential\":[[0.0,\"#0d0887\"],[0.1111111111111111,\"#46039f\"],[0.2222222222222222,\"#7201a8\"],[0.3333333333333333,\"#9c179e\"],[0.4444444444444444,\"#bd3786\"],[0.5555555555555556,\"#d8576b\"],[0.6666666666666666,\"#ed7953\"],[0.7777777777777778,\"#fb9f3a\"],[0.8888888888888888,\"#fdca26\"],[1.0,\"#f0f921\"]],\"sequentialminus\":[[0.0,\"#0d0887\"],[0.1111111111111111,\"#46039f\"],[0.2222222222222222,\"#7201a8\"],[0.3333333333333333,\"#9c179e\"],[0.4444444444444444,\"#bd3786\"],[0.5555555555555556,\"#d8576b\"],[0.6666666666666666,\"#ed7953\"],[0.7777777777777778,\"#fb9f3a\"],[0.8888888888888888,\"#fdca26\"],[1.0,\"#f0f921\"]]},\"colorway\":[\"#636efa\",\"#EF553B\",\"#00cc96\",\"#ab63fa\",\"#FFA15A\",\"#19d3f3\",\"#FF6692\",\"#B6E880\",\"#FF97FF\",\"#FECB52\"],\"font\":{\"color\":\"#2a3f5f\"},\"geo\":{\"bgcolor\":\"white\",\"lakecolor\":\"white\",\"landcolor\":\"#E5ECF6\",\"showlakes\":true,\"showland\":true,\"subunitcolor\":\"white\"},\"hoverlabel\":{\"align\":\"left\"},\"hovermode\":\"closest\",\"mapbox\":{\"style\":\"light\"},\"paper_bgcolor\":\"white\",\"plot_bgcolor\":\"#E5ECF6\",\"polar\":{\"angularaxis\":{\"gridcolor\":\"white\",\"linecolor\":\"white\",\"ticks\":\"\"},\"bgcolor\":\"#E5ECF6\",\"radialaxis\":{\"gridcolor\":\"white\",\"linecolor\":\"white\",\"ticks\":\"\"}},\"scene\":{\"xaxis\":{\"backgroundcolor\":\"#E5ECF6\",\"gridcolor\":\"white\",\"gridwidth\":2,\"linecolor\":\"white\",\"showbackground\":true,\"ticks\":\"\",\"zerolinecolor\":\"white\"},\"yaxis\":{\"backgroundcolor\":\"#E5ECF6\",\"gridcolor\":\"white\",\"gridwidth\":2,\"linecolor\":\"white\",\"showbackground\":true,\"ticks\":\"\",\"zerolinecolor\":\"white\"},\"zaxis\":{\"backgroundcolor\":\"#E5ECF6\",\"gridcolor\":\"white\",\"gridwidth\":2,\"linecolor\":\"white\",\"showbackground\":true,\"ticks\":\"\",\"zerolinecolor\":\"white\"}},\"shapedefaults\":{\"line\":{\"color\":\"#2a3f5f\"}},\"ternary\":{\"aaxis\":{\"gridcolor\":\"white\",\"linecolor\":\"white\",\"ticks\":\"\"},\"baxis\":{\"gridcolor\":\"white\",\"linecolor\":\"white\",\"ticks\":\"\"},\"bgcolor\":\"#E5ECF6\",\"caxis\":{\"gridcolor\":\"white\",\"linecolor\":\"white\",\"ticks\":\"\"}},\"title\":{\"x\":0.05},\"xaxis\":{\"automargin\":true,\"gridcolor\":\"white\",\"linecolor\":\"white\",\"ticks\":\"\",\"title\":{\"standoff\":15},\"zerolinecolor\":\"white\",\"zerolinewidth\":2},\"yaxis\":{\"automargin\":true,\"gridcolor\":\"white\",\"linecolor\":\"white\",\"ticks\":\"\",\"title\":{\"standoff\":15},\"zerolinecolor\":\"white\",\"zerolinewidth\":2}}},\"legend\":{\"tracegroupgap\":0},\"title\":{\"text\":\"primary fuel % with respect to capacity_mw\"},\"piecolorway\":[\"#3366CC\",\"#DC3912\",\"#FF9900\",\"#109618\",\"#990099\",\"#0099C6\",\"#DD4477\",\"#66AA00\",\"#B82E2E\",\"#316395\"]},                        {\"responsive\": true}                    ).then(function(){\n",
       "                            \n",
       "var gd = document.getElementById('d08d544d-5d09-4ea7-99ab-f5e2328e5c29');\n",
       "var x = new MutationObserver(function (mutations, observer) {{\n",
       "        var display = window.getComputedStyle(gd).display;\n",
       "        if (!display || display === 'none') {{\n",
       "            console.log([gd, 'removed!']);\n",
       "            Plotly.purge(gd);\n",
       "            observer.disconnect();\n",
       "        }}\n",
       "}});\n",
       "\n",
       "// Listen for the removal of the full notebook cells\n",
       "var notebookContainer = gd.closest('#notebook-container');\n",
       "if (notebookContainer) {{\n",
       "    x.observe(notebookContainer, {childList: true});\n",
       "}}\n",
       "\n",
       "// Listen for the clearing of the current output cell\n",
       "var outputEl = gd.closest('.output');\n",
       "if (outputEl) {{\n",
       "    x.observe(outputEl, {childList: true});\n",
       "}}\n",
       "\n",
       "                        })                };                });            </script>        </div>"
      ]
     },
     "metadata": {},
     "output_type": "display_data"
    }
   ],
   "source": [
    "px.pie(global_power,values='capacity_mw',names='primary_fuel',title='primary fuel % with respect to capacity_mw',color_discrete_sequence= px.colors.qualitative.G10)"
   ]
  },
  {
   "cell_type": "markdown",
   "id": "70581dc1",
   "metadata": {},
   "source": [
    "Observations:\n",
    "    \n",
    "1.here we are trying to understand usage of primary fuel in context with geoloaction source.\n",
    "\n",
    "2.69.1 % of coal was used in most of the geolocation sources."
   ]
  },
  {
   "cell_type": "code",
   "execution_count": null,
   "id": "4ab39334",
   "metadata": {},
   "outputs": [],
   "source": []
  },
  {
   "cell_type": "code",
   "execution_count": null,
   "id": "d0bc31f2",
   "metadata": {},
   "outputs": [],
   "source": []
  },
  {
   "cell_type": "code",
   "execution_count": 1304,
   "id": "2b94f38b",
   "metadata": {},
   "outputs": [
    {
     "data": {
      "text/html": [
       "<div>\n",
       "<style scoped>\n",
       "    .dataframe tbody tr th:only-of-type {\n",
       "        vertical-align: middle;\n",
       "    }\n",
       "\n",
       "    .dataframe tbody tr th {\n",
       "        vertical-align: top;\n",
       "    }\n",
       "\n",
       "    .dataframe thead th {\n",
       "        text-align: right;\n",
       "    }\n",
       "</style>\n",
       "<table border=\"1\" class=\"dataframe\">\n",
       "  <thead>\n",
       "    <tr style=\"text-align: right;\">\n",
       "      <th></th>\n",
       "      <th>capacity_mw</th>\n",
       "      <th>latitude</th>\n",
       "      <th>longitude</th>\n",
       "      <th>commissioning_year</th>\n",
       "      <th>year_of_capacity_data</th>\n",
       "      <th>generation_gwh_2013</th>\n",
       "      <th>generation_gwh_2014</th>\n",
       "      <th>generation_gwh_2015</th>\n",
       "      <th>generation_gwh_2016</th>\n",
       "      <th>generation_gwh_2017</th>\n",
       "    </tr>\n",
       "  </thead>\n",
       "  <tbody>\n",
       "    <tr>\n",
       "      <th>capacity_mw</th>\n",
       "      <td>1.000000</td>\n",
       "      <td>0.049790</td>\n",
       "      <td>0.197124</td>\n",
       "      <td>0.265827</td>\n",
       "      <td>NaN</td>\n",
       "      <td>0.667842</td>\n",
       "      <td>0.705434</td>\n",
       "      <td>0.722081</td>\n",
       "      <td>0.752829</td>\n",
       "      <td>0.767040</td>\n",
       "    </tr>\n",
       "    <tr>\n",
       "      <th>latitude</th>\n",
       "      <td>0.049790</td>\n",
       "      <td>1.000000</td>\n",
       "      <td>0.031501</td>\n",
       "      <td>0.095050</td>\n",
       "      <td>NaN</td>\n",
       "      <td>0.036639</td>\n",
       "      <td>0.044085</td>\n",
       "      <td>0.036127</td>\n",
       "      <td>0.030932</td>\n",
       "      <td>0.030655</td>\n",
       "    </tr>\n",
       "    <tr>\n",
       "      <th>longitude</th>\n",
       "      <td>0.197124</td>\n",
       "      <td>0.031501</td>\n",
       "      <td>1.000000</td>\n",
       "      <td>0.086054</td>\n",
       "      <td>NaN</td>\n",
       "      <td>0.014021</td>\n",
       "      <td>0.011669</td>\n",
       "      <td>0.019176</td>\n",
       "      <td>0.039758</td>\n",
       "      <td>0.040407</td>\n",
       "    </tr>\n",
       "    <tr>\n",
       "      <th>commissioning_year</th>\n",
       "      <td>0.265827</td>\n",
       "      <td>0.095050</td>\n",
       "      <td>0.086054</td>\n",
       "      <td>1.000000</td>\n",
       "      <td>NaN</td>\n",
       "      <td>0.110848</td>\n",
       "      <td>0.134305</td>\n",
       "      <td>0.149304</td>\n",
       "      <td>0.172698</td>\n",
       "      <td>0.173400</td>\n",
       "    </tr>\n",
       "    <tr>\n",
       "      <th>year_of_capacity_data</th>\n",
       "      <td>NaN</td>\n",
       "      <td>NaN</td>\n",
       "      <td>NaN</td>\n",
       "      <td>NaN</td>\n",
       "      <td>NaN</td>\n",
       "      <td>NaN</td>\n",
       "      <td>NaN</td>\n",
       "      <td>NaN</td>\n",
       "      <td>NaN</td>\n",
       "      <td>NaN</td>\n",
       "    </tr>\n",
       "    <tr>\n",
       "      <th>generation_gwh_2013</th>\n",
       "      <td>0.667842</td>\n",
       "      <td>0.036639</td>\n",
       "      <td>0.014021</td>\n",
       "      <td>0.110848</td>\n",
       "      <td>NaN</td>\n",
       "      <td>1.000000</td>\n",
       "      <td>0.963454</td>\n",
       "      <td>0.896376</td>\n",
       "      <td>0.873542</td>\n",
       "      <td>0.830639</td>\n",
       "    </tr>\n",
       "    <tr>\n",
       "      <th>generation_gwh_2014</th>\n",
       "      <td>0.705434</td>\n",
       "      <td>0.044085</td>\n",
       "      <td>0.011669</td>\n",
       "      <td>0.134305</td>\n",
       "      <td>NaN</td>\n",
       "      <td>0.963454</td>\n",
       "      <td>1.000000</td>\n",
       "      <td>0.953712</td>\n",
       "      <td>0.926010</td>\n",
       "      <td>0.891872</td>\n",
       "    </tr>\n",
       "    <tr>\n",
       "      <th>generation_gwh_2015</th>\n",
       "      <td>0.722081</td>\n",
       "      <td>0.036127</td>\n",
       "      <td>0.019176</td>\n",
       "      <td>0.149304</td>\n",
       "      <td>NaN</td>\n",
       "      <td>0.896376</td>\n",
       "      <td>0.953712</td>\n",
       "      <td>1.000000</td>\n",
       "      <td>0.968969</td>\n",
       "      <td>0.928459</td>\n",
       "    </tr>\n",
       "    <tr>\n",
       "      <th>generation_gwh_2016</th>\n",
       "      <td>0.752829</td>\n",
       "      <td>0.030932</td>\n",
       "      <td>0.039758</td>\n",
       "      <td>0.172698</td>\n",
       "      <td>NaN</td>\n",
       "      <td>0.873542</td>\n",
       "      <td>0.926010</td>\n",
       "      <td>0.968969</td>\n",
       "      <td>1.000000</td>\n",
       "      <td>0.964786</td>\n",
       "    </tr>\n",
       "    <tr>\n",
       "      <th>generation_gwh_2017</th>\n",
       "      <td>0.767040</td>\n",
       "      <td>0.030655</td>\n",
       "      <td>0.040407</td>\n",
       "      <td>0.173400</td>\n",
       "      <td>NaN</td>\n",
       "      <td>0.830639</td>\n",
       "      <td>0.891872</td>\n",
       "      <td>0.928459</td>\n",
       "      <td>0.964786</td>\n",
       "      <td>1.000000</td>\n",
       "    </tr>\n",
       "  </tbody>\n",
       "</table>\n",
       "</div>"
      ],
      "text/plain": [
       "                       capacity_mw  latitude  longitude  commissioning_year  \\\n",
       "capacity_mw               1.000000  0.049790   0.197124            0.265827   \n",
       "latitude                  0.049790  1.000000   0.031501            0.095050   \n",
       "longitude                 0.197124  0.031501   1.000000            0.086054   \n",
       "commissioning_year        0.265827  0.095050   0.086054            1.000000   \n",
       "year_of_capacity_data          NaN       NaN        NaN                 NaN   \n",
       "generation_gwh_2013       0.667842  0.036639   0.014021            0.110848   \n",
       "generation_gwh_2014       0.705434  0.044085   0.011669            0.134305   \n",
       "generation_gwh_2015       0.722081  0.036127   0.019176            0.149304   \n",
       "generation_gwh_2016       0.752829  0.030932   0.039758            0.172698   \n",
       "generation_gwh_2017       0.767040  0.030655   0.040407            0.173400   \n",
       "\n",
       "                       year_of_capacity_data  generation_gwh_2013  \\\n",
       "capacity_mw                              NaN             0.667842   \n",
       "latitude                                 NaN             0.036639   \n",
       "longitude                                NaN             0.014021   \n",
       "commissioning_year                       NaN             0.110848   \n",
       "year_of_capacity_data                    NaN                  NaN   \n",
       "generation_gwh_2013                      NaN             1.000000   \n",
       "generation_gwh_2014                      NaN             0.963454   \n",
       "generation_gwh_2015                      NaN             0.896376   \n",
       "generation_gwh_2016                      NaN             0.873542   \n",
       "generation_gwh_2017                      NaN             0.830639   \n",
       "\n",
       "                       generation_gwh_2014  generation_gwh_2015  \\\n",
       "capacity_mw                       0.705434             0.722081   \n",
       "latitude                          0.044085             0.036127   \n",
       "longitude                         0.011669             0.019176   \n",
       "commissioning_year                0.134305             0.149304   \n",
       "year_of_capacity_data                  NaN                  NaN   \n",
       "generation_gwh_2013               0.963454             0.896376   \n",
       "generation_gwh_2014               1.000000             0.953712   \n",
       "generation_gwh_2015               0.953712             1.000000   \n",
       "generation_gwh_2016               0.926010             0.968969   \n",
       "generation_gwh_2017               0.891872             0.928459   \n",
       "\n",
       "                       generation_gwh_2016  generation_gwh_2017  \n",
       "capacity_mw                       0.752829             0.767040  \n",
       "latitude                          0.030932             0.030655  \n",
       "longitude                         0.039758             0.040407  \n",
       "commissioning_year                0.172698             0.173400  \n",
       "year_of_capacity_data                  NaN                  NaN  \n",
       "generation_gwh_2013               0.873542             0.830639  \n",
       "generation_gwh_2014               0.926010             0.891872  \n",
       "generation_gwh_2015               0.968969             0.928459  \n",
       "generation_gwh_2016               1.000000             0.964786  \n",
       "generation_gwh_2017               0.964786             1.000000  "
      ]
     },
     "execution_count": 1304,
     "metadata": {},
     "output_type": "execute_result"
    }
   ],
   "source": [
    "#correlation table \n",
    "gp=global_power.corr()\n",
    "gp"
   ]
  },
  {
   "cell_type": "code",
   "execution_count": 1305,
   "id": "5524a2aa",
   "metadata": {},
   "outputs": [
    {
     "data": {
      "text/plain": [
       "<AxesSubplot:>"
      ]
     },
     "execution_count": 1305,
     "metadata": {},
     "output_type": "execute_result"
    },
    {
     "data": {
      "image/png": "[encoded data removed]",
      "text/plain": [
       "<Figure size 1440x720 with 2 Axes>"
      ]
     },
     "metadata": {
      "needs_background": "light"
     },
     "output_type": "display_data"
    }
   ],
   "source": [
    "#representing correlation in a form of heatmap for better understanding\n",
    "plt.figure(figsize=(20,10))\n",
    "sn.heatmap(global_power.corr(), annot=True, linewidths=0.5)"
   ]
  },
  {
   "cell_type": "markdown",
   "id": "0d6adc32",
   "metadata": {},
   "source": [
    "observations:\n",
    "    \n",
    "1. year of capacity data has only 1 value.\n",
    "\n",
    "2.with capacity mw, generation gwh 2017 has the highest correlation.\n",
    "\n",
    "3.latitude is least positively related to capacity_mw.\n",
    "\n",
    "4.generation gwh 2016 & 2015 are highly positively related to each other with score 0.97 followed by generation gwh 2016 and 2017 with a score of 0.96.\n",
    "\n",
    "5.the above correlation tables only present the correlated values of numeric columns. it is missing out categorical columns.\n",
    "\n",
    "6.chances of high variance thus leading to multi collinearity."
   ]
  },
  {
   "cell_type": "markdown",
   "id": "b2dbd253",
   "metadata": {},
   "source": [
    "# Encoding the categorical columns "
   ]
  },
  {
   "cell_type": "code",
   "execution_count": 1306,
   "id": "ef94527c",
   "metadata": {},
   "outputs": [],
   "source": [
    "#using label encoding to encode the categorical values\n",
    "le=LabelEncoder() #creating an instance\n",
    "#fitting and transforming the categorical columns.\n",
    "global_power['primary_fuel']=le.fit_transform(global_power['primary_fuel'])\n",
    "global_power['other_fuel1']=le.fit_transform(global_power['other_fuel1'])\n",
    "global_power['owner']=le.fit_transform(global_power['owner'])\n",
    "global_power['source']=le.fit_transform(global_power['source'])\n",
    "global_power['geolocation_source']=le.fit_transform(global_power['geolocation_source'])\n",
    "global_power['country']=le.fit_transform(global_power['country'])\n",
    "global_power['country_long']=le.fit_transform(global_power['country_long'])\n",
    "global_power['name']=le.fit_transform(global_power['name'])\n",
    "global_power['gppd_idnr']=le.fit_transform(global_power['gppd_idnr'])\n",
    "global_power['generation_data_source']=le.fit_transform(global_power['generation_data_source'])"
   ]
  },
  {
   "cell_type": "markdown",
   "id": "b264c1e8",
   "metadata": {},
   "source": [
    "# FEATURE ENGINEERING"
   ]
  },
  {
   "cell_type": "code",
   "execution_count": 1307,
   "id": "b9b19c4d",
   "metadata": {},
   "outputs": [
    {
     "data": {
      "text/plain": [
       "2    905\n",
       "1      2\n",
       "0      1\n",
       "Name: other_fuel1, dtype: int64"
      ]
     },
     "execution_count": 1307,
     "metadata": {},
     "output_type": "execute_result"
    }
   ],
   "source": [
    "#checking data count of columns\n",
    "global_power['other_fuel1'].value_counts()"
   ]
  },
  {
   "cell_type": "code",
   "execution_count": 1308,
   "id": "a20dd124",
   "metadata": {},
   "outputs": [
    {
     "data": {
      "text/plain": [
       "0    908\n",
       "Name: country, dtype: int64"
      ]
     },
     "execution_count": 1308,
     "metadata": {},
     "output_type": "execute_result"
    }
   ],
   "source": [
    "global_power['country'].value_counts() #checking no. of unique value in this partivular column"
   ]
  },
  {
   "cell_type": "markdown",
   "id": "c2ea54de",
   "metadata": {},
   "source": [
    "observations:\n",
    "    \n",
    "country has only one unique value which is IND."
   ]
  },
  {
   "cell_type": "code",
   "execution_count": 1309,
   "id": "3e6140d5",
   "metadata": {},
   "outputs": [
    {
     "data": {
      "text/plain": [
       "0    908\n",
       "Name: country_long, dtype: int64"
      ]
     },
     "execution_count": 1309,
     "metadata": {},
     "output_type": "execute_result"
    }
   ],
   "source": [
    "global_power['country_long'].value_counts()#checking no. of unique value in this partivular column"
   ]
  },
  {
   "cell_type": "markdown",
   "id": "9966f0d2",
   "metadata": {},
   "source": [
    "observations:\n",
    "    \n",
    "country_long has only one unique value which is India."
   ]
  },
  {
   "cell_type": "code",
   "execution_count": 1310,
   "id": "b67f908d",
   "metadata": {},
   "outputs": [
    {
     "data": {
      "text/plain": [
       "2018.0    908\n",
       "Name: year_of_capacity_data, dtype: int64"
      ]
     },
     "execution_count": 1310,
     "metadata": {},
     "output_type": "execute_result"
    }
   ],
   "source": [
    "global_power['year_of_capacity_data'].value_counts()#checking no. of unique value in this partivular column"
   ]
  },
  {
   "cell_type": "markdown",
   "id": "582aaef7",
   "metadata": {},
   "source": [
    "observations:\n",
    "    \n",
    "year_of_capacity_data has only one unique value which is 2018."
   ]
  },
  {
   "cell_type": "code",
   "execution_count": 1311,
   "id": "87f3b6b6",
   "metadata": {},
   "outputs": [
    {
     "data": {
      "text/plain": [
       "2    905\n",
       "1      2\n",
       "0      1\n",
       "Name: other_fuel1, dtype: int64"
      ]
     },
     "execution_count": 1311,
     "metadata": {},
     "output_type": "execute_result"
    }
   ],
   "source": [
    "global_power['other_fuel1'].value_counts()#checking no. of unique value in this partivular column"
   ]
  },
  {
   "cell_type": "markdown",
   "id": "a83c5249",
   "metadata": {},
   "source": [
    "observations:\n",
    "    \n",
    "other_fuel1 has 3 unique values where 905 values out of 908 are concentrated at oil ."
   ]
  },
  {
   "cell_type": "code",
   "execution_count": 1312,
   "id": "f08b2e59",
   "metadata": {},
   "outputs": [
    {
     "data": {
      "text/plain": [
       "0    908\n",
       "Name: generation_data_source, dtype: int64"
      ]
     },
     "execution_count": 1312,
     "metadata": {},
     "output_type": "execute_result"
    }
   ],
   "source": [
    "global_power['generation_data_source'].value_counts() #checking no. of unique value in this partivular column"
   ]
  },
  {
   "cell_type": "markdown",
   "id": "3474af87",
   "metadata": {},
   "source": [
    "observations:\n",
    "    \n",
    "generation_data_source has only one unique value which is 0."
   ]
  },
  {
   "cell_type": "code",
   "execution_count": 1313,
   "id": "dd294bfb",
   "metadata": {},
   "outputs": [],
   "source": [
    "#dropping unnecessary columns\n",
    "global_power.drop(['country','country_long','name','gppd_idnr','year_of_capacity_data','generation_data_source','url'],axis = 1, inplace = True)"
   ]
  },
  {
   "cell_type": "markdown",
   "id": "cc6fc72b",
   "metadata": {},
   "source": [
    "observation:\n",
    "    \n",
    "1.as we see that some columns have only one value and they do not contribute much. thus we are dropping those columns.\n",
    "\n",
    "2.name and gppd idnr columns are simply columns sort of like serial ids. as they are irrelevnt we are also dropping them.\n",
    "\n",
    "3.other fuel1 has 3 unique values out of 908 values, 905 values constitutes oil. thus this column also equivalent to having only 1 value.hence dropping it."
   ]
  },
  {
   "cell_type": "markdown",
   "id": "4dfaa089",
   "metadata": {},
   "source": [
    "# Checking multicollinearity"
   ]
  },
  {
   "cell_type": "code",
   "execution_count": 1314,
   "id": "5fce19f0",
   "metadata": {},
   "outputs": [
    {
     "name": "stdout",
     "output_type": "stream",
     "text": [
      "<class 'pandas.core.frame.DataFrame'>\n",
      "RangeIndex: 908 entries, 0 to 907\n",
      "Data columns (total 12 columns):\n",
      " #   Column               Non-Null Count  Dtype  \n",
      "---  ------               --------------  -----  \n",
      " 0   latitude             908 non-null    float64\n",
      " 1   longitude            908 non-null    float64\n",
      " 2   other_fuel1          908 non-null    int32  \n",
      " 3   commissioning_year   908 non-null    float64\n",
      " 4   owner                908 non-null    int32  \n",
      " 5   source               908 non-null    int32  \n",
      " 6   geolocation_source   908 non-null    int32  \n",
      " 7   generation_gwh_2013  908 non-null    float64\n",
      " 8   generation_gwh_2014  908 non-null    float64\n",
      " 9   generation_gwh_2015  908 non-null    float64\n",
      " 10  generation_gwh_2016  908 non-null    float64\n",
      " 11  generation_gwh_2017  908 non-null    float64\n",
      "dtypes: float64(8), int32(4)\n",
      "memory usage: 71.1 KB\n"
     ]
    }
   ],
   "source": [
    "#dropping the target columns from all the columns for finding VIF.\n",
    "gp1 = global_power.drop(columns =['primary_fuel','capacity_mw'], axis = 1)\n",
    "gp2 = global_power['primary_fuel']\n",
    "gp3 = global_power['capacity_mw']\n",
    "gp1.info()  #checking info of coulumns of gp1."
   ]
  },
  {
   "cell_type": "code",
   "execution_count": 1315,
   "id": "af91142a",
   "metadata": {},
   "outputs": [],
   "source": [
    "#creating a fuction to find vif factor to check multi-collinearity\n",
    "def vifcal():\n",
    "    vif=pd.DataFrame()\n",
    "    vif[\"VIF FACTOR\"]=[variance_inflation_factor(gp1.values,i) for i in range(gp1.shape[1])]\n",
    "    vif[\"Features\"]=gp1.columns\n",
    "    print(vif)"
   ]
  },
  {
   "cell_type": "code",
   "execution_count": 1316,
   "id": "950ce2be",
   "metadata": {},
   "outputs": [
    {
     "name": "stdout",
     "output_type": "stream",
     "text": [
      "    VIF FACTOR             Features\n",
      "0    14.219866             latitude\n",
      "1   303.559163            longitude\n",
      "2   600.225151          other_fuel1\n",
      "3   877.537944   commissioning_year\n",
      "4     3.845422                owner\n",
      "5     5.586815               source\n",
      "6    10.826000   geolocation_source\n",
      "7    29.373814  generation_gwh_2013\n",
      "8    62.159346  generation_gwh_2014\n",
      "9    47.549777  generation_gwh_2015\n",
      "10   58.647386  generation_gwh_2016\n",
      "11   26.540331  generation_gwh_2017\n"
     ]
    }
   ],
   "source": [
    "vifcal() #calling the function"
   ]
  },
  {
   "cell_type": "code",
   "execution_count": 1317,
   "id": "839204c0",
   "metadata": {},
   "outputs": [
    {
     "data": {
      "text/plain": [
       "<AxesSubplot:>"
      ]
     },
     "execution_count": 1317,
     "metadata": {},
     "output_type": "execute_result"
    },
    {
     "data": {
      "image/png": "[encoded data removed]",
      "text/plain": [
       "<Figure size 1800x1080 with 2 Axes>"
      ]
     },
     "metadata": {
      "needs_background": "light"
     },
     "output_type": "display_data"
    }
   ],
   "source": [
    "plt.figure(figsize=(25,15))\n",
    "sn.heatmap(global_power.corr(),annot=True, linewidths=0.5)"
   ]
  },
  {
   "cell_type": "markdown",
   "id": "952cf3fb",
   "metadata": {},
   "source": [
    "observations:\n",
    "    \n",
    "1.we see that many has high vif values but commissioning year and longitude has the highest vif factor value.\n",
    "\n",
    "2.thus, commissioning year and othr_fuel1 as well as longitude and generation gwh 2014 pairs are having hishest vif factors.\n",
    "\n",
    "3.we have 2 target variables and we have to make two predictions.\n",
    "\n",
    "4.for target variable 'primary_fuel' between commissioning year and longitude, both are negatively correlated to primary fuel, but longitude is more negatively correlated. thus longitude contributes more.hence in this case, commissioning year requires to be dropped to reduce multicollinearity and high variance.\n",
    "\n",
    "5.for target variable 'capacity_mw' between commissioning year and longitude, commissioning year contributes more as it has higher positive correlation.hence in this case, longitude requires to be dropped to reduce multicollinearity and high variance."
   ]
  },
  {
   "cell_type": "markdown",
   "id": "c13c6ab6",
   "metadata": {},
   "source": [
    "# Reduction of skewness and outliers"
   ]
  },
  {
   "cell_type": "code",
   "execution_count": 1229,
   "id": "bc72a6ab",
   "metadata": {},
   "outputs": [
    {
     "data": {
      "text/plain": [
       "country                    0.000000\n",
       "country_long               0.000000\n",
       "name                       0.000000\n",
       "gppd_idnr                  0.000000\n",
       "capacity_mw                3.193257\n",
       "latitude                  -0.147391\n",
       "longitude                  1.129836\n",
       "primary_fuel               0.471141\n",
       "other_fuel1              -20.464435\n",
       "commissioning_year        -1.383330\n",
       "owner                      1.366078\n",
       "source                     1.829145\n",
       "geolocation_source        -2.161710\n",
       "year_of_capacity_data      0.000000\n",
       "generation_gwh_2013        5.241491\n",
       "generation_gwh_2014        5.041961\n",
       "generation_gwh_2015        5.367370\n",
       "generation_gwh_2016        5.071758\n",
       "generation_gwh_2017        5.111938\n",
       "generation_data_source     0.000000\n",
       "dtype: float64"
      ]
     },
     "execution_count": 1229,
     "metadata": {},
     "output_type": "execute_result"
    }
   ],
   "source": [
    "#checking skew values of the columns\n",
    "global_power.skew()"
   ]
  },
  {
   "cell_type": "code",
   "execution_count": 1318,
   "id": "fca01f72",
   "metadata": {},
   "outputs": [
    {
     "data": {
      "text/plain": [
       "capacity_mw            1.958229\n",
       "latitude              -0.113779\n",
       "longitude              0.853291\n",
       "primary_fuel           0.415028\n",
       "other_fuel1            0.000000\n",
       "commissioning_year    -0.852148\n",
       "owner                  1.318465\n",
       "source                 1.780743\n",
       "geolocation_source    -2.100174\n",
       "generation_gwh_2013    1.546690\n",
       "generation_gwh_2014    1.454599\n",
       "generation_gwh_2015    1.338087\n",
       "generation_gwh_2016    1.360805\n",
       "generation_gwh_2017    1.253852\n",
       "dtype: float64"
      ]
     },
     "execution_count": 1318,
     "metadata": {},
     "output_type": "execute_result"
    }
   ],
   "source": [
    "#reducing skewness by using z score. keeping values who have z score more than threshold 3\n",
    "z = np.abs(zscore(global_power))\n",
    "global_power1= global_power[(z<3).all(axis=1)]\n",
    "global_power1.skew()"
   ]
  },
  {
   "cell_type": "markdown",
   "id": "bb7f6d6b",
   "metadata": {},
   "source": [
    "# prediction for target variable primary fuel"
   ]
  },
  {
   "cell_type": "markdown",
   "id": "177103d6",
   "metadata": {},
   "source": [
    "# splitting data and training data"
   ]
  },
  {
   "cell_type": "code",
   "execution_count": 1319,
   "id": "783fcd7e",
   "metadata": {},
   "outputs": [],
   "source": [
    "X1 = global_power.drop(columns =['primary_fuel','commissioning_year'], axis = 1)\n",
    "Y1 = global_power['primary_fuel']\n",
    "X1_train, X1_test, Y1_train, Y1_test = train_test_split(X1,Y1, random_state=42, test_size=0.3)"
   ]
  },
  {
   "cell_type": "markdown",
   "id": "afe812eb",
   "metadata": {},
   "source": [
    "# scaling data"
   ]
  },
  {
   "cell_type": "code",
   "execution_count": 1320,
   "id": "c8224e62",
   "metadata": {},
   "outputs": [],
   "source": [
    "#scaling of data and checking if it fits and transforming split train and test data\n",
    "sc = StandardScaler()\n",
    "X1_train_s = sc.fit_transform(X1_train)\n",
    "X1_test_s = sc.transform(X1_test)"
   ]
  },
  {
   "cell_type": "markdown",
   "id": "710eeb3d",
   "metadata": {},
   "source": [
    "# model building: \n"
   ]
  },
  {
   "cell_type": "markdown",
   "id": "087c2beb",
   "metadata": {},
   "source": [
    "# 1.KNNEIGHBOURS"
   ]
  },
  {
   "cell_type": "code",
   "execution_count": 1341,
   "id": "898b9c76",
   "metadata": {},
   "outputs": [],
   "source": [
    "from sklearn.linear_model import Lasso,Ridge, ElasticNet\n",
    "from sklearn.preprocessing import StandardScaler\n",
    "from sklearn.linear_model import LinearRegression\n",
    "from sklearn.ensemble import RandomForestRegressor\n",
    "from sklearn.metrics import r2_score, mean_absolute_error, mean_squared_error\n",
    "from sklearn.neighbors import KNeighborsRegressor\n",
    "from sklearn import metrics\n",
    "from sklearn.model_selection import GridSearchCV\n",
    "%matplotlib inline"
   ]
  },
  {
   "cell_type": "code",
   "execution_count": 1342,
   "id": "8336f008",
   "metadata": {},
   "outputs": [
    {
     "data": {
      "text/plain": [
       "KNeighborsRegressor(n_jobs=1, n_neighbors=7)"
      ]
     },
     "execution_count": 1342,
     "metadata": {},
     "output_type": "execute_result"
    }
   ],
   "source": [
    "knn = KNeighborsRegressor(n_neighbors=7) #creating an instance\n",
    "KNeighborsRegressor(algorithm='auto', leaf_size=30, metric='minkowski', #setting up parameters\n",
    "          metric_params=None, n_jobs=1, n_neighbors=7, p=2,\n",
    "          weights='uniform')"
   ]
  },
  {
   "cell_type": "code",
   "execution_count": 1343,
   "id": "e5ff8d01",
   "metadata": {},
   "outputs": [
    {
     "data": {
      "text/plain": [
       "KNeighborsRegressor(n_neighbors=7)"
      ]
     },
     "execution_count": 1343,
     "metadata": {},
     "output_type": "execute_result"
    }
   ],
   "source": [
    "knn.fit(X1_train_s,Y1_train) #fitting kneighbors into x train and y train values"
   ]
  },
  {
   "cell_type": "code",
   "execution_count": 1344,
   "id": "12d0fa22",
   "metadata": {},
   "outputs": [
    {
     "data": {
      "text/plain": [
       "0.7743675932754102"
      ]
     },
     "execution_count": 1344,
     "metadata": {},
     "output_type": "execute_result"
    }
   ],
   "source": [
    "knn.score(X1_train_s,Y1_train)"
   ]
  },
  {
   "cell_type": "code",
   "execution_count": 1345,
   "id": "7f31402e",
   "metadata": {},
   "outputs": [
    {
     "name": "stdout",
     "output_type": "stream",
     "text": [
      "predicted result: [5.28571429 6.         2.85714286 2.57142857 3.         5.28571429\n",
      " 3.         5.42857143 1.85714286 2.71428571 1.42857143 1.71428571\n",
      " 3.         1.57142857 6.14285714 7.         7.         3.28571429\n",
      " 1.         1.42857143 1.85714286 2.71428571 6.         3.\n",
      " 0.57142857 6.         3.         6.         1.         7.\n",
      " 2.57142857 2.14285714 1.57142857 3.         0.28571429 2.14285714\n",
      " 0.28571429 2.42857143 2.14285714 0.71428571 3.85714286 3.85714286\n",
      " 2.14285714 3.         7.         2.57142857 3.         0.71428571\n",
      " 2.14285714 7.         7.         1.         5.         2.28571429\n",
      " 5.         0.28571429 3.         3.85714286 1.71428571 6.\n",
      " 1.71428571 3.         0.57142857 3.28571429 6.         4.14285714\n",
      " 3.85714286 0.         7.         3.         2.28571429 3.\n",
      " 3.         4.28571429 0.85714286 1.57142857 2.71428571 1.28571429\n",
      " 3.28571429 3.         3.         6.         1.42857143 2.71428571\n",
      " 3.         2.42857143 2.71428571 2.42857143 0.71428571 6.\n",
      " 2.85714286 3.         2.57142857 6.         2.71428571 5.28571429\n",
      " 7.         1.         3.57142857 2.28571429 1.         3.\n",
      " 1.         4.42857143 3.         7.         2.42857143 3.28571429\n",
      " 2.         3.28571429 2.28571429 2.57142857 1.         1.28571429\n",
      " 3.         3.         2.28571429 2.85714286 4.14285714 5.85714286\n",
      " 7.         6.         4.42857143 6.         2.14285714 1.57142857\n",
      " 2.57142857 0.42857143 0.28571429 2.85714286 2.42857143 1.\n",
      " 7.         7.         1.71428571 2.71428571 2.85714286 2.14285714\n",
      " 0.14285714 2.57142857 6.         1.         1.14285714 1.42857143\n",
      " 6.         6.         1.57142857 1.57142857 3.42857143 6.\n",
      " 5.         6.         6.42857143 2.14285714 6.         6.42857143\n",
      " 1.71428571 3.         2.85714286 1.57142857 5.28571429 3.\n",
      " 3.         0.28571429 0.85714286 1.14285714 3.57142857 3.\n",
      " 3.14285714 1.85714286 3.85714286 7.         1.85714286 3.28571429\n",
      " 1.85714286 1.         4.14285714 2.28571429 1.42857143 2.\n",
      " 1.         3.         3.57142857 1.14285714 6.         6.\n",
      " 1.85714286 1.71428571 1.14285714 6.         3.         4.14285714\n",
      " 2.71428571 1.85714286 7.         1.28571429 3.         4.14285714\n",
      " 6.         5.         1.         3.14285714 2.14285714 1.28571429\n",
      " 2.71428571 2.42857143 4.42857143 3.         2.71428571 0.85714286\n",
      " 2.85714286 7.         0.42857143 7.         2.57142857 2.\n",
      " 1.71428571 1.28571429 6.         0.85714286 7.         2.57142857\n",
      " 2.42857143 2.85714286 3.         2.42857143 6.         1.57142857\n",
      " 1.14285714 1.85714286 5.28571429 5.28571429 1.85714286 2.42857143\n",
      " 3.28571429 3.         1.         7.         7.         7.\n",
      " 4.         3.57142857 1.         2.85714286 1.57142857 1.\n",
      " 4.42857143 2.71428571 3.28571429 7.         2.28571429 4.71428571\n",
      " 2.57142857 6.         0.28571429 1.         3.57142857 1.85714286\n",
      " 6.         4.28571429 1.57142857 1.14285714 6.         6.\n",
      " 4.14285714 2.42857143 2.71428571 6.         3.         6.\n",
      " 0.42857143 2.85714286 0.57142857]\n",
      "actual result: 865    3\n",
      "439    6\n",
      "342    3\n",
      "736    3\n",
      "785    3\n",
      "      ..\n",
      "478    1\n",
      "552    6\n",
      "355    0\n",
      "589    3\n",
      "643    1\n",
      "Name: primary_fuel, Length: 273, dtype: int32\n",
      "r2 score = 0.6667176361243835\n",
      "mean absolute error = 0.7592883307169022\n",
      "mean squared error = 1.2649642521898525\n",
      "cv score= [0.42472559 0.44713311 0.60091897]\n"
     ]
    }
   ],
   "source": [
    "#predict the value, r2 and error scores\n",
    "Y1_pred_knn = knn.predict(X1_test_s)\n",
    "print(\"predicted result:\",Y1_pred_knn)\n",
    "print('actual result:',Y1_test)\n",
    "print('r2 score =',r2_score(Y1_test,Y1_pred_knn))\n",
    "print('mean absolute error =',mean_absolute_error(Y1_test,Y1_pred_knn))\n",
    "print('mean squared error =',np.sqrt(mean_squared_error(Y1_test,Y1_pred_knn)))\n",
    "print('cv score=',cross_val_score(knn, X1, Y1, cv=3))"
   ]
  },
  {
   "cell_type": "markdown",
   "id": "9bc78f19",
   "metadata": {},
   "source": [
    "# 2.Random forest classifier"
   ]
  },
  {
   "cell_type": "code",
   "execution_count": 1346,
   "id": "cc9bee55",
   "metadata": {},
   "outputs": [
    {
     "data": {
      "text/plain": [
       "RandomForestRegressor()"
      ]
     },
     "execution_count": 1346,
     "metadata": {},
     "output_type": "execute_result"
    }
   ],
   "source": [
    "rf = RandomForestRegressor() #creating an instance\n",
    "rf.fit(X1_train_s,Y1_train) #fitting random forest regressor into x train and y train values"
   ]
  },
  {
   "cell_type": "code",
   "execution_count": 1347,
   "id": "80534120",
   "metadata": {},
   "outputs": [
    {
     "data": {
      "text/plain": [
       "0.986147295332119"
      ]
     },
     "execution_count": 1347,
     "metadata": {},
     "output_type": "execute_result"
    }
   ],
   "source": [
    "rf.score(X1_train_s,Y1_train)  #as per the score, our model works 98% well"
   ]
  },
  {
   "cell_type": "code",
   "execution_count": 1348,
   "id": "21399d96",
   "metadata": {},
   "outputs": [
    {
     "name": "stdout",
     "output_type": "stream",
     "text": [
      "predicted result: [3.03 6.   2.99 2.63 3.   7.   2.97 7.   1.99 2.17 0.92 1.22 2.99 1.31\n",
      " 7.   7.   7.   3.   1.45 0.64 2.71 2.17 6.   2.92 1.09 6.   2.78 6.\n",
      " 1.   7.   1.96 2.07 1.6  2.94 1.76 2.53 0.7  1.94 0.18 2.08 2.49 1.01\n",
      " 1.75 3.03 7.   2.09 2.89 1.28 1.87 7.   7.   1.   7.   2.05 7.   0.05\n",
      " 2.93 1.79 1.53 6.   2.33 2.97 1.53 2.15 6.   0.25 3.   0.11 7.   4.97\n",
      " 2.37 2.86 1.8  3.14 0.94 1.15 2.49 1.03 3.   1.7  2.99 6.   3.18 2.86\n",
      " 2.85 2.33 2.48 0.97 1.42 6.   2.92 3.   2.3  6.   2.52 2.99 7.   1.08\n",
      " 2.01 2.34 1.   3.   1.   1.53 2.97 7.   0.77 3.   2.17 3.   2.23 2.46\n",
      " 1.02 1.08 3.   3.   1.75 2.92 2.97 1.2  7.   6.   2.37 6.   1.12 1.16\n",
      " 2.16 1.59 0.1  7.   2.54 1.   7.   7.   2.61 2.27 3.   2.34 0.1  2.24\n",
      " 6.   1.   1.   0.74 6.   6.   2.17 1.62 4.02 6.   1.28 6.   7.   2.5\n",
      " 6.   2.96 2.86 3.   2.96 1.09 7.   3.   3.   1.4  2.14 2.66 2.97 2.89\n",
      " 1.92 2.52 1.06 7.   1.27 3.   2.02 1.03 7.   1.65 1.   2.37 1.29 4.2\n",
      " 3.05 1.43 6.   6.   2.16 1.97 1.04 6.   3.   3.   7.   2.51 7.   1.24\n",
      " 2.96 1.08 6.   3.   0.57 2.83 1.93 1.   1.57 2.43 7.   2.78 2.68 1.35\n",
      " 2.07 7.   0.4  7.   2.26 1.74 1.15 1.47 7.   1.07 7.   2.53 2.47 2.42\n",
      " 2.95 2.83 6.   0.2  2.74 2.77 5.72 2.92 2.02 2.65 1.72 3.   1.43 7.\n",
      " 7.   7.   3.02 2.46 1.97 2.98 1.3  2.34 2.99 2.99 3.72 7.   1.62 1.38\n",
      " 2.59 6.   0.46 1.   1.26 1.   6.   7.   2.67 1.05 6.   6.   7.   1.04\n",
      " 2.88 6.   1.57 6.   0.14 2.85 0.83]\n",
      "actual result: 865    3\n",
      "439    6\n",
      "342    3\n",
      "736    3\n",
      "785    3\n",
      "      ..\n",
      "478    1\n",
      "552    6\n",
      "355    0\n",
      "589    3\n",
      "643    1\n",
      "Name: primary_fuel, Length: 273, dtype: int32\n",
      "r2 score = 0.8788403044513504\n",
      "mean absolute error = 0.3844322344322344\n",
      "mean squared error = 0.7626954802569604\n",
      "cv score= [0.89819939 0.85801849 0.91081284]\n"
     ]
    }
   ],
   "source": [
    "#predict the value, r2 and error scores\n",
    "Y1_pred_rf = rf.predict(X1_test_s)\n",
    "print(\"predicted result:\",Y1_pred_rf)\n",
    "print('actual result:',Y1_test)\n",
    "print('r2 score =',r2_score(Y1_test,Y1_pred_rf))\n",
    "print('mean absolute error =',mean_absolute_error(Y1_test,Y1_pred_rf))\n",
    "print('mean squared error =',np.sqrt(mean_squared_error(Y1_test,Y1_pred_rf)))\n",
    "print('cv score=',cross_val_score(rf, X1, Y1, cv=3))"
   ]
  },
  {
   "cell_type": "code",
   "execution_count": null,
   "id": "ce3de7e6",
   "metadata": {},
   "outputs": [],
   "source": []
  },
  {
   "cell_type": "markdown",
   "id": "1406d301",
   "metadata": {},
   "source": [
    "# 3.Linear Regression"
   ]
  },
  {
   "cell_type": "code",
   "execution_count": 1349,
   "id": "76b191ac",
   "metadata": {},
   "outputs": [
    {
     "data": {
      "text/plain": [
       "array([-0.94647787, -0.02984929, -0.40996867,  0.04733629,  0.91080667,\n",
       "       -1.51880645, -1.22399835, -0.08894145, -0.02748545,  0.03615777,\n",
       "       -0.06681718,  0.55166672])"
      ]
     },
     "execution_count": 1349,
     "metadata": {},
     "output_type": "execute_result"
    }
   ],
   "source": [
    "lr = LinearRegression() #creating an instance\n",
    "lr.fit(X1_train_s,Y1_train) #fitting linear regression model into trained data\n",
    "lr.coef_ #coefficient of x"
   ]
  },
  {
   "cell_type": "code",
   "execution_count": 1350,
   "id": "dff86ae4",
   "metadata": {},
   "outputs": [
    {
     "data": {
      "text/plain": [
       "3.255118110236221"
      ]
     },
     "execution_count": 1350,
     "metadata": {},
     "output_type": "execute_result"
    }
   ],
   "source": [
    "lr.intercept_"
   ]
  },
  {
   "cell_type": "code",
   "execution_count": 1351,
   "id": "70d4238e",
   "metadata": {},
   "outputs": [
    {
     "data": {
      "text/plain": [
       "0.5413308800526142"
      ]
     },
     "execution_count": 1351,
     "metadata": {},
     "output_type": "execute_result"
    }
   ],
   "source": [
    "lr.score(X1_train_s,Y1_train) #as per the score, our model works 54% well"
   ]
  },
  {
   "cell_type": "code",
   "execution_count": 1352,
   "id": "d42ed0f7",
   "metadata": {},
   "outputs": [
    {
     "name": "stdout",
     "output_type": "stream",
     "text": [
      "predicted result: [ 3.47309811  4.63890088  2.94805307  1.76588572  3.44460511  3.54220617\n",
      "  3.1216029   3.71622841  0.54498402  2.5289251   2.92244866  3.29525104\n",
      "  3.04080592  2.88069215  4.92707795  6.14162931  4.97522453  3.17713127\n",
      "  2.31975573  3.08606095  2.32793655  3.04130766  5.78953878  2.85410254\n",
      "  1.84426493  7.97948921  3.02306068  5.49734948  1.41911739  4.61370788\n",
      "  2.52714744  1.69987589  2.88637705  2.99337352  1.14044703  2.23237006\n",
      "  3.30716219  1.71371204  3.59894213  0.75713859  3.77215668  3.42408772\n",
      "  2.71472725  3.07232671  5.74025737  2.40556986  3.13435314  2.42197062\n",
      "  2.49962559  4.75026919  5.74089286  0.89452178  4.95417324  2.6663728\n",
      "  4.3929073   0.98155311  2.90116312  4.00176299  1.69496389  4.68528692\n",
      "  2.09734942  2.94198562  1.19955718  2.45845936  7.72917038  3.770075\n",
      "  3.74292076  1.66293906  6.47544845  3.03945108  2.62047617  2.04290427\n",
      "  2.68673994  3.49022666  2.39700244  1.82935926  2.75112015  1.80141221\n",
      "  3.15204723  1.15121367  2.94158985  8.10681441  3.01395702  2.59983001\n",
      "  2.66428426  2.82602465  3.49156683  2.55579277  2.65711978  4.5601358\n",
      "  2.96882632  3.514264    2.96404393  5.11492728  1.62587031  3.55204287\n",
      "  6.3380902   0.78054245  2.08582001  2.13038563  0.97789029  3.31739278\n",
      "  2.10509883  3.12968077  2.86789206  5.63044456  2.39876457  3.15040337\n",
      "  2.43928852  3.18721651  2.4264913   2.14590797  0.3783774   0.41922415\n",
      "  3.10099758  3.44504931  1.31928363  2.15093034  3.75629211  3.60833589\n",
      "  5.7427457   6.36820603  2.89212112  1.86886266  2.23419938  1.8556443\n",
      "  1.23956795  2.28601174  0.92439252  4.3243145   2.51917996  0.50834089\n",
      "  4.04385276  3.98582961  2.32271717  2.69647156  3.00045932  2.89353748\n",
      "  1.66493589  2.91781536  4.89029889  1.68661424  2.20467125  2.95999886\n",
      "  4.34341636  4.51177022  1.81984789  1.46573215  3.44494058  3.34361239\n",
      "  2.44032354  5.76482578  3.59389697  2.80533954  5.48265445  3.55395538\n",
      "  2.34122686  3.05342015  3.22686504  1.7187699   3.36327412  3.36876434\n",
      "  3.49326031  1.41546372  1.97468881  1.97901898  3.77772793  3.02111999\n",
      "  3.60402544  2.70324258  2.34457171  6.48152138  2.43814303  3.16441614\n",
      "  2.56728404  0.67831842  3.64845763  1.62089642  1.40143953  2.5400121\n",
      "  2.12832976  0.8783093   3.78496023  1.66231536  5.09364148  4.96782594\n",
      "  2.88768927  1.30661566  0.25136436  5.70994518  3.3138261   3.7686462\n",
      "  3.64136374  2.6572698   4.92536682  1.80448236  3.00525371  4.15817144\n",
      "  4.56553856  3.42848605  0.63449189  3.12304967  2.523973    1.00896575\n",
      "  4.22996537  1.84567409  4.31065831  2.07488642  1.84387941  2.33481338\n",
      "  2.11938032  5.26079041  3.31897068  6.02959113  1.51958326  1.82929078\n",
      "  2.3328728   1.99264043  5.16426455  2.34902025  4.73964292  2.80820626\n",
      "  2.20179881  2.65553013  2.83928682  2.04249014  2.74231965  2.94926926\n",
      "  1.92140064  3.09776684  4.50999948  3.49396509  1.67597277  2.57630043\n",
      "  3.47424829  3.44114664  1.44952113  5.79963776  4.17992556  4.08497088\n",
      "  3.76676695  3.82891844 -1.47994217  2.96056962  1.48791331  1.56218361\n",
      "  3.64959141  2.83882156  3.11905397  4.05925437  2.01463584  2.57983823\n",
      "  1.65188976  6.86795745  2.06058843  0.97722808  2.7188702   2.3886722\n",
      "  5.17807918  4.14597408  1.61532669  1.4790606   6.09395088  5.32979518\n",
      "  3.7879051   3.74173955  1.71717937  6.01538036  2.55480961  6.50352764\n",
      "  3.41022386  2.94951389  1.65054877]\n",
      "actual result: 865    3\n",
      "439    6\n",
      "342    3\n",
      "736    3\n",
      "785    3\n",
      "      ..\n",
      "478    1\n",
      "552    6\n",
      "355    0\n",
      "589    3\n",
      "643    1\n",
      "Name: primary_fuel, Length: 273, dtype: int32\n",
      "r2 score = 0.5150549290352742\n",
      "mean absolute error = 1.1712622277388607\n",
      "mean squared error = 1.5258729032961005\n",
      "cv score= [0.41228185 0.45782702 0.60049293]\n"
     ]
    }
   ],
   "source": [
    "#predict the value, r2 and error scores\n",
    "Y1_pred_lr = lr.predict(X1_test_s)\n",
    "print(\"predicted result:\",Y1_pred_lr)\n",
    "print('actual result:',Y1_test)\n",
    "print('r2 score =',r2_score(Y1_test,Y1_pred_lr))\n",
    "print('mean absolute error =',mean_absolute_error(Y1_test,Y1_pred_lr))\n",
    "print('mean squared error =',np.sqrt(mean_squared_error(Y1_test,Y1_pred_lr)))\n",
    "print('cv score=',cross_val_score(lr, X1, Y1, cv=3))"
   ]
  },
  {
   "cell_type": "markdown",
   "id": "db4311b3",
   "metadata": {},
   "source": [
    "# 4.ElasticNet regression"
   ]
  },
  {
   "cell_type": "code",
   "execution_count": 1353,
   "id": "bbf3b6ca",
   "metadata": {},
   "outputs": [
    {
     "data": {
      "text/plain": [
       "0.5413307287792347"
      ]
     },
     "execution_count": 1353,
     "metadata": {},
     "output_type": "execute_result"
    }
   ],
   "source": [
    "ent = ElasticNet(alpha = 0.0001) #creating an instance\n",
    "ent.fit(X1_train_s,Y1_train)   #fitting into trained data\n",
    "ent.score(X1_train_s,Y1_train)  #as per the score, our model works 54% well"
   ]
  },
  {
   "cell_type": "code",
   "execution_count": 1354,
   "id": "c59d1338",
   "metadata": {},
   "outputs": [
    {
     "name": "stdout",
     "output_type": "stream",
     "text": [
      "predicted result: [ 3.47288424  4.63914865  2.94814279  1.76711275  3.44447103  3.541982\n",
      "  3.12135662  3.71613106  0.54695502  2.53025798  2.92261161  3.29531605\n",
      "  3.04087855  2.88064413  4.92650615  6.14058405  4.97443749  3.17714518\n",
      "  2.3205626   3.08592757  2.32677292  3.04123947  5.78941698  2.85417742\n",
      "  1.84479955  7.97870246  3.02293326  5.49736896  1.40827412  4.61344331\n",
      "  2.52751496  1.69914472  2.88733398  2.99342392  1.14124428  2.23248097\n",
      "  3.30704169  1.71260719  3.5987886   0.75782612  3.77196693  3.42402395\n",
      "  2.71510188  3.07235006  5.73916127  2.40604985  3.13423664  2.42207679\n",
      "  2.4976508   4.7495406   5.73977323  0.89456854  4.95347321  2.66486994\n",
      "  4.39233906  0.98233399  2.90111784  4.00155711  1.6953002   4.68563803\n",
      "  2.09784099  2.94216774  1.20030676  2.45803211  7.72832761  3.7699149\n",
      "  3.74280741  1.66346577  6.47420947  3.03947     2.62224801  2.04273983\n",
      "  2.68694157  3.4900364   2.39708645  1.82937603  2.75191077  1.8008806\n",
      "  3.15195706  1.15162722  2.94164582  8.10599796  3.01415679  2.59971332\n",
      "  2.66442098  2.82583302  3.49173534  2.55602588  2.65716704  4.56029563\n",
      "  2.96886939  3.51423544  2.96443295  5.11508031  1.6256298   3.55184411\n",
      "  6.33691478  0.78287065  2.08530543  2.1311138   0.97681736  3.31743737\n",
      "  2.10501885  3.13052207  2.86797405  5.62958639  2.39907264  3.15028202\n",
      "  2.43959483  3.18709233  2.427123    2.14607866  0.38048889  0.4205305\n",
      "  3.10105803  3.44500815  1.31929482  2.1506651   3.7561777   3.60810864\n",
      "  5.74162839  6.3679947   2.89029681  1.87018582  2.23450965  1.85331196\n",
      "  1.23931599  2.28628835  0.92518954  4.32399252  2.51885999  0.50908161\n",
      "  4.04380971  3.98582238  2.32312265  2.6964378   3.00053394  2.89338149\n",
      "  1.66548835  2.91765352  4.88995159  1.68705692  2.20640603  2.96015103\n",
      "  4.34372218  4.51191544  1.82187462  1.46918449  3.44282821  3.34372546\n",
      "  2.44037912  5.76481813  3.59371818  2.80499508  5.48224876  3.55380174\n",
      "  2.34162508  3.05344184  3.22685885  1.716538    3.36316097  3.36878156\n",
      "  3.49324089  1.41616966  1.97502697  1.97952916  3.77764189  3.02141379\n",
      "  3.60421374  2.70325524  2.34542367  6.48032114  2.4381744   3.16436604\n",
      "  2.56669906  0.68072261  3.6483708   1.62252118  1.40313377  2.54031031\n",
      "  2.12828715  0.87909824  3.78486842  1.65581334  5.09380926  4.96794453\n",
      "  2.88774289  1.30875969  0.25500028  5.70989018  3.31397757  3.76852985\n",
      "  3.64129871  2.65732262  4.92457568  1.80377848  3.00519059  4.1578527\n",
      "  4.56569853  3.42830799  0.63520602  3.12305258  2.52434186  1.00975184\n",
      "  4.22972351  1.84753876  4.31032185  2.0748011   1.8437061   2.33490166\n",
      "  2.12124615  5.25995083  3.31887644  6.02843367  1.52134651  1.82874061\n",
      "  2.33297419  1.99021108  5.16379061  2.34910443  4.73895633  2.80826982\n",
      "  2.20161508  2.65525442  2.83936925  2.04396889  2.7434048   2.94940069\n",
      "  1.92193515  3.09761172  4.51002274  3.49374777  1.6754993   2.57631045\n",
      "  3.4739604   3.44101357  1.44684833  5.79851913  4.17991584  4.08495858\n",
      "  3.76666388  3.82882978 -1.47556887  2.9606943   1.48779634  1.56279108\n",
      "  3.64946653  2.83913953  3.1189911   4.05923058  2.01489475  2.57964643\n",
      "  1.65360168  6.86750618  2.06088293  0.97706272  2.71815677  2.38781079\n",
      "  5.17827614  4.1454885   1.6148978   1.48050416  6.09379854  5.32987355\n",
      "  3.78778     3.74136627  1.7169481   6.01523985  2.55488954  6.5027878\n",
      "  3.41017759  2.94911165  1.65117593]\n",
      "actual result: 865    3\n",
      "439    6\n",
      "342    3\n",
      "736    3\n",
      "785    3\n",
      "      ..\n",
      "478    1\n",
      "552    6\n",
      "355    0\n",
      "589    3\n",
      "643    1\n",
      "Name: primary_fuel, Length: 273, dtype: int32\n",
      "r2 score = 0.5151157274541083\n",
      "mean absolute error = 1.171133519703005\n",
      "mean squared error = 1.5257772496094208\n",
      "cv score= [0.41230973 0.45782132 0.60048179]\n"
     ]
    }
   ],
   "source": [
    "#predict the value, r2 and error scores\n",
    "Y1_pred_ent = ent.predict(X1_test_s)\n",
    "print(\"predicted result:\",Y1_pred_ent)\n",
    "print('actual result:',Y1_test)\n",
    "print('r2 score =',r2_score(Y1_test,Y1_pred_ent))\n",
    "print('mean absolute error =',mean_absolute_error(Y1_test,Y1_pred_ent))\n",
    "print('mean squared error =',np.sqrt(mean_squared_error(Y1_test,Y1_pred_ent)))\n",
    "print('cv score=',cross_val_score(ent, X1, Y1, cv=3))"
   ]
  },
  {
   "cell_type": "markdown",
   "id": "cae4712d",
   "metadata": {},
   "source": [
    "# HYPERPARAMETER TUNING - target variable - primary_fuel"
   ]
  },
  {
   "cell_type": "code",
   "execution_count": 1372,
   "id": "9b75b5ce",
   "metadata": {},
   "outputs": [
    {
     "name": "stdout",
     "output_type": "stream",
     "text": [
      "Fitting 5 folds for each of 4 candidates, totalling 20 fits\n"
     ]
    },
    {
     "data": {
      "text/plain": [
       "GridSearchCV(cv=5, estimator=RandomForestRegressor(), n_jobs=-1,\n",
       "             param_grid={'n_estimators': [0.1, 10, 100, 1000]}, verbose=2)"
      ]
     },
     "execution_count": 1372,
     "metadata": {},
     "output_type": "execute_result"
    }
   ],
   "source": [
    "#as random forest classifier is the best modeland has least difference between accuracy and cv score. thus we are proceeding with its tuning\n",
    "#we are using grid search cv\n",
    "RFC = RandomForestRegressor() #creating an instance\n",
    "n_estimators = [0.1,10,100,1000]\n",
    "maxdepth = range(1,110)\n",
    "minsampleleaf = np.linspace(0.1,1.0)\n",
    "mostfeatures = ['auto','sqrt','log2']\n",
    "minsamplesplit= np.linspace(0.1,1.0, 10)\n",
    "grid = dict(n_estimators = n_estimators)\n",
    "gridforest = GridSearchCV(estimator = RFC, param_grid = grid, n_jobs=-1, verbose = 2, cv = 5)\n",
    "gridforest.fit(X1_train_s,Y1_train) #fitting the model into trained data"
   ]
  },
  {
   "cell_type": "code",
   "execution_count": 1374,
   "id": "1296b6ad",
   "metadata": {},
   "outputs": [
    {
     "data": {
      "text/plain": [
       "{'n_estimators': 1000}"
      ]
     },
     "execution_count": 1374,
     "metadata": {},
     "output_type": "execute_result"
    }
   ],
   "source": [
    "gridforest.best_params_"
   ]
  },
  {
   "cell_type": "code",
   "execution_count": 1375,
   "id": "29e1a90b",
   "metadata": {},
   "outputs": [
    {
     "data": {
      "text/plain": [
       "0.8810138096534178"
      ]
     },
     "execution_count": 1375,
     "metadata": {},
     "output_type": "execute_result"
    }
   ],
   "source": [
    "gridforest.best_score_"
   ]
  },
  {
   "cell_type": "code",
   "execution_count": 1376,
   "id": "d9d2f4f7",
   "metadata": {},
   "outputs": [
    {
     "data": {
      "text/plain": [
       "0.9866591706553202"
      ]
     },
     "execution_count": 1376,
     "metadata": {},
     "output_type": "execute_result"
    }
   ],
   "source": [
    "gridforest.score(X1_train_s,Y1_train)   #as per the score, our model works 97% well"
   ]
  },
  {
   "cell_type": "code",
   "execution_count": 1378,
   "id": "1f0b9fca",
   "metadata": {},
   "outputs": [
    {
     "data": {
      "text/plain": [
       "array([3.   , 6.   , 2.95 , 2.736, 3.   , 7.   , 2.991, 7.   , 2.063,\n",
       "       2.133, 0.9  , 1.208, 2.992, 1.471, 7.   , 7.   , 7.   , 2.981,\n",
       "       1.555, 0.618, 2.642, 2.149, 6.   , 2.934, 1.173, 5.963, 2.791,\n",
       "       6.   , 1.   , 7.   , 2.048, 1.878, 1.557, 2.973, 2.054, 2.473,\n",
       "       0.769, 1.997, 0.159, 2.145, 2.782, 1.099, 1.787, 3.039, 7.   ,\n",
       "       2.165, 2.937, 1.381, 2.062, 7.   , 7.   , 1.   , 7.   , 2.139,\n",
       "       7.   , 0.041, 2.962, 1.894, 1.527, 6.   , 2.048, 2.971, 1.613,\n",
       "       2.08 , 6.   , 0.307, 3.004, 0.044, 7.   , 4.799, 2.54 , 2.752,\n",
       "       1.916, 3.076, 0.913, 1.226, 2.444, 1.077, 2.998, 1.741, 2.952,\n",
       "       5.979, 3.212, 2.881, 2.912, 2.258, 2.27 , 0.945, 1.356, 6.   ,\n",
       "       2.951, 3.001, 2.274, 6.   , 2.576, 3.004, 7.   , 1.17 , 2.166,\n",
       "       2.369, 1.016, 3.018, 1.012, 1.504, 2.956, 7.   , 0.869, 3.009,\n",
       "       2.127, 3.001, 2.283, 2.413, 1.04 , 1.123, 2.983, 3.   , 1.672,\n",
       "       2.89 , 2.999, 1.099, 7.   , 6.   , 2.363, 6.   , 1.158, 1.146,\n",
       "       2.133, 1.762, 0.077, 7.   , 2.522, 1.039, 7.   , 6.998, 2.764,\n",
       "       2.255, 2.998, 2.348, 0.081, 2.245, 6.   , 1.003, 1.022, 0.768,\n",
       "       6.   , 6.   , 2.142, 1.578, 4.131, 6.   , 1.391, 6.   , 7.   ,\n",
       "       2.505, 6.   , 2.989, 3.117, 2.998, 2.951, 1.066, 7.   , 2.999,\n",
       "       3.002, 1.595, 2.214, 2.592, 2.993, 2.936, 1.897, 2.648, 1.122,\n",
       "       7.   , 1.27 , 2.999, 1.965, 1.022, 7.   , 1.805, 1.016, 2.362,\n",
       "       1.301, 4.346, 2.975, 1.376, 6.   , 6.   , 2.127, 1.864, 1.045,\n",
       "       6.   , 3.001, 3.003, 7.   , 2.552, 7.   , 1.28 , 2.93 , 1.067,\n",
       "       6.   , 2.992, 0.616, 2.749, 1.97 , 1.015, 1.487, 2.406, 7.   ,\n",
       "       2.713, 2.547, 1.295, 2.079, 7.   , 0.378, 7.   , 2.323, 1.795,\n",
       "       1.254, 1.376, 7.   , 1.155, 7.   , 2.592, 2.429, 2.407, 2.942,\n",
       "       2.762, 6.   , 0.144, 2.646, 2.588, 5.767, 2.95 , 2.019, 2.623,\n",
       "       1.865, 3.   , 1.386, 7.   , 7.   , 7.   , 3.001, 2.455, 1.723,\n",
       "       2.972, 1.455, 2.446, 3.059, 3.205, 3.626, 7.   , 1.786, 1.375,\n",
       "       2.654, 6.   , 0.442, 1.   , 1.345, 1.014, 6.   , 7.   , 2.589,\n",
       "       1.096, 6.   , 6.   , 7.   , 1.066, 2.918, 6.   , 1.677, 6.   ,\n",
       "       0.193, 2.834, 0.85 ])"
      ]
     },
     "execution_count": 1378,
     "metadata": {},
     "output_type": "execute_result"
    }
   ],
   "source": [
    "#predict the value\n",
    "Y1_pred_g = gridforest.predict(X1_test_s)\n",
    "Y1_pred_g"
   ]
  },
  {
   "cell_type": "code",
   "execution_count": 1379,
   "id": "ed47ef75",
   "metadata": {},
   "outputs": [
    {
     "name": "stdout",
     "output_type": "stream",
     "text": [
      "predicted result: [3.    6.    2.95  2.736 3.    7.    2.991 7.    2.063 2.133 0.9   1.208\n",
      " 2.992 1.471 7.    7.    7.    2.981 1.555 0.618 2.642 2.149 6.    2.934\n",
      " 1.173 5.963 2.791 6.    1.    7.    2.048 1.878 1.557 2.973 2.054 2.473\n",
      " 0.769 1.997 0.159 2.145 2.782 1.099 1.787 3.039 7.    2.165 2.937 1.381\n",
      " 2.062 7.    7.    1.    7.    2.139 7.    0.041 2.962 1.894 1.527 6.\n",
      " 2.048 2.971 1.613 2.08  6.    0.307 3.004 0.044 7.    4.799 2.54  2.752\n",
      " 1.916 3.076 0.913 1.226 2.444 1.077 2.998 1.741 2.952 5.979 3.212 2.881\n",
      " 2.912 2.258 2.27  0.945 1.356 6.    2.951 3.001 2.274 6.    2.576 3.004\n",
      " 7.    1.17  2.166 2.369 1.016 3.018 1.012 1.504 2.956 7.    0.869 3.009\n",
      " 2.127 3.001 2.283 2.413 1.04  1.123 2.983 3.    1.672 2.89  2.999 1.099\n",
      " 7.    6.    2.363 6.    1.158 1.146 2.133 1.762 0.077 7.    2.522 1.039\n",
      " 7.    6.998 2.764 2.255 2.998 2.348 0.081 2.245 6.    1.003 1.022 0.768\n",
      " 6.    6.    2.142 1.578 4.131 6.    1.391 6.    7.    2.505 6.    2.989\n",
      " 3.117 2.998 2.951 1.066 7.    2.999 3.002 1.595 2.214 2.592 2.993 2.936\n",
      " 1.897 2.648 1.122 7.    1.27  2.999 1.965 1.022 7.    1.805 1.016 2.362\n",
      " 1.301 4.346 2.975 1.376 6.    6.    2.127 1.864 1.045 6.    3.001 3.003\n",
      " 7.    2.552 7.    1.28  2.93  1.067 6.    2.992 0.616 2.749 1.97  1.015\n",
      " 1.487 2.406 7.    2.713 2.547 1.295 2.079 7.    0.378 7.    2.323 1.795\n",
      " 1.254 1.376 7.    1.155 7.    2.592 2.429 2.407 2.942 2.762 6.    0.144\n",
      " 2.646 2.588 5.767 2.95  2.019 2.623 1.865 3.    1.386 7.    7.    7.\n",
      " 3.001 2.455 1.723 2.972 1.455 2.446 3.059 3.205 3.626 7.    1.786 1.375\n",
      " 2.654 6.    0.442 1.    1.345 1.014 6.    7.    2.589 1.096 6.    6.\n",
      " 7.    1.066 2.918 6.    1.677 6.    0.193 2.834 0.85 ]\n",
      "actual result: 865    3\n",
      "439    6\n",
      "342    3\n",
      "736    3\n",
      "785    3\n",
      "      ..\n",
      "478    1\n",
      "552    6\n",
      "355    0\n",
      "589    3\n",
      "643    1\n",
      "Name: primary_fuel, Length: 273, dtype: int32\n",
      "r2 score = 0.8781686016477375\n",
      "mean absolute error = 0.3903443223443223\n",
      "mean squared error = 0.7648067293985673\n",
      "Fitting 5 folds for each of 4 candidates, totalling 20 fits\n",
      "Fitting 5 folds for each of 4 candidates, totalling 20 fits\n",
      "Fitting 5 folds for each of 4 candidates, totalling 20 fits\n",
      "Fitting 5 folds for each of 4 candidates, totalling 20 fits\n",
      "Fitting 5 folds for each of 4 candidates, totalling 20 fits\n",
      "Fitting 5 folds for each of 4 candidates, totalling 20 fits\n",
      "Fitting 5 folds for each of 4 candidates, totalling 20 fits\n",
      "Fitting 5 folds for each of 4 candidates, totalling 20 fits\n",
      "Fitting 5 folds for each of 4 candidates, totalling 20 fits\n",
      "Fitting 5 folds for each of 4 candidates, totalling 20 fits\n",
      "cv score= [0.90350827 0.89041877 0.93682626 0.77067235 0.83817501 0.8136308\n",
      " 0.90740684 0.91991958 0.87969995 0.94421846]\n"
     ]
    }
   ],
   "source": [
    "#r2 and error scores\n",
    "print(\"predicted result:\",Y1_pred_g)\n",
    "print('actual result:',Y1_test)\n",
    "print('r2 score =',r2_score(Y1_test,Y1_pred_g))\n",
    "print('mean absolute error =',mean_absolute_error(Y1_test,Y1_pred_g))\n",
    "print('mean squared error =',np.sqrt(mean_squared_error(Y1_test,Y1_pred_g)))\n",
    "print('cv score=',cross_val_score(gridforest, X1, Y1, cv=10))"
   ]
  },
  {
   "cell_type": "code",
   "execution_count": 1395,
   "id": "268a3949",
   "metadata": {},
   "outputs": [
    {
     "data": {
      "image/png": "[encoded data removed]",
      "text/plain": [
       "<Figure size 1440x720 with 1 Axes>"
      ]
     },
     "metadata": {
      "needs_background": "light"
     },
     "output_type": "display_data"
    }
   ],
   "source": [
    "#plotting the actual x and predicted x for primary fuel\n",
    "plt.figure(figsize=(20,10))\n",
    "plt.scatter(Y1_test, Y1_pred_g, c='crimson')\n",
    "plt.yscale('log')\n",
    "plt.xscale('log')\n",
    "\n",
    "plt.xlabel('True Values', fontsize=15)\n",
    "plt.ylabel('Predictions', fontsize=15)\n",
    "plt.axis('equal')\n",
    "plt.show()"
   ]
  },
  {
   "cell_type": "markdown",
   "id": "72466c09",
   "metadata": {},
   "source": [
    "# saving the model"
   ]
  },
  {
   "cell_type": "code",
   "execution_count": 1380,
   "id": "742b020e",
   "metadata": {},
   "outputs": [
    {
     "data": {
      "text/plain": [
       "['C:\\\\Users\\\\sushr\\\\model saving.sav']"
      ]
     },
     "execution_count": 1380,
     "metadata": {},
     "output_type": "execute_result"
    }
   ],
   "source": [
    "#saving the hyper tuned model\n",
    "import joblib\n",
    "joblib.dump(Y1_pred_g,r'C:\\Users\\sushr\\model saving.sav')"
   ]
  },
  {
   "cell_type": "markdown",
   "id": "435d79ea",
   "metadata": {},
   "source": [
    "# prediction for target variable capacity_mw"
   ]
  },
  {
   "cell_type": "markdown",
   "id": "855109db",
   "metadata": {},
   "source": [
    "# splitting data and training data"
   ]
  },
  {
   "cell_type": "code",
   "execution_count": 1355,
   "id": "002bb976",
   "metadata": {},
   "outputs": [],
   "source": [
    "X2 = global_power.drop(columns =['capacity_mw','longitude'], axis = 1)\n",
    "Y2 = global_power['capacity_mw']\n",
    "X2_train, X2_test, Y2_train, Y2_test = train_test_split(X2,Y2, random_state=42, test_size=0.3)"
   ]
  },
  {
   "cell_type": "markdown",
   "id": "5f3feae9",
   "metadata": {},
   "source": [
    "# scaling data"
   ]
  },
  {
   "cell_type": "code",
   "execution_count": 1357,
   "id": "f59e699e",
   "metadata": {},
   "outputs": [],
   "source": [
    "#scaling of data and checking if it fits and transforming split train and test data\n",
    "sc = StandardScaler()\n",
    "X2_train_s = sc.fit_transform(X2_train)\n",
    "X2_test_s = sc.transform(X2_test)"
   ]
  },
  {
   "cell_type": "markdown",
   "id": "fc9ed902",
   "metadata": {},
   "source": [
    "# knn neighbours regressor"
   ]
  },
  {
   "cell_type": "code",
   "execution_count": 1360,
   "id": "9bafa6f9",
   "metadata": {},
   "outputs": [
    {
     "data": {
      "text/plain": [
       "KNeighborsRegressor(n_jobs=1)"
      ]
     },
     "execution_count": 1360,
     "metadata": {},
     "output_type": "execute_result"
    }
   ],
   "source": [
    "knn1 = KNeighborsRegressor(n_neighbors=5) #creating an instance\n",
    "KNeighborsRegressor(algorithm='auto', leaf_size=30, metric='minkowski', #setting up parameters\n",
    "          metric_params=None, n_jobs=1, n_neighbors=5, p=2,\n",
    "          weights='uniform')"
   ]
  },
  {
   "cell_type": "code",
   "execution_count": 1361,
   "id": "11750535",
   "metadata": {},
   "outputs": [
    {
     "data": {
      "text/plain": [
       "KNeighborsRegressor()"
      ]
     },
     "execution_count": 1361,
     "metadata": {},
     "output_type": "execute_result"
    }
   ],
   "source": [
    "knn1.fit(X2_train_s,Y2_train) #fitting kneighbors into x train and y train values"
   ]
  },
  {
   "cell_type": "code",
   "execution_count": 1362,
   "id": "c603e827",
   "metadata": {},
   "outputs": [
    {
     "data": {
      "text/plain": [
       "0.8545180356494169"
      ]
     },
     "execution_count": 1362,
     "metadata": {},
     "output_type": "execute_result"
    }
   ],
   "source": [
    "knn1.score(X2_train_s,Y2_train)"
   ]
  },
  {
   "cell_type": "code",
   "execution_count": 1363,
   "id": "cc204066",
   "metadata": {},
   "outputs": [
    {
     "name": "stdout",
     "output_type": "stream",
     "text": [
      "predicted result: [  12.3       6.4     133.64    397.12      8.32     24.81    116.04\n",
      "   57.8     568.2     170.6     120.08    211.9      89.78    138.66\n",
      "   39.36     23.3      42.02    128.43   1368.      142.1    1248.\n",
      "  280.       31.4     316.       29.88     17.       53.6      29.6\n",
      " 3176.       37.4     135.14    665.04    170.72     56.29     26.26\n",
      "  142.46     21.1     496.572    24.9      26.51     29.96     44.12\n",
      "  170.96     89.36     44.08    179.46    166.576   140.66    347.814\n",
      "   42.02     45.09   3176.       72.14    288.8      16.16     20.46\n",
      "  338.404   154.76    394.5      10.1      22.76    128.43     46.7\n",
      "  116.76      5.8      26.       17.5      22.7      14.08    378.6\n",
      "  511.2      94.      117.4      14.22    120.08    540.      578.6\n",
      " 1128.      114.5      69.      276.8      17.6     120.08    108.39\n",
      "  418.8     124.436   278.4      56.38     45.22     15.4     128.43\n",
      "  177.      350.212    12.4     118.        9.       43.91   1210.\n",
      "  143.2     403.8    1304.       87.4     892.4     302.8     104.43\n",
      "   25.73     23.8      97.6     563.8      97.9     384.64    248.56\n",
      " 2218.      889.5      89.4     105.8     700.       12.8      19.04\n",
      "  112.76     45.09     38.      345.2       6.04     32.      820.\n",
      "  236.54     57.84     18.9      16.66    317.9    2534.       71.58\n",
      "   42.48     22.5     137.       89.78    228.66     20.3     124.776\n",
      "   37.2    1352.     1479.5     120.08     20.2      10.6     344.2\n",
      "  252.5     108.34     16.8     425.5      20.26     37.08    219.84\n",
      "    3.6      14.6      24.28    193.8      71.7    1533.5      60.5\n",
      "  168.4     105.8      25.7      19.88     38.42     10.6     128.6\n",
      "  201.1      64.4     217.66     43.91    430.      114.5     538.\n",
      " 1986.       24.5     134.5    1252.      167.      504.9      59.12\n",
      "   10.92   1060.       29.6       6.4     168.436  1166.     1340.\n",
      "   29.4      64.4      11.4      62.38     92.4      42.02    214.52\n",
      "   73.776   234.76     10.6      14.6      26.51     96.34    170.96\n",
      " 1214.       43.08    223.4      34.84     66.      241.3542  233.8\n",
      "   65.6      79.34     26.       11.23    351.2     417.8      21.\n",
      "  442.       26.2     233.8      45.86    101.4      69.8     108.83\n",
      "  265.      269.4       6.6      30.78     22.58      7.72     60.5\n",
      "   13.2     215.1     106.      112.76     10.78    938.       16.96\n",
      "   71.58     57.8       8.98     12.46   3468.      111.99    271.92\n",
      "   20.36     11.32    143.63     79.2      46.37     36.       14.\n",
      "  276.2      20.46     50.8    2916.      540.      326.6      15.4\n",
      "   30.95   1233.6    1263.5      20.26      6.4      29.46    112.76\n",
      "   73.2      29.4     120.6      14.       20.5     116.04     46.7   ]\n",
      "actual result: 865     13.5\n",
      "439      1.0\n",
      "342     72.0\n",
      "736    770.0\n",
      "785      4.5\n",
      "       ...  \n",
      "478    246.0\n",
      "552      5.8\n",
      "355     20.0\n",
      "589    161.0\n",
      "643     36.0\n",
      "Name: capacity_mw, Length: 273, dtype: float64\n",
      "r2 score = 0.8656216255756896\n",
      "mean absolute error = 117.75214725274725\n",
      "mean squared error = 216.78363837661016\n",
      "cv score= [0.80882498 0.77670496 0.85601944]\n"
     ]
    }
   ],
   "source": [
    "#predict the value, r2 and error scores\n",
    "Y2_pred_knn = knn1.predict(X2_test_s)\n",
    "print(\"predicted result:\",Y2_pred_knn)\n",
    "print('actual result:',Y2_test)\n",
    "print('r2 score =',r2_score(Y2_test,Y2_pred_knn))\n",
    "print('mean absolute error =',mean_absolute_error(Y2_test,Y2_pred_knn))\n",
    "print('mean squared error =',np.sqrt(mean_squared_error(Y2_test,Y2_pred_knn)))\n",
    "print('cv score=',cross_val_score(knn1, X2, Y2, cv=3))"
   ]
  },
  {
   "cell_type": "markdown",
   "id": "63b72d1b",
   "metadata": {},
   "source": [
    "# 2.Linear Regression"
   ]
  },
  {
   "cell_type": "code",
   "execution_count": 1364,
   "id": "c0a5a089",
   "metadata": {},
   "outputs": [
    {
     "data": {
      "text/plain": [
       "array([   5.32589282, -134.49596347,    4.69615345,   75.66204626,\n",
       "        -97.00742449,  -68.78339004,   -8.37316584,   29.5470177 ,\n",
       "        -13.6081337 ,  -35.54718185,   29.4245095 ,  389.45043328])"
      ]
     },
     "execution_count": 1364,
     "metadata": {},
     "output_type": "execute_result"
    }
   ],
   "source": [
    "lr1 = LinearRegression() #creating an instance\n",
    "lr1.fit(X2_train_s,Y2_train) #fitting linear regression model into trained data\n",
    "lr1.coef_ #coefficient of x"
   ]
  },
  {
   "cell_type": "code",
   "execution_count": 1365,
   "id": "87442849",
   "metadata": {},
   "outputs": [
    {
     "data": {
      "text/plain": [
       "329.21167086614315"
      ]
     },
     "execution_count": 1365,
     "metadata": {},
     "output_type": "execute_result"
    }
   ],
   "source": [
    "lr1.intercept_"
   ]
  },
  {
   "cell_type": "code",
   "execution_count": 1366,
   "id": "9d7b39bc",
   "metadata": {},
   "outputs": [
    {
     "data": {
      "text/plain": [
       "0.7291717419582148"
      ]
     },
     "execution_count": 1366,
     "metadata": {},
     "output_type": "execute_result"
    }
   ],
   "source": [
    "lr1.score(X2_train_s,Y2_train) #as per the score, our model works 72% well"
   ]
  },
  {
   "cell_type": "code",
   "execution_count": 1367,
   "id": "bb51b12a",
   "metadata": {},
   "outputs": [
    {
     "name": "stdout",
     "output_type": "stream",
     "text": [
      "predicted result: [ 407.61243355   27.25780275   85.81615671   82.41236484  394.21130078\n",
      "  188.47733222 -107.86340956  197.82850301  430.00080117  390.16702269\n",
      "  342.2199078   387.30075767  -17.51108623  399.52909464   72.15592665\n",
      "  -54.6796619    34.35463824   35.73412903 1463.0340128   411.88745387\n",
      " 1112.57068969  211.32263286  -77.51576817  233.36032348  134.97864534\n",
      "  277.60388588  -83.4497588  -136.43252939 4273.18036557  140.27984763\n",
      "  -41.23134654  352.65952481  549.51633725 -102.29835614   -5.33755047\n",
      "  -13.2288387   417.15780202  367.0534983   490.48532871   17.08857361\n",
      "  454.16858636  483.45778443  299.95577654  159.49164715  -48.50947666\n",
      "  213.58227541   93.39195932  370.34120737  543.29286751   55.90013735\n",
      "  -50.28684815 3325.90858105   40.67707794  160.51718378   93.72934313\n",
      "   31.59465474  315.89597402  523.09345949  580.5786778   159.85029288\n",
      "   98.90928347   69.6696708   102.13182811  506.29645866 -160.22315692\n",
      "  541.07811232  298.12928117  145.97594283 -107.47435343  272.98686989\n",
      "  215.99221863   96.03788316   29.39479722   82.96026642  324.05655182\n",
      "  656.80010902  219.66800583 1290.03069646 -104.14297058  253.68160001\n",
      "  217.41494571  289.60268959  342.26760512  388.71636642  304.353193\n",
      "  232.53930272  152.66363437  276.02078517  125.88469502 -256.08468221\n",
      "   -9.05299902  468.55232909  242.96005798 -223.10074939  112.66883206\n",
      "  431.17763213  -86.39308055  813.7176663   185.45887007  186.06474602\n",
      "  775.15703257   43.06016613  526.07459831  463.92741871   52.51705574\n",
      "   -4.8975748   297.4139727   -71.83082158  339.57804086 -152.29242727\n",
      "  266.99047123  311.92625647 1960.84630246 1097.8010976   -30.29388197\n",
      "  427.76593261  755.29093405  434.91266456  431.43155251  531.56300704\n",
      "  -50.05932748  -15.79765618  407.90319822   26.45098746  233.28567593\n",
      "  890.70655126  347.93834332  231.61917796 -100.08134418  138.27255035\n",
      "  277.5547776  2382.0967098   199.51083648  203.05559422  138.69785741\n",
      "  115.15252826  -32.90375686   87.68591933  143.5658843   167.25384402\n",
      "  -40.70587714 1405.11818948 1274.43100943  342.26457389 -288.75159611\n",
      " -255.83763685  275.55748243  279.15664751  272.73515909 -298.2646344\n",
      "  572.18102312  130.25287964  191.74499975   17.80629514 -202.7991561\n",
      "  430.62595817  138.58133331  210.99667282 -104.11247405 1057.93519658\n",
      "  197.73354421   68.05012471  429.46119339 -204.83183471  192.33695494\n",
      "  -92.05461013  370.9084028   291.92769803  393.67513411  109.99700208\n",
      "  428.26577828 -100.8198054   514.23511168 -108.73420676  585.64983957\n",
      " 1822.22985466  194.20528986  606.57673546 1199.09001825  -96.55400633\n",
      "  534.66905323  166.07854294  392.71085113  830.82793755 -115.03850883\n",
      " -184.97808702  339.13309669  867.91129299 1069.045475    -85.96722665\n",
      "    9.69331475  391.1285483   195.64895843  105.72787374   37.55420036\n",
      "  399.75962556  146.39635922  578.57813614 -255.97395311  405.90844585\n",
      "   50.86150916  -44.09992789  305.15624972 1130.96997112  298.50382847\n",
      "  211.54507836  139.33027793  141.60943372  245.94074135  344.87790323\n",
      " -141.28859778   14.84826842  391.47078     -73.61910815  209.61571353\n",
      "  250.76002149  473.36724739  632.18539434   79.49971304  344.91035524\n",
      "   61.79410559    5.57964381  -12.51327246  -14.64115542  251.63436912\n",
      "  468.63783807   32.35347627  365.59977234   85.36357101  396.10975315\n",
      "   10.0739706   353.89223847  456.84786822   61.24380854  522.7962205\n",
      "  429.21393946  398.60534783  -51.96660226  199.62548835  201.91924514\n",
      "  421.63124487  433.91118901 3157.93580983   68.05350229  558.14045659\n",
      "  153.78806348  408.9275524   152.88614596 -254.22041062  198.60119957\n",
      "  242.65287376  304.72954761  222.24891816  102.95323919  256.75215293\n",
      " 2899.42933086  653.42493343  703.10404987 -241.88582649  120.616326\n",
      "  618.00510442 1257.75558177  169.22752386 -207.12354147  194.50306378\n",
      "  577.13357604   22.3512769   -95.0439459   264.24110608  204.86922441\n",
      "  444.67439885 -120.1887644   102.30006146]\n",
      "actual result: 865     13.5\n",
      "439      1.0\n",
      "342     72.0\n",
      "736    770.0\n",
      "785      4.5\n",
      "       ...  \n",
      "478    246.0\n",
      "552      5.8\n",
      "355     20.0\n",
      "589    161.0\n",
      "643     36.0\n",
      "Name: capacity_mw, Length: 273, dtype: float64\n",
      "r2 score = 0.7726311832941958\n",
      "mean absolute error = 207.65345835656396\n",
      "mean squared error = 281.98581374388897\n",
      "cv score= [0.63147442 0.68792052 0.80247387]\n"
     ]
    }
   ],
   "source": [
    "#predict the value, r2 and error scores\n",
    "Y2_pred_lr = lr1.predict(X2_test_s)\n",
    "print(\"predicted result:\",Y2_pred_lr)\n",
    "print('actual result:',Y2_test)\n",
    "print('r2 score =',r2_score(Y2_test,Y2_pred_lr))\n",
    "print('mean absolute error =',mean_absolute_error(Y2_test,Y2_pred_lr))\n",
    "print('mean squared error =',np.sqrt(mean_squared_error(Y2_test,Y2_pred_lr)))\n",
    "print('cv score=',cross_val_score(lr1, X2, Y2, cv=3))"
   ]
  },
  {
   "cell_type": "markdown",
   "id": "66f30229",
   "metadata": {},
   "source": [
    "# 3.ElasticNet regression"
   ]
  },
  {
   "cell_type": "code",
   "execution_count": 1368,
   "id": "ab8cc718",
   "metadata": {},
   "outputs": [
    {
     "data": {
      "text/plain": [
       "0.7291717278563552"
      ]
     },
     "execution_count": 1368,
     "metadata": {},
     "output_type": "execute_result"
    }
   ],
   "source": [
    "ent1 = ElasticNet(alpha = 0.0001) #creating an instance\n",
    "ent1.fit(X2_train_s,Y2_train)   #fitting into trained data\n",
    "ent1.score(X2_train_s,Y2_train)  #as per the score, our model works 54% well"
   ]
  },
  {
   "cell_type": "code",
   "execution_count": 1369,
   "id": "5d20c065",
   "metadata": {},
   "outputs": [
    {
     "name": "stdout",
     "output_type": "stream",
     "text": [
      "predicted result: [ 407.61344035   27.26185107   85.82449627   82.42426236  394.21308161\n",
      "  188.49452394 -107.86562087  197.84636948  429.95741662  390.17307307\n",
      "  342.22133625  387.29965868  -17.50305173  399.52695024   72.17235156\n",
      "  -54.66476246   34.37006231   35.74497769 1463.1294888   411.88470216\n",
      " 1112.57260741  211.32499749  -77.5131673   233.36628296  134.98918551\n",
      "  277.59012591  -83.43785229 -136.42696639 4273.13930302  140.29715901\n",
      "  -41.21765216  352.57838749  549.45456224 -102.28988678   -5.32092743\n",
      "  -13.24290813  417.15457316  367.02927756  490.47711652   17.10424547\n",
      "  454.16623223  483.45290872  299.9728979   159.49815181  -48.49499538\n",
      "  213.60577883   93.39543288  370.3406685   543.07537758   55.91567709\n",
      "  -50.27249512 3325.81302459   40.69281431  160.54144683   93.74545404\n",
      "   31.60795254  315.89265936  523.08637698  580.57145994  159.85152684\n",
      "   98.92277944   69.68383736  102.14421046  506.24217968 -160.22566419\n",
      "  541.06840607  298.1310931   145.98371481 -107.46009773  272.98587841\n",
      "  216.00982691   96.03768405   29.41910141   82.9622216   324.05852845\n",
      "  656.81483016  219.6864409  1289.87705657 -104.13864691  253.68766946\n",
      "  217.42284917  289.58822443  342.26903701  388.71933073  304.35902393\n",
      "  232.54073183  152.66874011  276.02486612  125.90111475 -256.07425559\n",
      "   -9.04753218  468.55468634  242.96494161 -223.09180125  112.66104132\n",
      "  431.1785983   -86.37867072  813.90409605  185.44748339  186.07636396\n",
      "  775.32780323   43.06709345  526.08481686  463.94138396   52.52305865\n",
      "   -4.88203314  297.41553197  -71.82554117  339.63978889 -152.2865388\n",
      "  267.01052631  311.91649041 1960.87036098 1097.67622531  -30.28248065\n",
      "  427.76839363  755.32104247  434.91477075  431.43297226  531.55560627\n",
      "  -50.04495803  -15.79802817  407.84621446   26.46574448  233.29174003\n",
      "  890.60953745  347.94037441  231.62462115 -100.05935539  138.28964494\n",
      "  277.5527193  2382.07786472  199.52882434  203.07383786  138.70915761\n",
      "  115.15572254  -32.89587325   87.67837958  143.57383916  167.25461328\n",
      "  -40.70504834 1405.14096798 1274.35969528  342.26600556 -288.73874466\n",
      " -255.8271924   275.58488315  279.34061393  272.52953136 -298.25204066\n",
      "  572.27605976  130.25108419  191.76242725   17.79342452 -202.79542903\n",
      "  430.62731979  138.5926251   210.99976719 -104.10428483 1057.75287842\n",
      "  197.75140383   68.0574672   429.46377673 -204.8005762   192.34420765\n",
      "  -92.02849548  370.91024319  291.93888451  393.68244483  110.00786591\n",
      "  428.28307258 -100.80557318  514.2367406  -108.72869809  585.53887944\n",
      " 1822.43754861  194.22289489  606.4938118  1199.26852456  -96.52842935\n",
      "  534.66458568  166.10647374  392.71252369  830.61720661 -115.03213347\n",
      " -184.96988683  339.10713765  867.91121873 1068.93321513  -85.96373656\n",
      "    9.70458999  391.13010669  195.66666763  105.73432174   37.5695675\n",
      "  399.77250983  146.3962678   578.56870131 -255.96351849  405.90976495\n",
      "   50.87434137  -44.08091801  305.17784791 1130.9649407   298.51228092\n",
      "  211.76089287  139.347233    141.61656861  245.94562401  344.8791667\n",
      " -141.22142889   14.863652    391.46848286  -73.60435218  209.83087728\n",
      "  250.90782956  473.36235713  632.036524     79.51652396  344.91162105\n",
      "   61.80985478    5.58184152  -12.52069964  -14.6375844   251.64134079\n",
      "  468.75949731   32.36418583  365.59761418   85.37766055  396.11167097\n",
      "   10.08730627  353.89328628  456.77457144   61.2434798   522.78911654\n",
      "  429.21563445  398.70024163  -51.95215459  199.64348448  201.93719094\n",
      "  421.63282797  433.91278768 3158.61390717   68.06348204  558.118896\n",
      "  153.79767336  408.92908935  152.8884816  -254.21214731  198.6191218\n",
      "  242.65839956  304.76381889  222.45716119  102.94772864  256.7547776\n",
      " 2899.39763822  653.4044874   703.06762692 -241.87601826  120.63265022\n",
      "  617.99881153 1257.69919932  169.22333299 -207.11557517  194.52069029\n",
      "  577.12403697   22.3518531   -95.04117379  264.23563766  204.85928237\n",
      "  444.66837957 -120.19454861  102.31245595]\n",
      "actual result: 865     13.5\n",
      "439      1.0\n",
      "342     72.0\n",
      "736    770.0\n",
      "785      4.5\n",
      "       ...  \n",
      "478    246.0\n",
      "552      5.8\n",
      "355     20.0\n",
      "589    161.0\n",
      "643     36.0\n",
      "Name: capacity_mw, Length: 273, dtype: float64\n",
      "r2 score = 0.7726583284462025\n",
      "mean absolute error = 207.64686518996223\n",
      "mean squared error = 281.9689803531716\n",
      "cv score= [0.63147281 0.68792235 0.80247386]\n"
     ]
    }
   ],
   "source": [
    "#predict the value, r2 and error scores\n",
    "Y2_pred_ent = ent1.predict(X2_test_s)\n",
    "print(\"predicted result:\",Y2_pred_ent)\n",
    "print('actual result:',Y2_test)\n",
    "print('r2 score =',r2_score(Y2_test,Y2_pred_ent))\n",
    "print('mean absolute error =',mean_absolute_error(Y2_test,Y2_pred_ent))\n",
    "print('mean squared error =',np.sqrt(mean_squared_error(Y2_test,Y2_pred_ent)))\n",
    "print('cv score=',cross_val_score(ent1, X2, Y2, cv=3))"
   ]
  },
  {
   "cell_type": "markdown",
   "id": "41ecee6d",
   "metadata": {},
   "source": [
    "# 4.Random forest classifier"
   ]
  },
  {
   "cell_type": "code",
   "execution_count": 1370,
   "id": "2c3ff758",
   "metadata": {},
   "outputs": [
    {
     "data": {
      "text/plain": [
       "0.9750214637532677"
      ]
     },
     "execution_count": 1370,
     "metadata": {},
     "output_type": "execute_result"
    }
   ],
   "source": [
    "rf1 = RandomForestRegressor() #creating an instance\n",
    "rf1.fit(X2_train_s,Y2_train) #fitting random forest regressor into x train and y train values\n",
    "rf1.score(X2_train_s,Y2_train)  #as per the score, our model works 98% well"
   ]
  },
  {
   "cell_type": "code",
   "execution_count": 1371,
   "id": "e618f845",
   "metadata": {},
   "outputs": [
    {
     "name": "stdout",
     "output_type": "stream",
     "text": [
      "predicted result: [  13.16375       4.439       112.3993      523.3806       10.6195\n",
      "   10.941       126.6839       25.05855952  702.992       423.5384\n",
      "  101.099       174.344       121.3936       69.15         32.1825\n",
      "   13.3613       17.4755      171.977      1703.5          37.341\n",
      " 1217.8         285.221         9.553       375.0725       51.099\n",
      "   11.315        87.6261       15.145      3770.8          47.511\n",
      "  235.9715      668.78831     660.3283      148.7325       30.068\n",
      "  308.619        33.13        953.13473      44.221        34.213\n",
      "   35.028        41.372       106.3001       92.23471      18.537\n",
      "  403.9561       85.3228       35.217       268.37671     478.182\n",
      "   31.664      3049.6          45.4995      243.4706       21.835\n",
      "   19.926       362.3012       96.952       786.504         6.54\n",
      "   34.252       181.8893       61.758       768.40251      19.269\n",
      "   19.682        16.775        22.901        32.43900833  235.69207667\n",
      "  368.432        75.98481     131.511         9.1679       97.42\n",
      "  643.752       400.42598    1449.25         72.246       141.70307667\n",
      "  230.8445        6.955       105.904       491.564       356.2637\n",
      "  271.70431     178.32853333   74.365        33.1085       11.13\n",
      "   64.2545       31.963       254.95922      10.49        309.4656\n",
      "   21.4315       16.58254167  968.6         574.171       612.166\n",
      "  897.554        43.85233333  852.87        580.6802      104.8796\n",
      "   28.2495       15.3376       81.95        451.15271      42.2505\n",
      "  357.8376      498.6016     2202.6        1223.4858      116.764\n",
      "   10.76175    1251.9          22.6185       18.2589       58.432\n",
      "   67.792        14.422       473.622        12.481        20.787\n",
      " 1237.6582      401.0439       59.0804       41.463        29.0065\n",
      "  322.31741    2908.2          57.444        47.679        33.6455\n",
      "  275.16081      52.528       202.06741      22.212       179.1416\n",
      "   25.835      1530.9        1188.73        105.904        27.344\n",
      "   15.18        365.8693      778.5065       96.73506667   27.73\n",
      "  650.286         8.003        31.769       439.6896       12.897\n",
      "   18.9429       34.7505      126.5225       35.109      1486.544\n",
      "   65.3262996    42.513         9.80675      26.381        29.8245\n",
      "   32.955         9.41833333  207.7437      308.23671      51.809\n",
      "  924.908        33.43795     433.3056       40.983       494.8042\n",
      " 2140.2          30.541       548.8438     1272.55        283.078\n",
      "  766.61         54.2455       13.25       1340.8522       20.55\n",
      "   13.621       351.81       1173.1458     1212.4048        6.1\n",
      "   59.0695       16.825        49.41373214   52.11466667   48.8715\n",
      "  477.5213      152.259        38.551        13.43         16.84\n",
      "   17.1641       69.8567      115.6832     1183.8          25.4922\n",
      "  116.114        53.1         103.7754      149.57591     106.63\n",
      "  256.1515       54.6375       62.852         6.5396125   151.68471\n",
      "  521.268        29.156       410.1875       36.547       102.295\n",
      "   12.475        96.0715       63.206       204.29581     268.021\n",
      "  425.5124       13.342        28.498        41.5425       11.94033333\n",
      "   60.818        18.3105      332.07841     156.4925       61.56\n",
      "   10.1795     1000.77         14.7925       44.3          31.61955952\n",
      "   11.8022       16.7621     3920.6          79.1905      481.1178\n",
      "   31.4692       11.47283333  225.517        47.7967       27.0215\n",
      "   24.945       608.2204      152.98671      18.506        38.4248\n",
      " 2854.2         510.084       934.0716       12.59         47.823\n",
      "  981.915      1244.225        14.927        12.99         28.547\n",
      "   54.555       106.4201       22.903       200.3764        8.592\n",
      "   55.747       205.83351      61.758     ]\n",
      "actual result: 865     13.5\n",
      "439      1.0\n",
      "342     72.0\n",
      "736    770.0\n",
      "785      4.5\n",
      "       ...  \n",
      "478    246.0\n",
      "552      5.8\n",
      "355     20.0\n",
      "589    161.0\n",
      "643     36.0\n",
      "Name: capacity_mw, Length: 273, dtype: float64\n",
      "r2 score = 0.9091045637121933\n",
      "mean absolute error = 96.38158985973021\n",
      "mean squared error = 178.29240723109282\n",
      "cv score= [0.83453573 0.79339403 0.89470693]\n"
     ]
    }
   ],
   "source": [
    "#predict the value, r2 and error scores\n",
    "Y2_pred_rf1 = rf1.predict(X2_test_s)\n",
    "print(\"predicted result:\",Y2_pred_rf1)\n",
    "print('actual result:',Y2_test)\n",
    "print('r2 score =',r2_score(Y2_test,Y2_pred_rf1))\n",
    "print('mean absolute error =',mean_absolute_error(Y2_test,Y2_pred_rf1))\n",
    "print('mean squared error =',np.sqrt(mean_squared_error(Y2_test,Y2_pred_rf1)))\n",
    "print('cv score=',cross_val_score(rf1, X2, Y2, cv=3))"
   ]
  },
  {
   "cell_type": "markdown",
   "id": "da7db410",
   "metadata": {},
   "source": [
    "# HYPERPARAMETER TUNING - target variable -capacity_mw"
   ]
  },
  {
   "cell_type": "code",
   "execution_count": 1381,
   "id": "1ff4c754",
   "metadata": {},
   "outputs": [
    {
     "name": "stdout",
     "output_type": "stream",
     "text": [
      "Fitting 7 folds for each of 4 candidates, totalling 28 fits\n"
     ]
    },
    {
     "data": {
      "text/plain": [
       "GridSearchCV(cv=7, estimator=RandomForestRegressor(), n_jobs=-1,\n",
       "             param_grid={'n_estimators': [0.1, 10, 100, 1000]}, verbose=2)"
      ]
     },
     "execution_count": 1381,
     "metadata": {},
     "output_type": "execute_result"
    }
   ],
   "source": [
    "#as random forest classifier is the best model and has least difference between accuracy and cv score. thus we are proceeding with its tuning\n",
    "#we are using grid search cv\n",
    "RFC1 = RandomForestRegressor() #creating an instance\n",
    "n_estimators = [0.1,10,100,1000]\n",
    "maxdepth = range(1,110)\n",
    "minsampleleaf = np.linspace(0.1,1.0)\n",
    "mostfeatures = ['auto','sqrt','log2']\n",
    "minsamplesplit= np.linspace(0.1,1.0, 10)\n",
    "grid = dict(n_estimators = n_estimators)\n",
    "gridforest1 = GridSearchCV(estimator = RFC, param_grid = grid, n_jobs=-1, verbose = 2, cv = 7)\n",
    "gridforest1.fit(X2_train_s,Y2_train) #fitting the model into trained data"
   ]
  },
  {
   "cell_type": "code",
   "execution_count": 1382,
   "id": "61987575",
   "metadata": {},
   "outputs": [
    {
     "data": {
      "text/plain": [
       "{'n_estimators': 1000}"
      ]
     },
     "execution_count": 1382,
     "metadata": {},
     "output_type": "execute_result"
    }
   ],
   "source": [
    "gridforest1.best_params_"
   ]
  },
  {
   "cell_type": "code",
   "execution_count": 1383,
   "id": "65c98ebf",
   "metadata": {},
   "outputs": [
    {
     "data": {
      "text/plain": [
       "0.8161548294442073"
      ]
     },
     "execution_count": 1383,
     "metadata": {},
     "output_type": "execute_result"
    }
   ],
   "source": [
    "gridforest1.best_score_"
   ]
  },
  {
   "cell_type": "code",
   "execution_count": 1384,
   "id": "05552a27",
   "metadata": {},
   "outputs": [
    {
     "data": {
      "text/plain": [
       "0.9758144491567249"
      ]
     },
     "execution_count": 1384,
     "metadata": {},
     "output_type": "execute_result"
    }
   ],
   "source": [
    "gridforest1.score(X2_train_s,Y2_train)   #as per the score, our model works 97% well"
   ]
  },
  {
   "cell_type": "code",
   "execution_count": 1385,
   "id": "d19e40e9",
   "metadata": {},
   "outputs": [
    {
     "data": {
      "text/plain": [
       "array([  13.11160571,    5.2533    ,  118.3081    ,  495.22339   ,\n",
       "         11.09759   ,   12.7773    ,  125.90594   ,   23.11467596,\n",
       "        700.73949   ,  412.57226   ,  109.8409    ,  158.1753    ,\n",
       "        112.820531  ,   51.6237    ,   32.10819286,   16.20790661,\n",
       "         15.8963    ,  182.612701  , 1639.978     ,   35.1517    ,\n",
       "       1217.69148   ,  300.64103   ,    9.4706    ,  350.76884   ,\n",
       "         45.74555   ,   13.01375   ,   92.045651  ,   16.1096    ,\n",
       "       3788.44      ,   48.01535   ,  226.80239   ,  731.827233  ,\n",
       "        654.66272643,  149.11095   ,   29.36507   ,  265.20066   ,\n",
       "         34.2951    ,  954.53248   ,   35.17702   ,   32.11445833,\n",
       "         35.9747    ,   40.936     ,  104.20756   ,   80.01196867,\n",
       "         17.59735   ,  387.46883   ,   86.35756   ,   33.51065   ,\n",
       "        267.971325  ,  482.9233    ,   33.24705   , 3050.94      ,\n",
       "         37.9306    ,  192.36973   ,   15.39615   ,   20.18225   ,\n",
       "        372.89332   ,  105.1942    ,  785.4408    ,    7.5041    ,\n",
       "         38.89566   ,  187.16384   ,   56.25766   ,  711.655621  ,\n",
       "         18.1739    ,   19.7153    ,   16.8311    ,   23.6261    ,\n",
       "         32.46499351,  265.613807  ,  380.76079   ,   98.08917443,\n",
       "        139.53723   ,    8.35243   ,  106.3036    ,  605.11533   ,\n",
       "        387.933899  , 1445.8975    ,   75.659     ,  179.83866933,\n",
       "        227.88273   ,    7.29145   ,  118.1021    ,  460.57625   ,\n",
       "        349.85242   ,  241.834831  ,  167.20308633,   76.93995   ,\n",
       "         34.26509   ,   10.147     ,   74.39405   ,   24.9874    ,\n",
       "        283.669791  ,    9.39365   ,  285.71046   ,   19.5105    ,\n",
       "         22.53078351, 1020.62468   ,  544.90237   ,  570.67458   ,\n",
       "        880.250021  ,   42.03214333,  853.2505    ,  554.86691   ,\n",
       "        109.05342   ,   26.68933333,   14.98218   ,   82.15745   ,\n",
       "        421.719495  ,   40.7743    ,  387.05675   ,  475.986342  ,\n",
       "       2193.64      , 1177.01088   ,  115.21033   ,   11.09365   ,\n",
       "       1256.52886   ,   21.756565  ,   18.28640167,   59.5023    ,\n",
       "         63.71185   ,   15.9465    ,  536.568921  ,   11.05085   ,\n",
       "         18.9004    , 1252.02008   ,  402.64622   ,   54.20622   ,\n",
       "         50.12505   ,   30.61951905,  345.82198   , 2896.84      ,\n",
       "         60.2034    ,   50.12815   ,   36.46183   ,  281.58490333,\n",
       "         50.8797    ,  200.720552  ,   22.877     ,  164.390881  ,\n",
       "         27.876     , 1513.5       , 1184.9295    ,  118.1021    ,\n",
       "         25.6877    ,   14.485     ,  343.5685    ,  825.46678   ,\n",
       "        106.97906333,   25.927     ,  637.1816    ,    7.2471    ,\n",
       "         28.46818   ,  444.205561  ,   12.2704    ,   18.40778   ,\n",
       "         37.94736   ,  122.201101  ,   37.48459333, 1469.01016   ,\n",
       "         65.04040552,   41.07907667,   10.5262    ,   25.11694458,\n",
       "         29.4966    ,   37.01833   ,    9.81882667,  200.420282  ,\n",
       "        327.670795  ,   54.85072533,  839.2866    ,   33.29567435,\n",
       "        434.778631  ,   41.36395   ,  461.660522  , 2070.23      ,\n",
       "         29.37176012,  573.66649   , 1273.365     ,  255.78569   ,\n",
       "        729.1103    ,   69.02716   ,   13.85736   , 1413.95728   ,\n",
       "         15.676     ,   15.0036    ,  365.923721  , 1155.10264   ,\n",
       "       1201.14754   ,    6.8115    ,   58.45821667,   16.87875667,\n",
       "         48.35299484,   51.28287576,   52.49375   ,  469.81217   ,\n",
       "        142.954521  ,   49.1851    ,   11.858     ,   16.40220667,\n",
       "         17.82191833,   69.3354    ,  112.76928   , 1203.045     ,\n",
       "         24.16772571,  103.8724    ,   53.0437    ,  109.79941333,\n",
       "        165.956468  ,  115.655     ,  234.68841333,   56.29955   ,\n",
       "         43.9112    ,    6.60480887,  130.5195    ,  523.759051  ,\n",
       "         28.1978    ,  445.441761  ,   33.7413    ,  113.3689    ,\n",
       "         11.5521    ,   86.41074667,   64.37547576,  194.702847  ,\n",
       "        289.049642  ,  459.12587   ,   11.9237    ,   27.3621    ,\n",
       "         47.46565   ,   11.47837333,   64.99574   ,   31.62224   ,\n",
       "        329.014895  ,  152.129631  ,   66.0103    ,   11.33139988,\n",
       "       1055.13027   ,   14.83495   ,   46.69175   ,   31.90737992,\n",
       "         12.27350333,   18.19269595, 3965.4       ,   83.69605   ,\n",
       "        493.87784   ,   35.38604   ,   12.00036   ,  228.55433767,\n",
       "         54.39035667,   27.13432202,   22.8837    ,  603.72857   ,\n",
       "        136.5907    ,   18.0842    ,   40.72519   , 2823.42      ,\n",
       "        543.202971  ,  886.12148   ,   12.337     ,   47.65595   ,\n",
       "        986.69314   , 1209.5705    ,   13.046     ,   13.453     ,\n",
       "         29.83079345,   62.4353    ,  108.29538   ,   20.7947    ,\n",
       "        199.74333667,    8.5507    ,   47.0962    ,  222.393772  ,\n",
       "         56.30346   ])"
      ]
     },
     "execution_count": 1385,
     "metadata": {},
     "output_type": "execute_result"
    }
   ],
   "source": [
    "#predict the value\n",
    "Y2_pred_g = gridforest1.predict(X2_test_s)\n",
    "Y2_pred_g"
   ]
  },
  {
   "cell_type": "code",
   "execution_count": 1386,
   "id": "2a1101ff",
   "metadata": {},
   "outputs": [
    {
     "name": "stdout",
     "output_type": "stream",
     "text": [
      "predicted result: [  13.11160571    5.2533      118.3081      495.22339      11.09759\n",
      "   12.7773      125.90594      23.11467596  700.73949     412.57226\n",
      "  109.8409      158.1753      112.820531     51.6237       32.10819286\n",
      "   16.20790661   15.8963      182.612701   1639.978        35.1517\n",
      " 1217.69148     300.64103       9.4706      350.76884      45.74555\n",
      "   13.01375      92.045651     16.1096     3788.44         48.01535\n",
      "  226.80239     731.827233    654.66272643  149.11095      29.36507\n",
      "  265.20066      34.2951      954.53248      35.17702      32.11445833\n",
      "   35.9747       40.936       104.20756      80.01196867   17.59735\n",
      "  387.46883      86.35756      33.51065     267.971325    482.9233\n",
      "   33.24705    3050.94         37.9306      192.36973      15.39615\n",
      "   20.18225     372.89332     105.1942      785.4408        7.5041\n",
      "   38.89566     187.16384      56.25766     711.655621     18.1739\n",
      "   19.7153       16.8311       23.6261       32.46499351  265.613807\n",
      "  380.76079      98.08917443  139.53723       8.35243     106.3036\n",
      "  605.11533     387.933899   1445.8975       75.659       179.83866933\n",
      "  227.88273       7.29145     118.1021      460.57625     349.85242\n",
      "  241.834831    167.20308633   76.93995      34.26509      10.147\n",
      "   74.39405      24.9874      283.669791      9.39365     285.71046\n",
      "   19.5105       22.53078351 1020.62468     544.90237     570.67458\n",
      "  880.250021     42.03214333  853.2505      554.86691     109.05342\n",
      "   26.68933333   14.98218      82.15745     421.719495     40.7743\n",
      "  387.05675     475.986342   2193.64       1177.01088     115.21033\n",
      "   11.09365    1256.52886      21.756565     18.28640167   59.5023\n",
      "   63.71185      15.9465      536.568921     11.05085      18.9004\n",
      " 1252.02008     402.64622      54.20622      50.12505      30.61951905\n",
      "  345.82198    2896.84         60.2034       50.12815      36.46183\n",
      "  281.58490333   50.8797      200.720552     22.877       164.390881\n",
      "   27.876      1513.5        1184.9295      118.1021       25.6877\n",
      "   14.485       343.5685      825.46678     106.97906333   25.927\n",
      "  637.1816        7.2471       28.46818     444.205561     12.2704\n",
      "   18.40778      37.94736     122.201101     37.48459333 1469.01016\n",
      "   65.04040552   41.07907667   10.5262       25.11694458   29.4966\n",
      "   37.01833       9.81882667  200.420282    327.670795     54.85072533\n",
      "  839.2866       33.29567435  434.778631     41.36395     461.660522\n",
      " 2070.23         29.37176012  573.66649    1273.365       255.78569\n",
      "  729.1103       69.02716      13.85736    1413.95728      15.676\n",
      "   15.0036      365.923721   1155.10264    1201.14754       6.8115\n",
      "   58.45821667   16.87875667   48.35299484   51.28287576   52.49375\n",
      "  469.81217     142.954521     49.1851       11.858        16.40220667\n",
      "   17.82191833   69.3354      112.76928    1203.045        24.16772571\n",
      "  103.8724       53.0437      109.79941333  165.956468    115.655\n",
      "  234.68841333   56.29955      43.9112        6.60480887  130.5195\n",
      "  523.759051     28.1978      445.441761     33.7413      113.3689\n",
      "   11.5521       86.41074667   64.37547576  194.702847    289.049642\n",
      "  459.12587      11.9237       27.3621       47.46565      11.47837333\n",
      "   64.99574      31.62224     329.014895    152.129631     66.0103\n",
      "   11.33139988 1055.13027      14.83495      46.69175      31.90737992\n",
      "   12.27350333   18.19269595 3965.4          83.69605     493.87784\n",
      "   35.38604      12.00036     228.55433767   54.39035667   27.13432202\n",
      "   22.8837      603.72857     136.5907       18.0842       40.72519\n",
      " 2823.42        543.202971    886.12148      12.337        47.65595\n",
      "  986.69314    1209.5705       13.046        13.453        29.83079345\n",
      "   62.4353      108.29538      20.7947      199.74333667    8.5507\n",
      "   47.0962      222.393772     56.30346   ]\n",
      "actual result: 865     13.5\n",
      "439      1.0\n",
      "342     72.0\n",
      "736    770.0\n",
      "785      4.5\n",
      "       ...  \n",
      "478    246.0\n",
      "552      5.8\n",
      "355     20.0\n",
      "589    161.0\n",
      "643     36.0\n",
      "Name: capacity_mw, Length: 273, dtype: float64\n",
      "r2 score = 0.9111944174059456\n",
      "mean absolute error = 94.89208958118599\n",
      "mean squared error = 176.23085298242162\n",
      "Fitting 7 folds for each of 4 candidates, totalling 28 fits\n",
      "Fitting 7 folds for each of 4 candidates, totalling 28 fits\n",
      "Fitting 7 folds for each of 4 candidates, totalling 28 fits\n",
      "Fitting 7 folds for each of 4 candidates, totalling 28 fits\n",
      "Fitting 7 folds for each of 4 candidates, totalling 28 fits\n",
      "Fitting 7 folds for each of 4 candidates, totalling 28 fits\n",
      "Fitting 7 folds for each of 4 candidates, totalling 28 fits\n",
      "Fitting 7 folds for each of 4 candidates, totalling 28 fits\n",
      "Fitting 7 folds for each of 4 candidates, totalling 28 fits\n",
      "Fitting 7 folds for each of 4 candidates, totalling 28 fits\n",
      "cv score= [0.84043698 0.83896722 0.85777695 0.85263573 0.69823814 0.89258387\n",
      " 0.67085345 0.91511585 0.86939227 0.91496067]\n"
     ]
    }
   ],
   "source": [
    "#r2 and error scores\n",
    "print(\"predicted result:\",Y2_pred_g)\n",
    "print('actual result:',Y2_test)\n",
    "print('r2 score =',r2_score(Y2_test,Y2_pred_g))\n",
    "print('mean absolute error =',mean_absolute_error(Y2_test,Y2_pred_g))\n",
    "print('mean squared error =',np.sqrt(mean_squared_error(Y2_test,Y2_pred_g)))\n",
    "print('cv score=',cross_val_score(gridforest1, X2, Y2, cv=10))"
   ]
  },
  {
   "cell_type": "code",
   "execution_count": 1392,
   "id": "187373e3",
   "metadata": {},
   "outputs": [
    {
     "data": {
      "image/png": "[encoded data removed]",
      "text/plain": [
       "<Figure size 1440x720 with 1 Axes>"
      ]
     },
     "metadata": {
      "needs_background": "light"
     },
     "output_type": "display_data"
    }
   ],
   "source": [
    "#plotting the actual x and predicted x for primary fuel\n",
    "plt.figure(figsize=(20,10))\n",
    "plt.scatter(Y2_test, Y2_pred_g, c='crimson')\n",
    "plt.yscale('log')\n",
    "plt.xscale('log')\n",
    "\n",
    "plt.xlabel('True Values', fontsize=15)\n",
    "plt.ylabel('Predictions', fontsize=15)\n",
    "plt.axis('equal')\n",
    "plt.show()"
   ]
  },
  {
   "cell_type": "markdown",
   "id": "6ec1b507",
   "metadata": {},
   "source": [
    "# saving the model"
   ]
  },
  {
   "cell_type": "code",
   "execution_count": 1387,
   "id": "e2815dcf",
   "metadata": {},
   "outputs": [
    {
     "data": {
      "text/plain": [
       "['C:\\\\Users\\\\sushr\\\\model saving.sav']"
      ]
     },
     "execution_count": 1387,
     "metadata": {},
     "output_type": "execute_result"
    }
   ],
   "source": [
    "#saving the hyper tuned model\n",
    "import joblib\n",
    "joblib.dump(Y2_pred_g,r'C:\\Users\\sushr\\model saving.sav')"
   ]
  },
  {
   "cell_type": "code",
   "execution_count": null,
   "id": "e42d57be",
   "metadata": {},
   "outputs": [],
   "source": []
  }
 ],
 "metadata": {
  "kernelspec": {
   "display_name": "Python 3",
   "language": "python",
   "name": "python3"
  },
  "language_info": {
   "codemirror_mode": {
    "name": "ipython",
    "version": 3
   },
   "file_extension": ".py",
   "mimetype": "text/x-python",
   "name": "python",
   "nbconvert_exporter": "python",
   "pygments_lexer": "ipython3",
   "version": "3.8.8"
  }
 },
 "nbformat": 4,
 "nbformat_minor": 5
}
